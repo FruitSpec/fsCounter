{
 "cells": [
  {
   "cell_type": "code",
   "execution_count": 1,
   "metadata": {},
   "outputs": [
    {
     "ename": "ImportError",
     "evalue": "cannot import name 'is_sturated' from 'vision.tools.camera' (/home/fruitspec-lab/FruitSpec/Code/roi/fsCounter/vision/tools/camera.py)",
     "output_type": "error",
     "traceback": [
      "\u001b[0;31m---------------------------------------------------------------------------\u001b[0m",
      "\u001b[0;31mImportError\u001b[0m                               Traceback (most recent call last)",
      "Cell \u001b[0;32mIn[1], line 25\u001b[0m\n\u001b[1;32m     23\u001b[0m \u001b[38;5;28;01mfrom\u001b[39;00m \u001b[38;5;21;01mvision\u001b[39;00m\u001b[38;5;21;01m.\u001b[39;00m\u001b[38;5;21;01mdepth\u001b[39;00m\u001b[38;5;21;01m.\u001b[39;00m\u001b[38;5;21;01mslicer\u001b[39;00m\u001b[38;5;21;01m.\u001b[39;00m\u001b[38;5;21;01mslicer_flow\u001b[39;00m \u001b[38;5;28;01mimport\u001b[39;00m post_process\n\u001b[1;32m     24\u001b[0m \u001b[38;5;28;01mfrom\u001b[39;00m \u001b[38;5;21;01mvision\u001b[39;00m\u001b[38;5;21;01m.\u001b[39;00m\u001b[38;5;21;01mtools\u001b[39;00m\u001b[38;5;21;01m.\u001b[39;00m\u001b[38;5;21;01msensors_alignment\u001b[39;00m \u001b[38;5;28;01mimport\u001b[39;00m SensorAligner\n\u001b[0;32m---> 25\u001b[0m \u001b[38;5;28;01mfrom\u001b[39;00m \u001b[38;5;21;01mvision\u001b[39;00m\u001b[38;5;21;01m.\u001b[39;00m\u001b[38;5;21;01mtools\u001b[39;00m\u001b[38;5;21;01m.\u001b[39;00m\u001b[38;5;21;01mcamera\u001b[39;00m \u001b[38;5;28;01mimport\u001b[39;00m is_sturated\n\u001b[1;32m     26\u001b[0m \u001b[38;5;28;01mfrom\u001b[39;00m \u001b[38;5;21;01mvision\u001b[39;00m\u001b[38;5;21;01m.\u001b[39;00m\u001b[38;5;21;01mfeature_extractor\u001b[39;00m\u001b[38;5;21;01m.\u001b[39;00m\u001b[38;5;21;01mfeature_extractor\u001b[39;00m \u001b[38;5;28;01mimport\u001b[39;00m create_row_features_fe_pipe\n\u001b[1;32m     27\u001b[0m \u001b[38;5;28;01mimport\u001b[39;00m \u001b[38;5;21;01mmatplotlib\u001b[39;00m\u001b[38;5;21;01m.\u001b[39;00m\u001b[38;5;21;01mpyplot\u001b[39;00m \u001b[38;5;28;01mas\u001b[39;00m \u001b[38;5;21;01mplt\u001b[39;00m\n",
      "\u001b[0;31mImportError\u001b[0m: cannot import name 'is_sturated' from 'vision.tools.camera' (/home/fruitspec-lab/FruitSpec/Code/roi/fsCounter/vision/tools/camera.py)"
     ]
    }
   ],
   "source": [
    "import os\n",
    "import sys\n",
    "import time\n",
    "import pandas as pd\n",
    "import pyzed.sl as sl\n",
    "import cv2\n",
    "import json\n",
    "from omegaconf import OmegaConf\n",
    "from tqdm import tqdm\n",
    "import numpy as np\n",
    "\n",
    "from vision.misc.help_func import get_repo_dir, write_json, load_json, read_json\n",
    "from vision.tools.video_wrapper import video_wrapper\n",
    "from vision.tools.manual_slicer import slice_to_trees\n",
    "\n",
    "repo_dir = get_repo_dir()\n",
    "sys.path.append(os.path.join(repo_dir, 'vision', 'detector', 'yolo_x'))\n",
    "\n",
    "from vision.pipelines.detection_flow import counter_detection\n",
    "from vision.data.results_collector import ResultsCollector\n",
    "from vision.tools.translation import translation as T\n",
    "from vision.tools.image_stitching import plot_2_imgs\n",
    "from vision.depth.slicer.slicer_flow import post_process\n",
    "from vision.tools.sensors_alignment import SensorAligner\n",
    "from vision.tools.camera import is_sturated\n",
    "from vision.feature_extractor.feature_extractor import create_row_features_fe_pipe\n",
    "import matplotlib.pyplot as plt\n",
    "from vision.visualization.drawer import draw_rectangle, draw_text, draw_highlighted_test, get_color\n",
    "import seaborn as sns\n",
    "from vision.feature_extractor.image_processing import make_ndvi, ndvi_to_binary"
   ]
  },
  {
   "cell_type": "code",
   "execution_count": null,
   "metadata": {},
   "outputs": [],
   "source": [
    "def post_process_slice_df(slice_df):\n",
    "    \"\"\"\n",
    "    Post processes the slices dataframe - if not all frames of the tree are on the json file they are not\n",
    "        added to the data frame, this function fills in the missing trees with start and end value of -1\n",
    "\n",
    "    Args:\n",
    "        slice_df (pd.DataFrame): A dataframe contatining frame_id, tree_id, start, end\n",
    "\n",
    "    Returns:\n",
    "        (pd.DataFrame): A post process dataframe\n",
    "    \"\"\"\n",
    "    row_to_add = []\n",
    "    for tree_id in slice_df[\"tree_id\"].unique():\n",
    "        temp_df = slice_df[slice_df[\"tree_id\"] == tree_id]\n",
    "        min_frame, max_frame = temp_df[\"frame_id\"].min(), temp_df[\"frame_id\"].max()\n",
    "        temp_df_frames = temp_df[\"frame_id\"].values\n",
    "        for frame_id in range(min_frame, max_frame +1):\n",
    "            if frame_id not in temp_df_frames:\n",
    "                row_to_add.append({\"frame_id\": frame_id, \"tree_id\": tree_id, \"start\": -1 ,\"end\": -1})\n",
    "    return pd.concat([slice_df, pd.DataFrame.from_records(row_to_add)]).sort_values(\"frame_id\")"
   ]
  },
  {
   "cell_type": "code",
   "execution_count": null,
   "metadata": {},
   "outputs": [],
   "source": [
    "features_df_path = \"/media/fruitspec-lab/cam175/APPLECHILE04_test/290323/APPCALIB/APPCALIB_features.csv\"\n",
    "features_df = pd.read_csv(features_df_path)\n",
    "features_df[\"customer_name\"] = \"APPLECHILE04\"\n",
    "features_df[\"tree_name\"] = features_df[\"name\"]\n",
    "f_path = \"/media/fruitspec-lab/cam175/F_dfs/APPLECHILE04_F.csv\"\n",
    "df_f = pd.read_csv(f_path)"
   ]
  },
  {
   "cell_type": "code",
   "execution_count": null,
   "metadata": {},
   "outputs": [],
   "source": [
    "df = features_df\n",
    "df[\"full_name\"] = df[\"customer_name\"].str.cat(df[\"block_name\"].str.cat(df[\"tree_name\"], sep=\"_\"), sep=\"_\")"
   ]
  },
  {
   "cell_type": "code",
   "execution_count": null,
   "metadata": {},
   "outputs": [],
   "source": [
    "for df in [features_df, df_f]:\n",
    "    df[\"full_name\"] = df[\"customer_name\"].str.cat(df[\"block_name\"].str.cat(df[\"tree_name\"], sep=\"_\"), sep=\"_\")"
   ]
  },
  {
   "cell_type": "code",
   "execution_count": null,
   "metadata": {},
   "outputs": [],
   "source": [
    "merged_df = df_f.merge(features_df, on = \"full_name\",suffixes=('', '_y'))\n",
    "merged_df[\"cv/F\"] = merged_df[\"cv\"]/merged_df[\"F\"]\n",
    "merged_df[\"cv/percent_seen\"] = merged_df[\"cv\"]/merged_df[\"percent_seen\"]\n",
    "merged_df[\"cv*percent_seen\"] = merged_df[\"cv\"]*merged_df[\"percent_seen\"]\n",
    "for i in range(2,6):\n",
    "    merged_df[f\"cv{i}/F\"] = merged_df[f\"cv{i}\"]/merged_df[\"F\"]\n",
    "    merged_df[f\"cv{i}/percent_seen\"] = merged_df[f\"cv{i}\"]/merged_df[\"percent_seen\"]\n",
    "    merged_df[f\"cv{i}*percent_seen\"] = merged_df[f\"cv{i}\"]*merged_df[\"percent_seen\"]"
   ]
  },
  {
   "cell_type": "code",
   "execution_count": null,
   "metadata": {},
   "outputs": [],
   "source": [
    "numer_cols = list(merged_df.select_dtypes(include=np.number).columns)"
   ]
  },
  {
   "cell_type": "code",
   "execution_count": null,
   "metadata": {
    "scrolled": true
   },
   "outputs": [],
   "source": [
    "pd.concat([merged_df.corr()[\"cv4/F\"].sort_values()[:10], merged_df.corr()[\"cv4/F\"].sort_values()[-10:]])"
   ]
  },
  {
   "cell_type": "code",
   "execution_count": null,
   "metadata": {},
   "outputs": [],
   "source": [
    "# y_col = \"cv4/F\"\n",
    "# hue = \"row\"\n",
    "# sns.set(font_scale=1)\n",
    "# # for col in numer_cols:\n",
    "# for col in [\"w_h_ratio\", \"n_clust_arr_4\", \"mst_mean_arr\"]:\n",
    "#     if col not in merged_df.columns:\n",
    "#         continue\n",
    "#     ax = sns.lmplot(data = merged_df,x = col,y=y_col,hue = hue, scatter_kws={'s':3}, order = 1, height=7, aspect=1,\n",
    "#                    ci = None)\n",
    "#     sns.regplot(data = merged_df,x = col,y=y_col, scatter_kws={'s':3}, order = 1,ci=0, ax=ax.axes[0,0],\n",
    "#                x_ci = 0, color = \"black\", line_kws={\"ls\":\"--\"},scatter=False)\n",
    "#     plt.show()"
   ]
  },
  {
   "cell_type": "code",
   "execution_count": null,
   "metadata": {},
   "outputs": [],
   "source": [
    "merged_df[[f\"cv{i}/F\" for i in range(2,6)] + [\"cv/F\"]].mean()"
   ]
  },
  {
   "cell_type": "code",
   "execution_count": null,
   "metadata": {},
   "outputs": [],
   "source": [
    "merged_df[\"row\"] = merged_df[\"tree_name\"].apply(lambda x: x.split(\"_\")[0])"
   ]
  },
  {
   "cell_type": "code",
   "execution_count": null,
   "metadata": {},
   "outputs": [],
   "source": [
    "def plot_interaction(df,col1,col2, hue = None, title= \"\", operation=\"*\"):\n",
    "    df = df.copy()\n",
    "    if operation == \"*\":\n",
    "        col = f\"{col1}*{col2}\"\n",
    "        df[col] = df[col1]*df[col2]\n",
    "    if operation == \"/\":\n",
    "        col = f\"{col1}/{col2}\"\n",
    "        df[col] = df[col1]/df[col2]\n",
    "    max_val = np.min(np.max(df[[col, \"F\"]].values, axis = 0))\n",
    "    ax = sns.lmplot(data = df, x = col, y=\"F\", hue = hue)\n",
    "    sns.regplot(data = df, x = col, y=\"F\", scatter_kws={'s':2}, order = 1,ci=0, ax=ax.axes[0,0],\n",
    "               x_ci = 0, color = \"black\", line_kws={\"ls\":\"--\"},scatter=False)\n",
    "    plt.plot([0, max_val], [0, max_val], color='grey')\n",
    "    plt.ylim(0, np.max(df[\"F\"]*1.1))\n",
    "    plt.title(title)\n",
    "candiates = [\"w_h_ratio\", \"n_clust_arr_4\", \"mst_mean_arr\"]\n",
    "plot_interaction(merged_df, \"cv4\", candiates[0], \"row\", operation = \"/\")"
   ]
  },
  {
   "cell_type": "code",
   "execution_count": null,
   "metadata": {
    "scrolled": true
   },
   "outputs": [],
   "source": [
    "def plot_F_cv(df,min_samp, hue = None, title= \"\", percent_seen=\"\"):\n",
    "    if min_samp == 1:\n",
    "        col = \"cv\"\n",
    "    else:\n",
    "        col = f\"cv{i}\"\n",
    "    if percent_seen == \"*\":\n",
    "        col = f\"{col}*percent_seen\"\n",
    "    if percent_seen == \"/\":\n",
    "        col = f\"{col}/percent_seen\"\n",
    "    max_val = np.min(np.max(df[[col, \"F\"]].values, axis = 0))\n",
    "    ax = sns.lmplot(data = df, x = col, y=\"F\", hue = hue)\n",
    "    sns.regplot(data = df, x = col, y=\"F\", scatter_kws={'s':2}, order = 1,ci=0, ax=ax.axes[0,0],\n",
    "               x_ci = 0, color = \"black\", line_kws={\"ls\":\"--\"},scatter=False)\n",
    "    plt.plot([0, max_val], [0, max_val], color='grey')\n",
    "    plt.ylim(0, np.max(df[\"F\"]*1.1))\n",
    "    plt.title(title)\n",
    "    plt.show()\n",
    "dropped_outlier_frame = merged_df[~np.isin(merged_df[\"tree_name\"],[\"R5B_T1\", \"R5A_T2\"])]\n",
    "dropped_outlier_frame = merged_df\n",
    "for i in range(1,6)    :\n",
    "    plot_F_cv(dropped_outlier_frame,i,\"row\", f\"samp{i}\")\n",
    "    plot_F_cv(dropped_outlier_frame,i,\"row\", f\"samp{i} times percent_seen\", \"*\")\n",
    "    plot_F_cv(dropped_outlier_frame,i,\"row\", f\"samp{i} divide percent_seen\", \"/\")"
   ]
  },
  {
   "cell_type": "code",
   "execution_count": null,
   "metadata": {},
   "outputs": [],
   "source": [
    "merged_df.columns[:50]"
   ]
  },
  {
   "cell_type": "code",
   "execution_count": null,
   "metadata": {},
   "outputs": [],
   "source": [
    "from MHS.scoring import cross_validate_with_mean\n",
    "from sklearn.linear_model import LinearRegression, PoissonRegressor\n",
    "\n",
    "class MaxLinearRegressor(LinearRegression):\n",
    "    def predict(self, X):\n",
    "        predicted_values = super().predict(X)\n",
    "        return np.array([max(p, 0) for p in predicted_values])\n",
    "\n",
    "df = merged_df\n",
    "groups = df[\"row\"]\n",
    "only_fulls = True\n",
    "extra = [\"mst_mean_arr\", \"n_clust_arr_4\", \"w_h_ratio\"]\n",
    "  \n",
    "X = df[[\"cv4\"]+ extra]\n",
    "# X[\"cv^2\"] = X[\"cv\"]**2\n",
    "y = df[\"F\"]\n",
    "model = LinearRegression(fit_intercept = False)\n",
    "# model = MaxLinearRegressor()\n",
    "y_pred = cross_validate_with_mean(model, X, y, groups=groups, ret_preds=True)\n",
    "cross_validate_with_mean(model, X, y, groups=groups)"
   ]
  },
  {
   "cell_type": "code",
   "execution_count": null,
   "metadata": {},
   "outputs": [],
   "source": [
    "df = merged_df[~np.isin(merged_df[\"row\"],[\"R5B\", \"R5A\"])].reset_index()\n",
    "groups = df[\"row\"]\n",
    "only_fulls = True\n",
    "\n",
    "  \n",
    "X = df[[\"cv4\"]]\n",
    "# X[\"cv^2\"] = X[\"cv\"]**2\n",
    "y = df[\"F\"]\n",
    "model = LinearRegression(fit_intercept = False)\n",
    "# model = MaxLinearRegressor()\n",
    "# y_pred = cross_validate_with_mean(model, X, y, groups=groups, ret_preds=True)\n",
    "cross_validate_with_mean(model, X, y, groups=groups)"
   ]
  },
  {
   "cell_type": "code",
   "execution_count": null,
   "metadata": {},
   "outputs": [],
   "source": [
    "(np.sum(y_pred) - np.sum(y))/np.sum(y)"
   ]
  },
  {
   "cell_type": "code",
   "execution_count": null,
   "metadata": {
    "scrolled": false
   },
   "outputs": [],
   "source": [
    "cols = [\"full_name\", \"cv\", \"F\", \"F/cv\", \"pred\"]\n",
    "merged_df[\"pred\"] = y_pred\n",
    "merged_df[\"err\"] = (merged_df[\"pred\"] - merged_df[\"F\"])/merged_df[\"F\"]\n",
    "merged_df[\"F/cv\"] = merged_df[\"F\"]/merged_df[\"cv\"]\n",
    "merged_df.sort_values(\"F/cv\")[cols]"
   ]
  },
  {
   "cell_type": "code",
   "execution_count": null,
   "metadata": {},
   "outputs": [],
   "source": [
    "merged_df[merged_df[\"row\"].isin([\"R5A\"]) ].sort_values(\"err\")[cols + [\"err\"]]"
   ]
  },
  {
   "cell_type": "code",
   "execution_count": null,
   "metadata": {},
   "outputs": [],
   "source": [
    "plt.hist(merged_df[\"err\"].values)\n",
    "plt.show()"
   ]
  },
  {
   "cell_type": "code",
   "execution_count": null,
   "metadata": {},
   "outputs": [],
   "source": [
    "merged_df.sort_values(\"err\")[cols + [\"err\"]]"
   ]
  },
  {
   "cell_type": "markdown",
   "metadata": {},
   "source": [
    "### config"
   ]
  },
  {
   "cell_type": "code",
   "execution_count": null,
   "metadata": {},
   "outputs": [],
   "source": [
    "row = \"/media/fruitspec-lab/cam175/APPLECHILE04/290323/APPCALIB/R2B\"\n",
    "block_name = os.path.basename(os.path.dirname(row))\n",
    "row_name = os.path.basename(row)\n",
    "tree_id = 1\n",
    "rotate = True\n",
    "t_index=6"
   ]
  },
  {
   "cell_type": "markdown",
   "metadata": {},
   "source": [
    "### load data"
   ]
  },
  {
   "cell_type": "code",
   "execution_count": null,
   "metadata": {},
   "outputs": [],
   "source": [
    "side = 1 if row.endswith(\"A\") else 2\n",
    "jai_cam = video_wrapper(os.path.join(row, f\"Result_FSI_{side}.mkv\"), rotate)\n",
    "rgb_cam = video_wrapper(os.path.join(row, f\"Result_RGB_{side}.mkv\"), rotate)\n",
    "zed_cam = video_wrapper(os.path.join(row, f\"ZED_{side}.svo\"), 2)\n",
    "ret, frame = jai_cam.get_frame(1)"
   ]
  },
  {
   "cell_type": "code",
   "execution_count": null,
   "metadata": {},
   "outputs": [],
   "source": [
    "def load_json(filepath):\n",
    "    \"\"\"\n",
    "    this function reads the json file and converts the keys to ints\n",
    "    :param filepath: path to file\n",
    "    :return: the converted json\n",
    "    \"\"\"\n",
    "    if not os.path.exists(filepath):\n",
    "        return {}\n",
    "    loaded_data = read_json(filepath)\n",
    "    data = {}\n",
    "    for k, v in loaded_data.items():\n",
    "        data[int(k)] = v\n",
    "    return data"
   ]
  },
  {
   "cell_type": "code",
   "execution_count": null,
   "metadata": {},
   "outputs": [],
   "source": [
    "df_tracks = pd.read_csv(os.path.join(row, \"tracks.csv\"))\n",
    "df_slices = pd.read_csv(os.path.join(row, \"slices.csv\"))\n",
    "df_coors = pd.read_csv(os.path.join(row, \"jai_cors_in_zed.csv\"))\n",
    "jai_zed = load_json(os.path.join(row,\"jai_zed.json\"))\n",
    "df_slices = post_process_slice_df(df_slices)"
   ]
  },
  {
   "cell_type": "code",
   "execution_count": null,
   "metadata": {},
   "outputs": [],
   "source": [
    "df_slices"
   ]
  },
  {
   "cell_type": "markdown",
   "metadata": {},
   "source": [
    "### preprocess"
   ]
  },
  {
   "cell_type": "code",
   "execution_count": null,
   "metadata": {},
   "outputs": [],
   "source": [
    "tree_slice = df_slices[df_slices[\"tree_id\"] == tree_id]\n",
    "min_frame, max_frame = tree_slice[\"frame_id\"].min(), tree_slice[\"frame_id\"].max()"
   ]
  },
  {
   "cell_type": "code",
   "execution_count": null,
   "metadata": {},
   "outputs": [],
   "source": [
    "tree_tracks = df_tracks[(df_tracks[\"frame\"] >= min_frame) & (df_tracks[\"frame\"] <= max_frame)]\n",
    "unique_tracks = tree_tracks[\"track_id\"].unique()\n",
    "new_ids = dict(zip(unique_tracks, range(len(unique_tracks))))\n",
    "tree_tracks.loc[:, \"track_id\"] = tree_tracks[\"track_id\"].map(new_ids)"
   ]
  },
  {
   "cell_type": "markdown",
   "metadata": {},
   "source": [
    "### plotting "
   ]
  },
  {
   "cell_type": "code",
   "execution_count": null,
   "metadata": {},
   "outputs": [],
   "source": [
    "import numpy as np\n",
    "import cupy as cp\n",
    "\n",
    "def num_deno_nan_divide(numerator, denominator, return_numpy=True):\n",
    "    if isinstance(numerator, type(np.array([]))):\n",
    "        numerator = cp.array(numerator)\n",
    "        denominator = cp.array(denominator)\n",
    "    result = cp.empty(numerator.shape)\n",
    "    denominator_no_0 = cp.not_equal(denominator, 0)\n",
    "    result[denominator_no_0] = cp.divide(numerator[denominator_no_0], denominator[denominator_no_0])\n",
    "    result[1-denominator_no_0] = cp.nan\n",
    "    if return_numpy:\n",
    "        return cp.asnumpy(result)\n",
    "    else:\n",
    "        return result\n",
    "    \n",
    "def num_deno_nan_divide_np(numerator, denominator):\n",
    "    result = np.full(numerator.shape, np.nan)\n",
    "    denominator_no_0 = np.abs(denominator) >= 1\n",
    "    result[denominator_no_0] = numerator[denominator_no_0] / denominator[denominator_no_0]\n",
    "    result[1-denominator_no_0] = np.nan\n",
    "    return result\n",
    "\n",
    "    \n",
    "def make_ndvi(rgb, nir):\n",
    "    \"\"\"\n",
    "    rgb: rgb image or red channel\n",
    "    nir: nir image\n",
    "    return: ndvi image\n",
    "    \"\"\"\n",
    "    if len(rgb.shape) == 3:\n",
    "        red = rgb[:, :, 0]\n",
    "    else:\n",
    "        red = rgb\n",
    "    ndvi_img = num_deno_nan_divide_np(np.subtract(nir, red), np.add(nir, red))\n",
    "    np.nan_to_num(ndvi_img, copy=False, nan=0)\n",
    "    return ndvi_img\n",
    "\n",
    "def ndvi_to_binary(ndvi, thresh, adpt=\"\", ker=35, const=125):\n",
    "    \"\"\"\n",
    "    turns an image to binary given a threshold\n",
    "    :param ndvi: ndvi image\n",
    "    :param thresh: threshold to use for binary transformation\n",
    "    :param adpt: specify adaptive threshold\n",
    "    :param ker: kernal for adaptive threshold\n",
    "    :param const: constant for adaptive threshold\n",
    "    :return: a binary image\n",
    "    \"\"\"\n",
    "    if adpt == \"mean\":\n",
    "        return (\n",
    "            cv2.adaptiveThreshold(cv2.normalize(ndvi, None, 0, 255, norm_type=cv2.NORM_MINMAX, dtype=cv2.CV_8U), 255,\n",
    "                                  cv2.ADAPTIVE_THRESH_MEAN_C,\n",
    "                                  cv2.THRESH_BINARY, ker, const))\n",
    "    if adpt == \"gaussian\":\n",
    "        return (\n",
    "            cv2.adaptiveThreshold(cv2.normalize(ndvi, None, 0, 255, norm_type=cv2.NORM_MINMAX, dtype=cv2.CV_8U), 255,\n",
    "                                  cv2.ADAPTIVE_THRESH_GAUSSIAN_C,\n",
    "                                  cv2.THRESH_BINARY, ker, const))\n",
    "    return cv2.threshold(ndvi, thresh, 1, cv2.THRESH_BINARY)[1]"
   ]
  },
  {
   "cell_type": "code",
   "execution_count": null,
   "metadata": {},
   "outputs": [],
   "source": [
    "def get_min_foli_index(frame):\n",
    "    red, nir = frame[:,:,2].astype(np.float32), frame[:,:,0].astype(np.float32)\n",
    "    ndvi = make_ndvi(red, nir)\n",
    "    binary_ndvi = 1-ndvi_to_binary(ndvi, thresh=-0.1)\n",
    "#     plt.imshow(binary_ndvi)\n",
    "#     plt.show()\n",
    "    np.sum(binary_ndvi, axis = 1)\n",
    "    return np.max(np.where(np.sum(binary_ndvi, axis = 1)>250))\n",
    "\n",
    "# get_min_foli_index()"
   ]
  },
  {
   "cell_type": "code",
   "execution_count": null,
   "metadata": {},
   "outputs": [],
   "source": [
    "def thresh_channels(frame, channels_thresh = {0:(0, 100), 1:(25,255), 2:(0,150)},\n",
    "                   gree_minus_red_thres = (0,40)):\n",
    "    frame = frame.copy()\n",
    "    for channel, thresholds in channels_thresh.items():\n",
    "        chan = frame[:,:,channel]\n",
    "        valids = np.all([chan > thresholds[0], chan < thresholds[1]], axis = 0)\n",
    "        frame[(1-valids).astype(np.bool)] = 0\n",
    "    if np.sum(gree_minus_red_thres) > 0:\n",
    "        valids = np.all([frame[:,:,1] - frame[:,:,0]<gree_minus_red_thres[1],\n",
    "                   frame[:,:,1] - frame[:,:,0]>gree_minus_red_thres[0]], axis = 0)\n",
    "        frame[(1-valids).astype(np.bool)] = 0\n",
    "    return frame[:,:,1] > 0\n",
    "\n",
    "\n",
    "def get_percent_seen(zed_frame, jai_frame, jai_regb_frame, coors):\n",
    "    x1,y1,x2,y2 = coors\n",
    "    y2 = zed_frame.shape[0]\n",
    "    zed_threshed = thresh_channels(zed_frame, channels_thresh = {0:(0, 100), 1:(25,255), 2:(0,150)})    \n",
    "    zed_threshed[y1:y2, x1:x2] = 0\n",
    "    zed_threshed_cut = zed_threshed[:, x1:x2]\n",
    "    return 1-np.mean(np.mean(zed_threshed_cut, axis =0))\n"
   ]
  },
  {
   "cell_type": "code",
   "execution_count": null,
   "metadata": {},
   "outputs": [],
   "source": [
    "f_id = 2700\n",
    "zed_f_id = jai_zed[f_id] \n",
    "ret, jai_frame = jai_cam.get_frame(f_id)\n",
    "ret, rgb_frame = rgb_cam.get_frame(f_id)\n",
    "zed_frame, point_cloud = zed_cam.get_zed(zed_f_id, exclude_depth=True)\n",
    "jai_frame = jai_frame[:,:,::-1]\n",
    "zed_frame = zed_frame[:,:,::-1]\n",
    "plot_2_imgs(jai_frame, zed_frame)"
   ]
  },
  {
   "cell_type": "code",
   "execution_count": null,
   "metadata": {},
   "outputs": [],
   "source": [
    "x1,y1,x2,y2 = df_coors[df_coors[\"frame\"] == f_id][[\"x1\",\"y1\", \"x2\",\"y2\"]].values[0]"
   ]
  },
  {
   "cell_type": "code",
   "execution_count": null,
   "metadata": {},
   "outputs": [],
   "source": [
    "jai_in_zed = zed_frame[y1:y2, x1:x2]\n",
    "pc_jai_in_zed = point_cloud[y1:y2, x1:x2]\n",
    "plot_2_imgs(jai_frame, jai_in_zed)"
   ]
  },
  {
   "cell_type": "code",
   "execution_count": null,
   "metadata": {},
   "outputs": [],
   "source": [
    "ndvi = make_ndvi(rgb_frame.astype(np.float32), jai_frame[:,:,0].astype(np.float32))\n",
    "plot_2_imgs(ndvi, jai_frame)"
   ]
  },
  {
   "cell_type": "code",
   "execution_count": null,
   "metadata": {},
   "outputs": [],
   "source": [
    "binary_ndvi = ndvi_to_binary(ndvi, 0.05)\n",
    "plot_2_imgs(ndvi, binary_ndvi)"
   ]
  },
  {
   "cell_type": "code",
   "execution_count": null,
   "metadata": {},
   "outputs": [],
   "source": [
    "zed_threshed = thresh_channels(zed_frame)    \n",
    "plot_2_imgs(zed_frame, zed_threshed)"
   ]
  },
  {
   "cell_type": "code",
   "execution_count": null,
   "metadata": {},
   "outputs": [],
   "source": [
    "zed_threshed[y1:1920, x1:x2] = 0\n",
    "zed_threshed_cut = zed_threshed[:, x1:x2]\n",
    "plt.imshow(zed_threshed_cut)\n",
    "plt.show()"
   ]
  },
  {
   "cell_type": "code",
   "execution_count": null,
   "metadata": {},
   "outputs": [],
   "source": [
    "zed_in_jai_full = np.zeros_like(zed_threshed)\n",
    "zed_in_jai_full[y1:y2, x1:x2] = cv2.resize(binary_ndvi, (x2-x1,y2-y1))\n",
    "diff_img = zed_threshed.astype(np.int) - zed_in_jai_full.astype(np.int) > 0\n",
    "plot_2_imgs(zed_in_jai_full, diff_img)"
   ]
  },
  {
   "cell_type": "code",
   "execution_count": null,
   "metadata": {},
   "outputs": [],
   "source": [
    "s"
   ]
  }
 ],
 "metadata": {
  "kernelspec": {
   "display_name": "Python 3 (ipykernel)",
   "language": "python",
   "name": "python3"
  },
  "language_info": {
   "codemirror_mode": {
    "name": "ipython",
    "version": 3
   },
   "file_extension": ".py",
   "mimetype": "text/x-python",
   "name": "python",
   "nbconvert_exporter": "python",
   "pygments_lexer": "ipython3",
   "version": "3.8.13"
  }
 },
 "nbformat": 4,
 "nbformat_minor": 1
}
