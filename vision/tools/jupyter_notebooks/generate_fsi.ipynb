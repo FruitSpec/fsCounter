{
 "cells": [
  {
   "cell_type": "code",
   "execution_count": null,
   "id": "084cdf39",
   "metadata": {},
   "outputs": [],
   "source": [
    "import os\n",
    "import numpy as np\n",
    "import matplotlib.pyplot as plt\n",
    "from PIL import Image\n",
    "from tools.camera import *\n",
    "from skimage.exposure import adjust_gamma, adjust_log, adjust_sigmoid\n",
    "from skimage.morphology import disk\n",
    "from skimage.filters import rank"
   ]
  },
  {
   "cell_type": "code",
   "execution_count": null,
   "id": "1584da30",
   "metadata": {},
   "outputs": [],
   "source": [
    "def plot_img(img, cmap=None):\n",
    "    f, ax = plt.subplots(1, 1, figsize = (15, 10))\n",
    "    if cmap is None:\n",
    "        ax.imshow(img)\n",
    "    else:\n",
    "        ax.imshow(img, cmap)      \n",
    "        \n",
    "def plot_two_img(img1, img2):\n",
    "    f, ax = plt.subplots(1, 2, figsize = (15, 7))\n",
    "    ax[0].imshow(img1)\n",
    "    ax[1].imshow(img2)"
   ]
  },
  {
   "cell_type": "code",
   "execution_count": null,
   "id": "9d0453a2",
   "metadata": {},
   "outputs": [],
   "source": [
    "def generate_fsi_2(rgb, r_ch, g_ch):\n",
    "\n",
    "    g_ch = reduce_outliers(g_ch, 0, 0.01)\n",
    "    r_ch = reduce_outliers(r_ch, 0, 0.01)\n",
    "\n",
    "    diff = r_ch.astype(np.int32) - g_ch.astype(np.int32)\n",
    "\n",
    "    g_ch = stretch_img(g_ch, r_ch.max() - r_ch.min(), r_ch.min())\n",
    "    ndri = diff / g_ch\n",
    "\n",
    "    \n",
    "    ndri_ch = stretch_img(ndri, 255, 0)\n",
    "    ndri_ch = adjust_gamma(ndri_ch, 1/2)\n",
    "    \n",
    "    \n",
    "    g_ch = stretch_img(g_ch, 255, 0)\n",
    "\n",
    "    res = rgb.copy()\n",
    "    res[:, :, 0] = ndri_ch\n",
    "    res[:, :, 1] = g_ch\n",
    "    \n",
    "    return res.astype(np.uint8)\n"
   ]
  },
  {
   "cell_type": "code",
   "execution_count": null,
   "id": "62381f08",
   "metadata": {},
   "outputs": [],
   "source": [
    "fp = r'C:\\Users\\Matan\\Documents\\Projects\\Data\\wetransfer_jai_samples_2022-08-11_0745\\JAI_Samples'\n",
    "folder_list = os.listdir(fp)\n",
    "files = []\n",
    "for folder in folder_list:\n",
    "    file_list = os.listdir(os.path.join(fp, folder))\n",
    "    temp = file_list[0].split('.')[0]\n",
    "    id = temp.split('_')[-1]\n",
    "    \n",
    "    rgb = os.path.join(fp, folder, f'Stream0_{id}.tiff')\n",
    "    r_ch = os.path.join(fp, folder, f'Stream1_{id}.tiff')\n",
    "    g_ch = os.path.join(fp, folder, f'Stream2_{id}.tiff')\n",
    "    \n",
    "    files.append([rgb, r_ch, g_ch])\n",
    "    \n",
    "    "
   ]
  },
  {
   "cell_type": "code",
   "execution_count": null,
   "id": "88d05bf7",
   "metadata": {},
   "outputs": [],
   "source": [
    "rgb_p, r_ch_p, g_ch_p = files[0]"
   ]
  },
  {
   "cell_type": "code",
   "execution_count": null,
   "id": "9517943a",
   "metadata": {},
   "outputs": [],
   "source": [
    "rgb = np.array(Image.open(rgb_p))\n",
    "r_ch = np.array(Image.open(r_ch_p))\n",
    "#r_ch = cv2.cvtColor(r_ch, cv2.COLOR_BGR2GRAY)\n",
    "g_ch = np.array(Image.open(g_ch_p))\n",
    "#g_ch = cv2.cvtColor(g_ch, cv2.COLOR_BGR2GRAY)"
   ]
  },
  {
   "cell_type": "code",
   "execution_count": null,
   "id": "cb8d4512",
   "metadata": {},
   "outputs": [],
   "source": [
    "fsi_n = generate_fsi(rgb, r_ch, g_ch)\n",
    "fsi_n2 = generate_fsi_2(rgb, r_ch, g_ch)\n",
    "fsi_o = old_fsi(rgb, r_ch, g_ch)"
   ]
  },
  {
   "cell_type": "code",
   "execution_count": null,
   "id": "729bda22",
   "metadata": {
    "scrolled": true
   },
   "outputs": [],
   "source": [
    "plot_two_img(fsi_n, fsi_n2)"
   ]
  },
  {
   "cell_type": "code",
   "execution_count": null,
   "id": "780bb1ec",
   "metadata": {},
   "outputs": [],
   "source": [
    "plot_img(fsi_n2)"
   ]
  },
  {
   "cell_type": "code",
   "execution_count": null,
   "id": "76c9364e",
   "metadata": {},
   "outputs": [],
   "source": [
    "plot_img(fsi_n)"
   ]
  },
  {
   "cell_type": "code",
   "execution_count": null,
   "id": "5b41bf7c",
   "metadata": {},
   "outputs": [],
   "source": [
    "_ = plt.hist(fsi_n[:,:,0].flatten(),256)"
   ]
  },
  {
   "cell_type": "code",
   "execution_count": null,
   "id": "8ef7b7b8",
   "metadata": {},
   "outputs": [],
   "source": [
    "fsi_n[:,:,0].max()"
   ]
  },
  {
   "cell_type": "code",
   "execution_count": null,
   "id": "bda953d3",
   "metadata": {},
   "outputs": [],
   "source": [
    "ndri = fsi_n[:,:,0].copy()"
   ]
  },
  {
   "cell_type": "code",
   "execution_count": null,
   "id": "c3f376ce",
   "metadata": {},
   "outputs": [],
   "source": [
    "ndri[ndri>150] = 150"
   ]
  },
  {
   "cell_type": "code",
   "execution_count": null,
   "id": "ac137602",
   "metadata": {},
   "outputs": [],
   "source": [
    "plot_two_img(fsi_n[:,:,0],ndri)"
   ]
  },
  {
   "cell_type": "code",
   "execution_count": null,
   "id": "2fa8ae82",
   "metadata": {},
   "outputs": [],
   "source": [
    "mask = np.where(fsi_n[:,:,0] > 150, 1, 0)"
   ]
  },
  {
   "cell_type": "code",
   "execution_count": null,
   "id": "e4369bc8",
   "metadata": {},
   "outputs": [],
   "source": [
    "plot_img(mask)"
   ]
  },
  {
   "cell_type": "code",
   "execution_count": null,
   "id": "76577f37",
   "metadata": {},
   "outputs": [],
   "source": []
  }
 ],
 "metadata": {
  "kernelspec": {
   "display_name": "Python 3 (ipykernel)",
   "language": "python",
   "name": "python3"
  },
  "language_info": {
   "codemirror_mode": {
    "name": "ipython",
    "version": 3
   },
   "file_extension": ".py",
   "mimetype": "text/x-python",
   "name": "python",
   "nbconvert_exporter": "python",
   "pygments_lexer": "ipython3",
   "version": "3.7.16"
  }
 },
 "nbformat": 4,
 "nbformat_minor": 5
}
