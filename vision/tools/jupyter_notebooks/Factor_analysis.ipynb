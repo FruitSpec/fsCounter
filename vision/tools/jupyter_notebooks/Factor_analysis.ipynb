{
 "cells": [
  {
   "cell_type": "code",
   "execution_count": null,
   "id": "6b4ccb55-cc65-45f0-9ca7-a4c56c9520e2",
   "metadata": {
    "scrolled": true
   },
   "outputs": [],
   "source": [
    "import os\n",
    "\n",
    "def get_repo_dir():\n",
    "    cwd = os.getcwd()\n",
    "    splited = cwd.split('/')\n",
    "    ind = splited.index('fsCounter')\n",
    "    repo_dir = '/'\n",
    "    for s in splited[1:ind + 1]:\n",
    "        repo_dir = os.path.join(repo_dir, s)\n",
    "\n",
    "    return repo_dir"
   ]
  },
  {
   "cell_type": "code",
   "execution_count": null,
   "id": "bad683bf-f6bf-4d99-bb8b-89390921acb3",
   "metadata": {},
   "outputs": [],
   "source": [
    "import sys\n",
    "import pandas as pd\n",
    "import numpy as np\n",
    "import seaborn as sns\n",
    "import matplotlib.pyplot as plt\n",
    "from IPython.display import display\n",
    "\n",
    "\n",
    "\n",
    "sys.path.append(get_repo_dir())\n",
    "\n",
    "from vision.tools.jupyter_notebooks.notebook_analysis_help_funcs import *\n",
    "from vision.tools.post_process_analysis import read_tracks_and_slices, get_block_count\n",
    "from vision.visualization.draw_bb_from_csv import draw_tree_bb_from_tracks"
   ]
  },
  {
   "cell_type": "code",
   "execution_count": null,
   "id": "705d358a-6339-44f9-966c-2b5517a0619d",
   "metadata": {},
   "outputs": [],
   "source": [
    "def concat_to_meta(block_meta, df):\n",
    "    df_col = list(block_meta.columns)\n",
    "    new_data = []\n",
    "    data = block_meta.copy()\n",
    "    for id_, sample in data.iterrows():\n",
    "        block = sample['block'].lower()\n",
    "        row = sample['row'].lower()\n",
    "        tree_id = int(sample['tree_id'])\n",
    "        q_data = df.query(f'block == \"{block}\" and row == \"{row}\" and tree_id == {tree_id}')\n",
    "        new_sample = sample.to_list()\n",
    "        for i in range(1, 4):\n",
    "            new_sample.append(q_data[str(i)].values[0])\n",
    "        new_data.append(new_sample)\n",
    "\n",
    "    df_col += ['cv1', 'cv2', 'cv3']\n",
    "    new_df = pd.DataFrame(new_data, columns=df_col)\n",
    "\n",
    "    return new_df\n",
    "\n",
    "def add_ratios(df):\n",
    "    df['F/cv1'] = df['F'] / df['cv1']\n",
    "    df['F/cv2'] = df['F'] / df['cv2']\n",
    "    df['F/cv3'] = df['F'] / df['cv3']\n",
    "\n",
    "    return df\n",
    "\n",
    "def get_block_ratio(block_df, row_tracks, y_threshold=800, depth=3):\n",
    "    block_col = list(block_df.columns)\n",
    "    new_data = []\n",
    "    for id_, sample in block_df.iterrows():\n",
    "        row = sample['row'].lower()\n",
    "        tree_id = int(sample['tree_id'])\n",
    "        tree_df = row_tracks[row][tree_id]\n",
    "\n",
    "        d_tree_df = tree_df.query(f'depth <= {depth}')\n",
    "        \n",
    "        \n",
    "        lower_tree_df = tree_df.query(f'y1 > {y_threshold} and depth <= {depth}')\n",
    "        count = len(tree_df.track_id.unique())\n",
    "        lower_count = len(lower_tree_df.track_id.unique())\n",
    "        ratio = lower_count / count\n",
    "\n",
    "        gdf = lower_tree_df.groupby('track_id')\n",
    "        lower_tracks_depth = np.array(gdf.depth.mean())\n",
    "        filtered_lower_tracks_depth = lower_tracks_depth[lower_tracks_depth < 3]\n",
    "        mean = np.mean(filtered_lower_tracks_depth)\n",
    "        std = np.std(filtered_lower_tracks_depth)          \n",
    "        \n",
    "        new_sample = sample.to_list()\n",
    " \n",
    "        uniq, counts = np.unique(d_tree_df[\"track_id\"], return_counts=True)\n",
    "        for i in range(0, 5):\n",
    "            new_sample.append(len(uniq[counts>i]))\n",
    "            \n",
    "        new_data.append(new_sample)\n",
    "\n",
    "    #block_col += ['y_ratio', 'mean', 'std', 'lcv1', 'lcv2', 'lcv3', 'lcv4', 'lcv5']\n",
    "    block_col += ['dcv1', 'dcv2', 'dcv3', 'dcv4', 'dcv5']\n",
    "    new_df = pd.DataFrame(new_data, columns=block_col)\n",
    "\n",
    "    return new_df    "
   ]
  },
  {
   "cell_type": "code",
   "execution_count": null,
   "id": "c40847fd-1b79-4ed2-bcf2-82784c2538e8",
   "metadata": {},
   "outputs": [],
   "source": [
    "def linear_model_selection(data, selection_cols=[\"cv1\"], type_col=\"block\", cross_val='row'):\n",
    "\n",
    "    factors = {}\n",
    "    for col in selection_cols:\n",
    "        factor, res_mean, res_std, tree_mean, tree_std, all_preds = run_LROCV(data, cv_col=col, type_col=type_col, cross_val=cross_val, return_res=True)\n",
    "        factors[col] = {'factor': factor, 'mean_error': res_mean, 'std_error': res_std}\n",
    "\n",
    "    return factors\n",
    "    "
   ]
  },
  {
   "cell_type": "code",
   "execution_count": null,
   "id": "752d02c4-e805-43c1-a90e-31bcd5109247",
   "metadata": {},
   "outputs": [],
   "source": [
    "def block_analysis(block_path, metadata_path, block_):\n",
    "    block_counts, row_tracks = get_block_count(block_path)\n",
    "    block_counts_df = pd.DataFrame(block_counts, columns=['tree_id', 'block', 'row', '1', '2','3'])\n",
    "    meta_data = pd.read_csv(metadata_path)\n",
    "    block_meta = meta_data.query(f'block == \"{block_}\"')\n",
    "    block_df = concat_to_meta(block_meta, block_counts_df)\n",
    "    block_df['F/cv1'] = block_df['F'] / block_df['cv1'] \n",
    "    block_df = get_block_ratio(block_df, row_tracks)\n",
    "\n",
    "    return block_df, row_tracks"
   ]
  },
  {
   "cell_type": "code",
   "execution_count": null,
   "id": "3e849c86-1b9c-4722-b3e6-605d9155edc3",
   "metadata": {},
   "outputs": [],
   "source": [
    "def get_selection_error(factors_dict, block_df):\n",
    "    results = {}\n",
    "    for item_ in list(factors_dict.keys()):\n",
    "        block_df[f'err_{item_}'] = (block_df['F'] - (block_df[item_] * factors_dict[item_]['factor'])) / block_df['F']\n",
    "        results[item_] = {'err': np.mean(block_df[f'err_{item_}']), 'err_std': np.std(block_df[f'err_{item_}'])}\n",
    "\n",
    "    return results, block_df"
   ]
  },
  {
   "cell_type": "code",
   "execution_count": null,
   "id": "ce990442-d4d6-45d3-aebd-9773c4d6aaca",
   "metadata": {},
   "outputs": [],
   "source": [
    "metadata_path = \"/media/matans/My Book/FruitSpec/Apples_SA/data_meta.csv\""
   ]
  },
  {
   "cell_type": "code",
   "execution_count": null,
   "id": "94c74ef6-5e1b-44a5-ba63-79be90553042",
   "metadata": {},
   "outputs": [],
   "source": [
    "block_path = \"/media/matans/My Book/FruitSpec/Apples_SA/block_13\"\n",
    "block_ = 'Block_13'\n",
    "block_13_df, row_tracks_13 = block_analysis(block_path, metadata_path, block_)"
   ]
  },
  {
   "cell_type": "code",
   "execution_count": null,
   "id": "dd58aea2-f5e4-4d80-9ac3-d918fd752cf9",
   "metadata": {},
   "outputs": [],
   "source": [
    "block_13_df"
   ]
  },
  {
   "cell_type": "code",
   "execution_count": null,
   "id": "f1b4f2a1-4917-4e3a-bd4a-39a8d8d556a7",
   "metadata": {},
   "outputs": [],
   "source": [
    "#row_to_drow = 'row_8888'\n",
    "#tree_id = 2\n",
    "#draw_tree_bb_from_tracks(row_tracks[row_to_drow][tree_id], os.path.join(block_path, row_to_drow, '1'), tree_id)"
   ]
  },
  {
   "cell_type": "code",
   "execution_count": null,
   "id": "0e5ba400-c7c6-4be4-959a-7565c9f65b9f",
   "metadata": {},
   "outputs": [],
   "source": [
    "plt.bar(block_13_df['id'], block_13_df['F/cv1'])\n",
    "plt.xlabel('Tree')\n",
    "plt.ylabel('F/CV1')"
   ]
  },
  {
   "cell_type": "code",
   "execution_count": null,
   "id": "4465d33b-a7fc-404c-82a0-8a44b9489e81",
   "metadata": {},
   "outputs": [],
   "source": [
    "plot_F_cv(block_13_df, 1, hue='variety', add_xy_line=False)"
   ]
  },
  {
   "cell_type": "code",
   "execution_count": null,
   "id": "c518e11c-4421-4c24-8ee7-6db2b2e7fd3b",
   "metadata": {},
   "outputs": [],
   "source": [
    "plot_F_cv(block_13_df, 1, add_xy_line=False)"
   ]
  },
  {
   "cell_type": "code",
   "execution_count": null,
   "id": "2f6cf0c5-c491-4e2b-b454-c8edda7d33db",
   "metadata": {},
   "outputs": [],
   "source": [
    "factors_dict = linear_model_selection(block_13_df, selection_cols=['cv1','dcv1', 'cv3', 'dcv3'],type_col=\"block\", cross_val='id')"
   ]
  },
  {
   "cell_type": "code",
   "execution_count": null,
   "id": "61c10fd2-5063-4dd5-b7a9-784d1b803b5e",
   "metadata": {},
   "outputs": [],
   "source": [
    "factors_dict"
   ]
  },
  {
   "cell_type": "code",
   "execution_count": null,
   "id": "988e3b65-ca90-4bdd-9593-9118a7d667ec",
   "metadata": {
    "scrolled": true
   },
   "outputs": [],
   "source": [
    "block_13_factor_cv1 = 0.9917\n",
    "block_13_factor_dcv1 = 1.00831\n",
    "block_13_factor_cv3 = 2.0165\n",
    "block_13_factor_dcv3 = 2.21416"
   ]
  },
  {
   "cell_type": "code",
   "execution_count": null,
   "id": "ae6fa080-f808-4fc0-9215-e6b2b1d0021e",
   "metadata": {
    "scrolled": true
   },
   "outputs": [],
   "source": [
    "block_13_df['acc1'] = (block_13_df['F'] - (block_13_df['cv1'] * block_13_factor)) / block_13_df['F']\n",
    "block_13_df['dacc1'] = (block_13_df['F'] - (block_13_df['dcv1'] * block_13_factor_dcv1)) / block_13_df['F']\n",
    "block_13_df['acc3'] = (block_13_df['F'] - (block_13_df['cv3'] * block_13_factor_cv3)) / block_13_df['F']\n",
    "block_13_df['dacc3'] = (block_13_df['F'] - (block_13_df['dcv3'] * block_13_factor_dcv3)) / block_13_df['F']\n"
   ]
  },
  {
   "cell_type": "code",
   "execution_count": null,
   "id": "ad9bb341-04c8-49f2-ab3c-43a073d06dc4",
   "metadata": {},
   "outputs": [],
   "source": [
    "block_13_df"
   ]
  },
  {
   "cell_type": "code",
   "execution_count": null,
   "id": "6fb33968-19f2-4c3e-ae18-c7408640e755",
   "metadata": {},
   "outputs": [],
   "source": []
  },
  {
   "cell_type": "code",
   "execution_count": null,
   "id": "0673be2d-b3f4-4299-82ef-acbc99a958a5",
   "metadata": {},
   "outputs": [],
   "source": [
    "block_mean_cv1 = np.mean(block_13_df['acc1'])\n",
    "block_std_cv1 = np.std(block_13_df['acc1'])\n",
    "block_mean_dcv1 = np.mean(block_13_df['dacc1'])\n",
    "block_std_dcv1 = np.std(block_13_df['dacc1'])\n",
    "block_mean_cv3 = np.mean(block_13_df['acc3'])\n",
    "block_std_cv3 = np.std(block_13_df['acc3'])\n",
    "block_mean_dcv3 = np.mean(block_13_df['dacc3'])\n",
    "block_std_dcv3 = np.std(block_13_df['dacc3'])\n",
    "print(f'CV1 block ACC: {block_mean_cv1}, block ACC STD: {block_std_cv1}')\n",
    "print(f'dCV1 block ACC: {block_mean_dcv1}, block ACC STD: {block_std_dcv1}')\n",
    "print(f'CV3 block ACC: {block_mean_cv3}, block ACC STD: {block_std_cv3}')\n",
    "print(f'dCV3 block ACC: {block_mean_dcv3}, block ACC STD: {block_std_dcv3}')"
   ]
  },
  {
   "cell_type": "code",
   "execution_count": null,
   "id": "5f305aed-3bbb-4c8c-a9b3-a8211033ad62",
   "metadata": {},
   "outputs": [],
   "source": [
    "block_21_path = \"/media/matans/My Book/FruitSpec/Apples_SA/block_21/block_21\"\n",
    "block_21 = 'Block_21'\n",
    "block_21_df, row_tracks_21 = block_analysis(block_21_path, metadata_path, block_21)"
   ]
  },
  {
   "cell_type": "code",
   "execution_count": null,
   "id": "ae57a53a-7e9c-4f4b-9ed2-b65ad958bf0d",
   "metadata": {},
   "outputs": [],
   "source": [
    "block_21_df"
   ]
  },
  {
   "cell_type": "code",
   "execution_count": null,
   "id": "dd7b2b5d-010c-40d3-bf28-4ff3cbdcd02e",
   "metadata": {},
   "outputs": [],
   "source": [
    "plot_F_cv(block_21_df, 1, add_xy_line=False)"
   ]
  },
  {
   "cell_type": "code",
   "execution_count": null,
   "id": "0abb61b9-b046-4f90-805c-6cde19beb73a",
   "metadata": {},
   "outputs": [],
   "source": [
    "factors_21_dict = linear_model_selection(block_21_df, selection_cols=['cv1','dcv1', 'cv3', 'dcv3'],type_col=\"block\", cross_val='id')"
   ]
  },
  {
   "cell_type": "code",
   "execution_count": null,
   "id": "33fe2d90-e35f-468a-8361-5888f9d81b06",
   "metadata": {},
   "outputs": [],
   "source": [
    "#row_to_drow = 'row_1111'\n",
    "#tree_id = 1\n",
    "#draw_tree_bb_from_tracks(row_tracks[row_to_drow][tree_id], os.path.join(block_path, row_to_drow, '1'), tree_id)"
   ]
  },
  {
   "cell_type": "code",
   "execution_count": null,
   "id": "366ef293-5224-467d-a325-80730a2beb48",
   "metadata": {},
   "outputs": [],
   "source": [
    "block_21_factor_cv1 = 1.599476\n",
    "block_21_factor_dcv1 = 1.66923088\n",
    "block_21_factor_cv3 = 3.08106144\n",
    "block_21_factor_dcv3 = 3.27543787\n",
    "\n",
    "block_21_df['acc1'] = (block_21_df['F'] - (block_21_df['cv1'] * block_21_factor_cv1)) / block_21_df['F']\n",
    "block_21_df['dacc1'] = (block_21_df['F'] - (block_21_df['dcv1'] * block_21_factor_dcv1)) / block_21_df['F']\n",
    "block_21_df['acc3'] = (block_21_df['F'] - (block_21_df['cv3'] * block_21_factor_cv3)) / block_21_df['F']\n",
    "block_21_df['dacc3'] = (block_21_df['F'] - (block_21_df['dcv3'] * block_21_factor_dcv3)) / block_21_df['F']\n",
    "\n",
    "block_mean_cv1 = np.mean(block_21_df['acc1'])\n",
    "block_std_cv1 = np.std(block_21_df['acc1'])\n",
    "block_mean_dcv1 = np.mean(block_21_df['dacc1'])\n",
    "block_std_dcv1 = np.std(block_21_df['dacc1'])\n",
    "block_mean_cv3 = np.mean(block_21_df['acc3'])\n",
    "block_std_cv3 = np.std(block_21_df['acc3'])\n",
    "block_mean_dcv3 = np.mean(block_21_df['dacc3'])\n",
    "block_std_dcv3 = np.std(block_21_df['dacc3'])\n",
    "print(f'CV1 block ACC: {block_mean_cv1}, block ACC STD: {block_std_cv1}')\n",
    "print(f'dCV1 block ACC: {block_mean_dcv1}, block ACC STD: {block_std_dcv1}')\n",
    "print(f'CV3 block ACC: {block_mean_cv3}, block ACC STD: {block_std_cv3}')\n",
    "print(f'dCV3 block ACC: {block_mean_dcv3}, block ACC STD: {block_std_dcv3}')"
   ]
  },
  {
   "cell_type": "code",
   "execution_count": null,
   "id": "a611164a-35c5-4063-8667-6908e9fde547",
   "metadata": {},
   "outputs": [],
   "source": [
    "plt.bar(block_21_df['id'], block_21_df['F/cv1'])\n",
    "plt.xlabel('Tree')\n",
    "plt.ylabel('F/CV1')"
   ]
  },
  {
   "cell_type": "code",
   "execution_count": null,
   "id": "ea2f7779-979a-4b57-96e9-6d94e2b488d9",
   "metadata": {},
   "outputs": [],
   "source": [
    "block_48_path = \"/media/matans/My Book/FruitSpec/Apples_SA/block_48/block_48\"\n",
    "block_48 = 'Block_48'\n",
    "block_48_df, row_tracks_48 = block_analysis(block_48_path, metadata_path, block_48)"
   ]
  },
  {
   "cell_type": "code",
   "execution_count": null,
   "id": "e95e9df9-0f1a-4d98-9027-914b8c5bd1d3",
   "metadata": {},
   "outputs": [],
   "source": [
    "block_48_df"
   ]
  },
  {
   "cell_type": "code",
   "execution_count": null,
   "id": "e4cbf743-7c95-4f15-9bac-7d3d6fbb05d2",
   "metadata": {
    "scrolled": true
   },
   "outputs": [],
   "source": [
    "factors_48_dict = linear_model_selection(block_48_df, selection_cols=['cv1','dcv1', 'cv3', 'dcv3'],type_col=\"block\", cross_val='id')"
   ]
  },
  {
   "cell_type": "code",
   "execution_count": null,
   "id": "650bdfa8-97cb-44cc-921c-b3753dac786f",
   "metadata": {},
   "outputs": [],
   "source": []
  },
  {
   "cell_type": "code",
   "execution_count": null,
   "id": "e86246c2-d790-4a0a-b9fc-8d986c3cdadb",
   "metadata": {},
   "outputs": [],
   "source": [
    "block_48_df['acc1'] = (block_48_df['F'] - (block_48_df['cv1'] * factors_48_dict['cv1']['factor'])) / block_48_df['F']\n",
    "block_48_df['dacc1'] = (block_48_df['F'] - (block_48_df['dcv1'] * factors_48_dict['dcv1']['factor'])) / block_48_df['F']\n",
    "block_48_df['acc3'] = (block_48_df['F'] - (block_48_df['cv3'] * factors_48_dict['cv3']['factor'])) / block_48_df['F']\n",
    "block_48_df['dacc3'] = (block_48_df['F'] - (block_48_df['dcv3'] * factors_48_dict['dcv3']['factor'])) / block_48_df['F']\n",
    "\n",
    "block_mean_cv1 = np.mean(block_48_df['acc1'])\n",
    "block_std_cv1 = np.std(block_48_df['acc1'])\n",
    "block_mean_dcv1 = np.mean(block_48_df['dacc1'])\n",
    "block_std_dcv1 = np.std(block_48_df['dacc1'])\n",
    "block_mean_cv3 = np.mean(block_48_df['acc3'])\n",
    "block_std_cv3 = np.std(block_48_df['acc3'])\n",
    "block_mean_dcv3 = np.mean(block_48_df['dacc3'])\n",
    "block_std_dcv3 = np.std(block_48_df['dacc3'])\n",
    "print(f'CV1 block ACC: {block_mean_cv1}, block ACC STD: {block_std_cv1}')\n",
    "print(f'dCV1 block ACC: {block_mean_dcv1}, block ACC STD: {block_std_dcv1}')\n",
    "print(f'CV3 block ACC: {block_mean_cv3}, block ACC STD: {block_std_cv3}')\n",
    "print(f'dCV3 block ACC: {block_mean_dcv3}, block ACC STD: {block_std_dcv3}')"
   ]
  },
  {
   "cell_type": "code",
   "execution_count": null,
   "id": "f9840ec3-19f8-474f-b07f-49fa3832e9d5",
   "metadata": {},
   "outputs": [],
   "source": [
    "factors_48_dict"
   ]
  },
  {
   "cell_type": "code",
   "execution_count": null,
   "id": "1409511a-3c3d-4cfc-ac83-fafb6e89b8e2",
   "metadata": {},
   "outputs": [],
   "source": [
    "plt.bar(block_48_df['id'], block_48_df['F/cv1'])\n",
    "plt.xlabel('Tree')\n",
    "plt.ylabel('F/CV1')"
   ]
  },
  {
   "cell_type": "code",
   "execution_count": null,
   "id": "57824856-f98c-4016-89a6-938e3aba6fb8",
   "metadata": {},
   "outputs": [],
   "source": [
    "block_3_path = \"/media/matans/My Book/FruitSpec/Apples_SA/block_3\"\n",
    "block_3 = 'Block_3'\n",
    "block_3_df, row_tracks_3 = block_analysis(block_3_path, metadata_path, block_3)"
   ]
  },
  {
   "cell_type": "code",
   "execution_count": null,
   "id": "a628951e-98bf-4b18-9bcb-88437827c711",
   "metadata": {},
   "outputs": [],
   "source": [
    "block_3_df"
   ]
  },
  {
   "cell_type": "code",
   "execution_count": null,
   "id": "0876d3bf-0955-41df-9a20-415aaf464d51",
   "metadata": {},
   "outputs": [],
   "source": [
    "factors_3_dict = linear_model_selection(block_3_df, selection_cols=['cv1','dcv1', 'cv3', 'dcv3'],type_col=\"block\", cross_val='id')"
   ]
  },
  {
   "cell_type": "code",
   "execution_count": null,
   "id": "652d9e5f-c6b2-4390-842c-c4f0597891ac",
   "metadata": {},
   "outputs": [],
   "source": [
    "plt.bar(block_3_df['id'], block_3_df['F/cv1'])\n",
    "plt.xlabel('Tree')\n",
    "plt.ylabel('F/CV1')"
   ]
  },
  {
   "cell_type": "code",
   "execution_count": null,
   "id": "2826f14a-8ffb-4e5b-adb5-cc41455db883",
   "metadata": {},
   "outputs": [],
   "source": [
    "res, block_3_df_res = get_selection_error(factors_3_dict, block_3_df)"
   ]
  },
  {
   "cell_type": "code",
   "execution_count": null,
   "id": "efc7172f-19d7-480e-b0c4-6881e126da49",
   "metadata": {},
   "outputs": [],
   "source": [
    "res"
   ]
  },
  {
   "cell_type": "code",
   "execution_count": null,
   "id": "acaa9b4d-9ce4-4a49-8147-2f6eeea7a5f0",
   "metadata": {},
   "outputs": [],
   "source": [
    "block_3_df_res"
   ]
  },
  {
   "cell_type": "code",
   "execution_count": null,
   "id": "45da06c4-3be7-45e3-9dec-ba0852a8e8d7",
   "metadata": {},
   "outputs": [],
   "source": []
  }
 ],
 "metadata": {
  "kernelspec": {
   "display_name": "Python 3 (ipykernel)",
   "language": "python",
   "name": "python3"
  },
  "language_info": {
   "codemirror_mode": {
    "name": "ipython",
    "version": 3
   },
   "file_extension": ".py",
   "mimetype": "text/x-python",
   "name": "python",
   "nbconvert_exporter": "python",
   "pygments_lexer": "ipython3",
   "version": "3.8.17"
  }
 },
 "nbformat": 4,
 "nbformat_minor": 5
}
