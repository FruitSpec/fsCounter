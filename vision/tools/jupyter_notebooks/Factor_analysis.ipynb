{
 "cells": [
  {
   "cell_type": "code",
   "execution_count": 1,
   "id": "6b4ccb55-cc65-45f0-9ca7-a4c56c9520e2",
   "metadata": {
    "scrolled": true
   },
   "outputs": [],
   "source": [
    "import os\n",
    "\n",
    "def get_repo_dir():\n",
    "    cwd = os.getcwd()\n",
    "    splited = cwd.split('/')\n",
    "    ind = splited.index('fsCounter')\n",
    "    repo_dir = '/'\n",
    "    for s in splited[1:ind + 1]:\n",
    "        repo_dir = os.path.join(repo_dir, s)\n",
    "\n",
    "    return repo_dir"
   ]
  },
  {
   "cell_type": "code",
   "execution_count": 2,
   "id": "bad683bf-f6bf-4d99-bb8b-89390921acb3",
   "metadata": {},
   "outputs": [],
   "source": [
    "import sys\n",
    "import pandas as pd\n",
    "import numpy as np\n",
    "import seaborn as sns\n",
    "import matplotlib.pyplot as plt\n",
    "from IPython.display import display\n",
    "\n",
    "\n",
    "\n",
    "sys.path.append(get_repo_dir())\n",
    "\n",
    "from vision.tools.jupyter_notebooks.notebook_analysis_help_funcs import *"
   ]
  },
  {
   "cell_type": "code",
   "execution_count": null,
   "id": "7d4fa43b-ed59-48df-90b2-be6ac9bdf888",
   "metadata": {},
   "outputs": [],
   "source": [
    "master_folder = \"/media/fruitspec-lab/easystore/cam175_b/Fowler4th\"\n",
    "row_lengths = run_on_folder(master_folder)\n",
    "row_lengths"
   ]
  }
 ],
 "metadata": {
  "kernelspec": {
   "display_name": "Python 3 (ipykernel)",
   "language": "python",
   "name": "python3"
  },
  "language_info": {
   "codemirror_mode": {
    "name": "ipython",
    "version": 3
   },
   "file_extension": ".py",
   "mimetype": "text/x-python",
   "name": "python",
   "nbconvert_exporter": "python",
   "pygments_lexer": "ipython3",
   "version": "3.8.17"
  }
 },
 "nbformat": 4,
 "nbformat_minor": 5
}
