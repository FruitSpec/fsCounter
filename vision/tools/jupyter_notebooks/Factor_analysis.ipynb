{
 "cells": [
  {
   "cell_type": "code",
   "execution_count": 1,
   "id": "6b4ccb55-cc65-45f0-9ca7-a4c56c9520e2",
   "metadata": {
    "scrolled": true
   },
   "outputs": [],
   "source": [
    "import os\n",
    "\n",
    "def get_repo_dir():\n",
    "    cwd = os.getcwd()\n",
    "    splited = cwd.split('/')\n",
    "    ind = splited.index('fsCounter')\n",
    "    repo_dir = '/'\n",
    "    for s in splited[1:ind + 1]:\n",
    "        repo_dir = os.path.join(repo_dir, s)\n",
    "\n",
    "    return repo_dir"
   ]
  },
  {
   "cell_type": "code",
   "execution_count": 2,
   "id": "bad683bf-f6bf-4d99-bb8b-89390921acb3",
   "metadata": {},
   "outputs": [
    {
     "name": "stderr",
     "output_type": "stream",
     "text": [
      "<frozen importlib._bootstrap>:219: RuntimeWarning: scipy._lib.messagestream.MessageStream size changed, may indicate binary incompatibility. Expected 56 from C header, got 64 from PyObject\n"
     ]
    }
   ],
   "source": [
    "import sys\n",
    "import pandas as pd\n",
    "import numpy as np\n",
    "import seaborn as sns\n",
    "import matplotlib.pyplot as plt\n",
    "from IPython.display import display\n",
    "\n",
    "\n",
    "\n",
    "sys.path.append(get_repo_dir())\n",
    "\n",
    "from vision.tools.jupyter_notebooks.notebook_analysis_help_funcs import *\n",
    "from vision.tools.post_process_analysis import read_tracks_and_slices, get_block_count\n",
    "from vision.visualization.draw_bb_from_csv import draw_tree_bb_from_tracks"
   ]
  },
  {
   "cell_type": "code",
   "execution_count": 3,
   "id": "705d358a-6339-44f9-966c-2b5517a0619d",
   "metadata": {},
   "outputs": [],
   "source": [
    "def concat_to_meta(block_meta, df):\n",
    "    df_col = list(block_meta.columns)\n",
    "    df['block'] = df['block'].str.lower()\n",
    "    new_data = []\n",
    "    data = block_meta.copy()\n",
    "    for id_, sample in data.iterrows():\n",
    "        block = sample['block'].lower()\n",
    "        row = sample['row'].lower()\n",
    "        tree_id = int(sample['tree_id'])\n",
    "        #print(f'block == \"{block}\" and row == \"{row}\" and tree_id == {tree_id}')\n",
    "        q_data = df.query(f'block == \"{block}\" and row == \"{row}\" and tree_id == {tree_id}')\n",
    "        new_sample = sample.to_list()\n",
    "        for i in range(1, 4):\n",
    "            new_sample.append(q_data[str(i)].values[0])\n",
    "        new_data.append(new_sample)\n",
    "\n",
    "    df_col += ['cv1', 'cv2', 'cv3']\n",
    "    new_df = pd.DataFrame(new_data, columns=df_col)\n",
    "\n",
    "    return new_df\n",
    "\n",
    "def add_ratios(df):\n",
    "    df['F/cv1'] = df['F'] / df['cv1']\n",
    "    df['F/cv2'] = df['F'] / df['cv2']\n",
    "    df['F/cv3'] = df['F'] / df['cv3']\n",
    "\n",
    "    return df\n",
    "\n",
    "def get_block_ratio(block_df, row_tracks, y_threshold=800, depth=3):\n",
    "    block_col = list(block_df.columns)\n",
    "    new_data = []\n",
    "    for id_, sample in block_df.iterrows():\n",
    "        row = sample['row'].lower()\n",
    "        tree_id = int(sample['tree_id'])\n",
    "        tree_df = row_tracks[row][tree_id]\n",
    "\n",
    "        d_tree_df = tree_df.query(f'depth <= {depth}')\n",
    "        \n",
    "        \n",
    "        lower_tree_df = tree_df.query(f'y1 > {y_threshold} and depth <= {depth}')\n",
    "        count = len(tree_df.track_id.unique())\n",
    "        lower_count = len(lower_tree_df.track_id.unique())\n",
    "        ratio = lower_count / count\n",
    "\n",
    "        gdf = lower_tree_df.groupby('track_id')\n",
    "        lower_tracks_depth = np.array(gdf.depth.mean())\n",
    "        filtered_lower_tracks_depth = lower_tracks_depth[lower_tracks_depth < 3]\n",
    "        mean = np.mean(filtered_lower_tracks_depth)\n",
    "        std = np.std(filtered_lower_tracks_depth)          \n",
    "        \n",
    "        new_sample = sample.to_list()\n",
    " \n",
    "        uniq, counts = np.unique(d_tree_df[\"track_id\"], return_counts=True)\n",
    "        for i in range(0, 5):\n",
    "            new_sample.append(len(uniq[counts>i]))\n",
    "            \n",
    "        new_data.append(new_sample)\n",
    "\n",
    "    #block_col += ['y_ratio', 'mean', 'std', 'lcv1', 'lcv2', 'lcv3', 'lcv4', 'lcv5']\n",
    "    block_col += ['dcv1', 'dcv2', 'dcv3', 'dcv4', 'dcv5']\n",
    "    new_df = pd.DataFrame(new_data, columns=block_col)\n",
    "\n",
    "    return new_df    "
   ]
  },
  {
   "cell_type": "code",
   "execution_count": 4,
   "id": "c40847fd-1b79-4ed2-bcf2-82784c2538e8",
   "metadata": {},
   "outputs": [],
   "source": [
    "def linear_model_selection(data, selection_cols=[\"cv1\"], type_col=\"block\", cross_val='row'):\n",
    "\n",
    "    factors = {}\n",
    "    for col in selection_cols:\n",
    "        factor, res_mean, res_std, tree_mean, tree_std, all_preds = run_LROCV(data, cv_col=col, type_col=type_col, cross_val=cross_val, return_res=True)\n",
    "        factors[col] = {'factor': factor, 'mean_error': res_mean, 'std_error': res_std}\n",
    "\n",
    "    return factors\n",
    "    "
   ]
  },
  {
   "cell_type": "code",
   "execution_count": 5,
   "id": "752d02c4-e805-43c1-a90e-31bcd5109247",
   "metadata": {},
   "outputs": [],
   "source": [
    "def block_analysis(block_path, metadata_path, block_):\n",
    "    block_counts, row_tracks = get_block_count(block_path)\n",
    "    block_counts_df = pd.DataFrame(block_counts, columns=['tree_id', 'block', 'row', '1', '2','3'])\n",
    "    meta_data = pd.read_csv(metadata_path)\n",
    "    block_meta = meta_data.query(f'block == \"{block_}\"')\n",
    "    block_df = concat_to_meta(block_meta, block_counts_df)\n",
    "    block_df['F/cv1'] = block_df['F'] / block_df['cv1'] \n",
    "    block_df = get_block_ratio(block_df, row_tracks)\n",
    "\n",
    "    return block_df, row_tracks"
   ]
  },
  {
   "cell_type": "code",
   "execution_count": 6,
   "id": "3e849c86-1b9c-4722-b3e6-605d9155edc3",
   "metadata": {},
   "outputs": [],
   "source": [
    "def get_selection_error(factors_dict, block_df):\n",
    "    results = {}\n",
    "    for item_ in list(factors_dict.keys()):\n",
    "        block_df[f'err_{item_}'] = (block_df['F'] - (block_df[item_] * factors_dict[item_]['factor'])) / block_df['F']\n",
    "        results[item_] = {'err': np.mean(block_df[f'err_{item_}']), 'err_std': np.std(block_df[f'err_{item_}'])}\n",
    "\n",
    "    return results, block_df"
   ]
  },
  {
   "cell_type": "code",
   "execution_count": 7,
   "id": "ce990442-d4d6-45d3-aebd-9773c4d6aaca",
   "metadata": {},
   "outputs": [],
   "source": [
    "metadata_path = \"/home/fruitspec-lab-3/FruitSpec/Data/grapes/SAXXXX/counting/data_meta.csv\""
   ]
  },
  {
   "cell_type": "code",
   "execution_count": 8,
   "id": "94c74ef6-5e1b-44a5-ba63-79be90553042",
   "metadata": {},
   "outputs": [
    {
     "name": "stderr",
     "output_type": "stream",
     "text": [
      "/home/fruitspec-lab-3/FruitSpec/Code/Lihi2/fsCounter/vision/tools/post_process_analysis.py:67: FutureWarning: In a future version, `df.iloc[:, i] = newvals` will attempt to set the values inplace instead of always setting a new array. To retain the old behavior, use either `df[df.columns[i]] = newvals` or, if columns are non-unique, `df.isetitem(i, newvals)`\n",
      "  tree_tracks.loc[:, \"track_id\"] = mapped_ids\n",
      "/home/fruitspec-lab-3/FruitSpec/Code/Lihi2/fsCounter/vision/tools/post_process_analysis.py:67: FutureWarning: In a future version, `df.iloc[:, i] = newvals` will attempt to set the values inplace instead of always setting a new array. To retain the old behavior, use either `df[df.columns[i]] = newvals` or, if columns are non-unique, `df.isetitem(i, newvals)`\n",
      "  tree_tracks.loc[:, \"track_id\"] = mapped_ids\n",
      "/home/fruitspec-lab-3/FruitSpec/Code/Lihi2/fsCounter/vision/tools/post_process_analysis.py:67: FutureWarning: In a future version, `df.iloc[:, i] = newvals` will attempt to set the values inplace instead of always setting a new array. To retain the old behavior, use either `df[df.columns[i]] = newvals` or, if columns are non-unique, `df.isetitem(i, newvals)`\n",
      "  tree_tracks.loc[:, \"track_id\"] = mapped_ids\n",
      "/home/fruitspec-lab-3/FruitSpec/Code/Lihi2/fsCounter/vision/tools/post_process_analysis.py:67: FutureWarning: In a future version, `df.iloc[:, i] = newvals` will attempt to set the values inplace instead of always setting a new array. To retain the old behavior, use either `df[df.columns[i]] = newvals` or, if columns are non-unique, `df.isetitem(i, newvals)`\n",
      "  tree_tracks.loc[:, \"track_id\"] = mapped_ids\n"
     ]
    }
   ],
   "source": [
    "block_path = \"/home/fruitspec-lab-3/FruitSpec/Data/grapes/SAXXXX/5XXXXXX2\"\n",
    "block_ = '5XXXXXX2'\n",
    "block_13_df, row_tracks_13 = block_analysis(block_path, metadata_path, block_)"
   ]
  },
  {
   "cell_type": "code",
   "execution_count": 9,
   "id": "dd58aea2-f5e4-4d80-9ac3-d918fd752cf9",
   "metadata": {},
   "outputs": [
    {
     "data": {
      "text/html": [
       "<div>\n",
       "<style scoped>\n",
       "    .dataframe tbody tr th:only-of-type {\n",
       "        vertical-align: middle;\n",
       "    }\n",
       "\n",
       "    .dataframe tbody tr th {\n",
       "        vertical-align: top;\n",
       "    }\n",
       "\n",
       "    .dataframe thead th {\n",
       "        text-align: right;\n",
       "    }\n",
       "</style>\n",
       "<table border=\"1\" class=\"dataframe\">\n",
       "  <thead>\n",
       "    <tr style=\"text-align: right;\">\n",
       "      <th></th>\n",
       "      <th>block</th>\n",
       "      <th>row</th>\n",
       "      <th>tree</th>\n",
       "      <th>tree_id</th>\n",
       "      <th>F</th>\n",
       "      <th>cv1</th>\n",
       "      <th>cv2</th>\n",
       "      <th>cv3</th>\n",
       "      <th>F/cv1</th>\n",
       "      <th>dcv1</th>\n",
       "      <th>dcv2</th>\n",
       "      <th>dcv3</th>\n",
       "      <th>dcv4</th>\n",
       "      <th>dcv5</th>\n",
       "    </tr>\n",
       "  </thead>\n",
       "  <tbody>\n",
       "    <tr>\n",
       "      <th>0</th>\n",
       "      <td>5XXXXXX2</td>\n",
       "      <td>row_1</td>\n",
       "      <td>1</td>\n",
       "      <td>1</td>\n",
       "      <td>150</td>\n",
       "      <td>130</td>\n",
       "      <td>87</td>\n",
       "      <td>74</td>\n",
       "      <td>1.153846</td>\n",
       "      <td>121</td>\n",
       "      <td>81</td>\n",
       "      <td>65</td>\n",
       "      <td>57</td>\n",
       "      <td>52</td>\n",
       "    </tr>\n",
       "    <tr>\n",
       "      <th>1</th>\n",
       "      <td>5XXXXXX2</td>\n",
       "      <td>row_2</td>\n",
       "      <td>1</td>\n",
       "      <td>1</td>\n",
       "      <td>150</td>\n",
       "      <td>127</td>\n",
       "      <td>87</td>\n",
       "      <td>67</td>\n",
       "      <td>1.181102</td>\n",
       "      <td>116</td>\n",
       "      <td>71</td>\n",
       "      <td>56</td>\n",
       "      <td>49</td>\n",
       "      <td>43</td>\n",
       "    </tr>\n",
       "    <tr>\n",
       "      <th>2</th>\n",
       "      <td>5XXXXXX2</td>\n",
       "      <td>row_4</td>\n",
       "      <td>2</td>\n",
       "      <td>1</td>\n",
       "      <td>130</td>\n",
       "      <td>148</td>\n",
       "      <td>80</td>\n",
       "      <td>62</td>\n",
       "      <td>0.878378</td>\n",
       "      <td>118</td>\n",
       "      <td>67</td>\n",
       "      <td>53</td>\n",
       "      <td>45</td>\n",
       "      <td>36</td>\n",
       "    </tr>\n",
       "    <tr>\n",
       "      <th>3</th>\n",
       "      <td>5XXXXXX2</td>\n",
       "      <td>row_5</td>\n",
       "      <td>2</td>\n",
       "      <td>1</td>\n",
       "      <td>130</td>\n",
       "      <td>147</td>\n",
       "      <td>81</td>\n",
       "      <td>61</td>\n",
       "      <td>0.884354</td>\n",
       "      <td>121</td>\n",
       "      <td>67</td>\n",
       "      <td>52</td>\n",
       "      <td>51</td>\n",
       "      <td>44</td>\n",
       "    </tr>\n",
       "  </tbody>\n",
       "</table>\n",
       "</div>"
      ],
      "text/plain": [
       "      block    row  tree  tree_id    F  cv1  cv2  cv3     F/cv1  dcv1  dcv2  \\\n",
       "0  5XXXXXX2  row_1     1        1  150  130   87   74  1.153846   121    81   \n",
       "1  5XXXXXX2  row_2     1        1  150  127   87   67  1.181102   116    71   \n",
       "2  5XXXXXX2  row_4     2        1  130  148   80   62  0.878378   118    67   \n",
       "3  5XXXXXX2  row_5     2        1  130  147   81   61  0.884354   121    67   \n",
       "\n",
       "   dcv3  dcv4  dcv5  \n",
       "0    65    57    52  \n",
       "1    56    49    43  \n",
       "2    53    45    36  \n",
       "3    52    51    44  "
      ]
     },
     "execution_count": 9,
     "metadata": {},
     "output_type": "execute_result"
    }
   ],
   "source": [
    "block_13_df"
   ]
  },
  {
   "cell_type": "code",
   "execution_count": 20,
   "id": "f1b4f2a1-4917-4e3a-bd4a-39a8d8d556a7",
   "metadata": {
    "scrolled": true
   },
   "outputs": [
    {
     "name": "stdout",
     "output_type": "stream",
     "text": [
      "saving data into: /home/fruitspec-lab-3/FruitSpec/Data/grapes/SAXXXX/5XXXXXX2/281123/row_1/1/trees/1\n",
      "arranging data\n"
     ]
    },
    {
     "name": "stderr",
     "output_type": "stream",
     "text": [
      "100%|██████████████████████████████████████████████████████████████████████████████████████████████████████████████████████████████████████████████████████████████████████████████████████████| 63/63 [00:06<00:00,  9.78it/s]"
     ]
    },
    {
     "name": "stdout",
     "output_type": "stream",
     "text": [
      "Done\n"
     ]
    },
    {
     "name": "stderr",
     "output_type": "stream",
     "text": [
      "\n"
     ]
    }
   ],
   "source": [
    "row_to_drow = 'row_1'\n",
    "tree_id = 1\n",
    "date = '281123'\n",
    "draw_tree_bb_from_tracks(row_tracks_13[row_to_drow][tree_id], os.path.join(block_path, date, row_to_drow, '1'), tree_id)"
   ]
  },
  {
   "cell_type": "code",
   "execution_count": 21,
   "id": "15fc4d64",
   "metadata": {},
   "outputs": [
    {
     "data": {
      "text/html": [
       "<div>\n",
       "<style scoped>\n",
       "    .dataframe tbody tr th:only-of-type {\n",
       "        vertical-align: middle;\n",
       "    }\n",
       "\n",
       "    .dataframe tbody tr th {\n",
       "        vertical-align: top;\n",
       "    }\n",
       "\n",
       "    .dataframe thead th {\n",
       "        text-align: right;\n",
       "    }\n",
       "</style>\n",
       "<table border=\"1\" class=\"dataframe\">\n",
       "  <thead>\n",
       "    <tr style=\"text-align: right;\">\n",
       "      <th></th>\n",
       "      <th>x1</th>\n",
       "      <th>y1</th>\n",
       "      <th>x2</th>\n",
       "      <th>y2</th>\n",
       "      <th>obj_conf</th>\n",
       "      <th>class_conf</th>\n",
       "      <th>track_id</th>\n",
       "      <th>frame</th>\n",
       "      <th>depth</th>\n",
       "    </tr>\n",
       "  </thead>\n",
       "  <tbody>\n",
       "    <tr>\n",
       "      <th>1265</th>\n",
       "      <td>1477</td>\n",
       "      <td>1307</td>\n",
       "      <td>1519</td>\n",
       "      <td>0.770808</td>\n",
       "      <td>0.0</td>\n",
       "      <td>1961</td>\n",
       "      <td>12</td>\n",
       "      <td>190</td>\n",
       "      <td>1.475</td>\n",
       "    </tr>\n",
       "    <tr>\n",
       "      <th>385</th>\n",
       "      <td>1444</td>\n",
       "      <td>429</td>\n",
       "      <td>1490</td>\n",
       "      <td>0.619007</td>\n",
       "      <td>0.0</td>\n",
       "      <td>1842</td>\n",
       "      <td>26</td>\n",
       "      <td>191</td>\n",
       "      <td>1.067</td>\n",
       "    </tr>\n",
       "    <tr>\n",
       "      <th>714</th>\n",
       "      <td>1397</td>\n",
       "      <td>759</td>\n",
       "      <td>1443</td>\n",
       "      <td>0.696929</td>\n",
       "      <td>0.0</td>\n",
       "      <td>1864</td>\n",
       "      <td>20</td>\n",
       "      <td>191</td>\n",
       "      <td>1.161</td>\n",
       "    </tr>\n",
       "    <tr>\n",
       "      <th>231</th>\n",
       "      <td>1377</td>\n",
       "      <td>282</td>\n",
       "      <td>1419</td>\n",
       "      <td>0.793606</td>\n",
       "      <td>0.0</td>\n",
       "      <td>1872</td>\n",
       "      <td>12</td>\n",
       "      <td>191</td>\n",
       "      <td>1.161</td>\n",
       "    </tr>\n",
       "    <tr>\n",
       "      <th>807</th>\n",
       "      <td>1418</td>\n",
       "      <td>874</td>\n",
       "      <td>1478</td>\n",
       "      <td>0.600090</td>\n",
       "      <td>0.0</td>\n",
       "      <td>1888</td>\n",
       "      <td>27</td>\n",
       "      <td>191</td>\n",
       "      <td>1.192</td>\n",
       "    </tr>\n",
       "    <tr>\n",
       "      <th>...</th>\n",
       "      <td>...</td>\n",
       "      <td>...</td>\n",
       "      <td>...</td>\n",
       "      <td>...</td>\n",
       "      <td>...</td>\n",
       "      <td>...</td>\n",
       "      <td>...</td>\n",
       "      <td>...</td>\n",
       "      <td>...</td>\n",
       "    </tr>\n",
       "    <tr>\n",
       "      <th>827</th>\n",
       "      <td>798</td>\n",
       "      <td>872</td>\n",
       "      <td>857</td>\n",
       "      <td>0.807452</td>\n",
       "      <td>0.0</td>\n",
       "      <td>2974</td>\n",
       "      <td>20</td>\n",
       "      <td>252</td>\n",
       "      <td>1.506</td>\n",
       "    </tr>\n",
       "    <tr>\n",
       "      <th>865</th>\n",
       "      <td>810</td>\n",
       "      <td>929</td>\n",
       "      <td>898</td>\n",
       "      <td>0.399930</td>\n",
       "      <td>0.0</td>\n",
       "      <td>2990</td>\n",
       "      <td>129</td>\n",
       "      <td>252</td>\n",
       "      <td>1.600</td>\n",
       "    </tr>\n",
       "    <tr>\n",
       "      <th>1136</th>\n",
       "      <td>819</td>\n",
       "      <td>1190</td>\n",
       "      <td>873</td>\n",
       "      <td>0.834220</td>\n",
       "      <td>0.0</td>\n",
       "      <td>3006</td>\n",
       "      <td>16</td>\n",
       "      <td>252</td>\n",
       "      <td>1.694</td>\n",
       "    </tr>\n",
       "    <tr>\n",
       "      <th>1165</th>\n",
       "      <td>850</td>\n",
       "      <td>1223</td>\n",
       "      <td>930</td>\n",
       "      <td>0.571512</td>\n",
       "      <td>0.0</td>\n",
       "      <td>3010</td>\n",
       "      <td>37</td>\n",
       "      <td>252</td>\n",
       "      <td>1.694</td>\n",
       "    </tr>\n",
       "    <tr>\n",
       "      <th>1436</th>\n",
       "      <td>824</td>\n",
       "      <td>1486</td>\n",
       "      <td>862</td>\n",
       "      <td>0.722801</td>\n",
       "      <td>0.0</td>\n",
       "      <td>3031</td>\n",
       "      <td>27</td>\n",
       "      <td>252</td>\n",
       "      <td>4.267</td>\n",
       "    </tr>\n",
       "  </tbody>\n",
       "</table>\n",
       "<p>3685 rows × 9 columns</p>\n",
       "</div>"
      ],
      "text/plain": [
       "        x1    y1    x2        y2  obj_conf  class_conf  track_id  frame  depth\n",
       "1265  1477  1307  1519  0.770808       0.0        1961        12    190  1.475\n",
       "385   1444   429  1490  0.619007       0.0        1842        26    191  1.067\n",
       "714   1397   759  1443  0.696929       0.0        1864        20    191  1.161\n",
       "231   1377   282  1419  0.793606       0.0        1872        12    191  1.161\n",
       "807   1418   874  1478  0.600090       0.0        1888        27    191  1.192\n",
       "...    ...   ...   ...       ...       ...         ...       ...    ...    ...\n",
       "827    798   872   857  0.807452       0.0        2974        20    252  1.506\n",
       "865    810   929   898  0.399930       0.0        2990       129    252  1.600\n",
       "1136   819  1190   873  0.834220       0.0        3006        16    252  1.694\n",
       "1165   850  1223   930  0.571512       0.0        3010        37    252  1.694\n",
       "1436   824  1486   862  0.722801       0.0        3031        27    252  4.267\n",
       "\n",
       "[3685 rows x 9 columns]"
      ]
     },
     "execution_count": 21,
     "metadata": {},
     "output_type": "execute_result"
    }
   ],
   "source": [
    "row_tracks_13[row_to_drow][tree_id]"
   ]
  },
  {
   "cell_type": "code",
   "execution_count": 13,
   "id": "0e5ba400-c7c6-4be4-959a-7565c9f65b9f",
   "metadata": {},
   "outputs": [
    {
     "data": {
      "text/plain": [
       "Text(0, 0.5, 'F/CV1')"
      ]
     },
     "execution_count": 13,
     "metadata": {},
     "output_type": "execute_result"
    },
    {
     "data": {
      "image/png": "[encoded data removed]",
      "text/plain": [
       "<Figure size 640x480 with 1 Axes>"
      ]
     },
     "metadata": {},
     "output_type": "display_data"
    }
   ],
   "source": [
    "plt.bar(block_13_df['row'], block_13_df['F/cv1'])\n",
    "plt.xlabel('Tree')\n",
    "plt.ylabel('F/CV1')"
   ]
  },
  {
   "cell_type": "code",
   "execution_count": null,
   "id": "4465d33b-a7fc-404c-82a0-8a44b9489e81",
   "metadata": {},
   "outputs": [],
   "source": [
    "plot_F_cv(block_13_df, 1, hue='variety', add_xy_line=False)"
   ]
  },
  {
   "cell_type": "code",
   "execution_count": 14,
   "id": "c518e11c-4421-4c24-8ee7-6db2b2e7fd3b",
   "metadata": {},
   "outputs": [
    {
     "data": {
      "text/plain": [
       "<Figure size 1000x600 with 0 Axes>"
      ]
     },
     "metadata": {},
     "output_type": "display_data"
    },
    {
     "data": {
      "image/png": "[encoded data removed]",
      "text/plain": [
       "<Figure size 500x500 with 1 Axes>"
      ]
     },
     "metadata": {},
     "output_type": "display_data"
    }
   ],
   "source": [
    "plot_F_cv(block_13_df, 1, add_xy_line=False)"
   ]
  },
  {
   "cell_type": "code",
   "execution_count": 16,
   "id": "2f6cf0c5-c491-4e2b-b454-c8edda7d33db",
   "metadata": {},
   "outputs": [
    {
     "name": "stdout",
     "output_type": "stream",
     "text": [
      "true: 130,    pred: 154.64529517776197. (18.96 %) (row_5)\n",
      "true: 130,    pred: 156.18580475127203. (20.14 %) (row_4)\n",
      "true: 150,    pred: 121.6120702497807. (18.93 %) (row_2)\n",
      "true: 150,    pred: 125.1131752791657. (16.59 %) (row_1)\n",
      "0.1865433726998983 0.012882101490737522\n",
      "(0.1865433726998983, 0.012882101490737522)\n",
      "[1.00467717]\n",
      "true: 130,    pred: 154.64529517776197. (18.96 %) (row_5)\n",
      "true: 130,    pred: 156.18580475127203. (20.14 %) (row_4)\n",
      "true: 150,    pred: 121.6120702497807. (18.93 %) (row_2)\n",
      "true: 150,    pred: 125.1131752791657. (16.59 %) (row_1)\n",
      "0.1865433726998983 0.012882101490737522\n",
      "true: 130,    pred: 146.53839746793267. (12.72 %) (row_5)\n",
      "true: 130,    pred: 141.58453834994614. (8.91 %) (row_4)\n",
      "true: 150,    pred: 132.14646113965654. (11.90 %) (row_2)\n",
      "true: 150,    pred: 139.56997691630374. (6.95 %) (row_1)\n",
      "0.10122183878726905 0.023149134256482757\n",
      "(0.10122183878726905, 0.023149134256482757)\n",
      "[1.17574388]\n",
      "true: 130,    pred: 146.53839746793267. (12.72 %) (row_5)\n",
      "true: 130,    pred: 141.58453834994614. (8.91 %) (row_4)\n",
      "true: 150,    pred: 132.14646113965654. (11.90 %) (row_2)\n",
      "true: 150,    pred: 139.56997691630374. (6.95 %) (row_1)\n",
      "0.10122183878726905 0.023149134256482757\n",
      "true: 130,    pred: 129.03251502643204. (0.74 %) (row_5)\n",
      "true: 130,    pred: 131.7375420137367. (1.34 %) (row_4)\n",
      "true: 150,    pred: 139.17874396135264. (7.21 %) (row_2)\n",
      "true: 150,    pred: 159.86062717770028. (6.57 %) (row_1)\n",
      "0.039671780336165266 0.02942989314053716\n",
      "(0.039671780336165266, 0.02942989314053716)\n",
      "[2.11865374]\n",
      "true: 130,    pred: 129.03251502643204. (0.74 %) (row_5)\n",
      "true: 130,    pred: 131.7375420137367. (1.34 %) (row_4)\n",
      "true: 150,    pred: 139.17874396135264. (7.21 %) (row_2)\n",
      "true: 150,    pred: 159.86062717770028. (6.57 %) (row_1)\n",
      "0.039671780336165266 0.02942989314053716\n",
      "true: 130,    pred: 128.03146509341198. (1.51 %) (row_5)\n",
      "true: 130,    pred: 131.17039244908096. (0.90 %) (row_4)\n",
      "true: 150,    pred: 134.56561922365984. (10.29 %) (row_2)\n",
      "true: 150,    pred: 165.71279916753377. (10.48 %) (row_1)\n",
      "0.057948365334025115 0.04593158109151185\n",
      "(0.057948365334025115, 0.04593158109151185)\n",
      "[2.47009476]\n",
      "true: 130,    pred: 128.03146509341198. (1.51 %) (row_5)\n",
      "true: 130,    pred: 131.17039244908096. (0.90 %) (row_4)\n",
      "true: 150,    pred: 134.56561922365984. (10.29 %) (row_2)\n",
      "true: 150,    pred: 165.71279916753377. (10.48 %) (row_1)\n",
      "0.057948365334025115 0.04593158109151185\n"
     ]
    }
   ],
   "source": [
    "factors_13_dict = linear_model_selection(block_13_df, selection_cols=['cv1','dcv1', 'cv3', 'dcv3'],type_col=\"block\", cross_val='row')"
   ]
  },
  {
   "cell_type": "code",
   "execution_count": 17,
   "id": "61c10fd2-5063-4dd5-b7a9-784d1b803b5e",
   "metadata": {},
   "outputs": [
    {
     "data": {
      "text/plain": [
       "{'cv1': {'err': 0.04178607572189266, 'err_std': 0.13394876966144587},\n",
       " 'dcv1': {'err': 0.014226037164567967, 'err_std': 0.07634378309756955},\n",
       " 'cv3': {'err': -0.01865451621549139, 'err_std': 0.03627631871569882},\n",
       " 'dcv3': {'err': -0.028922863470209687, 'err_std': 0.05452809204781146}}"
      ]
     },
     "execution_count": 17,
     "metadata": {},
     "output_type": "execute_result"
    }
   ],
   "source": [
    "res, block_13_df = get_selection_error(factors_13_dict, block_13_df)\n",
    "res"
   ]
  },
  {
   "cell_type": "code",
   "execution_count": null,
   "id": "ad9bb341-04c8-49f2-ab3c-43a073d06dc4",
   "metadata": {},
   "outputs": [],
   "source": [
    "block_13_df"
   ]
  },
  {
   "cell_type": "code",
   "execution_count": 18,
   "id": "64c6de7a-6715-450d-adcb-d4dcb09cc0cf",
   "metadata": {},
   "outputs": [
    {
     "data": {
      "text/plain": [
       "{'cv1': {'factor': array([0.96240904]),\n",
       "  'mean_error': 0.1865433726998983,\n",
       "  'std_error': 0.012882101490737522},\n",
       " 'dcv1': {'factor': array([1.15347088]),\n",
       "  'mean_error': 0.10122183878726905,\n",
       "  'std_error': 0.023149134256482757},\n",
       " 'cv3': {'factor': array([2.16027875]),\n",
       "  'mean_error': 0.039671780336165266,\n",
       "  'std_error': 0.02942989314053716},\n",
       " 'dcv3': {'factor': array([2.54942768]),\n",
       "  'mean_error': 0.057948365334025115,\n",
       "  'std_error': 0.04593158109151185}}"
      ]
     },
     "execution_count": 18,
     "metadata": {},
     "output_type": "execute_result"
    }
   ],
   "source": [
    "factors_13_dict\n"
   ]
  },
  {
   "cell_type": "code",
   "execution_count": null,
   "id": "5f305aed-3bbb-4c8c-a9b3-a8211033ad62",
   "metadata": {},
   "outputs": [],
   "source": [
    "block_21_path = \"/media/matans/My Book/FruitSpec/Apples_SA/block_21\"\n",
    "block_21 = 'Block_21'\n",
    "block_21_df, row_tracks_21 = block_analysis(block_21_path, metadata_path, block_21)"
   ]
  },
  {
   "cell_type": "code",
   "execution_count": null,
   "id": "ae57a53a-7e9c-4f4b-9ed2-b65ad958bf0d",
   "metadata": {},
   "outputs": [],
   "source": [
    "block_21_df"
   ]
  },
  {
   "cell_type": "code",
   "execution_count": null,
   "id": "dd7b2b5d-010c-40d3-bf28-4ff3cbdcd02e",
   "metadata": {},
   "outputs": [],
   "source": [
    "plot_F_cv(block_21_df, 1, add_xy_line=False)"
   ]
  },
  {
   "cell_type": "code",
   "execution_count": null,
   "id": "0abb61b9-b046-4f90-805c-6cde19beb73a",
   "metadata": {
    "scrolled": true
   },
   "outputs": [],
   "source": [
    "factors_21_dict = linear_model_selection(block_21_df, selection_cols=['cv1','dcv1', 'cv3', 'dcv3'],type_col=\"block\", cross_val='id')"
   ]
  },
  {
   "cell_type": "code",
   "execution_count": null,
   "id": "d961aee4-7d5e-46c3-a731-3c936d3de2c5",
   "metadata": {},
   "outputs": [],
   "source": [
    "res, block_block_21_df13_df = get_selection_error(factors_21_dict, block_21_df)\n",
    "res"
   ]
  },
  {
   "cell_type": "code",
   "execution_count": null,
   "id": "33fe2d90-e35f-468a-8361-5888f9d81b06",
   "metadata": {},
   "outputs": [],
   "source": [
    "#row_to_drow = 'row_1111'\n",
    "#tree_id = 1\n",
    "#draw_tree_bb_from_tracks(row_tracks[row_to_drow][tree_id], os.path.join(block_path, row_to_drow, '1'), tree_id)"
   ]
  },
  {
   "cell_type": "code",
   "execution_count": null,
   "id": "a611164a-35c5-4063-8667-6908e9fde547",
   "metadata": {},
   "outputs": [],
   "source": [
    "plt.bar(block_21_df['id'], block_21_df['F/cv1'])\n",
    "plt.xlabel('Tree')\n",
    "plt.ylabel('F/CV1')"
   ]
  },
  {
   "cell_type": "code",
   "execution_count": null,
   "id": "ea2f7779-979a-4b57-96e9-6d94e2b488d9",
   "metadata": {},
   "outputs": [],
   "source": [
    "block_48_path = \"/media/matans/My Book/FruitSpec/Apples_SA/block_48\"\n",
    "block_48 = 'Block_48'\n",
    "block_48_df, row_tracks_48 = block_analysis(block_48_path, metadata_path, block_48)"
   ]
  },
  {
   "cell_type": "code",
   "execution_count": null,
   "id": "e95e9df9-0f1a-4d98-9027-914b8c5bd1d3",
   "metadata": {},
   "outputs": [],
   "source": [
    "block_48_df"
   ]
  },
  {
   "cell_type": "code",
   "execution_count": null,
   "id": "e4cbf743-7c95-4f15-9bac-7d3d6fbb05d2",
   "metadata": {
    "scrolled": true
   },
   "outputs": [],
   "source": [
    "factors_48_dict = linear_model_selection(block_48_df, selection_cols=['cv1','dcv1', 'cv3', 'dcv3'],type_col=\"block\", cross_val='id')"
   ]
  },
  {
   "cell_type": "code",
   "execution_count": null,
   "id": "650bdfa8-97cb-44cc-921c-b3753dac786f",
   "metadata": {},
   "outputs": [],
   "source": [
    "res, block_48_df_res = get_selection_error(factors_48_dict, block_48_df)\n",
    "res"
   ]
  },
  {
   "cell_type": "code",
   "execution_count": null,
   "id": "1409511a-3c3d-4cfc-ac83-fafb6e89b8e2",
   "metadata": {},
   "outputs": [],
   "source": [
    "plt.bar(block_48_df['id'], block_48_df['F/cv1'])\n",
    "plt.xlabel('Tree')\n",
    "plt.ylabel('F/CV1')"
   ]
  },
  {
   "cell_type": "code",
   "execution_count": null,
   "id": "57824856-f98c-4016-89a6-938e3aba6fb8",
   "metadata": {},
   "outputs": [],
   "source": [
    "block_3_path = \"/media/matans/My Book/FruitSpec/Apples_SA/block_3\"\n",
    "block_3 = 'Block_3'\n",
    "block_3_df, row_tracks_3 = block_analysis(block_3_path, metadata_path, block_3)"
   ]
  },
  {
   "cell_type": "code",
   "execution_count": null,
   "id": "a628951e-98bf-4b18-9bcb-88437827c711",
   "metadata": {},
   "outputs": [],
   "source": [
    "block_3_df"
   ]
  },
  {
   "cell_type": "code",
   "execution_count": null,
   "id": "0876d3bf-0955-41df-9a20-415aaf464d51",
   "metadata": {},
   "outputs": [],
   "source": [
    "factors_3_dict = linear_model_selection(block_3_df, selection_cols=['cv1','dcv1', 'cv3', 'dcv3'],type_col=\"block\", cross_val='id')"
   ]
  },
  {
   "cell_type": "code",
   "execution_count": null,
   "id": "652d9e5f-c6b2-4390-842c-c4f0597891ac",
   "metadata": {},
   "outputs": [],
   "source": [
    "plt.bar(block_3_df['id'], block_3_df['F/cv1'])\n",
    "plt.xlabel('Tree')\n",
    "plt.ylabel('F/CV1')"
   ]
  },
  {
   "cell_type": "code",
   "execution_count": null,
   "id": "2826f14a-8ffb-4e5b-adb5-cc41455db883",
   "metadata": {},
   "outputs": [],
   "source": [
    "res, block_3_df_res = get_selection_error(factors_3_dict, block_3_df)"
   ]
  },
  {
   "cell_type": "code",
   "execution_count": null,
   "id": "efc7172f-19d7-480e-b0c4-6881e126da49",
   "metadata": {},
   "outputs": [],
   "source": [
    "res"
   ]
  },
  {
   "cell_type": "code",
   "execution_count": null,
   "id": "acaa9b4d-9ce4-4a49-8147-2f6eeea7a5f0",
   "metadata": {},
   "outputs": [],
   "source": [
    "factors_3_dict"
   ]
  },
  {
   "cell_type": "code",
   "execution_count": null,
   "id": "45da06c4-3be7-45e3-9dec-ba0852a8e8d7",
   "metadata": {},
   "outputs": [],
   "source": [
    "block_83_path = \"/media/matans/My Book/FruitSpec/Apples_SA/083GOLD0\"\n",
    "block_83 = '083GOLD0'\n",
    "block_83_df, row_tracks_83 = block_analysis(block_83_path, metadata_path, block_83)"
   ]
  },
  {
   "cell_type": "code",
   "execution_count": null,
   "id": "fe8a089d-9b7e-4025-9d01-9ff8bbe74a77",
   "metadata": {},
   "outputs": [],
   "source": [
    "block_83_df"
   ]
  },
  {
   "cell_type": "code",
   "execution_count": null,
   "id": "7fd795c5-3764-4917-83fb-8f25b144989c",
   "metadata": {},
   "outputs": [],
   "source": [
    "factors_83_dict = linear_model_selection(block_83_df, selection_cols=['cv1','dcv1', 'cv3', 'dcv3'],type_col=\"block\", cross_val='id')\n",
    "res, block_83_df_res = get_selection_error(factors_83_dict, block_83_df)"
   ]
  },
  {
   "cell_type": "code",
   "execution_count": null,
   "id": "f94debf3-f4e1-4909-a3e3-470eb6d964e7",
   "metadata": {
    "scrolled": true
   },
   "outputs": [],
   "source": [
    "res"
   ]
  },
  {
   "cell_type": "code",
   "execution_count": null,
   "id": "42f32ded-ae18-410e-9699-c2f7c11dd007",
   "metadata": {},
   "outputs": [],
   "source": [
    "factors_83_dict"
   ]
  },
  {
   "cell_type": "code",
   "execution_count": null,
   "id": "ffc8010a-c958-4500-baeb-c0ae1c8f2494",
   "metadata": {},
   "outputs": [],
   "source": [
    "plt.bar(block_83_df['id'], block_83_df['F/cv1'])\n",
    "plt.xlabel('Tree')\n",
    "plt.ylabel('F/CV1')"
   ]
  },
  {
   "cell_type": "code",
   "execution_count": null,
   "id": "b201940d-9352-4a82-a616-e04abd42224b",
   "metadata": {},
   "outputs": [],
   "source": [
    "block_20_path = \"/media/matans/My Book/FruitSpec/Apples_SA/020GRANO\"\n",
    "block_20 = '020GRANO'\n",
    "block_20_df, row_tracks_20 = block_analysis(block_20_path, metadata_path, block_20)"
   ]
  },
  {
   "cell_type": "code",
   "execution_count": null,
   "id": "a8b1b951-ddd1-473b-8514-c089ad13a8a2",
   "metadata": {},
   "outputs": [],
   "source": []
  },
  {
   "cell_type": "code",
   "execution_count": null,
   "id": "bac8510d-91f4-450c-90bd-13ab77ed1aa0",
   "metadata": {},
   "outputs": [],
   "source": [
    "block_20_df"
   ]
  },
  {
   "cell_type": "code",
   "execution_count": null,
   "id": "63def429-fb39-46e0-b038-fad03f3cc3eb",
   "metadata": {},
   "outputs": [],
   "source": [
    "factors_20_dict = linear_model_selection(block_20_df, selection_cols=['cv1','dcv1', 'cv3', 'dcv3'],type_col=\"block\", cross_val='id')\n",
    "res, block_20_df_res = get_selection_error(factors_20_dict, block_20_df)"
   ]
  },
  {
   "cell_type": "code",
   "execution_count": null,
   "id": "40b00722-7db6-4704-a055-bb0aaad986f1",
   "metadata": {},
   "outputs": [],
   "source": [
    "res"
   ]
  },
  {
   "cell_type": "code",
   "execution_count": null,
   "id": "ed422813-9cfd-4a3a-aa8e-2678067c5455",
   "metadata": {},
   "outputs": [],
   "source": [
    "factors_20_dict"
   ]
  },
  {
   "cell_type": "code",
   "execution_count": null,
   "id": "d9cabda8-b3de-4b34-963c-bfd1a8c5833b",
   "metadata": {},
   "outputs": [],
   "source": [
    "plt.bar(block_20_df['id'], block_20_df['F/cv1'])\n",
    "plt.xlabel('Tree')\n",
    "plt.ylabel('F/CV1')"
   ]
  },
  {
   "cell_type": "code",
   "execution_count": 8,
   "id": "856333da-4250-43ba-939e-3593b3a6d699",
   "metadata": {},
   "outputs": [],
   "source": [
    "block_25_path = \"/media/matans/My Book/FruitSpec/Apples_SA/025PINKO\"\n",
    "block_25 = '025PINKO'\n",
    "block_25_df, row_tracks_25 = block_analysis(block_25_path, metadata_path, block_25)"
   ]
  },
  {
   "cell_type": "code",
   "execution_count": 10,
   "id": "f9349e2c-f719-44d7-a4b3-0f3e77452d72",
   "metadata": {},
   "outputs": [
    {
     "data": {
      "text/html": [
       "<div>\n",
       "<style scoped>\n",
       "    .dataframe tbody tr th:only-of-type {\n",
       "        vertical-align: middle;\n",
       "    }\n",
       "\n",
       "    .dataframe tbody tr th {\n",
       "        vertical-align: top;\n",
       "    }\n",
       "\n",
       "    .dataframe thead th {\n",
       "        text-align: right;\n",
       "    }\n",
       "</style>\n",
       "<table border=\"1\" class=\"dataframe\">\n",
       "  <thead>\n",
       "    <tr style=\"text-align: right;\">\n",
       "      <th></th>\n",
       "      <th>id</th>\n",
       "      <th>block</th>\n",
       "      <th>row</th>\n",
       "      <th>tree</th>\n",
       "      <th>side</th>\n",
       "      <th>tree_id</th>\n",
       "      <th>variety</th>\n",
       "      <th>Age</th>\n",
       "      <th>F</th>\n",
       "      <th>cv1</th>\n",
       "      <th>cv2</th>\n",
       "      <th>cv3</th>\n",
       "      <th>F/cv1</th>\n",
       "      <th>dcv1</th>\n",
       "      <th>dcv2</th>\n",
       "      <th>dcv3</th>\n",
       "      <th>dcv4</th>\n",
       "      <th>dcv5</th>\n",
       "    </tr>\n",
       "  </thead>\n",
       "  <tbody>\n",
       "    <tr>\n",
       "      <th>0</th>\n",
       "      <td>49</td>\n",
       "      <td>025PINKO</td>\n",
       "      <td>Row_111</td>\n",
       "      <td>10</td>\n",
       "      <td>A</td>\n",
       "      <td>1</td>\n",
       "      <td>Royal Beauty</td>\n",
       "      <td>20</td>\n",
       "      <td>1271</td>\n",
       "      <td>2200</td>\n",
       "      <td>1407</td>\n",
       "      <td>1052</td>\n",
       "      <td>0.577727</td>\n",
       "      <td>1975</td>\n",
       "      <td>1194</td>\n",
       "      <td>883</td>\n",
       "      <td>666</td>\n",
       "      <td>518</td>\n",
       "    </tr>\n",
       "    <tr>\n",
       "      <th>1</th>\n",
       "      <td>50</td>\n",
       "      <td>025PINKO</td>\n",
       "      <td>Row_111</td>\n",
       "      <td>13</td>\n",
       "      <td>A</td>\n",
       "      <td>2</td>\n",
       "      <td>Royal Beauty</td>\n",
       "      <td>20</td>\n",
       "      <td>2016</td>\n",
       "      <td>2248</td>\n",
       "      <td>1483</td>\n",
       "      <td>1145</td>\n",
       "      <td>0.896797</td>\n",
       "      <td>1907</td>\n",
       "      <td>1263</td>\n",
       "      <td>984</td>\n",
       "      <td>784</td>\n",
       "      <td>656</td>\n",
       "    </tr>\n",
       "    <tr>\n",
       "      <th>2</th>\n",
       "      <td>51</td>\n",
       "      <td>025PINKO</td>\n",
       "      <td>Row_222</td>\n",
       "      <td>13</td>\n",
       "      <td>B</td>\n",
       "      <td>1</td>\n",
       "      <td>Pink Lady</td>\n",
       "      <td>20</td>\n",
       "      <td>2016</td>\n",
       "      <td>1776</td>\n",
       "      <td>1094</td>\n",
       "      <td>812</td>\n",
       "      <td>1.135135</td>\n",
       "      <td>1554</td>\n",
       "      <td>949</td>\n",
       "      <td>688</td>\n",
       "      <td>529</td>\n",
       "      <td>406</td>\n",
       "    </tr>\n",
       "    <tr>\n",
       "      <th>3</th>\n",
       "      <td>52</td>\n",
       "      <td>025PINKO</td>\n",
       "      <td>Row_222</td>\n",
       "      <td>10</td>\n",
       "      <td>B</td>\n",
       "      <td>2</td>\n",
       "      <td>Pink Lady</td>\n",
       "      <td>20</td>\n",
       "      <td>1271</td>\n",
       "      <td>1487</td>\n",
       "      <td>880</td>\n",
       "      <td>640</td>\n",
       "      <td>0.854741</td>\n",
       "      <td>1052</td>\n",
       "      <td>546</td>\n",
       "      <td>374</td>\n",
       "      <td>280</td>\n",
       "      <td>201</td>\n",
       "    </tr>\n",
       "    <tr>\n",
       "      <th>4</th>\n",
       "      <td>53</td>\n",
       "      <td>025PINKO</td>\n",
       "      <td>Row_333</td>\n",
       "      <td>5</td>\n",
       "      <td>A</td>\n",
       "      <td>1</td>\n",
       "      <td>Royal Beauty</td>\n",
       "      <td>20</td>\n",
       "      <td>1368</td>\n",
       "      <td>1686</td>\n",
       "      <td>1177</td>\n",
       "      <td>905</td>\n",
       "      <td>0.811388</td>\n",
       "      <td>1325</td>\n",
       "      <td>889</td>\n",
       "      <td>678</td>\n",
       "      <td>528</td>\n",
       "      <td>415</td>\n",
       "    </tr>\n",
       "    <tr>\n",
       "      <th>5</th>\n",
       "      <td>54</td>\n",
       "      <td>025PINKO</td>\n",
       "      <td>Row_333</td>\n",
       "      <td>6</td>\n",
       "      <td>A</td>\n",
       "      <td>2</td>\n",
       "      <td>Royal Beauty</td>\n",
       "      <td>20</td>\n",
       "      <td>1318</td>\n",
       "      <td>1817</td>\n",
       "      <td>1211</td>\n",
       "      <td>941</td>\n",
       "      <td>0.725371</td>\n",
       "      <td>1337</td>\n",
       "      <td>839</td>\n",
       "      <td>604</td>\n",
       "      <td>458</td>\n",
       "      <td>354</td>\n",
       "    </tr>\n",
       "  </tbody>\n",
       "</table>\n",
       "</div>"
      ],
      "text/plain": [
       "   id     block      row  tree side  tree_id       variety  Age     F   cv1  \\\n",
       "0  49  025PINKO  Row_111    10    A        1  Royal Beauty   20  1271  2200   \n",
       "1  50  025PINKO  Row_111    13    A        2  Royal Beauty   20  2016  2248   \n",
       "2  51  025PINKO  Row_222    13    B        1     Pink Lady   20  2016  1776   \n",
       "3  52  025PINKO  Row_222    10    B        2     Pink Lady   20  1271  1487   \n",
       "4  53  025PINKO  Row_333     5    A        1  Royal Beauty   20  1368  1686   \n",
       "5  54  025PINKO  Row_333     6    A        2  Royal Beauty   20  1318  1817   \n",
       "\n",
       "    cv2   cv3     F/cv1  dcv1  dcv2  dcv3  dcv4  dcv5  \n",
       "0  1407  1052  0.577727  1975  1194   883   666   518  \n",
       "1  1483  1145  0.896797  1907  1263   984   784   656  \n",
       "2  1094   812  1.135135  1554   949   688   529   406  \n",
       "3   880   640  0.854741  1052   546   374   280   201  \n",
       "4  1177   905  0.811388  1325   889   678   528   415  \n",
       "5  1211   941  0.725371  1337   839   604   458   354  "
      ]
     },
     "execution_count": 10,
     "metadata": {},
     "output_type": "execute_result"
    }
   ],
   "source": [
    "block_25_df"
   ]
  },
  {
   "cell_type": "code",
   "execution_count": 11,
   "id": "ab7aa03f-cd11-4842-8c9e-b4396490a62b",
   "metadata": {},
   "outputs": [
    {
     "name": "stdout",
     "output_type": "stream",
     "text": [
      "true: 1318,    pred: 1516.2215697697068. (15.04 %) (54)\n",
      "true: 1368,    pred: 1380.1481827539994. (0.89 %) (53)\n",
      "true: 1271,    pred: 1209.4681810662016. (4.84 %) (52)\n",
      "true: 2016,    pred: 1354.659458139562. (32.80 %) (51)\n",
      "true: 2016,    pred: 1783.041981035424. (11.56 %) (50)\n",
      "true: 1271,    pred: 1953.0327778882654. (53.66 %) (49)\n",
      "0.19798329026685837 0.1820145025573671\n",
      "(0.19798329026685837, 0.1820145025573671)\n",
      "[0.81763626]\n",
      "true: 1318,    pred: 1516.2215697697068. (15.04 %) (54)\n",
      "true: 1368,    pred: 1380.1481827539994. (0.89 %) (53)\n",
      "true: 1271,    pred: 1209.4681810662016. (4.84 %) (52)\n",
      "true: 2016,    pred: 1354.659458139562. (32.80 %) (51)\n",
      "true: 2016,    pred: 1783.041981035424. (11.56 %) (50)\n",
      "true: 1271,    pred: 1953.0327778882654. (53.66 %) (49)\n",
      "0.19798329026685837 0.1820145025573671\n",
      "true: 1318,    pred: 1318.5091645655996. (0.04 %) (54)\n",
      "true: 1368,    pred: 1298.2241240254227. (5.10 %) (53)\n",
      "true: 1271,    pred: 1018.2452076947194. (19.89 %) (52)\n",
      "true: 2016,    pred: 1436.6161920091065. (28.74 %) (51)\n",
      "true: 2016,    pred: 1835.6113174310667. (8.95 %) (50)\n",
      "true: 1271,    pred: 2194.2081330375104. (72.64 %) (49)\n",
      "0.22558164715403917 0.24325254614212805\n",
      "(0.22558164715403917, 0.24325254614212805)\n",
      "[0.98612329]\n",
      "true: 1318,    pred: 1318.5091645655996. (0.04 %) (54)\n",
      "true: 1368,    pred: 1298.2241240254227. (5.10 %) (53)\n",
      "true: 1271,    pred: 1018.2452076947194. (19.89 %) (52)\n",
      "true: 2016,    pred: 1436.6161920091065. (28.74 %) (51)\n",
      "true: 2016,    pred: 1835.6113174310667. (8.95 %) (50)\n",
      "true: 1271,    pred: 2194.2081330375104. (72.64 %) (49)\n",
      "0.22558164715403917 0.24325254614212805\n",
      "true: 1318,    pred: 1602.8028078142042. (21.61 %) (54)\n",
      "true: 1368,    pred: 1518.5087739361425. (11.00 %) (53)\n",
      "true: 1271,    pred: 1038.7439964915352. (18.27 %) (52)\n",
      "true: 2016,    pred: 1242.9732238706843. (38.34 %) (51)\n",
      "true: 2016,    pred: 1848.984161453385. (8.28 %) (50)\n",
      "true: 1271,    pred: 1863.9740872449945. (46.65 %) (49)\n",
      "0.240279225430961 0.1398454679455019\n",
      "(0.240279225430961, 0.1398454679455019)\n",
      "[1.65167142]\n",
      "true: 1318,    pred: 1602.8028078142042. (21.61 %) (54)\n",
      "true: 1368,    pred: 1518.5087739361425. (11.00 %) (53)\n",
      "true: 1271,    pred: 1038.7439964915352. (18.27 %) (52)\n",
      "true: 2016,    pred: 1242.9732238706843. (38.34 %) (51)\n",
      "true: 2016,    pred: 1848.984161453385. (8.28 %) (50)\n",
      "true: 1271,    pred: 1863.9740872449945. (46.65 %) (49)\n",
      "0.240279225430961 0.1398454679455019\n",
      "true: 1318,    pred: 1262.4303576689151. (4.22 %) (54)\n",
      "true: 1368,    pred: 1433.7265512855745. (4.80 %) (53)\n",
      "true: 1271,    pred: 763.3543406979276. (39.94 %) (52)\n",
      "true: 2016,    pred: 1345.6435635752555. (33.25 %) (51)\n",
      "true: 2016,    pred: 2089.330071267862. (3.64 %) (50)\n",
      "true: 1271,    pred: 2044.0890540886528. (60.83 %) (49)\n",
      "0.2444598392089933 0.21867421435937526\n",
      "(0.2444598392089933, 0.21867421435937526)\n",
      "[2.10065245]\n",
      "true: 1318,    pred: 1262.4303576689151. (4.22 %) (54)\n",
      "true: 1368,    pred: 1433.7265512855745. (4.80 %) (53)\n",
      "true: 1271,    pred: 763.3543406979276. (39.94 %) (52)\n",
      "true: 2016,    pred: 1345.6435635752555. (33.25 %) (51)\n",
      "true: 2016,    pred: 2089.330071267862. (3.64 %) (50)\n",
      "true: 1271,    pred: 2044.0890540886528. (60.83 %) (49)\n",
      "0.2444598392089933 0.21867421435937526\n"
     ]
    }
   ],
   "source": [
    "factors_25_dict = linear_model_selection(block_25_df, selection_cols=['cv1','dcv1', 'cv3', 'dcv3'],type_col=\"block\", cross_val='id')\n",
    "res, block_25_df_res = get_selection_error(factors_25_dict, block_25_df)"
   ]
  },
  {
   "cell_type": "code",
   "execution_count": 12,
   "id": "b20de502-8260-496e-834a-8d989584fb1c",
   "metadata": {},
   "outputs": [
    {
     "data": {
      "text/plain": [
       "{'cv1': {'err': -0.11085505199272717, 'err_std': 0.23175832567980809},\n",
       " 'dcv1': {'err': -0.12605246841874737, 'err_std': 0.2839817234449111},\n",
       " 'cv3': {'err': -0.08598332292103583, 'err_std': 0.2472625614113908},\n",
       " 'dcv3': {'err': -0.06959111558830451, 'err_std': 0.29690962376557434}}"
      ]
     },
     "execution_count": 12,
     "metadata": {},
     "output_type": "execute_result"
    }
   ],
   "source": [
    "res"
   ]
  },
  {
   "cell_type": "code",
   "execution_count": 13,
   "id": "b1cba346-df01-4c19-bb6e-eacd14b593a6",
   "metadata": {},
   "outputs": [
    {
     "data": {
      "text/plain": [
       "{'cv1': {'factor': array([0.88774217]),\n",
       "  'mean_error': 0.19798329026685837,\n",
       "  'std_error': 0.1820145025573671},\n",
       " 'dcv1': {'factor': array([1.11099146]),\n",
       "  'mean_error': 0.22558164715403917,\n",
       "  'std_error': 0.24325254614212805},\n",
       " 'cv3': {'factor': array([1.77183849]),\n",
       "  'mean_error': 0.240279225430961,\n",
       "  'std_error': 0.1398454679455019},\n",
       " 'dcv3': {'factor': array([2.31493664]),\n",
       "  'mean_error': 0.2444598392089933,\n",
       "  'std_error': 0.21867421435937526}}"
      ]
     },
     "execution_count": 13,
     "metadata": {},
     "output_type": "execute_result"
    }
   ],
   "source": [
    "factors_25_dict"
   ]
  },
  {
   "cell_type": "code",
   "execution_count": 14,
   "id": "8ed7a576-db13-4796-bb38-e190bcd6187c",
   "metadata": {},
   "outputs": [
    {
     "data": {
      "text/plain": [
       "Text(0, 0.5, 'F/CV1')"
      ]
     },
     "execution_count": 14,
     "metadata": {},
     "output_type": "execute_result"
    },
    {
     "data": {
      "image/png": "[encoded data removed]",
      "text/plain": [
       "<Figure size 640x480 with 1 Axes>"
      ]
     },
     "metadata": {},
     "output_type": "display_data"
    }
   ],
   "source": [
    "plt.bar(block_25_df['id'], block_25_df['F/cv1'])\n",
    "plt.xlabel('Tree')\n",
    "plt.ylabel('F/CV1')"
   ]
  },
  {
   "cell_type": "code",
   "execution_count": 9,
   "id": "387779f7-8581-459c-b7bd-e80141b0e792",
   "metadata": {},
   "outputs": [
    {
     "name": "stdout",
     "output_type": "stream",
     "text": [
      "saving data into: /media/matans/My Book/FruitSpec/Apples_SA/025PINKO/221123/row_111/1/trees/1\n",
      "arranging data\n"
     ]
    },
    {
     "name": "stderr",
     "output_type": "stream",
     "text": [
      "100%|██████████████████████████████████████████████████████████████████████████████████████████████████████████████████████████████████████████████████████████████████████████████████████| 65/65 [00:09<00:00,  7.09it/s]"
     ]
    },
    {
     "name": "stdout",
     "output_type": "stream",
     "text": [
      "Done\n"
     ]
    },
    {
     "name": "stderr",
     "output_type": "stream",
     "text": [
      "\n"
     ]
    }
   ],
   "source": [
    "#row_to_drow = 'row_111'\n",
    "#tree_id = 1\n",
    "#date = '221123'\n",
    "#draw_tree_bb_from_tracks(row_tracks_25[row_to_drow][tree_id], os.path.join(block_25_path, date, row_to_drow, '1'), tree_id)"
   ]
  },
  {
   "cell_type": "code",
   "execution_count": 18,
   "id": "606206bd-bcb5-4b53-874c-0ca02a0c12a2",
   "metadata": {},
   "outputs": [],
   "source": [
    "block_39_path = \"/media/matans/My Book/FruitSpec/Apples_SA/039ROYA0\"\n",
    "block_39 = '039ROYA0'\n",
    "block_39_df, row_tracks_39 = block_analysis(block_39_path, metadata_path, block_39)"
   ]
  },
  {
   "cell_type": "code",
   "execution_count": 16,
   "id": "62caa787-6ae1-413a-91df-41018dd267c3",
   "metadata": {},
   "outputs": [
    {
     "data": {
      "text/html": [
       "<div>\n",
       "<style scoped>\n",
       "    .dataframe tbody tr th:only-of-type {\n",
       "        vertical-align: middle;\n",
       "    }\n",
       "\n",
       "    .dataframe tbody tr th {\n",
       "        vertical-align: top;\n",
       "    }\n",
       "\n",
       "    .dataframe thead th {\n",
       "        text-align: right;\n",
       "    }\n",
       "</style>\n",
       "<table border=\"1\" class=\"dataframe\">\n",
       "  <thead>\n",
       "    <tr style=\"text-align: right;\">\n",
       "      <th></th>\n",
       "      <th>id</th>\n",
       "      <th>block</th>\n",
       "      <th>row</th>\n",
       "      <th>tree</th>\n",
       "      <th>side</th>\n",
       "      <th>tree_id</th>\n",
       "      <th>variety</th>\n",
       "      <th>Age</th>\n",
       "      <th>F</th>\n",
       "      <th>cv1</th>\n",
       "      <th>cv2</th>\n",
       "      <th>cv3</th>\n",
       "      <th>F/cv1</th>\n",
       "      <th>dcv1</th>\n",
       "      <th>dcv2</th>\n",
       "      <th>dcv3</th>\n",
       "      <th>dcv4</th>\n",
       "      <th>dcv5</th>\n",
       "    </tr>\n",
       "  </thead>\n",
       "  <tbody>\n",
       "    <tr>\n",
       "      <th>0</th>\n",
       "      <td>57</td>\n",
       "      <td>039ROYA0</td>\n",
       "      <td>Row_111</td>\n",
       "      <td>1</td>\n",
       "      <td>A</td>\n",
       "      <td>1</td>\n",
       "      <td>Golden Delicious</td>\n",
       "      <td>46</td>\n",
       "      <td>1512</td>\n",
       "      <td>1424</td>\n",
       "      <td>784</td>\n",
       "      <td>525</td>\n",
       "      <td>1.061798</td>\n",
       "      <td>1275</td>\n",
       "      <td>705</td>\n",
       "      <td>466</td>\n",
       "      <td>346</td>\n",
       "      <td>255</td>\n",
       "    </tr>\n",
       "    <tr>\n",
       "      <th>1</th>\n",
       "      <td>58</td>\n",
       "      <td>039ROYA0</td>\n",
       "      <td>Row_111</td>\n",
       "      <td>2</td>\n",
       "      <td>A</td>\n",
       "      <td>2</td>\n",
       "      <td>Golden Delicious</td>\n",
       "      <td>46</td>\n",
       "      <td>2414</td>\n",
       "      <td>1632</td>\n",
       "      <td>1062</td>\n",
       "      <td>814</td>\n",
       "      <td>1.479167</td>\n",
       "      <td>1466</td>\n",
       "      <td>945</td>\n",
       "      <td>726</td>\n",
       "      <td>597</td>\n",
       "      <td>482</td>\n",
       "    </tr>\n",
       "    <tr>\n",
       "      <th>2</th>\n",
       "      <td>59</td>\n",
       "      <td>039ROYA0</td>\n",
       "      <td>Row_222</td>\n",
       "      <td>2</td>\n",
       "      <td>B</td>\n",
       "      <td>1</td>\n",
       "      <td>Golden Delicious</td>\n",
       "      <td>46</td>\n",
       "      <td>2414</td>\n",
       "      <td>1700</td>\n",
       "      <td>1097</td>\n",
       "      <td>764</td>\n",
       "      <td>1.420000</td>\n",
       "      <td>1439</td>\n",
       "      <td>905</td>\n",
       "      <td>602</td>\n",
       "      <td>399</td>\n",
       "      <td>265</td>\n",
       "    </tr>\n",
       "    <tr>\n",
       "      <th>3</th>\n",
       "      <td>60</td>\n",
       "      <td>039ROYA0</td>\n",
       "      <td>Row_222</td>\n",
       "      <td>1</td>\n",
       "      <td>B</td>\n",
       "      <td>2</td>\n",
       "      <td>Golden Delicious</td>\n",
       "      <td>46</td>\n",
       "      <td>1512</td>\n",
       "      <td>83</td>\n",
       "      <td>23</td>\n",
       "      <td>8</td>\n",
       "      <td>18.216867</td>\n",
       "      <td>70</td>\n",
       "      <td>20</td>\n",
       "      <td>7</td>\n",
       "      <td>0</td>\n",
       "      <td>0</td>\n",
       "    </tr>\n",
       "    <tr>\n",
       "      <th>4</th>\n",
       "      <td>61</td>\n",
       "      <td>039ROYA0</td>\n",
       "      <td>Row_333</td>\n",
       "      <td>3</td>\n",
       "      <td>A</td>\n",
       "      <td>1</td>\n",
       "      <td>Golden Delicious</td>\n",
       "      <td>46</td>\n",
       "      <td>1460</td>\n",
       "      <td>745</td>\n",
       "      <td>384</td>\n",
       "      <td>281</td>\n",
       "      <td>1.959732</td>\n",
       "      <td>687</td>\n",
       "      <td>362</td>\n",
       "      <td>257</td>\n",
       "      <td>190</td>\n",
       "      <td>142</td>\n",
       "    </tr>\n",
       "    <tr>\n",
       "      <th>5</th>\n",
       "      <td>62</td>\n",
       "      <td>039ROYA0</td>\n",
       "      <td>Row_333</td>\n",
       "      <td>4</td>\n",
       "      <td>A</td>\n",
       "      <td>2</td>\n",
       "      <td>Golden Delicious</td>\n",
       "      <td>46</td>\n",
       "      <td>1671</td>\n",
       "      <td>1142</td>\n",
       "      <td>540</td>\n",
       "      <td>321</td>\n",
       "      <td>1.463222</td>\n",
       "      <td>911</td>\n",
       "      <td>420</td>\n",
       "      <td>255</td>\n",
       "      <td>163</td>\n",
       "      <td>112</td>\n",
       "    </tr>\n",
       "    <tr>\n",
       "      <th>6</th>\n",
       "      <td>63</td>\n",
       "      <td>039ROYA0</td>\n",
       "      <td>Row_444</td>\n",
       "      <td>4</td>\n",
       "      <td>B</td>\n",
       "      <td>1</td>\n",
       "      <td>Golden Delicious</td>\n",
       "      <td>46</td>\n",
       "      <td>1671</td>\n",
       "      <td>1094</td>\n",
       "      <td>581</td>\n",
       "      <td>369</td>\n",
       "      <td>1.527422</td>\n",
       "      <td>1008</td>\n",
       "      <td>514</td>\n",
       "      <td>318</td>\n",
       "      <td>220</td>\n",
       "      <td>142</td>\n",
       "    </tr>\n",
       "    <tr>\n",
       "      <th>7</th>\n",
       "      <td>64</td>\n",
       "      <td>039ROYA0</td>\n",
       "      <td>Row_444</td>\n",
       "      <td>3</td>\n",
       "      <td>B</td>\n",
       "      <td>2</td>\n",
       "      <td>Golden Delicious</td>\n",
       "      <td>46</td>\n",
       "      <td>1460</td>\n",
       "      <td>848</td>\n",
       "      <td>481</td>\n",
       "      <td>317</td>\n",
       "      <td>1.721698</td>\n",
       "      <td>704</td>\n",
       "      <td>397</td>\n",
       "      <td>249</td>\n",
       "      <td>166</td>\n",
       "      <td>94</td>\n",
       "    </tr>\n",
       "    <tr>\n",
       "      <th>8</th>\n",
       "      <td>65</td>\n",
       "      <td>039ROYA0</td>\n",
       "      <td>Row_555</td>\n",
       "      <td>6</td>\n",
       "      <td>A</td>\n",
       "      <td>1</td>\n",
       "      <td>Royal Gala</td>\n",
       "      <td>46</td>\n",
       "      <td>919</td>\n",
       "      <td>766</td>\n",
       "      <td>423</td>\n",
       "      <td>293</td>\n",
       "      <td>1.199739</td>\n",
       "      <td>696</td>\n",
       "      <td>391</td>\n",
       "      <td>262</td>\n",
       "      <td>193</td>\n",
       "      <td>129</td>\n",
       "    </tr>\n",
       "    <tr>\n",
       "      <th>9</th>\n",
       "      <td>66</td>\n",
       "      <td>039ROYA0</td>\n",
       "      <td>Row_555</td>\n",
       "      <td>5</td>\n",
       "      <td>A</td>\n",
       "      <td>2</td>\n",
       "      <td>Royal Gala</td>\n",
       "      <td>46</td>\n",
       "      <td>1840</td>\n",
       "      <td>1106</td>\n",
       "      <td>521</td>\n",
       "      <td>334</td>\n",
       "      <td>1.663653</td>\n",
       "      <td>917</td>\n",
       "      <td>389</td>\n",
       "      <td>241</td>\n",
       "      <td>150</td>\n",
       "      <td>94</td>\n",
       "    </tr>\n",
       "    <tr>\n",
       "      <th>10</th>\n",
       "      <td>67</td>\n",
       "      <td>039ROYA0</td>\n",
       "      <td>Row_666</td>\n",
       "      <td>5</td>\n",
       "      <td>B</td>\n",
       "      <td>1</td>\n",
       "      <td>Royal Gala</td>\n",
       "      <td>46</td>\n",
       "      <td>1840</td>\n",
       "      <td>1052</td>\n",
       "      <td>454</td>\n",
       "      <td>258</td>\n",
       "      <td>1.749049</td>\n",
       "      <td>820</td>\n",
       "      <td>362</td>\n",
       "      <td>214</td>\n",
       "      <td>136</td>\n",
       "      <td>88</td>\n",
       "    </tr>\n",
       "    <tr>\n",
       "      <th>11</th>\n",
       "      <td>68</td>\n",
       "      <td>039ROYA0</td>\n",
       "      <td>Row_666</td>\n",
       "      <td>6</td>\n",
       "      <td>B</td>\n",
       "      <td>2</td>\n",
       "      <td>Royal Gala</td>\n",
       "      <td>46</td>\n",
       "      <td>919</td>\n",
       "      <td>600</td>\n",
       "      <td>230</td>\n",
       "      <td>141</td>\n",
       "      <td>1.531667</td>\n",
       "      <td>479</td>\n",
       "      <td>191</td>\n",
       "      <td>113</td>\n",
       "      <td>69</td>\n",
       "      <td>42</td>\n",
       "    </tr>\n",
       "    <tr>\n",
       "      <th>12</th>\n",
       "      <td>69</td>\n",
       "      <td>039ROYA0</td>\n",
       "      <td>Row_777</td>\n",
       "      <td>8</td>\n",
       "      <td>A</td>\n",
       "      <td>1</td>\n",
       "      <td>Royal Gala</td>\n",
       "      <td>46</td>\n",
       "      <td>1328</td>\n",
       "      <td>790</td>\n",
       "      <td>404</td>\n",
       "      <td>253</td>\n",
       "      <td>1.681013</td>\n",
       "      <td>661</td>\n",
       "      <td>339</td>\n",
       "      <td>221</td>\n",
       "      <td>141</td>\n",
       "      <td>105</td>\n",
       "    </tr>\n",
       "    <tr>\n",
       "      <th>13</th>\n",
       "      <td>70</td>\n",
       "      <td>039ROYA0</td>\n",
       "      <td>Row_777</td>\n",
       "      <td>7</td>\n",
       "      <td>A</td>\n",
       "      <td>2</td>\n",
       "      <td>Royal Gala</td>\n",
       "      <td>46</td>\n",
       "      <td>1435</td>\n",
       "      <td>767</td>\n",
       "      <td>412</td>\n",
       "      <td>254</td>\n",
       "      <td>1.870926</td>\n",
       "      <td>718</td>\n",
       "      <td>385</td>\n",
       "      <td>223</td>\n",
       "      <td>133</td>\n",
       "      <td>80</td>\n",
       "    </tr>\n",
       "    <tr>\n",
       "      <th>14</th>\n",
       "      <td>71</td>\n",
       "      <td>039ROYA0</td>\n",
       "      <td>Row_888</td>\n",
       "      <td>7</td>\n",
       "      <td>B</td>\n",
       "      <td>1</td>\n",
       "      <td>Royal Gala</td>\n",
       "      <td>46</td>\n",
       "      <td>1435</td>\n",
       "      <td>787</td>\n",
       "      <td>351</td>\n",
       "      <td>230</td>\n",
       "      <td>1.823380</td>\n",
       "      <td>654</td>\n",
       "      <td>297</td>\n",
       "      <td>200</td>\n",
       "      <td>138</td>\n",
       "      <td>93</td>\n",
       "    </tr>\n",
       "    <tr>\n",
       "      <th>15</th>\n",
       "      <td>72</td>\n",
       "      <td>039ROYA0</td>\n",
       "      <td>Row_888</td>\n",
       "      <td>8</td>\n",
       "      <td>B</td>\n",
       "      <td>2</td>\n",
       "      <td>Royal Gala</td>\n",
       "      <td>46</td>\n",
       "      <td>1328</td>\n",
       "      <td>665</td>\n",
       "      <td>251</td>\n",
       "      <td>130</td>\n",
       "      <td>1.996992</td>\n",
       "      <td>569</td>\n",
       "      <td>208</td>\n",
       "      <td>109</td>\n",
       "      <td>62</td>\n",
       "      <td>42</td>\n",
       "    </tr>\n",
       "  </tbody>\n",
       "</table>\n",
       "</div>"
      ],
      "text/plain": [
       "    id     block      row  tree side  tree_id           variety  Age     F  \\\n",
       "0   57  039ROYA0  Row_111     1    A        1  Golden Delicious   46  1512   \n",
       "1   58  039ROYA0  Row_111     2    A        2  Golden Delicious   46  2414   \n",
       "2   59  039ROYA0  Row_222     2    B        1  Golden Delicious   46  2414   \n",
       "3   60  039ROYA0  Row_222     1    B        2  Golden Delicious   46  1512   \n",
       "4   61  039ROYA0  Row_333     3    A        1  Golden Delicious   46  1460   \n",
       "5   62  039ROYA0  Row_333     4    A        2  Golden Delicious   46  1671   \n",
       "6   63  039ROYA0  Row_444     4    B        1  Golden Delicious   46  1671   \n",
       "7   64  039ROYA0  Row_444     3    B        2  Golden Delicious   46  1460   \n",
       "8   65  039ROYA0  Row_555     6    A        1        Royal Gala   46   919   \n",
       "9   66  039ROYA0  Row_555     5    A        2        Royal Gala   46  1840   \n",
       "10  67  039ROYA0  Row_666     5    B        1        Royal Gala   46  1840   \n",
       "11  68  039ROYA0  Row_666     6    B        2        Royal Gala   46   919   \n",
       "12  69  039ROYA0  Row_777     8    A        1        Royal Gala   46  1328   \n",
       "13  70  039ROYA0  Row_777     7    A        2        Royal Gala   46  1435   \n",
       "14  71  039ROYA0  Row_888     7    B        1        Royal Gala   46  1435   \n",
       "15  72  039ROYA0  Row_888     8    B        2        Royal Gala   46  1328   \n",
       "\n",
       "     cv1   cv2  cv3      F/cv1  dcv1  dcv2  dcv3  dcv4  dcv5  \n",
       "0   1424   784  525   1.061798  1275   705   466   346   255  \n",
       "1   1632  1062  814   1.479167  1466   945   726   597   482  \n",
       "2   1700  1097  764   1.420000  1439   905   602   399   265  \n",
       "3     83    23    8  18.216867    70    20     7     0     0  \n",
       "4    745   384  281   1.959732   687   362   257   190   142  \n",
       "5   1142   540  321   1.463222   911   420   255   163   112  \n",
       "6   1094   581  369   1.527422  1008   514   318   220   142  \n",
       "7    848   481  317   1.721698   704   397   249   166    94  \n",
       "8    766   423  293   1.199739   696   391   262   193   129  \n",
       "9   1106   521  334   1.663653   917   389   241   150    94  \n",
       "10  1052   454  258   1.749049   820   362   214   136    88  \n",
       "11   600   230  141   1.531667   479   191   113    69    42  \n",
       "12   790   404  253   1.681013   661   339   221   141   105  \n",
       "13   767   412  254   1.870926   718   385   223   133    80  \n",
       "14   787   351  230   1.823380   654   297   200   138    93  \n",
       "15   665   251  130   1.996992   569   208   109    62    42  "
      ]
     },
     "execution_count": 16,
     "metadata": {},
     "output_type": "execute_result"
    }
   ],
   "source": [
    "block_39_df"
   ]
  },
  {
   "cell_type": "code",
   "execution_count": 19,
   "id": "ce69cebc-fcd0-4688-98bf-26943f224f7c",
   "metadata": {},
   "outputs": [
    {
     "name": "stdout",
     "output_type": "stream",
     "text": [
      "number of sections in row row_111 is 2\n",
      "number of sections in row row_222 is 2\n",
      "number of sections in row row_333 is 2\n",
      "number of sections in row row_444 is 2\n",
      "number of sections in row row_555 is 3\n",
      "number of sections in row row_666 is 2\n",
      "number of sections in row row_777 is 2\n",
      "number of sections in row row_888 is 2\n"
     ]
    }
   ],
   "source": [
    "for key in list(row_tracks_39.keys()):\n",
    "    print(f'number of sections in row {key} is {len(list(row_tracks_39[key].keys()))}')"
   ]
  },
  {
   "cell_type": "code",
   "execution_count": null,
   "id": "747dc4e6-2bba-44e9-bf49-ae4f8feffe3a",
   "metadata": {},
   "outputs": [],
   "source": []
  }
 ],
 "metadata": {
  "kernelspec": {
   "display_name": "Python 3 (ipykernel)",
   "language": "python",
   "name": "python3"
  },
  "language_info": {
   "codemirror_mode": {
    "name": "ipython",
    "version": 3
   },
   "file_extension": ".py",
   "mimetype": "text/x-python",
   "name": "python",
   "nbconvert_exporter": "python",
   "pygments_lexer": "ipython3",
   "version": "3.8.13"
  }
 },
 "nbformat": 4,
 "nbformat_minor": 5
}
