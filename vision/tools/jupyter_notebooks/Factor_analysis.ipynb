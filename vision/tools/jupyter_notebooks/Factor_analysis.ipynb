{
 "cells": [
  {
   "cell_type": "code",
   "execution_count": 1,
   "id": "6b4ccb55-cc65-45f0-9ca7-a4c56c9520e2",
   "metadata": {
    "scrolled": true
   },
   "outputs": [],
   "source": [
    "import os\n",
    "\n",
    "def get_repo_dir():\n",
    "    cwd = os.getcwd()\n",
    "    splited = cwd.split('/')\n",
    "    ind = splited.index('fsCounter')\n",
    "    repo_dir = '/'\n",
    "    for s in splited[1:ind + 1]:\n",
    "        repo_dir = os.path.join(repo_dir, s)\n",
    "\n",
    "    return repo_dir"
   ]
  },
  {
   "cell_type": "code",
   "execution_count": 2,
   "id": "bad683bf-f6bf-4d99-bb8b-89390921acb3",
   "metadata": {},
   "outputs": [],
   "source": [
    "import sys\n",
    "import pandas as pd\n",
    "import numpy as np\n",
    "import seaborn as sns\n",
    "import matplotlib.pyplot as plt\n",
    "from IPython.display import display\n",
    "\n",
    "\n",
    "\n",
    "sys.path.append(get_repo_dir())\n",
    "\n",
    "from vision.tools.jupyter_notebooks.notebook_analysis_help_funcs import *\n",
    "from vision.tools.post_process_analysis import read_tracks_and_slices, get_block_count\n",
    "from vision.visualization.draw_bb_from_csv import draw_tree_bb_from_tracks"
   ]
  },
  {
   "cell_type": "code",
   "execution_count": 3,
   "id": "705d358a-6339-44f9-966c-2b5517a0619d",
   "metadata": {},
   "outputs": [],
   "source": [
    "def concat_to_meta(block_meta, df):\n",
    "    df_col = list(block_meta.columns)\n",
    "    df['block'] = df['block'].str.lower()\n",
    "    new_data = []\n",
    "    data = block_meta.copy()\n",
    "    for id_, sample in data.iterrows():\n",
    "        block = sample['block'].lower()\n",
    "        row = sample['row'].lower()\n",
    "        tree_id = int(sample['tree_id'])\n",
    "        print(f'block == \"{block}\" and row == \"{row}\" and tree_id == {tree_id}')\n",
    "        q_data = df.query(f'block == \"{block}\" and row == \"{row}\" and tree_id == {tree_id}')\n",
    "        new_sample = sample.to_list()\n",
    "        for i in range(1, 4):\n",
    "            new_sample.append(q_data[str(i)].values[0])\n",
    "        new_data.append(new_sample)\n",
    "\n",
    "    df_col += ['cv1', 'cv2', 'cv3']\n",
    "    new_df = pd.DataFrame(new_data, columns=df_col)\n",
    "\n",
    "    return new_df\n",
    "\n",
    "def add_ratios(df):\n",
    "    df['F/cv1'] = df['F'] / df['cv1']\n",
    "    df['F/cv2'] = df['F'] / df['cv2']\n",
    "    df['F/cv3'] = df['F'] / df['cv3']\n",
    "\n",
    "    return df\n",
    "\n",
    "def get_block_ratio(block_df, row_tracks, y_threshold=800, depth=3):\n",
    "    block_col = list(block_df.columns)\n",
    "    new_data = []\n",
    "    for id_, sample in block_df.iterrows():\n",
    "        row = sample['row'].lower()\n",
    "        tree_id = int(sample['tree_id'])\n",
    "        tree_df = row_tracks[row][tree_id]\n",
    "\n",
    "        d_tree_df = tree_df.query(f'depth <= {depth}')\n",
    "        \n",
    "        \n",
    "        lower_tree_df = tree_df.query(f'y1 > {y_threshold} and depth <= {depth}')\n",
    "        count = len(tree_df.track_id.unique())\n",
    "        lower_count = len(lower_tree_df.track_id.unique())\n",
    "        if count > 0:\n",
    "            ratio = lower_count / count\n",
    "        else:\n",
    "            ratio = 0\n",
    "\n",
    "        gdf = lower_tree_df.groupby('track_id')\n",
    "        lower_tracks_depth = np.array(gdf.depth.mean())\n",
    "        filtered_lower_tracks_depth = lower_tracks_depth[lower_tracks_depth < 3]\n",
    "        mean = np.mean(filtered_lower_tracks_depth)\n",
    "        std = np.std(filtered_lower_tracks_depth)          \n",
    "        \n",
    "        new_sample = sample.to_list()\n",
    " \n",
    "        uniq, counts = np.unique(d_tree_df[\"track_id\"], return_counts=True)\n",
    "        for i in range(0, 5):\n",
    "            new_sample.append(len(uniq[counts>i]))\n",
    "            \n",
    "        new_data.append(new_sample)\n",
    "\n",
    "    #block_col += ['y_ratio', 'mean', 'std', 'lcv1', 'lcv2', 'lcv3', 'lcv4', 'lcv5']\n",
    "    block_col += ['dcv1', 'dcv2', 'dcv3', 'dcv4', 'dcv5']\n",
    "    new_df = pd.DataFrame(new_data, columns=block_col)\n",
    "\n",
    "    return new_df    "
   ]
  },
  {
   "cell_type": "code",
   "execution_count": 4,
   "id": "c40847fd-1b79-4ed2-bcf2-82784c2538e8",
   "metadata": {},
   "outputs": [],
   "source": [
    "def linear_model_selection(data, selection_cols=[\"cv1\"], type_col=\"block\", cross_val='row'):\n",
    "\n",
    "    factors = {}\n",
    "    for col in selection_cols:\n",
    "        factor, res_mean, res_std, tree_mean, tree_std, all_preds = run_LROCV(data, cv_col=col, type_col=type_col, cross_val=cross_val, return_res=True)\n",
    "        factors[col] = {'factor': factor, 'mean_error': res_mean, 'std_error': res_std}\n",
    "\n",
    "    return factors\n",
    "    "
   ]
  },
  {
   "cell_type": "code",
   "execution_count": 5,
   "id": "752d02c4-e805-43c1-a90e-31bcd5109247",
   "metadata": {},
   "outputs": [],
   "source": [
    "def block_analysis(block_path, metadata_path, block_):\n",
    "    block_counts, row_tracks = get_block_count(block_path)\n",
    "    block_counts_df = pd.DataFrame(block_counts, columns=['tree_id', 'block', 'row', '1', '2','3'])\n",
    "    meta_data = pd.read_csv(metadata_path)\n",
    "    block_meta = meta_data.query(f'block == \"{block_}\"')\n",
    "    block_df = concat_to_meta(block_meta, block_counts_df)\n",
    "    block_df['F/cv1'] = block_df['F'] / block_df['cv1'] \n",
    "    block_df = get_block_ratio(block_df, row_tracks)\n",
    "\n",
    "    return block_df, row_tracks"
   ]
  },
  {
   "cell_type": "code",
   "execution_count": 6,
   "id": "3e849c86-1b9c-4722-b3e6-605d9155edc3",
   "metadata": {},
   "outputs": [],
   "source": [
    "def get_selection_error(factors_dict, block_df):\n",
    "    results = {}\n",
    "    for item_ in list(factors_dict.keys()):\n",
    "        block_df[f'err_{item_}'] = (block_df['F'] - (block_df[item_] * factors_dict[item_]['factor'])) / block_df['F']\n",
    "        results[item_] = {'err': np.mean(block_df[f'err_{item_}']), 'err_std': np.std(block_df[f'err_{item_}'])}\n",
    "\n",
    "    return results, block_df"
   ]
  },
  {
   "cell_type": "code",
   "execution_count": 7,
   "id": "ce990442-d4d6-45d3-aebd-9773c4d6aaca",
   "metadata": {},
   "outputs": [],
   "source": [
    "metadata_path = \"/media/matans/My Book/FruitSpec/Apples_SA/data_meta.csv\""
   ]
  },
  {
   "cell_type": "code",
   "execution_count": 24,
   "id": "94c74ef6-5e1b-44a5-ba63-79be90553042",
   "metadata": {},
   "outputs": [
    {
     "name": "stdout",
     "output_type": "stream",
     "text": [
      "block == \"block_13\" and row == \"row_1111\" and tree_id == 2\n",
      "block == \"block_13\" and row == \"row_1111\" and tree_id == 1\n",
      "block == \"block_13\" and row == \"row_2222\" and tree_id == 1\n",
      "block == \"block_13\" and row == \"row_2222\" and tree_id == 2\n",
      "block == \"block_13\" and row == \"row_3333\" and tree_id == 1\n",
      "block == \"block_13\" and row == \"row_3333\" and tree_id == 2\n",
      "block == \"block_13\" and row == \"row_4444\" and tree_id == 1\n",
      "block == \"block_13\" and row == \"row_4444\" and tree_id == 2\n",
      "block == \"block_13\" and row == \"row_5555\" and tree_id == 1\n",
      "block == \"block_13\" and row == \"row_5555\" and tree_id == 2\n",
      "block == \"block_13\" and row == \"row_6666\" and tree_id == 1\n",
      "block == \"block_13\" and row == \"row_6666\" and tree_id == 2\n",
      "block == \"block_13\" and row == \"row_7777\" and tree_id == 1\n",
      "block == \"block_13\" and row == \"row_7777\" and tree_id == 2\n",
      "block == \"block_13\" and row == \"row_8888\" and tree_id == 1\n",
      "block == \"block_13\" and row == \"row_8888\" and tree_id == 2\n"
     ]
    }
   ],
   "source": [
    "block_path = \"/media/matans/My Book/FruitSpec/Apples_SA/block_13\"\n",
    "block_ = 'Block_13'\n",
    "block_13_df, row_tracks_13 = block_analysis(block_path, metadata_path, block_)"
   ]
  },
  {
   "cell_type": "code",
   "execution_count": 31,
   "id": "dd58aea2-f5e4-4d80-9ac3-d918fd752cf9",
   "metadata": {},
   "outputs": [
    {
     "data": {
      "text/html": [
       "<div>\n",
       "<style scoped>\n",
       "    .dataframe tbody tr th:only-of-type {\n",
       "        vertical-align: middle;\n",
       "    }\n",
       "\n",
       "    .dataframe tbody tr th {\n",
       "        vertical-align: top;\n",
       "    }\n",
       "\n",
       "    .dataframe thead th {\n",
       "        text-align: right;\n",
       "    }\n",
       "</style>\n",
       "<table border=\"1\" class=\"dataframe\">\n",
       "  <thead>\n",
       "    <tr style=\"text-align: right;\">\n",
       "      <th></th>\n",
       "      <th>id</th>\n",
       "      <th>block</th>\n",
       "      <th>row</th>\n",
       "      <th>tree</th>\n",
       "      <th>side</th>\n",
       "      <th>tree_id</th>\n",
       "      <th>variety</th>\n",
       "      <th>Age</th>\n",
       "      <th>F</th>\n",
       "      <th>cv1</th>\n",
       "      <th>cv2</th>\n",
       "      <th>cv3</th>\n",
       "      <th>F/cv1</th>\n",
       "      <th>dcv1</th>\n",
       "      <th>dcv2</th>\n",
       "      <th>dcv3</th>\n",
       "      <th>dcv4</th>\n",
       "      <th>dcv5</th>\n",
       "    </tr>\n",
       "  </thead>\n",
       "  <tbody>\n",
       "    <tr>\n",
       "      <th>0</th>\n",
       "      <td>1</td>\n",
       "      <td>Block_13</td>\n",
       "      <td>Row_1111</td>\n",
       "      <td>9</td>\n",
       "      <td>A</td>\n",
       "      <td>2</td>\n",
       "      <td>Royal Beauty</td>\n",
       "      <td>7</td>\n",
       "      <td>823</td>\n",
       "      <td>973</td>\n",
       "      <td>518</td>\n",
       "      <td>364</td>\n",
       "      <td>0.845838</td>\n",
       "      <td>847</td>\n",
       "      <td>455</td>\n",
       "      <td>308</td>\n",
       "      <td>205</td>\n",
       "      <td>149</td>\n",
       "    </tr>\n",
       "    <tr>\n",
       "      <th>1</th>\n",
       "      <td>2</td>\n",
       "      <td>Block_13</td>\n",
       "      <td>Row_1111</td>\n",
       "      <td>10</td>\n",
       "      <td>A</td>\n",
       "      <td>1</td>\n",
       "      <td>Royal Beauty</td>\n",
       "      <td>7</td>\n",
       "      <td>1007</td>\n",
       "      <td>739</td>\n",
       "      <td>425</td>\n",
       "      <td>290</td>\n",
       "      <td>1.362652</td>\n",
       "      <td>696</td>\n",
       "      <td>390</td>\n",
       "      <td>273</td>\n",
       "      <td>209</td>\n",
       "      <td>160</td>\n",
       "    </tr>\n",
       "    <tr>\n",
       "      <th>2</th>\n",
       "      <td>3</td>\n",
       "      <td>Block_13</td>\n",
       "      <td>Row_2222</td>\n",
       "      <td>9</td>\n",
       "      <td>B</td>\n",
       "      <td>1</td>\n",
       "      <td>Royal Beauty</td>\n",
       "      <td>7</td>\n",
       "      <td>823</td>\n",
       "      <td>965</td>\n",
       "      <td>488</td>\n",
       "      <td>298</td>\n",
       "      <td>0.852850</td>\n",
       "      <td>822</td>\n",
       "      <td>425</td>\n",
       "      <td>249</td>\n",
       "      <td>172</td>\n",
       "      <td>104</td>\n",
       "    </tr>\n",
       "    <tr>\n",
       "      <th>3</th>\n",
       "      <td>4</td>\n",
       "      <td>Block_13</td>\n",
       "      <td>Row_2222</td>\n",
       "      <td>10</td>\n",
       "      <td>B</td>\n",
       "      <td>2</td>\n",
       "      <td>Royal Beauty</td>\n",
       "      <td>7</td>\n",
       "      <td>1007</td>\n",
       "      <td>1047</td>\n",
       "      <td>519</td>\n",
       "      <td>343</td>\n",
       "      <td>0.961796</td>\n",
       "      <td>989</td>\n",
       "      <td>483</td>\n",
       "      <td>315</td>\n",
       "      <td>198</td>\n",
       "      <td>142</td>\n",
       "    </tr>\n",
       "    <tr>\n",
       "      <th>4</th>\n",
       "      <td>5</td>\n",
       "      <td>Block_13</td>\n",
       "      <td>Row_3333</td>\n",
       "      <td>11</td>\n",
       "      <td>B</td>\n",
       "      <td>1</td>\n",
       "      <td>Royal Beauty</td>\n",
       "      <td>7</td>\n",
       "      <td>455</td>\n",
       "      <td>586</td>\n",
       "      <td>229</td>\n",
       "      <td>128</td>\n",
       "      <td>0.776451</td>\n",
       "      <td>508</td>\n",
       "      <td>196</td>\n",
       "      <td>105</td>\n",
       "      <td>73</td>\n",
       "      <td>53</td>\n",
       "    </tr>\n",
       "    <tr>\n",
       "      <th>5</th>\n",
       "      <td>6</td>\n",
       "      <td>Block_13</td>\n",
       "      <td>Row_3333</td>\n",
       "      <td>12</td>\n",
       "      <td>B</td>\n",
       "      <td>2</td>\n",
       "      <td>Royal Beauty</td>\n",
       "      <td>7</td>\n",
       "      <td>637</td>\n",
       "      <td>780</td>\n",
       "      <td>413</td>\n",
       "      <td>285</td>\n",
       "      <td>0.816667</td>\n",
       "      <td>712</td>\n",
       "      <td>390</td>\n",
       "      <td>271</td>\n",
       "      <td>201</td>\n",
       "      <td>159</td>\n",
       "    </tr>\n",
       "    <tr>\n",
       "      <th>6</th>\n",
       "      <td>7</td>\n",
       "      <td>Block_13</td>\n",
       "      <td>Row_4444</td>\n",
       "      <td>12</td>\n",
       "      <td>A</td>\n",
       "      <td>1</td>\n",
       "      <td>Royal Beauty</td>\n",
       "      <td>7</td>\n",
       "      <td>637</td>\n",
       "      <td>937</td>\n",
       "      <td>500</td>\n",
       "      <td>357</td>\n",
       "      <td>0.679829</td>\n",
       "      <td>821</td>\n",
       "      <td>435</td>\n",
       "      <td>309</td>\n",
       "      <td>236</td>\n",
       "      <td>167</td>\n",
       "    </tr>\n",
       "    <tr>\n",
       "      <th>7</th>\n",
       "      <td>8</td>\n",
       "      <td>Block_13</td>\n",
       "      <td>Row_4444</td>\n",
       "      <td>11</td>\n",
       "      <td>A</td>\n",
       "      <td>2</td>\n",
       "      <td>Royal Beauty</td>\n",
       "      <td>7</td>\n",
       "      <td>455</td>\n",
       "      <td>511</td>\n",
       "      <td>247</td>\n",
       "      <td>171</td>\n",
       "      <td>0.890411</td>\n",
       "      <td>439</td>\n",
       "      <td>215</td>\n",
       "      <td>142</td>\n",
       "      <td>111</td>\n",
       "      <td>77</td>\n",
       "    </tr>\n",
       "    <tr>\n",
       "      <th>8</th>\n",
       "      <td>9</td>\n",
       "      <td>Block_13</td>\n",
       "      <td>Row_5555</td>\n",
       "      <td>14</td>\n",
       "      <td>A</td>\n",
       "      <td>1</td>\n",
       "      <td>Early_red_one</td>\n",
       "      <td>7</td>\n",
       "      <td>1008</td>\n",
       "      <td>1159</td>\n",
       "      <td>799</td>\n",
       "      <td>648</td>\n",
       "      <td>0.869715</td>\n",
       "      <td>1096</td>\n",
       "      <td>745</td>\n",
       "      <td>595</td>\n",
       "      <td>454</td>\n",
       "      <td>366</td>\n",
       "    </tr>\n",
       "    <tr>\n",
       "      <th>9</th>\n",
       "      <td>10</td>\n",
       "      <td>Block_13</td>\n",
       "      <td>Row_5555</td>\n",
       "      <td>13</td>\n",
       "      <td>A</td>\n",
       "      <td>2</td>\n",
       "      <td>Early_red_one</td>\n",
       "      <td>7</td>\n",
       "      <td>1440</td>\n",
       "      <td>1814</td>\n",
       "      <td>1199</td>\n",
       "      <td>960</td>\n",
       "      <td>0.793826</td>\n",
       "      <td>1729</td>\n",
       "      <td>1150</td>\n",
       "      <td>908</td>\n",
       "      <td>720</td>\n",
       "      <td>585</td>\n",
       "    </tr>\n",
       "    <tr>\n",
       "      <th>10</th>\n",
       "      <td>11</td>\n",
       "      <td>Block_13</td>\n",
       "      <td>Row_6666</td>\n",
       "      <td>13</td>\n",
       "      <td>B</td>\n",
       "      <td>1</td>\n",
       "      <td>Early_red_one</td>\n",
       "      <td>7</td>\n",
       "      <td>1440</td>\n",
       "      <td>1464</td>\n",
       "      <td>1040</td>\n",
       "      <td>821</td>\n",
       "      <td>0.983607</td>\n",
       "      <td>1390</td>\n",
       "      <td>975</td>\n",
       "      <td>750</td>\n",
       "      <td>597</td>\n",
       "      <td>482</td>\n",
       "    </tr>\n",
       "    <tr>\n",
       "      <th>11</th>\n",
       "      <td>12</td>\n",
       "      <td>Block_13</td>\n",
       "      <td>Row_6666</td>\n",
       "      <td>14</td>\n",
       "      <td>B</td>\n",
       "      <td>2</td>\n",
       "      <td>Early_red_one</td>\n",
       "      <td>7</td>\n",
       "      <td>1008</td>\n",
       "      <td>1166</td>\n",
       "      <td>792</td>\n",
       "      <td>655</td>\n",
       "      <td>0.864494</td>\n",
       "      <td>998</td>\n",
       "      <td>673</td>\n",
       "      <td>537</td>\n",
       "      <td>438</td>\n",
       "      <td>373</td>\n",
       "    </tr>\n",
       "    <tr>\n",
       "      <th>12</th>\n",
       "      <td>13</td>\n",
       "      <td>Block_13</td>\n",
       "      <td>Row_7777</td>\n",
       "      <td>16</td>\n",
       "      <td>A</td>\n",
       "      <td>1</td>\n",
       "      <td>Early_red_one</td>\n",
       "      <td>7</td>\n",
       "      <td>1319</td>\n",
       "      <td>1391</td>\n",
       "      <td>894</td>\n",
       "      <td>728</td>\n",
       "      <td>0.948239</td>\n",
       "      <td>1240</td>\n",
       "      <td>832</td>\n",
       "      <td>673</td>\n",
       "      <td>549</td>\n",
       "      <td>453</td>\n",
       "    </tr>\n",
       "    <tr>\n",
       "      <th>13</th>\n",
       "      <td>14</td>\n",
       "      <td>Block_13</td>\n",
       "      <td>Row_7777</td>\n",
       "      <td>15</td>\n",
       "      <td>A</td>\n",
       "      <td>2</td>\n",
       "      <td>Early_red_one</td>\n",
       "      <td>7</td>\n",
       "      <td>1738</td>\n",
       "      <td>1121</td>\n",
       "      <td>776</td>\n",
       "      <td>623</td>\n",
       "      <td>1.550401</td>\n",
       "      <td>1042</td>\n",
       "      <td>735</td>\n",
       "      <td>585</td>\n",
       "      <td>473</td>\n",
       "      <td>381</td>\n",
       "    </tr>\n",
       "    <tr>\n",
       "      <th>14</th>\n",
       "      <td>15</td>\n",
       "      <td>Block_13</td>\n",
       "      <td>Row_8888</td>\n",
       "      <td>15</td>\n",
       "      <td>B</td>\n",
       "      <td>1</td>\n",
       "      <td>Early_red_one</td>\n",
       "      <td>7</td>\n",
       "      <td>1738</td>\n",
       "      <td>1298</td>\n",
       "      <td>803</td>\n",
       "      <td>584</td>\n",
       "      <td>1.338983</td>\n",
       "      <td>1055</td>\n",
       "      <td>667</td>\n",
       "      <td>482</td>\n",
       "      <td>349</td>\n",
       "      <td>259</td>\n",
       "    </tr>\n",
       "    <tr>\n",
       "      <th>15</th>\n",
       "      <td>16</td>\n",
       "      <td>Block_13</td>\n",
       "      <td>Row_8888</td>\n",
       "      <td>16</td>\n",
       "      <td>B</td>\n",
       "      <td>2</td>\n",
       "      <td>Early_red_one</td>\n",
       "      <td>7</td>\n",
       "      <td>1319</td>\n",
       "      <td>911</td>\n",
       "      <td>593</td>\n",
       "      <td>475</td>\n",
       "      <td>1.447859</td>\n",
       "      <td>845</td>\n",
       "      <td>562</td>\n",
       "      <td>457</td>\n",
       "      <td>360</td>\n",
       "      <td>293</td>\n",
       "    </tr>\n",
       "  </tbody>\n",
       "</table>\n",
       "</div>"
      ],
      "text/plain": [
       "    id     block       row  tree side  tree_id        variety  Age     F  \\\n",
       "0    1  Block_13  Row_1111     9    A        2   Royal Beauty    7   823   \n",
       "1    2  Block_13  Row_1111    10    A        1   Royal Beauty    7  1007   \n",
       "2    3  Block_13  Row_2222     9    B        1   Royal Beauty    7   823   \n",
       "3    4  Block_13  Row_2222    10    B        2   Royal Beauty    7  1007   \n",
       "4    5  Block_13  Row_3333    11    B        1   Royal Beauty    7   455   \n",
       "5    6  Block_13  Row_3333    12    B        2   Royal Beauty    7   637   \n",
       "6    7  Block_13  Row_4444    12    A        1   Royal Beauty    7   637   \n",
       "7    8  Block_13  Row_4444    11    A        2   Royal Beauty    7   455   \n",
       "8    9  Block_13  Row_5555    14    A        1  Early_red_one    7  1008   \n",
       "9   10  Block_13  Row_5555    13    A        2  Early_red_one    7  1440   \n",
       "10  11  Block_13  Row_6666    13    B        1  Early_red_one    7  1440   \n",
       "11  12  Block_13  Row_6666    14    B        2  Early_red_one    7  1008   \n",
       "12  13  Block_13  Row_7777    16    A        1  Early_red_one    7  1319   \n",
       "13  14  Block_13  Row_7777    15    A        2  Early_red_one    7  1738   \n",
       "14  15  Block_13  Row_8888    15    B        1  Early_red_one    7  1738   \n",
       "15  16  Block_13  Row_8888    16    B        2  Early_red_one    7  1319   \n",
       "\n",
       "     cv1   cv2  cv3     F/cv1  dcv1  dcv2  dcv3  dcv4  dcv5  \n",
       "0    973   518  364  0.845838   847   455   308   205   149  \n",
       "1    739   425  290  1.362652   696   390   273   209   160  \n",
       "2    965   488  298  0.852850   822   425   249   172   104  \n",
       "3   1047   519  343  0.961796   989   483   315   198   142  \n",
       "4    586   229  128  0.776451   508   196   105    73    53  \n",
       "5    780   413  285  0.816667   712   390   271   201   159  \n",
       "6    937   500  357  0.679829   821   435   309   236   167  \n",
       "7    511   247  171  0.890411   439   215   142   111    77  \n",
       "8   1159   799  648  0.869715  1096   745   595   454   366  \n",
       "9   1814  1199  960  0.793826  1729  1150   908   720   585  \n",
       "10  1464  1040  821  0.983607  1390   975   750   597   482  \n",
       "11  1166   792  655  0.864494   998   673   537   438   373  \n",
       "12  1391   894  728  0.948239  1240   832   673   549   453  \n",
       "13  1121   776  623  1.550401  1042   735   585   473   381  \n",
       "14  1298   803  584  1.338983  1055   667   482   349   259  \n",
       "15   911   593  475  1.447859   845   562   457   360   293  "
      ]
     },
     "execution_count": 31,
     "metadata": {},
     "output_type": "execute_result"
    }
   ],
   "source": [
    "block_13_df"
   ]
  },
  {
   "cell_type": "code",
   "execution_count": null,
   "id": "f1b4f2a1-4917-4e3a-bd4a-39a8d8d556a7",
   "metadata": {},
   "outputs": [],
   "source": [
    "#row_to_drow = 'row_8888'\n",
    "#tree_id = 2\n",
    "#draw_tree_bb_from_tracks(row_tracks[row_to_drow][tree_id], os.path.join(block_path, row_to_drow, '1'), tree_id)"
   ]
  },
  {
   "cell_type": "code",
   "execution_count": null,
   "id": "0e5ba400-c7c6-4be4-959a-7565c9f65b9f",
   "metadata": {},
   "outputs": [],
   "source": [
    "plt.bar(block_13_df['id'], block_13_df['F/cv1'])\n",
    "plt.xlabel('Tree')\n",
    "plt.ylabel('F/CV1')"
   ]
  },
  {
   "cell_type": "code",
   "execution_count": null,
   "id": "4465d33b-a7fc-404c-82a0-8a44b9489e81",
   "metadata": {},
   "outputs": [],
   "source": [
    "plot_F_cv(block_13_df, 1, hue='variety', add_xy_line=False)"
   ]
  },
  {
   "cell_type": "code",
   "execution_count": null,
   "id": "c518e11c-4421-4c24-8ee7-6db2b2e7fd3b",
   "metadata": {},
   "outputs": [],
   "source": [
    "plot_F_cv(block_13_df, 1, add_xy_line=False)"
   ]
  },
  {
   "cell_type": "code",
   "execution_count": null,
   "id": "2f6cf0c5-c491-4e2b-b454-c8edda7d33db",
   "metadata": {},
   "outputs": [],
   "source": [
    "factors_13_dict = linear_model_selection(block_13_df, selection_cols=['cv1','dcv1', 'cv3', 'dcv3'],type_col=\"block\", cross_val='id')"
   ]
  },
  {
   "cell_type": "code",
   "execution_count": null,
   "id": "cca25b30-f69f-4009-9d93-e6127245ee18",
   "metadata": {},
   "outputs": [],
   "source": []
  },
  {
   "cell_type": "code",
   "execution_count": null,
   "id": "61c10fd2-5063-4dd5-b7a9-784d1b803b5e",
   "metadata": {},
   "outputs": [],
   "source": [
    "res, block_13_df = get_selection_error(factors_13_dict, block_13_df)\n",
    "res"
   ]
  },
  {
   "cell_type": "code",
   "execution_count": 33,
   "id": "ad9bb341-04c8-49f2-ab3c-43a073d06dc4",
   "metadata": {},
   "outputs": [
    {
     "name": "stdout",
     "output_type": "stream",
     "text": [
      "mean: 1053.875, std: 335.03290883135645\n"
     ]
    }
   ],
   "source": [
    "m =block_13_df['cv1'].mean()\n",
    "s = block_13_df['cv1'].std()\n",
    "print(f'mean: {m}, std: {s}')"
   ]
  },
  {
   "cell_type": "code",
   "execution_count": null,
   "id": "64c6de7a-6715-450d-adcb-d4dcb09cc0cf",
   "metadata": {},
   "outputs": [],
   "source": [
    "factors_13_dict\n"
   ]
  },
  {
   "cell_type": "code",
   "execution_count": 25,
   "id": "8ccce3d8-3896-43a2-9162-175c73c91c79",
   "metadata": {},
   "outputs": [
    {
     "name": "stdout",
     "output_type": "stream",
     "text": [
      "true: 455,    pred: 454.053726423814. (0.21 %) (8)\n",
      "true: 637,    pred: 868.9540813922752. (36.41 %) (7)\n",
      "true: 637,    pred: 699.9710960128089. (9.89 %) (6)\n",
      "true: 455,    pred: 525.0320268105656. (15.39 %) (5)\n",
      "true: 1007,    pred: 911.8164070520211. (9.45 %) (4)\n",
      "true: 823,    pred: 864.4161256168607. (5.03 %) (3)\n",
      "true: 1007,    pred: 618.9399970266821. (38.54 %) (2)\n",
      "true: 823,    pred: 873.1058776389284. (6.09 %) (1)\n",
      "0.15125960990883153 0.1354175976216873\n",
      "(0.15125960990883153, 0.1354175976216873)\n",
      "[0.88864533]\n",
      "true: 455,    pred: 454.053726423814. (0.21 %) (8)\n",
      "true: 637,    pred: 868.9540813922752. (36.41 %) (7)\n",
      "true: 637,    pred: 699.9710960128089. (9.89 %) (6)\n",
      "true: 455,    pred: 525.0320268105656. (15.39 %) (5)\n",
      "true: 1007,    pred: 911.8164070520211. (9.45 %) (4)\n",
      "true: 823,    pred: 864.4161256168607. (5.03 %) (3)\n",
      "true: 1007,    pred: 618.9399970266821. (38.54 %) (2)\n",
      "true: 823,    pred: 873.1058776389284. (6.09 %) (1)\n",
      "0.15125960990883153 0.1354175976216873\n",
      "true: 455,    pred: 437.29947616573895. (3.89 %) (8)\n",
      "true: 637,    pred: 851.4540149511232. (33.67 %) (7)\n",
      "true: 637,    pred: 719.832533759951. (13.00 %) (6)\n",
      "true: 455,    pred: 510.0794034808302. (12.11 %) (5)\n",
      "true: 1007,    pred: 981.2740694028598. (2.55 %) (4)\n",
      "true: 823,    pred: 819.7498984709248. (0.39 %) (3)\n",
      "true: 1007,    pred: 656.693490655971. (34.79 %) (2)\n",
      "true: 823,    pred: 849.4075526970754. (3.21 %) (1)\n",
      "0.12951353813892663 0.12987517762548312\n",
      "(0.12951353813892663, 0.12987517762548312)\n",
      "[0.997858]\n",
      "true: 455,    pred: 437.29947616573895. (3.89 %) (8)\n",
      "true: 637,    pred: 851.4540149511232. (33.67 %) (7)\n",
      "true: 637,    pred: 719.832533759951. (13.00 %) (6)\n",
      "true: 455,    pred: 510.0794034808302. (12.11 %) (5)\n",
      "true: 1007,    pred: 981.2740694028598. (2.55 %) (4)\n",
      "true: 823,    pred: 819.7498984709248. (0.39 %) (3)\n",
      "true: 1007,    pred: 656.693490655971. (34.79 %) (2)\n",
      "true: 823,    pred: 849.4075526970754. (3.21 %) (1)\n",
      "0.12951353813892663 0.12987517762548312\n",
      "true: 455,    pred: 435.1999299498385. (4.35 %) (8)\n",
      "true: 637,    pred: 973.7158623674529. (52.86 %) (7)\n",
      "true: 637,    pred: 738.9878179503222. (16.01 %) (6)\n",
      "true: 455,    pred: 323.2158604704644. (28.96 %) (5)\n",
      "true: 1007,    pred: 846.8413647335443. (15.90 %) (4)\n",
      "true: 823,    pred: 750.3884093627665. (8.82 %) (3)\n",
      "true: 1007,    pred: 701.5877676789474. (30.33 %) (2)\n",
      "true: 823,    pred: 953.7947479315479. (15.89 %) (1)\n",
      "0.21641771555714787 0.14424736609120073\n",
      "(0.21641771555714787, 0.14424736609120073)\n",
      "[2.55002746]\n",
      "true: 455,    pred: 435.1999299498385. (4.35 %) (8)\n",
      "true: 637,    pred: 973.7158623674529. (52.86 %) (7)\n",
      "true: 637,    pred: 738.9878179503222. (16.01 %) (6)\n",
      "true: 455,    pred: 323.2158604704644. (28.96 %) (5)\n",
      "true: 1007,    pred: 846.8413647335443. (15.90 %) (4)\n",
      "true: 823,    pred: 750.3884093627665. (8.82 %) (3)\n",
      "true: 1007,    pred: 701.5877676789474. (30.33 %) (2)\n",
      "true: 823,    pred: 953.7947479315479. (15.89 %) (1)\n",
      "0.21641771555714787 0.14424736609120073\n",
      "true: 455,    pred: 408.2179463575718. (10.28 %) (8)\n",
      "true: 637,    pred: 948.1504862733746. (48.85 %) (7)\n",
      "true: 637,    pred: 805.8162234385692. (26.50 %) (6)\n",
      "true: 455,    pred: 299.9445550841342. (34.08 %) (5)\n",
      "true: 1007,    pred: 887.0757117530507. (11.91 %) (4)\n",
      "true: 823,    pred: 705.1703756328283. (14.32 %) (3)\n",
      "true: 1007,    pred: 752.4903562245588. (25.27 %) (2)\n",
      "true: 823,    pred: 903.7123886699125. (9.81 %) (1)\n",
      "0.22626896841847988 0.1294836024949359\n",
      "(0.22626896841847988, 0.1294836024949359)\n",
      "[2.88729109]\n",
      "true: 455,    pred: 408.2179463575718. (10.28 %) (8)\n",
      "true: 637,    pred: 948.1504862733746. (48.85 %) (7)\n",
      "true: 637,    pred: 805.8162234385692. (26.50 %) (6)\n",
      "true: 455,    pred: 299.9445550841342. (34.08 %) (5)\n",
      "true: 1007,    pred: 887.0757117530507. (11.91 %) (4)\n",
      "true: 823,    pred: 705.1703756328283. (14.32 %) (3)\n",
      "true: 1007,    pred: 752.4903562245588. (25.27 %) (2)\n",
      "true: 823,    pred: 903.7123886699125. (9.81 %) (1)\n",
      "0.22626896841847988 0.1294836024949359\n"
     ]
    },
    {
     "name": "stderr",
     "output_type": "stream",
     "text": [
      "/tmp/ipykernel_166482/2078519882.py:4: SettingWithCopyWarning: \n",
      "A value is trying to be set on a copy of a slice from a DataFrame.\n",
      "Try using .loc[row_indexer,col_indexer] = value instead\n",
      "\n",
      "See the caveats in the documentation: https://pandas.pydata.org/pandas-docs/stable/user_guide/indexing.html#returning-a-view-versus-a-copy\n",
      "  block_df[f'err_{item_}'] = (block_df['F'] - (block_df[item_] * factors_dict[item_]['factor'])) / block_df['F']\n",
      "/tmp/ipykernel_166482/2078519882.py:4: SettingWithCopyWarning: \n",
      "A value is trying to be set on a copy of a slice from a DataFrame.\n",
      "Try using .loc[row_indexer,col_indexer] = value instead\n",
      "\n",
      "See the caveats in the documentation: https://pandas.pydata.org/pandas-docs/stable/user_guide/indexing.html#returning-a-view-versus-a-copy\n",
      "  block_df[f'err_{item_}'] = (block_df['F'] - (block_df[item_] * factors_dict[item_]['factor'])) / block_df['F']\n",
      "/tmp/ipykernel_166482/2078519882.py:4: SettingWithCopyWarning: \n",
      "A value is trying to be set on a copy of a slice from a DataFrame.\n",
      "Try using .loc[row_indexer,col_indexer] = value instead\n",
      "\n",
      "See the caveats in the documentation: https://pandas.pydata.org/pandas-docs/stable/user_guide/indexing.html#returning-a-view-versus-a-copy\n",
      "  block_df[f'err_{item_}'] = (block_df['F'] - (block_df[item_] * factors_dict[item_]['factor'])) / block_df['F']\n",
      "/tmp/ipykernel_166482/2078519882.py:4: SettingWithCopyWarning: \n",
      "A value is trying to be set on a copy of a slice from a DataFrame.\n",
      "Try using .loc[row_indexer,col_indexer] = value instead\n",
      "\n",
      "See the caveats in the documentation: https://pandas.pydata.org/pandas-docs/stable/user_guide/indexing.html#returning-a-view-versus-a-copy\n",
      "  block_df[f'err_{item_}'] = (block_df['F'] - (block_df[item_] * factors_dict[item_]['factor'])) / block_df['F']\n"
     ]
    },
    {
     "data": {
      "text/plain": [
       "{'cv1': {'err': -0.035839716682566886, 'err_std': 0.17806922943390702},\n",
       " 'dcv1': {'err': -0.02655285365932468, 'err_std': 0.1602135160938905},\n",
       " 'cv3': {'err': -0.01470600406854997, 'err_std': 0.22816328824996907},\n",
       " 'dcv3': {'err': 0.0045666605809217276, 'err_std': 0.22990293523548141}}"
      ]
     },
     "execution_count": 25,
     "metadata": {},
     "output_type": "execute_result"
    }
   ],
   "source": [
    "rb_df = block_13_df.query('variety == \"Royal Beauty\"')\n",
    "factors_rb_dict = linear_model_selection(rb_df, selection_cols=['cv1','dcv1', 'cv3', 'dcv3'],type_col=\"block\", cross_val='id')\n",
    "res, block_rb_df = get_selection_error(factors_rb_dict, rb_df)\n",
    "res"
   ]
  },
  {
   "cell_type": "code",
   "execution_count": 26,
   "id": "9d485bfe-1689-4f15-9bb9-321f6e0b0d00",
   "metadata": {},
   "outputs": [
    {
     "data": {
      "text/plain": [
       "{'cv1': {'factor': array([0.89733389]),\n",
       "  'mean_error': 0.15125960990883153,\n",
       "  'std_error': 0.1354175976216873},\n",
       " 'dcv1': {'factor': array([1.00284245]),\n",
       "  'mean_error': 0.12951353813892663,\n",
       "  'std_error': 0.12987517762548312},\n",
       " 'cv3': {'factor': array([2.62031524]),\n",
       "  'mean_error': 0.21641771555714787,\n",
       "  'std_error': 0.14424736609120073},\n",
       " 'dcv3': {'factor': array([2.93413113]),\n",
       "  'mean_error': 0.22626896841847988,\n",
       "  'std_error': 0.1294836024949359}}"
      ]
     },
     "execution_count": 26,
     "metadata": {},
     "output_type": "execute_result"
    }
   ],
   "source": [
    "factors_rb_dict"
   ]
  },
  {
   "cell_type": "code",
   "execution_count": 35,
   "id": "5f305aed-3bbb-4c8c-a9b3-a8211033ad62",
   "metadata": {},
   "outputs": [
    {
     "name": "stdout",
     "output_type": "stream",
     "text": [
      "block == \"block_21\" and row == \"row_1111\" and tree_id == 1\n",
      "block == \"block_21\" and row == \"row_1111\" and tree_id == 2\n",
      "block == \"block_21\" and row == \"row_2222\" and tree_id == 1\n",
      "block == \"block_21\" and row == \"row_2222\" and tree_id == 2\n",
      "block == \"block_21\" and row == \"row_3333\" and tree_id == 1\n",
      "block == \"block_21\" and row == \"row_3333\" and tree_id == 2\n",
      "block == \"block_21\" and row == \"row_4444\" and tree_id == 1\n",
      "block == \"block_21\" and row == \"row_4444\" and tree_id == 2\n"
     ]
    }
   ],
   "source": [
    "block_21_path = \"/media/matans/My Book/FruitSpec/Apples_SA/block_21\"\n",
    "block_21 = 'Block_21'\n",
    "block_21_df, row_tracks_21 = block_analysis(block_21_path, metadata_path, block_21)"
   ]
  },
  {
   "cell_type": "code",
   "execution_count": null,
   "id": "9b72acb6-bd1a-4580-933d-6a171380a755",
   "metadata": {},
   "outputs": [],
   "source": []
  },
  {
   "cell_type": "code",
   "execution_count": null,
   "id": "ae57a53a-7e9c-4f4b-9ed2-b65ad958bf0d",
   "metadata": {},
   "outputs": [],
   "source": [
    "block_21_df"
   ]
  },
  {
   "cell_type": "code",
   "execution_count": 36,
   "id": "dc9a6c4e-8a7c-4e7f-a373-6bd49ef62211",
   "metadata": {},
   "outputs": [
    {
     "name": "stdout",
     "output_type": "stream",
     "text": [
      "mean: 943.25, std: 187.47247417001935\n"
     ]
    }
   ],
   "source": [
    "m =block_21_df['cv1'].mean()\n",
    "s = block_21_df['cv1'].std()\n",
    "print(f'mean: {m}, std: {s}')"
   ]
  },
  {
   "cell_type": "code",
   "execution_count": null,
   "id": "dd7b2b5d-010c-40d3-bf28-4ff3cbdcd02e",
   "metadata": {},
   "outputs": [],
   "source": [
    "plot_F_cv(block_21_df, 1, add_xy_line=False)"
   ]
  },
  {
   "cell_type": "code",
   "execution_count": null,
   "id": "0abb61b9-b046-4f90-805c-6cde19beb73a",
   "metadata": {
    "scrolled": true
   },
   "outputs": [],
   "source": [
    "factors_21_dict = linear_model_selection(block_21_df, selection_cols=['cv1','dcv1', 'cv3', 'dcv3'],type_col=\"block\", cross_val='id')"
   ]
  },
  {
   "cell_type": "code",
   "execution_count": null,
   "id": "d961aee4-7d5e-46c3-a731-3c936d3de2c5",
   "metadata": {},
   "outputs": [],
   "source": [
    "res, block_block_21_df13_df = get_selection_error(factors_21_dict, block_21_df)\n",
    "res"
   ]
  },
  {
   "cell_type": "code",
   "execution_count": null,
   "id": "33fe2d90-e35f-468a-8361-5888f9d81b06",
   "metadata": {},
   "outputs": [],
   "source": [
    "#row_to_drow = 'row_1111'\n",
    "#tree_id = 1\n",
    "#draw_tree_bb_from_tracks(row_tracks[row_to_drow][tree_id], os.path.join(block_path, row_to_drow, '1'), tree_id)"
   ]
  },
  {
   "cell_type": "code",
   "execution_count": null,
   "id": "a611164a-35c5-4063-8667-6908e9fde547",
   "metadata": {},
   "outputs": [],
   "source": [
    "plt.bar(block_21_df['id'], block_21_df['F/cv1'])\n",
    "plt.xlabel('Tree')\n",
    "plt.ylabel('F/CV1')"
   ]
  },
  {
   "cell_type": "code",
   "execution_count": 37,
   "id": "ea2f7779-979a-4b57-96e9-6d94e2b488d9",
   "metadata": {},
   "outputs": [
    {
     "name": "stdout",
     "output_type": "stream",
     "text": [
      "block == \"block_48\" and row == \"row_111\" and tree_id == 1\n",
      "block == \"block_48\" and row == \"row_111\" and tree_id == 2\n",
      "block == \"block_48\" and row == \"row_222\" and tree_id == 1\n",
      "block == \"block_48\" and row == \"row_222\" and tree_id == 2\n",
      "block == \"block_48\" and row == \"row_333\" and tree_id == 1\n",
      "block == \"block_48\" and row == \"row_333\" and tree_id == 2\n",
      "block == \"block_48\" and row == \"row_444\" and tree_id == 1\n",
      "block == \"block_48\" and row == \"row_444\" and tree_id == 2\n"
     ]
    }
   ],
   "source": [
    "block_48_path = \"/media/matans/My Book/FruitSpec/Apples_SA/block_48\"\n",
    "block_48 = 'Block_48'\n",
    "block_48_df, row_tracks_48 = block_analysis(block_48_path, metadata_path, block_48)"
   ]
  },
  {
   "cell_type": "code",
   "execution_count": 38,
   "id": "e95e9df9-0f1a-4d98-9027-914b8c5bd1d3",
   "metadata": {},
   "outputs": [
    {
     "name": "stdout",
     "output_type": "stream",
     "text": [
      "mean: 1431.375, std: 168.47461657048348\n"
     ]
    }
   ],
   "source": [
    "m =block_48_df['cv1'].mean()\n",
    "s = block_48_df['cv1'].std()\n",
    "print(f'mean: {m}, std: {s}')"
   ]
  },
  {
   "cell_type": "code",
   "execution_count": null,
   "id": "e4cbf743-7c95-4f15-9bac-7d3d6fbb05d2",
   "metadata": {
    "scrolled": true
   },
   "outputs": [],
   "source": [
    "factors_48_dict = linear_model_selection(block_48_df, selection_cols=['cv1','dcv1', 'cv3', 'dcv3'],type_col=\"block\", cross_val='id')"
   ]
  },
  {
   "cell_type": "code",
   "execution_count": null,
   "id": "650bdfa8-97cb-44cc-921c-b3753dac786f",
   "metadata": {},
   "outputs": [],
   "source": [
    "res, block_48_df_res = get_selection_error(factors_48_dict, block_48_df)\n",
    "res"
   ]
  },
  {
   "cell_type": "code",
   "execution_count": null,
   "id": "1409511a-3c3d-4cfc-ac83-fafb6e89b8e2",
   "metadata": {},
   "outputs": [],
   "source": [
    "plt.bar(block_48_df['id'], block_48_df['F/cv1'])\n",
    "plt.xlabel('Tree')\n",
    "plt.ylabel('F/CV1')"
   ]
  },
  {
   "cell_type": "code",
   "execution_count": 39,
   "id": "57824856-f98c-4016-89a6-938e3aba6fb8",
   "metadata": {},
   "outputs": [
    {
     "name": "stdout",
     "output_type": "stream",
     "text": [
      "block == \"block_3\" and row == \"row_111\" and tree_id == 1\n",
      "block == \"block_3\" and row == \"row_111\" and tree_id == 2\n",
      "block == \"block_3\" and row == \"row_222\" and tree_id == 1\n",
      "block == \"block_3\" and row == \"row_222\" and tree_id == 2\n",
      "block == \"block_3\" and row == \"row_333\" and tree_id == 1\n",
      "block == \"block_3\" and row == \"row_333\" and tree_id == 2\n",
      "block == \"block_3\" and row == \"row_444\" and tree_id == 1\n",
      "block == \"block_3\" and row == \"row_444\" and tree_id == 2\n"
     ]
    }
   ],
   "source": [
    "block_3_path = \"/media/matans/My Book/FruitSpec/Apples_SA/block_3\"\n",
    "block_3 = 'Block_3'\n",
    "block_3_df, row_tracks_3 = block_analysis(block_3_path, metadata_path, block_3)"
   ]
  },
  {
   "cell_type": "code",
   "execution_count": null,
   "id": "a628951e-98bf-4b18-9bcb-88437827c711",
   "metadata": {},
   "outputs": [],
   "source": [
    "block_3_df"
   ]
  },
  {
   "cell_type": "code",
   "execution_count": 40,
   "id": "c9c43d0b-9a67-443f-a3c2-0b2acd6ac514",
   "metadata": {},
   "outputs": [
    {
     "name": "stdout",
     "output_type": "stream",
     "text": [
      "mean: 744.375, std: 176.69823954171943\n"
     ]
    }
   ],
   "source": [
    "m =block_3_df['cv1'].mean()\n",
    "s = block_3_df['cv1'].std()\n",
    "print(f'mean: {m}, std: {s}')"
   ]
  },
  {
   "cell_type": "code",
   "execution_count": null,
   "id": "0876d3bf-0955-41df-9a20-415aaf464d51",
   "metadata": {},
   "outputs": [],
   "source": [
    "factors_3_dict = linear_model_selection(block_3_df, selection_cols=['cv1','dcv1', 'cv3', 'dcv3'],type_col=\"block\", cross_val='id')"
   ]
  },
  {
   "cell_type": "code",
   "execution_count": null,
   "id": "652d9e5f-c6b2-4390-842c-c4f0597891ac",
   "metadata": {},
   "outputs": [],
   "source": [
    "plt.bar(block_3_df['id'], block_3_df['F/cv1'])\n",
    "plt.xlabel('Tree')\n",
    "plt.ylabel('F/CV1')"
   ]
  },
  {
   "cell_type": "code",
   "execution_count": null,
   "id": "2826f14a-8ffb-4e5b-adb5-cc41455db883",
   "metadata": {},
   "outputs": [],
   "source": [
    "res, block_3_df_res = get_selection_error(factors_3_dict, block_3_df)"
   ]
  },
  {
   "cell_type": "code",
   "execution_count": null,
   "id": "efc7172f-19d7-480e-b0c4-6881e126da49",
   "metadata": {},
   "outputs": [],
   "source": [
    "res"
   ]
  },
  {
   "cell_type": "code",
   "execution_count": null,
   "id": "acaa9b4d-9ce4-4a49-8147-2f6eeea7a5f0",
   "metadata": {},
   "outputs": [],
   "source": [
    "factors_3_dict"
   ]
  },
  {
   "cell_type": "code",
   "execution_count": 41,
   "id": "45da06c4-3be7-45e3-9dec-ba0852a8e8d7",
   "metadata": {},
   "outputs": [
    {
     "name": "stdout",
     "output_type": "stream",
     "text": [
      "block == \"083gold0\" and row == \"row_111\" and tree_id == 1\n",
      "block == \"083gold0\" and row == \"row_111\" and tree_id == 2\n",
      "block == \"083gold0\" and row == \"row_222\" and tree_id == 1\n",
      "block == \"083gold0\" and row == \"row_222\" and tree_id == 2\n",
      "block == \"083gold0\" and row == \"row_333\" and tree_id == 1\n",
      "block == \"083gold0\" and row == \"row_333\" and tree_id == 2\n",
      "block == \"083gold0\" and row == \"row_444\" and tree_id == 1\n",
      "block == \"083gold0\" and row == \"row_444\" and tree_id == 2\n"
     ]
    }
   ],
   "source": [
    "block_83_path = \"/media/matans/My Book/FruitSpec/Apples_SA/083GOLD0\"\n",
    "block_83 = '083GOLD0'\n",
    "block_83_df, row_tracks_83 = block_analysis(block_83_path, metadata_path, block_83)"
   ]
  },
  {
   "cell_type": "code",
   "execution_count": null,
   "id": "fe8a089d-9b7e-4025-9d01-9ff8bbe74a77",
   "metadata": {},
   "outputs": [],
   "source": [
    "block_83_df"
   ]
  },
  {
   "cell_type": "code",
   "execution_count": 42,
   "id": "3b077b4a-ec6d-476a-8b42-f83e68ec3ad8",
   "metadata": {},
   "outputs": [
    {
     "name": "stdout",
     "output_type": "stream",
     "text": [
      "mean: 630.625, std: 151.65745000776303\n"
     ]
    }
   ],
   "source": [
    "m =block_83_df['cv1'].mean()\n",
    "s = block_83_df['cv1'].std()\n",
    "print(f'mean: {m}, std: {s}')"
   ]
  },
  {
   "cell_type": "code",
   "execution_count": null,
   "id": "7fd795c5-3764-4917-83fb-8f25b144989c",
   "metadata": {},
   "outputs": [],
   "source": [
    "factors_83_dict = linear_model_selection(block_83_df, selection_cols=['cv1','dcv1', 'cv3', 'dcv3'],type_col=\"block\", cross_val='id')\n",
    "res, block_83_df_res = get_selection_error(factors_83_dict, block_83_df)"
   ]
  },
  {
   "cell_type": "code",
   "execution_count": null,
   "id": "f94debf3-f4e1-4909-a3e3-470eb6d964e7",
   "metadata": {
    "scrolled": true
   },
   "outputs": [],
   "source": [
    "res"
   ]
  },
  {
   "cell_type": "code",
   "execution_count": null,
   "id": "42f32ded-ae18-410e-9699-c2f7c11dd007",
   "metadata": {},
   "outputs": [],
   "source": [
    "factors_83_dict"
   ]
  },
  {
   "cell_type": "code",
   "execution_count": null,
   "id": "ffc8010a-c958-4500-baeb-c0ae1c8f2494",
   "metadata": {},
   "outputs": [],
   "source": [
    "plt.bar(block_83_df['id'], block_83_df['F/cv1'])\n",
    "plt.xlabel('Tree')\n",
    "plt.ylabel('F/CV1')"
   ]
  },
  {
   "cell_type": "code",
   "execution_count": 43,
   "id": "b201940d-9352-4a82-a616-e04abd42224b",
   "metadata": {},
   "outputs": [
    {
     "name": "stdout",
     "output_type": "stream",
     "text": [
      "block == \"020grano\" and row == \"row_1111\" and tree_id == 1\n",
      "block == \"020grano\" and row == \"row_1111\" and tree_id == 2\n",
      "block == \"020grano\" and row == \"row_2222\" and tree_id == 1\n",
      "block == \"020grano\" and row == \"row_2222\" and tree_id == 2\n",
      "block == \"020grano\" and row == \"row_3333\" and tree_id == 1\n",
      "block == \"020grano\" and row == \"row_3333\" and tree_id == 2\n"
     ]
    }
   ],
   "source": [
    "block_20_path = \"/media/matans/My Book/FruitSpec/Apples_SA/020GRANO\"\n",
    "block_20 = '020GRANO'\n",
    "block_20_df, row_tracks_20 = block_analysis(block_20_path, metadata_path, block_20)"
   ]
  },
  {
   "cell_type": "code",
   "execution_count": 44,
   "id": "a8b1b951-ddd1-473b-8514-c089ad13a8a2",
   "metadata": {},
   "outputs": [
    {
     "name": "stdout",
     "output_type": "stream",
     "text": [
      "mean: 1670.5, std: 289.6368415792439\n"
     ]
    }
   ],
   "source": [
    "m =block_20_df['cv1'].mean()\n",
    "s = block_20_df['cv1'].std()\n",
    "print(f'mean: {m}, std: {s}')"
   ]
  },
  {
   "cell_type": "code",
   "execution_count": null,
   "id": "bac8510d-91f4-450c-90bd-13ab77ed1aa0",
   "metadata": {},
   "outputs": [],
   "source": [
    "block_20_df"
   ]
  },
  {
   "cell_type": "code",
   "execution_count": null,
   "id": "63def429-fb39-46e0-b038-fad03f3cc3eb",
   "metadata": {},
   "outputs": [],
   "source": [
    "factors_20_dict = linear_model_selection(block_20_df, selection_cols=['cv1','dcv1', 'cv3', 'dcv3'],type_col=\"block\", cross_val='id')\n",
    "res, block_20_df_res = get_selection_error(factors_20_dict, block_20_df)"
   ]
  },
  {
   "cell_type": "code",
   "execution_count": null,
   "id": "40b00722-7db6-4704-a055-bb0aaad986f1",
   "metadata": {},
   "outputs": [],
   "source": [
    "res"
   ]
  },
  {
   "cell_type": "code",
   "execution_count": null,
   "id": "ed422813-9cfd-4a3a-aa8e-2678067c5455",
   "metadata": {},
   "outputs": [],
   "source": [
    "factors_20_dict"
   ]
  },
  {
   "cell_type": "code",
   "execution_count": null,
   "id": "d9cabda8-b3de-4b34-963c-bfd1a8c5833b",
   "metadata": {},
   "outputs": [],
   "source": [
    "plt.bar(block_20_df['id'], block_20_df['F/cv1'])\n",
    "plt.xlabel('Tree')\n",
    "plt.ylabel('F/CV1')"
   ]
  },
  {
   "cell_type": "code",
   "execution_count": 45,
   "id": "856333da-4250-43ba-939e-3593b3a6d699",
   "metadata": {},
   "outputs": [
    {
     "name": "stdout",
     "output_type": "stream",
     "text": [
      "block == \"025pinko\" and row == \"row_111\" and tree_id == 1\n",
      "block == \"025pinko\" and row == \"row_111\" and tree_id == 2\n",
      "block == \"025pinko\" and row == \"row_222\" and tree_id == 1\n",
      "block == \"025pinko\" and row == \"row_222\" and tree_id == 2\n",
      "block == \"025pinko\" and row == \"row_333\" and tree_id == 1\n",
      "block == \"025pinko\" and row == \"row_333\" and tree_id == 2\n"
     ]
    }
   ],
   "source": [
    "block_25_path = \"/media/matans/My Book/FruitSpec/Apples_SA/025PINKO\"\n",
    "block_25 = '025PINKO'\n",
    "block_25_df, row_tracks_25 = block_analysis(block_25_path, metadata_path, block_25)"
   ]
  },
  {
   "cell_type": "code",
   "execution_count": 46,
   "id": "f9349e2c-f719-44d7-a4b3-0f3e77452d72",
   "metadata": {},
   "outputs": [
    {
     "data": {
      "text/html": [
       "<div>\n",
       "<style scoped>\n",
       "    .dataframe tbody tr th:only-of-type {\n",
       "        vertical-align: middle;\n",
       "    }\n",
       "\n",
       "    .dataframe tbody tr th {\n",
       "        vertical-align: top;\n",
       "    }\n",
       "\n",
       "    .dataframe thead th {\n",
       "        text-align: right;\n",
       "    }\n",
       "</style>\n",
       "<table border=\"1\" class=\"dataframe\">\n",
       "  <thead>\n",
       "    <tr style=\"text-align: right;\">\n",
       "      <th></th>\n",
       "      <th>id</th>\n",
       "      <th>block</th>\n",
       "      <th>row</th>\n",
       "      <th>tree</th>\n",
       "      <th>side</th>\n",
       "      <th>tree_id</th>\n",
       "      <th>variety</th>\n",
       "      <th>Age</th>\n",
       "      <th>F</th>\n",
       "      <th>cv1</th>\n",
       "      <th>cv2</th>\n",
       "      <th>cv3</th>\n",
       "      <th>F/cv1</th>\n",
       "      <th>dcv1</th>\n",
       "      <th>dcv2</th>\n",
       "      <th>dcv3</th>\n",
       "      <th>dcv4</th>\n",
       "      <th>dcv5</th>\n",
       "    </tr>\n",
       "  </thead>\n",
       "  <tbody>\n",
       "    <tr>\n",
       "      <th>0</th>\n",
       "      <td>49</td>\n",
       "      <td>025PINKO</td>\n",
       "      <td>Row_111</td>\n",
       "      <td>10</td>\n",
       "      <td>A</td>\n",
       "      <td>1</td>\n",
       "      <td>Royal Beauty</td>\n",
       "      <td>20</td>\n",
       "      <td>1271</td>\n",
       "      <td>2200</td>\n",
       "      <td>1407</td>\n",
       "      <td>1052</td>\n",
       "      <td>0.577727</td>\n",
       "      <td>1975</td>\n",
       "      <td>1194</td>\n",
       "      <td>883</td>\n",
       "      <td>666</td>\n",
       "      <td>518</td>\n",
       "    </tr>\n",
       "    <tr>\n",
       "      <th>1</th>\n",
       "      <td>50</td>\n",
       "      <td>025PINKO</td>\n",
       "      <td>Row_111</td>\n",
       "      <td>13</td>\n",
       "      <td>A</td>\n",
       "      <td>2</td>\n",
       "      <td>Royal Beauty</td>\n",
       "      <td>20</td>\n",
       "      <td>2016</td>\n",
       "      <td>2248</td>\n",
       "      <td>1483</td>\n",
       "      <td>1145</td>\n",
       "      <td>0.896797</td>\n",
       "      <td>1907</td>\n",
       "      <td>1263</td>\n",
       "      <td>984</td>\n",
       "      <td>784</td>\n",
       "      <td>656</td>\n",
       "    </tr>\n",
       "    <tr>\n",
       "      <th>2</th>\n",
       "      <td>51</td>\n",
       "      <td>025PINKO</td>\n",
       "      <td>Row_222</td>\n",
       "      <td>13</td>\n",
       "      <td>B</td>\n",
       "      <td>1</td>\n",
       "      <td>Pink Lady</td>\n",
       "      <td>20</td>\n",
       "      <td>2016</td>\n",
       "      <td>1776</td>\n",
       "      <td>1094</td>\n",
       "      <td>812</td>\n",
       "      <td>1.135135</td>\n",
       "      <td>1554</td>\n",
       "      <td>949</td>\n",
       "      <td>688</td>\n",
       "      <td>529</td>\n",
       "      <td>406</td>\n",
       "    </tr>\n",
       "    <tr>\n",
       "      <th>3</th>\n",
       "      <td>52</td>\n",
       "      <td>025PINKO</td>\n",
       "      <td>Row_222</td>\n",
       "      <td>10</td>\n",
       "      <td>B</td>\n",
       "      <td>2</td>\n",
       "      <td>Pink Lady</td>\n",
       "      <td>20</td>\n",
       "      <td>1271</td>\n",
       "      <td>1487</td>\n",
       "      <td>880</td>\n",
       "      <td>640</td>\n",
       "      <td>0.854741</td>\n",
       "      <td>1052</td>\n",
       "      <td>546</td>\n",
       "      <td>374</td>\n",
       "      <td>280</td>\n",
       "      <td>201</td>\n",
       "    </tr>\n",
       "    <tr>\n",
       "      <th>4</th>\n",
       "      <td>53</td>\n",
       "      <td>025PINKO</td>\n",
       "      <td>Row_333</td>\n",
       "      <td>5</td>\n",
       "      <td>A</td>\n",
       "      <td>1</td>\n",
       "      <td>Royal Beauty</td>\n",
       "      <td>20</td>\n",
       "      <td>1368</td>\n",
       "      <td>1686</td>\n",
       "      <td>1177</td>\n",
       "      <td>905</td>\n",
       "      <td>0.811388</td>\n",
       "      <td>1325</td>\n",
       "      <td>889</td>\n",
       "      <td>678</td>\n",
       "      <td>528</td>\n",
       "      <td>415</td>\n",
       "    </tr>\n",
       "    <tr>\n",
       "      <th>5</th>\n",
       "      <td>54</td>\n",
       "      <td>025PINKO</td>\n",
       "      <td>Row_333</td>\n",
       "      <td>6</td>\n",
       "      <td>A</td>\n",
       "      <td>2</td>\n",
       "      <td>Royal Beauty</td>\n",
       "      <td>20</td>\n",
       "      <td>1318</td>\n",
       "      <td>1817</td>\n",
       "      <td>1211</td>\n",
       "      <td>941</td>\n",
       "      <td>0.725371</td>\n",
       "      <td>1337</td>\n",
       "      <td>839</td>\n",
       "      <td>604</td>\n",
       "      <td>458</td>\n",
       "      <td>354</td>\n",
       "    </tr>\n",
       "  </tbody>\n",
       "</table>\n",
       "</div>"
      ],
      "text/plain": [
       "   id     block      row  tree side  tree_id       variety  Age     F   cv1  \\\n",
       "0  49  025PINKO  Row_111    10    A        1  Royal Beauty   20  1271  2200   \n",
       "1  50  025PINKO  Row_111    13    A        2  Royal Beauty   20  2016  2248   \n",
       "2  51  025PINKO  Row_222    13    B        1     Pink Lady   20  2016  1776   \n",
       "3  52  025PINKO  Row_222    10    B        2     Pink Lady   20  1271  1487   \n",
       "4  53  025PINKO  Row_333     5    A        1  Royal Beauty   20  1368  1686   \n",
       "5  54  025PINKO  Row_333     6    A        2  Royal Beauty   20  1318  1817   \n",
       "\n",
       "    cv2   cv3     F/cv1  dcv1  dcv2  dcv3  dcv4  dcv5  \n",
       "0  1407  1052  0.577727  1975  1194   883   666   518  \n",
       "1  1483  1145  0.896797  1907  1263   984   784   656  \n",
       "2  1094   812  1.135135  1554   949   688   529   406  \n",
       "3   880   640  0.854741  1052   546   374   280   201  \n",
       "4  1177   905  0.811388  1325   889   678   528   415  \n",
       "5  1211   941  0.725371  1337   839   604   458   354  "
      ]
     },
     "execution_count": 46,
     "metadata": {},
     "output_type": "execute_result"
    }
   ],
   "source": [
    "block_25_df"
   ]
  },
  {
   "cell_type": "code",
   "execution_count": 47,
   "id": "b25bd931-4180-4b17-992c-a1358c9c0aa9",
   "metadata": {},
   "outputs": [
    {
     "name": "stdout",
     "output_type": "stream",
     "text": [
      "mean: 1869.0, std: 297.98254982465\n"
     ]
    }
   ],
   "source": [
    "m =block_25_df['cv1'].mean()\n",
    "s = block_25_df['cv1'].std()\n",
    "print(f'mean: {m}, std: {s}')"
   ]
  },
  {
   "cell_type": "code",
   "execution_count": null,
   "id": "ab7aa03f-cd11-4842-8c9e-b4396490a62b",
   "metadata": {},
   "outputs": [],
   "source": [
    "factors_25_dict = linear_model_selection(block_25_df, selection_cols=['cv1','dcv1', 'cv3', 'dcv3'],type_col=\"block\", cross_val='id')\n",
    "res, block_25_df_res = get_selection_error(factors_25_dict, block_25_df)"
   ]
  },
  {
   "cell_type": "code",
   "execution_count": null,
   "id": "b20de502-8260-496e-834a-8d989584fb1c",
   "metadata": {},
   "outputs": [],
   "source": [
    "res"
   ]
  },
  {
   "cell_type": "code",
   "execution_count": null,
   "id": "b1cba346-df01-4c19-bb6e-eacd14b593a6",
   "metadata": {},
   "outputs": [],
   "source": [
    "factors_25_dict"
   ]
  },
  {
   "cell_type": "code",
   "execution_count": null,
   "id": "8ed7a576-db13-4796-bb38-e190bcd6187c",
   "metadata": {},
   "outputs": [],
   "source": [
    "plt.bar(block_25_df['id'], block_25_df['F/cv1'])\n",
    "plt.xlabel('Tree')\n",
    "plt.ylabel('F/CV1')"
   ]
  },
  {
   "cell_type": "code",
   "execution_count": null,
   "id": "387779f7-8581-459c-b7bd-e80141b0e792",
   "metadata": {},
   "outputs": [],
   "source": [
    "#row_to_drow = 'row_111'\n",
    "#tree_id = 1\n",
    "#date = '221123'\n",
    "#draw_tree_bb_from_tracks(row_tracks_25[row_to_drow][tree_id], os.path.join(block_25_path, date, row_to_drow, '1'), tree_id)"
   ]
  },
  {
   "cell_type": "code",
   "execution_count": 8,
   "id": "606206bd-bcb5-4b53-874c-0ca02a0c12a2",
   "metadata": {},
   "outputs": [
    {
     "name": "stdout",
     "output_type": "stream",
     "text": [
      "block == \"039roya0\" and row == \"row_111\" and tree_id == 1\n",
      "block == \"039roya0\" and row == \"row_111\" and tree_id == 2\n",
      "block == \"039roya0\" and row == \"row_222\" and tree_id == 1\n",
      "block == \"039roya0\" and row == \"row_222\" and tree_id == 2\n",
      "block == \"039roya0\" and row == \"row_333\" and tree_id == 1\n",
      "block == \"039roya0\" and row == \"row_333\" and tree_id == 2\n",
      "block == \"039roya0\" and row == \"row_444\" and tree_id == 1\n",
      "block == \"039roya0\" and row == \"row_444\" and tree_id == 2\n",
      "block == \"039roya0\" and row == \"row_555\" and tree_id == 1\n",
      "block == \"039roya0\" and row == \"row_555\" and tree_id == 2\n",
      "block == \"039roya0\" and row == \"row_666\" and tree_id == 1\n",
      "block == \"039roya0\" and row == \"row_666\" and tree_id == 2\n",
      "block == \"039roya0\" and row == \"row_777\" and tree_id == 1\n",
      "block == \"039roya0\" and row == \"row_777\" and tree_id == 2\n",
      "block == \"039roya0\" and row == \"row_888\" and tree_id == 1\n",
      "block == \"039roya0\" and row == \"row_888\" and tree_id == 2\n"
     ]
    }
   ],
   "source": [
    "block_39_path = \"/media/matans/My Book/FruitSpec/Apples_SA/039ROYA0\"\n",
    "block_39 = '039ROYA0'\n",
    "block_39_df, row_tracks_39 = block_analysis(block_39_path, metadata_path, block_39)"
   ]
  },
  {
   "cell_type": "code",
   "execution_count": null,
   "id": "62caa787-6ae1-413a-91df-41018dd267c3",
   "metadata": {
    "scrolled": true
   },
   "outputs": [],
   "source": [
    "block_39_df"
   ]
  },
  {
   "cell_type": "code",
   "execution_count": 13,
   "id": "a4e99f8a-3a3e-4a9c-a2b9-24446b6f85b4",
   "metadata": {},
   "outputs": [],
   "source": [
    "gd_df = block_39_df.query('variety == \"Golden Delicious\"')"
   ]
  },
  {
   "cell_type": "code",
   "execution_count": 15,
   "id": "2817e4f8-d45b-4eab-9e7c-104c64cfd669",
   "metadata": {},
   "outputs": [
    {
     "data": {
      "text/html": [
       "<div>\n",
       "<style scoped>\n",
       "    .dataframe tbody tr th:only-of-type {\n",
       "        vertical-align: middle;\n",
       "    }\n",
       "\n",
       "    .dataframe tbody tr th {\n",
       "        vertical-align: top;\n",
       "    }\n",
       "\n",
       "    .dataframe thead th {\n",
       "        text-align: right;\n",
       "    }\n",
       "</style>\n",
       "<table border=\"1\" class=\"dataframe\">\n",
       "  <thead>\n",
       "    <tr style=\"text-align: right;\">\n",
       "      <th></th>\n",
       "      <th>id</th>\n",
       "      <th>block</th>\n",
       "      <th>row</th>\n",
       "      <th>tree</th>\n",
       "      <th>side</th>\n",
       "      <th>tree_id</th>\n",
       "      <th>variety</th>\n",
       "      <th>Age</th>\n",
       "      <th>F</th>\n",
       "      <th>cv1</th>\n",
       "      <th>...</th>\n",
       "      <th>F/cv1</th>\n",
       "      <th>dcv1</th>\n",
       "      <th>dcv2</th>\n",
       "      <th>dcv3</th>\n",
       "      <th>dcv4</th>\n",
       "      <th>dcv5</th>\n",
       "      <th>err_cv1</th>\n",
       "      <th>err_dcv1</th>\n",
       "      <th>err_cv3</th>\n",
       "      <th>err_dcv3</th>\n",
       "    </tr>\n",
       "  </thead>\n",
       "  <tbody>\n",
       "    <tr>\n",
       "      <th>0</th>\n",
       "      <td>57</td>\n",
       "      <td>039ROYA0</td>\n",
       "      <td>Row_111</td>\n",
       "      <td>1</td>\n",
       "      <td>A</td>\n",
       "      <td>1</td>\n",
       "      <td>Golden Delicious</td>\n",
       "      <td>46</td>\n",
       "      <td>1512</td>\n",
       "      <td>1424</td>\n",
       "      <td>...</td>\n",
       "      <td>1.061798</td>\n",
       "      <td>1275</td>\n",
       "      <td>705</td>\n",
       "      <td>466</td>\n",
       "      <td>346</td>\n",
       "      <td>255</td>\n",
       "      <td>-0.277744</td>\n",
       "      <td>-0.323243</td>\n",
       "      <td>-0.072475</td>\n",
       "      <td>-0.125110</td>\n",
       "    </tr>\n",
       "    <tr>\n",
       "      <th>1</th>\n",
       "      <td>58</td>\n",
       "      <td>039ROYA0</td>\n",
       "      <td>Row_111</td>\n",
       "      <td>2</td>\n",
       "      <td>A</td>\n",
       "      <td>2</td>\n",
       "      <td>Golden Delicious</td>\n",
       "      <td>46</td>\n",
       "      <td>2414</td>\n",
       "      <td>1632</td>\n",
       "      <td>...</td>\n",
       "      <td>1.479167</td>\n",
       "      <td>1466</td>\n",
       "      <td>945</td>\n",
       "      <td>726</td>\n",
       "      <td>597</td>\n",
       "      <td>482</td>\n",
       "      <td>0.082790</td>\n",
       "      <td>0.047033</td>\n",
       "      <td>-0.041518</td>\n",
       "      <td>-0.097893</td>\n",
       "    </tr>\n",
       "    <tr>\n",
       "      <th>2</th>\n",
       "      <td>59</td>\n",
       "      <td>039ROYA0</td>\n",
       "      <td>Row_222</td>\n",
       "      <td>2</td>\n",
       "      <td>B</td>\n",
       "      <td>1</td>\n",
       "      <td>Golden Delicious</td>\n",
       "      <td>46</td>\n",
       "      <td>2414</td>\n",
       "      <td>1715</td>\n",
       "      <td>...</td>\n",
       "      <td>1.407580</td>\n",
       "      <td>1447</td>\n",
       "      <td>923</td>\n",
       "      <td>611</td>\n",
       "      <td>409</td>\n",
       "      <td>277</td>\n",
       "      <td>0.036143</td>\n",
       "      <td>0.059384</td>\n",
       "      <td>0.008383</td>\n",
       "      <td>0.076015</td>\n",
       "    </tr>\n",
       "    <tr>\n",
       "      <th>3</th>\n",
       "      <td>60</td>\n",
       "      <td>039ROYA0</td>\n",
       "      <td>Row_222</td>\n",
       "      <td>1</td>\n",
       "      <td>B</td>\n",
       "      <td>2</td>\n",
       "      <td>Golden Delicious</td>\n",
       "      <td>46</td>\n",
       "      <td>1512</td>\n",
       "      <td>1721</td>\n",
       "      <td>...</td>\n",
       "      <td>0.878559</td>\n",
       "      <td>1479</td>\n",
       "      <td>896</td>\n",
       "      <td>651</td>\n",
       "      <td>498</td>\n",
       "      <td>386</td>\n",
       "      <td>-0.544240</td>\n",
       "      <td>-0.534961</td>\n",
       "      <td>-0.572964</td>\n",
       "      <td>-0.571774</td>\n",
       "    </tr>\n",
       "    <tr>\n",
       "      <th>4</th>\n",
       "      <td>61</td>\n",
       "      <td>039ROYA0</td>\n",
       "      <td>Row_333</td>\n",
       "      <td>3</td>\n",
       "      <td>A</td>\n",
       "      <td>1</td>\n",
       "      <td>Golden Delicious</td>\n",
       "      <td>46</td>\n",
       "      <td>1460</td>\n",
       "      <td>745</td>\n",
       "      <td>...</td>\n",
       "      <td>1.959732</td>\n",
       "      <td>687</td>\n",
       "      <td>362</td>\n",
       "      <td>257</td>\n",
       "      <td>190</td>\n",
       "      <td>142</td>\n",
       "      <td>0.307708</td>\n",
       "      <td>0.261611</td>\n",
       "      <td>0.405526</td>\n",
       "      <td>0.357400</td>\n",
       "    </tr>\n",
       "    <tr>\n",
       "      <th>5</th>\n",
       "      <td>62</td>\n",
       "      <td>039ROYA0</td>\n",
       "      <td>Row_333</td>\n",
       "      <td>4</td>\n",
       "      <td>A</td>\n",
       "      <td>2</td>\n",
       "      <td>Golden Delicious</td>\n",
       "      <td>46</td>\n",
       "      <td>1671</td>\n",
       "      <td>1142</td>\n",
       "      <td>...</td>\n",
       "      <td>1.463222</td>\n",
       "      <td>911</td>\n",
       "      <td>420</td>\n",
       "      <td>255</td>\n",
       "      <td>163</td>\n",
       "      <td>112</td>\n",
       "      <td>0.072796</td>\n",
       "      <td>0.144494</td>\n",
       "      <td>0.406654</td>\n",
       "      <td>0.442911</td>\n",
       "    </tr>\n",
       "    <tr>\n",
       "      <th>6</th>\n",
       "      <td>63</td>\n",
       "      <td>039ROYA0</td>\n",
       "      <td>Row_444</td>\n",
       "      <td>4</td>\n",
       "      <td>B</td>\n",
       "      <td>1</td>\n",
       "      <td>Golden Delicious</td>\n",
       "      <td>46</td>\n",
       "      <td>1671</td>\n",
       "      <td>1094</td>\n",
       "      <td>...</td>\n",
       "      <td>1.527422</td>\n",
       "      <td>1008</td>\n",
       "      <td>514</td>\n",
       "      <td>318</td>\n",
       "      <td>220</td>\n",
       "      <td>142</td>\n",
       "      <td>0.111768</td>\n",
       "      <td>0.053403</td>\n",
       "      <td>0.317929</td>\n",
       "      <td>0.305277</td>\n",
       "    </tr>\n",
       "    <tr>\n",
       "      <th>7</th>\n",
       "      <td>64</td>\n",
       "      <td>039ROYA0</td>\n",
       "      <td>Row_444</td>\n",
       "      <td>3</td>\n",
       "      <td>B</td>\n",
       "      <td>2</td>\n",
       "      <td>Golden Delicious</td>\n",
       "      <td>46</td>\n",
       "      <td>1460</td>\n",
       "      <td>848</td>\n",
       "      <td>...</td>\n",
       "      <td>1.721698</td>\n",
       "      <td>704</td>\n",
       "      <td>397</td>\n",
       "      <td>249</td>\n",
       "      <td>166</td>\n",
       "      <td>94</td>\n",
       "      <td>0.211996</td>\n",
       "      <td>0.243340</td>\n",
       "      <td>0.329365</td>\n",
       "      <td>0.377403</td>\n",
       "    </tr>\n",
       "  </tbody>\n",
       "</table>\n",
       "<p>8 rows × 22 columns</p>\n",
       "</div>"
      ],
      "text/plain": [
       "   id     block      row  tree side  tree_id           variety  Age     F  \\\n",
       "0  57  039ROYA0  Row_111     1    A        1  Golden Delicious   46  1512   \n",
       "1  58  039ROYA0  Row_111     2    A        2  Golden Delicious   46  2414   \n",
       "2  59  039ROYA0  Row_222     2    B        1  Golden Delicious   46  2414   \n",
       "3  60  039ROYA0  Row_222     1    B        2  Golden Delicious   46  1512   \n",
       "4  61  039ROYA0  Row_333     3    A        1  Golden Delicious   46  1460   \n",
       "5  62  039ROYA0  Row_333     4    A        2  Golden Delicious   46  1671   \n",
       "6  63  039ROYA0  Row_444     4    B        1  Golden Delicious   46  1671   \n",
       "7  64  039ROYA0  Row_444     3    B        2  Golden Delicious   46  1460   \n",
       "\n",
       "    cv1  ...     F/cv1  dcv1  dcv2  dcv3  dcv4  dcv5   err_cv1  err_dcv1  \\\n",
       "0  1424  ...  1.061798  1275   705   466   346   255 -0.277744 -0.323243   \n",
       "1  1632  ...  1.479167  1466   945   726   597   482  0.082790  0.047033   \n",
       "2  1715  ...  1.407580  1447   923   611   409   277  0.036143  0.059384   \n",
       "3  1721  ...  0.878559  1479   896   651   498   386 -0.544240 -0.534961   \n",
       "4   745  ...  1.959732   687   362   257   190   142  0.307708  0.261611   \n",
       "5  1142  ...  1.463222   911   420   255   163   112  0.072796  0.144494   \n",
       "6  1094  ...  1.527422  1008   514   318   220   142  0.111768  0.053403   \n",
       "7   848  ...  1.721698   704   397   249   166    94  0.211996  0.243340   \n",
       "\n",
       "    err_cv3  err_dcv3  \n",
       "0 -0.072475 -0.125110  \n",
       "1 -0.041518 -0.097893  \n",
       "2  0.008383  0.076015  \n",
       "3 -0.572964 -0.571774  \n",
       "4  0.405526  0.357400  \n",
       "5  0.406654  0.442911  \n",
       "6  0.317929  0.305277  \n",
       "7  0.329365  0.377403  \n",
       "\n",
       "[8 rows x 22 columns]"
      ]
     },
     "execution_count": 15,
     "metadata": {},
     "output_type": "execute_result"
    }
   ],
   "source": [
    "gd_df"
   ]
  },
  {
   "cell_type": "code",
   "execution_count": 16,
   "id": "b37cab4a-2dcf-4b35-ae5b-1d9563cb62d2",
   "metadata": {},
   "outputs": [
    {
     "name": "stdout",
     "output_type": "stream",
     "text": [
      "true: 1460,    pred: 1097.0310443931196. (24.86 %) (64)\n",
      "true: 1671,    pred: 1417.6017158093575. (15.16 %) (63)\n",
      "true: 1671,    pred: 1484.9454084661804. (11.13 %) (62)\n",
      "true: 1460,    pred: 960.4458133088948. (34.22 %) (61)\n",
      "true: 1512,    pred: 2458.3264670059853. (62.59 %) (60)\n",
      "true: 2414,    pred: 2214.5537001987195. (8.26 %) (59)\n",
      "true: 2414,    pred: 2085.299370039443. (13.62 %) (58)\n",
      "true: 1512,    pred: 1931.9490501205717. (27.77 %) (57)\n",
      "0.24702044763762238 0.16596377199784115\n",
      "(0.24702044763762238, 0.16596377199784115)\n",
      "[1.31508905]\n",
      "true: 1460,    pred: 1097.0310443931196. (24.86 %) (64)\n",
      "true: 1671,    pred: 1417.6017158093575. (15.16 %) (63)\n",
      "true: 1671,    pred: 1484.9454084661804. (11.13 %) (62)\n",
      "true: 1460,    pred: 960.4458133088948. (34.22 %) (61)\n",
      "true: 1512,    pred: 2458.3264670059853. (62.59 %) (60)\n",
      "true: 2414,    pred: 2214.5537001987195. (8.26 %) (59)\n",
      "true: 2414,    pred: 2085.299370039443. (13.62 %) (58)\n",
      "true: 1512,    pred: 1931.9490501205717. (27.77 %) (57)\n",
      "0.24702044763762238 0.16596377199784115\n",
      "true: 1460,    pred: 1045.4624810041657. (28.39 %) (64)\n",
      "true: 1671,    pred: 1508.814993844343. (9.71 %) (63)\n",
      "true: 1671,    pred: 1353.0467144371135. (19.03 %) (62)\n",
      "true: 1460,    pred: 1019.5366168950778. (30.17 %) (61)\n",
      "true: 1512,    pred: 2418.498782445843. (59.95 %) (60)\n",
      "true: 2414,    pred: 2133.696423866928. (11.61 %) (59)\n",
      "true: 2414,    pred: 2167.7225864047077. (10.20 %) (58)\n",
      "true: 1512,    pred: 2000.7426701454012. (32.32 %) (57)\n",
      "0.2517334975586906 0.15736882833705268\n",
      "(0.2517334975586906, 0.15736882833705268)\n",
      "[1.51188061]\n",
      "true: 1460,    pred: 1045.4624810041657. (28.39 %) (64)\n",
      "true: 1671,    pred: 1508.814993844343. (9.71 %) (63)\n",
      "true: 1671,    pred: 1353.0467144371135. (19.03 %) (62)\n",
      "true: 1460,    pred: 1019.5366168950778. (30.17 %) (61)\n",
      "true: 1512,    pred: 2418.498782445843. (59.95 %) (60)\n",
      "true: 2414,    pred: 2133.696423866928. (11.61 %) (59)\n",
      "true: 2414,    pred: 2167.7225864047077. (10.20 %) (58)\n",
      "true: 1512,    pred: 2000.7426701454012. (32.32 %) (57)\n",
      "0.2517334975586906 0.15736882833705268\n",
      "true: 1460,    pred: 951.9586694852748. (34.80 %) (64)\n",
      "true: 1671,    pred: 1100.9850039577723. (34.11 %) (63)\n",
      "true: 1671,    pred: 955.3262417375155. (42.83 %) (62)\n",
      "true: 1460,    pred: 842.4752789571414. (42.30 %) (61)\n",
      "true: 1512,    pred: 2618.087640447142. (73.15 %) (60)\n",
      "true: 2414,    pred: 2364.6635531418265. (2.04 %) (59)\n",
      "true: 2414,    pred: 2524.596032846665. (4.58 %) (58)\n",
      "true: 1512,    pred: 1621.5824172345986. (7.25 %) (57)\n",
      "0.30132688529573504 0.22812164053505937\n",
      "(0.30132688529573504, 0.22812164053505937)\n",
      "[3.06617085]\n",
      "true: 1460,    pred: 951.9586694852748. (34.80 %) (64)\n",
      "true: 1671,    pred: 1100.9850039577723. (34.11 %) (63)\n",
      "true: 1671,    pred: 955.3262417375155. (42.83 %) (62)\n",
      "true: 1460,    pred: 842.4752789571414. (42.30 %) (61)\n",
      "true: 1512,    pred: 2618.087640447142. (73.15 %) (60)\n",
      "true: 2414,    pred: 2364.6635531418265. (2.04 %) (59)\n",
      "true: 2414,    pred: 2524.596032846665. (4.58 %) (58)\n",
      "true: 1512,    pred: 1621.5824172345986. (7.25 %) (57)\n",
      "0.30132688529573504 0.22812164053505937\n",
      "true: 1460,    pred: 877.3535396763106. (39.91 %) (64)\n",
      "true: 1671,    pred: 1114.9774744310669. (33.27 %) (63)\n",
      "true: 1671,    pred: 891.0182725153178. (46.68 %) (62)\n",
      "true: 1460,    pred: 905.9167795043127. (37.95 %) (61)\n",
      "true: 1512,    pred: 2595.397635703722. (71.65 %) (60)\n",
      "true: 2414,    pred: 2146.814883684668. (11.07 %) (59)\n",
      "true: 2414,    pred: 2696.5956038967443. (11.71 %) (58)\n",
      "true: 1512,    pred: 1701.166041459543. (12.51 %) (57)\n",
      "0.3309368979987402 0.19709124689250468\n",
      "(0.3309368979987402, 0.19709124689250468)\n",
      "[3.60254648]\n",
      "true: 1460,    pred: 877.3535396763106. (39.91 %) (64)\n",
      "true: 1671,    pred: 1114.9774744310669. (33.27 %) (63)\n",
      "true: 1671,    pred: 891.0182725153178. (46.68 %) (62)\n",
      "true: 1460,    pred: 905.9167795043127. (37.95 %) (61)\n",
      "true: 1512,    pred: 2595.397635703722. (71.65 %) (60)\n",
      "true: 2414,    pred: 2146.814883684668. (11.07 %) (59)\n",
      "true: 2414,    pred: 2696.5956038967443. (11.71 %) (58)\n",
      "true: 1512,    pred: 1701.166041459543. (12.51 %) (57)\n",
      "0.3309368979987402 0.19709124689250468\n"
     ]
    },
    {
     "name": "stderr",
     "output_type": "stream",
     "text": [
      "/tmp/ipykernel_166482/2078519882.py:4: SettingWithCopyWarning: \n",
      "A value is trying to be set on a copy of a slice from a DataFrame.\n",
      "Try using .loc[row_indexer,col_indexer] = value instead\n",
      "\n",
      "See the caveats in the documentation: https://pandas.pydata.org/pandas-docs/stable/user_guide/indexing.html#returning-a-view-versus-a-copy\n",
      "  block_df[f'err_{item_}'] = (block_df['F'] - (block_df[item_] * factors_dict[item_]['factor'])) / block_df['F']\n"
     ]
    }
   ],
   "source": [
    "gd_factors_dict = linear_model_selection(gd_df, selection_cols=['cv1','dcv1', 'cv3', 'dcv3'],type_col=\"block\", cross_val='id')\n",
    "gd_res, f = get_selection_error(gd_factors_dict, gd_df)"
   ]
  },
  {
   "cell_type": "raw",
   "id": "58e8b886-25b3-4c2d-8839-02f03f5e97dd",
   "metadata": {},
   "source": [
    "gd_factors_dict"
   ]
  },
  {
   "cell_type": "code",
   "execution_count": 51,
   "id": "ce69cebc-fcd0-4688-98bf-26943f224f7c",
   "metadata": {},
   "outputs": [],
   "source": [
    "def how_many_sections(row_tracks):\n",
    "    for key in list(row_tracks.keys()):\n",
    "        print(f'number of sections in row {key} is {len(list(row_tracks[key].keys()))}')"
   ]
  },
  {
   "cell_type": "code",
   "execution_count": 17,
   "id": "747dc4e6-2bba-44e9-bf49-ae4f8feffe3a",
   "metadata": {},
   "outputs": [
    {
     "name": "stdout",
     "output_type": "stream",
     "text": [
      "block == \"036fujio\" and row == \"row_111\" and tree_id == 1\n",
      "block == \"036fujio\" and row == \"row_111\" and tree_id == 2\n",
      "block == \"036fujio\" and row == \"row_222\" and tree_id == 1\n",
      "block == \"036fujio\" and row == \"row_222\" and tree_id == 2\n",
      "block == \"036fujio\" and row == \"row_333\" and tree_id == 1\n",
      "block == \"036fujio\" and row == \"row_333\" and tree_id == 2\n",
      "block == \"036fujio\" and row == \"row_444\" and tree_id == 1\n",
      "block == \"036fujio\" and row == \"row_444\" and tree_id == 2\n",
      "block == \"036fujio\" and row == \"row_555\" and tree_id == 1\n",
      "block == \"036fujio\" and row == \"row_555\" and tree_id == 2\n",
      "block == \"036fujio\" and row == \"row_666\" and tree_id == 1\n",
      "block == \"036fujio\" and row == \"row_666\" and tree_id == 2\n",
      "block == \"036fujio\" and row == \"row_777\" and tree_id == 1\n",
      "block == \"036fujio\" and row == \"row_777\" and tree_id == 2\n",
      "block == \"036fujio\" and row == \"row_888\" and tree_id == 1\n",
      "block == \"036fujio\" and row == \"row_888\" and tree_id == 2\n"
     ]
    }
   ],
   "source": [
    "block_36_path = \"/media/matans/My Book/FruitSpec/Apples_SA/036FUJIO\"\n",
    "block_36 = '036FUJIO'\n",
    "block_36_df, row_tracks_36 = block_analysis(block_36_path, metadata_path, block_36)"
   ]
  },
  {
   "cell_type": "code",
   "execution_count": 52,
   "id": "f79273d7-33de-45ef-b0c8-784ab79c0cdc",
   "metadata": {},
   "outputs": [
    {
     "name": "stdout",
     "output_type": "stream",
     "text": [
      "number of sections in row row_111 is 2\n",
      "number of sections in row row_222 is 2\n",
      "number of sections in row row_333 is 2\n",
      "number of sections in row row_444 is 2\n",
      "number of sections in row row_555 is 2\n",
      "number of sections in row row_666 is 2\n",
      "number of sections in row row_777 is 2\n",
      "number of sections in row row_888 is 2\n"
     ]
    }
   ],
   "source": [
    "how_many_sections(row_tracks_36)"
   ]
  },
  {
   "cell_type": "code",
   "execution_count": null,
   "id": "58281a59-1f0d-488b-bdb4-f715905bd645",
   "metadata": {},
   "outputs": [],
   "source": [
    "block_36_df"
   ]
  },
  {
   "cell_type": "code",
   "execution_count": null,
   "id": "5de9ebf9-92e7-415f-98b6-90a388f898e6",
   "metadata": {},
   "outputs": [],
   "source": [
    "row_to_drow = 'row_222'\n",
    "tree_id = 1\n",
    "date = '241123'\n",
    "draw_tree_bb_from_tracks(row_tracks_36[row_to_drow][tree_id], os.path.join(block_36_path, date, row_to_drow, '1'), tree_id)"
   ]
  },
  {
   "cell_type": "code",
   "execution_count": 20,
   "id": "1337bcde-d23d-4c59-8d9f-c20cb82e0423",
   "metadata": {},
   "outputs": [],
   "source": [
    "f_36_df = block_36_df.query('variety == \"Fuji\"')"
   ]
  },
  {
   "cell_type": "code",
   "execution_count": 21,
   "id": "5f3f6c64-fca6-4f0b-81c5-b27f33c20b88",
   "metadata": {},
   "outputs": [
    {
     "name": "stdout",
     "output_type": "stream",
     "text": [
      "true: 962,    pred: 841.4976788473219. (12.53 %) (88)\n",
      "true: 812,    pred: 601.6729643195838. (25.90 %) (87)\n",
      "true: 812,    pred: 951.5979031528129. (17.19 %) (86)\n",
      "true: 962,    pred: 1078.6986088973244. (12.13 %) (85)\n",
      "true: 1262,    pred: 887.1060025519054. (29.71 %) (84)\n",
      "true: 990,    pred: 1031.1946145353895. (4.16 %) (83)\n",
      "true: 990,    pred: 1353.6229352082037. (36.73 %) (82)\n",
      "true: 1262,    pred: 1155.356322552611. (8.45 %) (81)\n",
      "0.18349829599437675 0.1058936744393489\n",
      "(0.18349829599437675, 0.1058936744393489)\n",
      "[1.82526333]\n",
      "true: 962,    pred: 841.4976788473219. (12.53 %) (88)\n",
      "true: 812,    pred: 601.6729643195838. (25.90 %) (87)\n",
      "true: 812,    pred: 951.5979031528129. (17.19 %) (86)\n",
      "true: 962,    pred: 1078.6986088973244. (12.13 %) (85)\n",
      "true: 1262,    pred: 887.1060025519054. (29.71 %) (84)\n",
      "true: 990,    pred: 1031.1946145353895. (4.16 %) (83)\n",
      "true: 990,    pred: 1353.6229352082037. (36.73 %) (82)\n",
      "true: 1262,    pred: 1155.356322552611. (8.45 %) (81)\n",
      "0.18349829599437675 0.1058936744393489\n",
      "true: 962,    pred: 806.0433419834709. (16.21 %) (88)\n",
      "true: 812,    pred: 612.5661588957615. (24.56 %) (87)\n",
      "true: 812,    pred: 959.4425361354353. (18.16 %) (86)\n",
      "true: 962,    pred: 1103.5794609584002. (14.72 %) (85)\n",
      "true: 1262,    pred: 893.2803609743578. (29.22 %) (84)\n",
      "true: 990,    pred: 1038.0880050703884. (4.86 %) (83)\n",
      "true: 990,    pred: 1337.5652796327686. (35.11 %) (82)\n",
      "true: 1262,    pred: 1150.5589871314444. (8.83 %) (81)\n",
      "0.18957531207045905 0.09519785032208494\n",
      "(0.18957531207045905, 0.09519785032208494)\n",
      "[1.96892083]\n",
      "true: 962,    pred: 806.0433419834709. (16.21 %) (88)\n",
      "true: 812,    pred: 612.5661588957615. (24.56 %) (87)\n",
      "true: 812,    pred: 959.4425361354353. (18.16 %) (86)\n",
      "true: 962,    pred: 1103.5794609584002. (14.72 %) (85)\n",
      "true: 1262,    pred: 893.2803609743578. (29.22 %) (84)\n",
      "true: 990,    pred: 1038.0880050703884. (4.86 %) (83)\n",
      "true: 990,    pred: 1337.5652796327686. (35.11 %) (82)\n",
      "true: 1262,    pred: 1150.5589871314444. (8.83 %) (81)\n",
      "0.18957531207045905 0.09519785032208494\n",
      "true: 962,    pred: 688.3217746144129. (28.45 %) (88)\n",
      "true: 812,    pred: 558.0201390367328. (31.28 %) (87)\n",
      "true: 812,    pred: 1036.751722738342. (27.68 %) (86)\n",
      "true: 962,    pred: 1311.857969880696. (36.37 %) (85)\n",
      "true: 1262,    pred: 848.1433711790391. (32.79 %) (84)\n",
      "true: 990,    pred: 883.0012523358358. (10.81 %) (83)\n",
      "true: 990,    pred: 1332.0705491012586. (34.55 %) (82)\n",
      "true: 1262,    pred: 1098.8668040078662. (12.93 %) (81)\n",
      "0.268568187887578 0.09078185858250647\n",
      "(0.268568187887578, 0.09078185858250647)\n",
      "[3.92069146]\n",
      "true: 962,    pred: 688.3217746144129. (28.45 %) (88)\n",
      "true: 812,    pred: 558.0201390367328. (31.28 %) (87)\n",
      "true: 812,    pred: 1036.751722738342. (27.68 %) (86)\n",
      "true: 962,    pred: 1311.857969880696. (36.37 %) (85)\n",
      "true: 1262,    pred: 848.1433711790391. (32.79 %) (84)\n",
      "true: 990,    pred: 883.0012523358358. (10.81 %) (83)\n",
      "true: 990,    pred: 1332.0705491012586. (34.55 %) (82)\n",
      "true: 1262,    pred: 1098.8668040078662. (12.93 %) (81)\n",
      "0.268568187887578 0.09078185858250647\n",
      "true: 962,    pred: 606.4303666128658. (36.96 %) (88)\n",
      "true: 812,    pred: 565.3816133250489. (30.37 %) (87)\n",
      "true: 812,    pred: 1084.7693814170161. (33.59 %) (86)\n",
      "true: 962,    pred: 1376.7182304705175. (43.11 %) (85)\n",
      "true: 1262,    pred: 854.6553619615559. (32.28 %) (84)\n",
      "true: 990,    pred: 881.2993613616886. (10.98 %) (83)\n",
      "true: 990,    pred: 1265.6297306260822. (27.84 %) (82)\n",
      "true: 1262,    pred: 1073.9915884292204. (14.90 %) (81)\n",
      "0.2875401553709739 0.10128249838334163\n",
      "(0.2875401553709739, 0.10128249838334163)\n",
      "[4.39629187]\n",
      "true: 962,    pred: 606.4303666128658. (36.96 %) (88)\n",
      "true: 812,    pred: 565.3816133250489. (30.37 %) (87)\n",
      "true: 812,    pred: 1084.7693814170161. (33.59 %) (86)\n",
      "true: 962,    pred: 1376.7182304705175. (43.11 %) (85)\n",
      "true: 1262,    pred: 854.6553619615559. (32.28 %) (84)\n",
      "true: 990,    pred: 881.2993613616886. (10.98 %) (83)\n",
      "true: 990,    pred: 1265.6297306260822. (27.84 %) (82)\n",
      "true: 1262,    pred: 1073.9915884292204. (14.90 %) (81)\n",
      "0.2875401553709739 0.10128249838334163\n"
     ]
    },
    {
     "name": "stderr",
     "output_type": "stream",
     "text": [
      "/tmp/ipykernel_166482/2078519882.py:4: SettingWithCopyWarning: \n",
      "A value is trying to be set on a copy of a slice from a DataFrame.\n",
      "Try using .loc[row_indexer,col_indexer] = value instead\n",
      "\n",
      "See the caveats in the documentation: https://pandas.pydata.org/pandas-docs/stable/user_guide/indexing.html#returning-a-view-versus-a-copy\n",
      "  block_df[f'err_{item_}'] = (block_df['F'] - (block_df[item_] * factors_dict[item_]['factor'])) / block_df['F']\n",
      "/tmp/ipykernel_166482/2078519882.py:4: SettingWithCopyWarning: \n",
      "A value is trying to be set on a copy of a slice from a DataFrame.\n",
      "Try using .loc[row_indexer,col_indexer] = value instead\n",
      "\n",
      "See the caveats in the documentation: https://pandas.pydata.org/pandas-docs/stable/user_guide/indexing.html#returning-a-view-versus-a-copy\n",
      "  block_df[f'err_{item_}'] = (block_df['F'] - (block_df[item_] * factors_dict[item_]['factor'])) / block_df['F']\n",
      "/tmp/ipykernel_166482/2078519882.py:4: SettingWithCopyWarning: \n",
      "A value is trying to be set on a copy of a slice from a DataFrame.\n",
      "Try using .loc[row_indexer,col_indexer] = value instead\n",
      "\n",
      "See the caveats in the documentation: https://pandas.pydata.org/pandas-docs/stable/user_guide/indexing.html#returning-a-view-versus-a-copy\n",
      "  block_df[f'err_{item_}'] = (block_df['F'] - (block_df[item_] * factors_dict[item_]['factor'])) / block_df['F']\n",
      "/tmp/ipykernel_166482/2078519882.py:4: SettingWithCopyWarning: \n",
      "A value is trying to be set on a copy of a slice from a DataFrame.\n",
      "Try using .loc[row_indexer,col_indexer] = value instead\n",
      "\n",
      "See the caveats in the documentation: https://pandas.pydata.org/pandas-docs/stable/user_guide/indexing.html#returning-a-view-versus-a-copy\n",
      "  block_df[f'err_{item_}'] = (block_df['F'] - (block_df[item_] * factors_dict[item_]['factor'])) / block_df['F']\n"
     ]
    }
   ],
   "source": [
    "f_36_df = block_36_df.query('variety == \"Fuji\"')\n",
    "fuji_factors_dict = linear_model_selection(f_36_df, selection_cols=['cv1','dcv1', 'cv3', 'dcv3'],type_col=\"block\", cross_val='id')\n",
    "res, fuji_block_36_df_res = get_selection_error(fuji_factors_dict, f_36_df)"
   ]
  },
  {
   "cell_type": "code",
   "execution_count": 22,
   "id": "270eb2f9-4916-4fa6-93dd-3e8675d2aea5",
   "metadata": {},
   "outputs": [
    {
     "data": {
      "text/plain": [
       "{'cv1': {'err': 0.02913828909100187, 'err_std': 0.18047224951270183},\n",
       " 'dcv1': {'err': 0.02926530149327095, 'err_std': 0.18107355014277565},\n",
       " 'cv3': {'err': 0.05497862639192526, 'err_std': 0.2391133235306315},\n",
       " 'dcv3': {'err': 0.0634698888894831, 'err_std': 0.25628202625323704}}"
      ]
     },
     "execution_count": 22,
     "metadata": {},
     "output_type": "execute_result"
    }
   ],
   "source": [
    "res"
   ]
  },
  {
   "cell_type": "code",
   "execution_count": 23,
   "id": "a393b559-c345-4fec-8f88-0464c0efc4e2",
   "metadata": {},
   "outputs": [
    {
     "data": {
      "text/plain": [
       "{'cv1': {'factor': array([1.79682165]),\n",
       "  'mean_error': 0.18349829599437675,\n",
       "  'std_error': 0.1058936744393489},\n",
       " 'dcv1': {'factor': array([1.93696799]),\n",
       "  'mean_error': 0.18957531207045905,\n",
       "  'std_error': 0.09519785032208494},\n",
       " 'cv3': {'factor': array([3.8288042]),\n",
       "  'mean_error': 0.268568187887578,\n",
       "  'std_error': 0.09078185858250647},\n",
       " 'dcv3': {'factor': array([4.27885095]),\n",
       "  'mean_error': 0.2875401553709739,\n",
       "  'std_error': 0.10128249838334163}}"
      ]
     },
     "execution_count": 23,
     "metadata": {},
     "output_type": "execute_result"
    }
   ],
   "source": [
    "fuji_factors_dict"
   ]
  },
  {
   "cell_type": "code",
   "execution_count": null,
   "id": "d6224deb-d5ad-4dba-973d-8302c38d0e90",
   "metadata": {},
   "outputs": [],
   "source": [
    "p_36_df = block_36_df.query('variety == \"Pink Lady\"')\n",
    "pink_factors_dict = linear_model_selection(p_36_df, selection_cols=['cv1','dcv1', 'cv3', 'dcv3'],type_col=\"block\", cross_val='id')\n",
    "p_res, pink_block_36_df_res = get_selection_error(pink_factors_dict, p_36_df)"
   ]
  },
  {
   "cell_type": "code",
   "execution_count": null,
   "id": "9d3e4f44-edb7-4db8-b32d-e89afbc8a222",
   "metadata": {},
   "outputs": [],
   "source": [
    "p_res"
   ]
  },
  {
   "cell_type": "code",
   "execution_count": null,
   "id": "b629334c-36a3-41d6-b477-f962a2bf1c0b",
   "metadata": {},
   "outputs": [],
   "source": [
    "pink_factors_dict"
   ]
  },
  {
   "cell_type": "code",
   "execution_count": 48,
   "id": "681d6ab6-7505-4d08-af21-112fb9b46ca1",
   "metadata": {},
   "outputs": [
    {
     "data": {
      "text/plain": [
       "112.04264175495226"
      ]
     },
     "execution_count": 48,
     "metadata": {},
     "output_type": "execute_result"
    }
   ],
   "source": [
    "f_36_df.cv1.std()"
   ]
  },
  {
   "cell_type": "code",
   "execution_count": 49,
   "id": "cf77b5b3-b514-4749-8e5e-e4753c7303fa",
   "metadata": {},
   "outputs": [
    {
     "data": {
      "text/plain": [
       "538.875"
      ]
     },
     "execution_count": 49,
     "metadata": {},
     "output_type": "execute_result"
    }
   ],
   "source": [
    "f_36_df.cv1.mean()"
   ]
  },
  {
   "cell_type": "code",
   "execution_count": 50,
   "id": "062ba096-74bd-4c55-b7ed-02c5b26cc578",
   "metadata": {},
   "outputs": [
    {
     "ename": "NameError",
     "evalue": "name 'p_36_df' is not defined",
     "output_type": "error",
     "traceback": [
      "\u001b[0;31m---------------------------------------------------------------------------\u001b[0m",
      "\u001b[0;31mNameError\u001b[0m                                 Traceback (most recent call last)",
      "Cell \u001b[0;32mIn[50], line 1\u001b[0m\n\u001b[0;32m----> 1\u001b[0m \u001b[43mp_36_df\u001b[49m\u001b[38;5;241m.\u001b[39mcv1\u001b[38;5;241m.\u001b[39mstd()\n",
      "\u001b[0;31mNameError\u001b[0m: name 'p_36_df' is not defined"
     ]
    }
   ],
   "source": [
    "p_36_df.cv1.std()"
   ]
  },
  {
   "cell_type": "code",
   "execution_count": null,
   "id": "12fdac10-5413-4922-90e1-fd5ba92e7217",
   "metadata": {},
   "outputs": [],
   "source": []
  }
 ],
 "metadata": {
  "kernelspec": {
   "display_name": "Python 3 (ipykernel)",
   "language": "python",
   "name": "python3"
  },
  "language_info": {
   "codemirror_mode": {
    "name": "ipython",
    "version": 3
   },
   "file_extension": ".py",
   "mimetype": "text/x-python",
   "name": "python",
   "nbconvert_exporter": "python",
   "pygments_lexer": "ipython3",
   "version": "3.8.17"
  }
 },
 "nbformat": 4,
 "nbformat_minor": 5
}
