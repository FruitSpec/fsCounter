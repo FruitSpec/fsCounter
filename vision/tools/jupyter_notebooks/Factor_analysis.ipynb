{
 "cells": [
  {
   "cell_type": "code",
   "execution_count": 1,
   "id": "6b4ccb55-cc65-45f0-9ca7-a4c56c9520e2",
   "metadata": {
    "scrolled": true
   },
   "outputs": [],
   "source": [
    "import os\n",
    "\n",
    "def get_repo_dir():\n",
    "    cwd = os.getcwd()\n",
    "    splited = cwd.split('/')\n",
    "    ind = splited.index('fsCounter')\n",
    "    repo_dir = '/'\n",
    "    for s in splited[1:ind + 1]:\n",
    "        repo_dir = os.path.join(repo_dir, s)\n",
    "\n",
    "    return repo_dir"
   ]
  },
  {
   "cell_type": "code",
   "execution_count": 2,
   "id": "bad683bf-f6bf-4d99-bb8b-89390921acb3",
   "metadata": {},
   "outputs": [],
   "source": [
    "import sys\n",
    "import pandas as pd\n",
    "import numpy as np\n",
    "import seaborn as sns\n",
    "import matplotlib.pyplot as plt\n",
    "from IPython.display import display\n",
    "\n",
    "\n",
    "\n",
    "sys.path.append(get_repo_dir())\n",
    "\n",
    "from vision.tools.jupyter_notebooks.notebook_analysis_help_funcs import *\n",
    "from vision.tools.post_process_analysis import read_tracks_and_slices, get_block_count"
   ]
  },
  {
   "cell_type": "code",
   "execution_count": 5,
   "id": "7d4fa43b-ed59-48df-90b2-be6ac9bdf888",
   "metadata": {},
   "outputs": [],
   "source": [
    "block_path = \"/media/matans/My Book/FruitSpec/Apples_SA/block 13/block 13\"\n",
    "block_counts = get_block_count(block_path)"
   ]
  },
  {
   "cell_type": "code",
   "execution_count": 6,
   "id": "de2ad814-114c-44d5-a10d-8e093005557f",
   "metadata": {},
   "outputs": [
    {
     "data": {
      "text/plain": [
       "[{'tree_id': 1,\n",
       "  'block': 'block 13',\n",
       "  'row': 'row_1111',\n",
       "  '1': 496,\n",
       "  '2': 348,\n",
       "  '3': 248},\n",
       " {'tree_id': 1,\n",
       "  'block': 'block 13',\n",
       "  'row': 'row_2222',\n",
       "  '1': 488,\n",
       "  '2': 298,\n",
       "  '3': 218},\n",
       " {'tree_id': 1,\n",
       "  'block': 'block 13',\n",
       "  'row': 'row_3333',\n",
       "  '1': 411,\n",
       "  '2': 286,\n",
       "  '3': 221},\n",
       " {'tree_id': 1,\n",
       "  'block': 'block 13',\n",
       "  'row': 'row_4444',\n",
       "  '1': 485,\n",
       "  '2': 341,\n",
       "  '3': 256},\n",
       " {'tree_id': 1,\n",
       "  'block': 'block 13',\n",
       "  'row': 'row_5555',\n",
       "  '1': 1199,\n",
       "  '2': 960,\n",
       "  '3': 792},\n",
       " {'tree_id': 1,\n",
       "  'block': 'block 13',\n",
       "  'row': 'row_6666',\n",
       "  '1': 1040,\n",
       "  '2': 821,\n",
       "  '3': 665},\n",
       " {'tree_id': 1,\n",
       "  'block': 'block 13',\n",
       "  'row': 'row_7777',\n",
       "  '1': 862,\n",
       "  '2': 690,\n",
       "  '3': 574},\n",
       " {'tree_id': 1,\n",
       "  'block': 'block 13',\n",
       "  'row': 'row_8888',\n",
       "  '1': 803,\n",
       "  '2': 584,\n",
       "  '3': 430}]"
      ]
     },
     "execution_count": 6,
     "metadata": {},
     "output_type": "execute_result"
    }
   ],
   "source": [
    "block_counts"
   ]
  },
  {
   "cell_type": "code",
   "execution_count": null,
   "id": "c5856d0b-4a2e-483c-b724-25f6919a599c",
   "metadata": {},
   "outputs": [],
   "source": []
  }
 ],
 "metadata": {
  "kernelspec": {
   "display_name": "Python 3 (ipykernel)",
   "language": "python",
   "name": "python3"
  },
  "language_info": {
   "codemirror_mode": {
    "name": "ipython",
    "version": 3
   },
   "file_extension": ".py",
   "mimetype": "text/x-python",
   "name": "python",
   "nbconvert_exporter": "python",
   "pygments_lexer": "ipython3",
   "version": "3.8.17"
  }
 },
 "nbformat": 4,
 "nbformat_minor": 5
}
