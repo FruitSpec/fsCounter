{
 "cells": [
  {
   "cell_type": "code",
   "execution_count": null,
   "id": "fe905d77",
   "metadata": {},
   "outputs": [],
   "source": [
    "import os\n",
    "import cv2\n",
    "import matplotlib.pyplot as plt\n",
    "\n",
    "from vizualization.drawer import draw_rectangle, draw_text, draw_highlighted_test, get_color"
   ]
  },
  {
   "cell_type": "code",
   "execution_count": null,
   "id": "f534ecef",
   "metadata": {},
   "outputs": [],
   "source": [
    "def plot_img(img, cmap=None):\n",
    "    f, ax = plt.subplots(1, 1, figsize = (15, 10))\n",
    "    if cmap is None:\n",
    "        ax.imshow(img)\n",
    "    else:\n",
    "        ax.imshow(img, cmap)"
   ]
  },
  {
   "cell_type": "code",
   "execution_count": null,
   "id": "871dcf3b",
   "metadata": {},
   "outputs": [],
   "source": [
    "fp = '/home/fruitspec-lab/FruitSpec/Data/JAI_FSI_V6_COCO/val2017'\n",
    "img_list = os.listdir(fp)\n",
    "img = cv2.imread(os.path.join(fp,img_list[0]))\n",
    "rgb = cv2.cvtColor(img, cv2.COLOR_BGR2RGB)"
   ]
  },
  {
   "cell_type": "code",
   "execution_count": null,
   "id": "4e9d2ae9",
   "metadata": {},
   "outputs": [],
   "source": [
    "b_color = get_color(4)\n",
    "t_color = get_color(-2)\n",
    "out = draw_rectangle(rgb, [500,500], [600,600], b_color,4)\n",
    "out = draw_highlighted_test(out, 'Id:10', [500,500], [1536], b_color, t_color, above=False, font_scale=10, thickness=4, factor=10)\n",
    "#out = draw_text(out, 'id: 10', [500,500], [1536], color=(255, 0, 0), above=True, font_scale=10, thickness=4, factor=10)"
   ]
  },
  {
   "cell_type": "code",
   "execution_count": null,
   "id": "31e54cca",
   "metadata": {},
   "outputs": [],
   "source": [
    "plot_img(out)"
   ]
  },
  {
   "cell_type": "code",
   "execution_count": null,
   "id": "0930d815",
   "metadata": {},
   "outputs": [],
   "source": []
  }
 ],
 "metadata": {
  "kernelspec": {
   "display_name": "Python 3 (ipykernel)",
   "language": "python",
   "name": "python3"
  },
  "language_info": {
   "codemirror_mode": {
    "name": "ipython",
    "version": 3
   },
   "file_extension": ".py",
   "mimetype": "text/x-python",
   "name": "python",
   "nbconvert_exporter": "python",
   "pygments_lexer": "ipython3",
   "version": "3.7.16"
  }
 },
 "nbformat": 4,
 "nbformat_minor": 5
}
