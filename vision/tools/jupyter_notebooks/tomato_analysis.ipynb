{
 "cells": [
  {
   "cell_type": "markdown",
   "metadata": {
    "collapsed": true
   },
   "source": [
    "Run realTime"
   ]
  },
  {
   "cell_type": "code",
   "execution_count": null,
   "outputs": [],
   "source": [
    "from vision.pipelines.rgb_pipeline import get_repo_dir, run as run_rgb_pipeline, validate_output_path\n",
    "import os\n",
    "from omegaconf import OmegaConf\n",
    "\n",
    "def run_real_time():\n",
    "    repo_dir = get_repo_dir()\n",
    "    pipeline_config = repo_dir + \"vision/pipelines/config/pipeline_config.yaml\"\n",
    "    runtime_config = repo_dir + \"/vision/pipelines/config/runtime_config.yaml\"\n",
    "    cfg = OmegaConf.load(pipeline_config)\n",
    "    args = OmegaConf.load(runtime_config)\n",
    "    movies_path = args.movie_path\n",
    "    analysis_path = args.output_folder\n",
    "    for scan in os.listdir(movies_path):\n",
    "        for row in os.listdir(os.path.join(movies_path, scan)):\n",
    "            args.movie_path = os.path.join(movies_path, scan, row, [i for i in os.listdir(os.path.join(movies_path, scan, row)) if i.endswith('.svo')][0])\n",
    "            validate_output_path(os.path.join(analysis_path, scan))\n",
    "            validate_output_path(os.path.join(analysis_path, scan, row))\n",
    "            args.output_folder = os.path.join(analysis_path, scan, row)\n",
    "            run_rgb_pipeline(cfg, args)"
   ],
   "metadata": {
    "collapsed": false,
    "pycharm": {
     "name": "#%%\n"
    }
   }
  },
  {
   "cell_type": "markdown",
   "source": [
    "Diff PRE-POST"
   ],
   "metadata": {
    "collapsed": false,
    "pycharm": {
     "name": "#%% md\n"
    }
   }
  },
  {
   "cell_type": "code",
   "execution_count": 3,
   "metadata": {},
   "outputs": [],
   "source": [
    "from scipy.stats import gaussian_kde\n",
    "\n",
    "def diff_size(nonPicked_ratio, all_measures, nonPicked_measures):\n",
    "    picked_ratio = 1 - nonPicked_ratio\n",
    "    if picked_ratio == 0:\n",
    "        return (0, 0), (0, 0), (0, 0)\n",
    "\n",
    "\n",
    "    # By miu,sigma , assume normalization\n",
    "    miu_all = all_measures.mean()\n",
    "    sigma_all = all_measures.std()\n",
    "    miu_nonPicked = nonPicked_measures.mean()\n",
    "    sigma_nonPicked = nonPicked_measures.std()\n",
    "    miu_picked = (1 / picked_ratio) * miu_all - (nonPicked_ratio / picked_ratio) * miu_nonPicked\n",
    "    sigma_picked = np.sqrt((1 / picked_ratio) ** 2 * sigma_all ** 2 - (nonPicked_ratio / picked_ratio) ** 2 * sigma_nonPicked ** 2)\n",
    "\n",
    "    # By kde\n",
    "    # x_values = np.linspace(all_measures.min(), all_measures.max(), num=int(all_measures.max() - all_measures.min()))\n",
    "    # kde_all = gaussian_kde(all_measures)(x_values)\n",
    "    # kde_nonPicked = gaussian_kde(nonPicked_measures)(x_values)\n",
    "    # kde_picked = (1 / picked_ratio) * kde_all - (nonPicked_ratio / picked_ratio) * kde_nonPicked\n",
    "    # kde_miu = np.sum(kde_picked * x_values)\n",
    "    # kde_sigma = np.sqrt(np.sum(kde_picked * (x_values - kde_miu) ** 2))\n",
    "\n",
    "    # By hist\n",
    "    hist_all, bins, p = plt.hist(all_measures,density=True)\n",
    "    hist_nonPicked = plt.hist(nonPicked_measures, density=True,bins=bins)[0]\n",
    "    hist_picked = (1 / picked_ratio) * hist_all - (nonPicked_ratio / picked_ratio) * hist_nonPicked\n",
    "    hist_picked = hist_picked/ np.sum(hist_picked)\n",
    "    bins = [(var+ bins[i + 1])/2 for i, var in enumerate(bins) if i+1 != len(bins)]\n",
    "    hist_miu = np.sum(hist_picked * bins)\n",
    "    hist_sigma = np.sqrt(np.sum(hist_picked * (bins - hist_miu) ** 2))\n",
    "\n",
    "    plt.close()\n",
    "    return (miu_picked, sigma_picked), (None, None), (hist_miu, hist_sigma)"
   ]
  },
  {
   "cell_type": "code",
   "execution_count": 4,
   "outputs": [],
   "source": [
    "def map_tree_into_plot(row,T,type = 'tomato'):\n",
    "    df = pd.read_csv(r'C:\\Users\\frodo\\OneDrive - FruitSpec\\Syngenta\\Mapping\\Map_trees_to_plot.csv')\n",
    "    t = df[(df['row']==int(row)) & (df['tree_id']==T) & (df['type']==type)]\n",
    "    try:\n",
    "        res = t.iloc[0]['plot']\n",
    "    except:\n",
    "        print('ERROR in plot mapping, row: ' , row, 'tree_num:', T)\n",
    "        return 0000\n",
    "    return res"
   ],
   "metadata": {
    "collapsed": false,
    "pycharm": {
     "name": "#%%\n"
    }
   }
  },
  {
   "cell_type": "markdown",
   "source": [
    "Check slicing"
   ],
   "metadata": {
    "collapsed": false,
    "pycharm": {
     "name": "#%% md\n"
    }
   }
  },
  {
   "cell_type": "code",
   "execution_count": 5,
   "outputs": [],
   "source": [
    "plot_num_dict = {'7': 12,'8':12,'9':13,'10':15,'11':15,'18':8,'19':8,'20':8,'21':8}"
   ],
   "metadata": {
    "collapsed": false,
    "pycharm": {
     "name": "#%%\n"
    }
   }
  },
  {
   "cell_type": "code",
   "execution_count": 6,
   "outputs": [
    {
     "name": "stdout",
     "output_type": "stream",
     "text": [
      "post - 10 - completed!\n",
      "post - 11 - completed!\n",
      "post - 18 - completed!\n",
      "post - 20 - completed!\n",
      "post - 21 - completed!\n",
      "post - 7 - completed!\n",
      "post - 8 - completed!\n",
      "post - 9 - completed!\n",
      "pre - 10 - completed!\n",
      "pre - 11 - completed!\n",
      "pre - 18 - completed!\n",
      "pre - 20 - completed!\n",
      "pre - 21 - completed!\n",
      "pre - 7 - completed!\n",
      "pre - 8 - completed!\n",
      "pre - 9 - completed!\n"
     ]
    }
   ],
   "source": [
    "from vision.tools.manual_slicer import slice_to_trees\n",
    "import os\n",
    "path = r'C:\\Users\\frodo\\OneDrive - FruitSpec\\Syngenta\\tomato\\230123'\n",
    "for scan in os.listdir(path):\n",
    "    if os.path.isfile(os.path.join(path,scan)):\n",
    "        continue\n",
    "    for row in os.listdir(os.path.join(path,scan)):\n",
    "        try:\n",
    "            json_path = os.path.join(path,scan,row, [i for i in os.listdir(os.path.join(path,scan,row)) if 'slice_data' in i][0])\n",
    "        except Exception as e:\n",
    "            continue\n",
    "        exist_plots = len(slice_to_trees(json_path,None,None)['tree_id'].unique())\n",
    "        GT_plots = plot_num_dict[row]\n",
    "        if GT_plots == exist_plots:\n",
    "            print(f'{scan} - {row} - completed!')\n",
    "        else:\n",
    "            print(f'{scan} - {row} - {exist_plots}/{GT_plots}')"
   ],
   "metadata": {
    "collapsed": false,
    "pycharm": {
     "name": "#%%\n"
    }
   }
  },
  {
   "cell_type": "markdown",
   "metadata": {},
   "source": [
    "Run Counter"
   ]
  },
  {
   "cell_type": "code",
   "execution_count": 7,
   "metadata": {},
   "outputs": [],
   "source": [
    "import os\n",
    "from vision.tools.manual_slicer import slice_to_trees\n",
    "import math\n",
    "import pandas as pd\n",
    "import numpy as np\n",
    "import matplotlib.pyplot as plt"
   ]
  },
  {
   "cell_type": "code",
   "execution_count": 8,
   "metadata": {},
   "outputs": [],
   "source": [
    "def open_measures(path):\n",
    "    df = pd.read_csv(os.path.join(path, 'measures.csv'))\n",
    "    return df"
   ]
  },
  {
   "cell_type": "code",
   "execution_count": 9,
   "outputs": [],
   "source": [
    "def bound_red_fruit(df):\n",
    "    # filter out clusters that have only green fruits\n",
    "    df_red = df[(df['color']<60) & (df['color']>0)]\n",
    "    if df_red.empty:\n",
    "        return pd.DataFrame(columns=df.columns)\n",
    "    min_red = df_red['y1'].min()\n",
    "    df = df[df['y1']>min_red]\n",
    "    return df"
   ],
   "metadata": {
    "collapsed": false,
    "pycharm": {
     "name": "#%%\n"
    }
   }
  },
  {
   "cell_type": "code",
   "execution_count": 10,
   "metadata": {},
   "outputs": [],
   "source": [
    "def trackers_into_value(df_tree, df_res, analysis='counter'):\n",
    "\n",
    "    def color(x):\n",
    "        if x>0 and x<25:\n",
    "            return 1\n",
    "        elif x>25 and x<45:\n",
    "            return 2\n",
    "        elif x>45 and x<65:\n",
    "            return 3\n",
    "        elif x>90 and x<165:\n",
    "            return 4\n",
    "\n",
    "    if df_tree is not None:\n",
    "        df_tree['end'].replace([-1], math.inf,inplace=True)\n",
    "    plot_det = []\n",
    "    const = 10\n",
    "    for frame_id, df_frame in df_res.groupby('frame'):\n",
    "        df_frame = bound_red_fruit(df_frame)\n",
    "        if df_tree is not None:\n",
    "            limit = df_tree[df_tree['frame_id'] == frame_id]\n",
    "            if limit.empty or df_frame.empty:\n",
    "                continue\n",
    "            limit = limit.iloc[0]\n",
    "            df = df_frame[(df_frame['x2'] + const > limit['start']) & (df_frame['x1'] < limit['end'] - const)]\n",
    "        else:\n",
    "            df =df_frame\n",
    "        plot_det.append(df)\n",
    "\n",
    "    df_res = pd.concat(plot_det,axis=0)\n",
    "\n",
    "    if analysis == 'color':\n",
    "        counter = len(df_res['track_id'].unique())\n",
    "        df_res = df_res[(df_res['color'] < 65) | ((df_res['color'] > 90) & (df_res['color'] < 165))]\n",
    "        df_group = df_res.groupby('track_id')\n",
    "        colors_class = df_group.apply(lambda x : color(x.color.mean())).dropna().astype(int)\n",
    "        return counter, colors_class\n",
    "    elif analysis == 'size':\n",
    "        counter = len(df_res['track_id'].unique())\n",
    "        df_res = df_res[(df_res['height'] < 90) & (df_res['width'] < 90)]\n",
    "        df_group = df_res.groupby('track_id')\n",
    "        measures = df_group.apply(lambda x : x.width.max() if x.width.mean() > x.height.mean() else x.height.max())\n",
    "        return counter,measures\n",
    "    elif analysis == 'counter':\n",
    "        counter = len(df_res['track_id'].unique())\n",
    "        return counter, None\n",
    "\n",
    "    return None,None"
   ]
  },
  {
   "cell_type": "code",
   "execution_count": 9,
   "outputs": [],
   "source": [
    "def apply_trees_counter(path, row, single=False):\n",
    "    df = pd.DataFrame()\n",
    "    # in case that no measures.csv or no json\n",
    "    try:\n",
    "        row_folder = os.path.join(path, row)\n",
    "        df_res = open_measures(row_folder)\n",
    "        trees_slices = slice_to_trees(os.path.join(row_folder, [i for i in os.listdir(row_folder) if 'slice_data' in i][0]), None, None)\n",
    "    except Exception as e:\n",
    "        if single and 'df_res' in locals():\n",
    "            count, _ = trackers_into_value(None, df_res, 'counter')\n",
    "            plot_id = map_tree_into_plot(row, 1)\n",
    "            df = df.append({'row': row, 'plot_id': plot_id, 'fruits_num': count}, ignore_index=True)\n",
    "            return df\n",
    "        print(repr(e), path, row)\n",
    "        return df\n",
    "    for tree_id, df_tree in trees_slices.groupby('tree_id'):\n",
    "        count, _ = trackers_into_value(df_tree, df_res, analysis='counter')\n",
    "        plot_id = map_tree_into_plot(row, tree_id)\n",
    "        df = df.append({'row': row, 'plot_id': plot_id, 'fruits_num': count}, ignore_index=True)\n",
    "    return df"
   ],
   "metadata": {
    "collapsed": false,
    "pycharm": {
     "name": "#%%\n"
    }
   }
  },
  {
   "cell_type": "code",
   "execution_count": 33,
   "metadata": {},
   "outputs": [],
   "source": [
    "def run_counter(scan_pre, scan_post):\n",
    "    df_pre,df_post = pd.DataFrame(),pd.DataFrame()\n",
    "    for (pre,post) in zip(os.listdir(scan_pre),os.listdir(scan_post)):\n",
    "        single = False\n",
    "        if post in ['1','2','3','4','5','6','12','13','14','15','16','17']:\n",
    "            single = True\n",
    "        else:\n",
    "            continue\n",
    "        df_pre = pd.concat([df_pre,apply_trees_counter(scan_pre,pre,single)],axis=0)\n",
    "        df_post = pd.concat([df_post,apply_trees_counter(scan_post,post,single)],axis=0)\n",
    "    df_sum = df_pre.merge(df_post,how='inner',on = ['row','plot_id'],suffixes=['_pre','_post'])\n",
    "    df_sum['diff'] = np.maximum(df_sum['fruits_num_pre'] - df_sum['fruits_num_post'],0)\n",
    "    return df_pre, df_post ,df_sum"
   ]
  },
  {
   "cell_type": "code",
   "execution_count": 35,
   "metadata": {},
   "outputs": [],
   "source": [
    "scan_pre = fr'C:\\Users\\frodo\\OneDrive - FruitSpec\\Syngenta\\tomato\\230123\\pre'\n",
    "scan_post = fr'C:\\Users\\frodo\\OneDrive - FruitSpec\\Syngenta\\tomato\\230123\\post'\n",
    "output_path = fr'C:\\Users\\frodo\\OneDrive - FruitSpec\\Syngenta\\tomato\\230123\\results_060223.csv'\n",
    "\n",
    "gt = pd.read_csv(fr'C:\\Users\\frodo\\OneDrive - FruitSpec\\Syngenta\\tomato\\230123\\ground_truth.csv')\n",
    "gt = gt[['plot_id','GT-C']]\n",
    "df_pre, df_post, df = run_counter(scan_pre,scan_post)\n",
    "df = df.merge(gt,how='left',on = ['plot_id'])\n",
    "df['error_count'] = df['diff']-df['GT-C']\n",
    "df['error'] = abs(df['error_count']/df['GT-C'])\n",
    "df['acc'] = 1 - df['error']\n",
    "df.to_csv(output_path,index=False)"
   ]
  },
  {
   "cell_type": "code",
   "execution_count": 29,
   "outputs": [
    {
     "data": {
      "text/plain": "<Figure size 432x288 with 1 Axes>",
      "image/png": "[encoded data removed]"
     },
     "metadata": {
      "needs_background": "light"
     },
     "output_type": "display_data"
    },
    {
     "name": "stdout",
     "output_type": "stream",
     "text": [
      "-31.5 -18.5\n"
     ]
    },
    {
     "data": {
      "text/plain": "<Figure size 432x288 with 1 Axes>",
      "image/png": "[encoded data removed]"
     },
     "metadata": {
      "needs_background": "light"
     },
     "output_type": "display_data"
    },
    {
     "name": "stdout",
     "output_type": "stream",
     "text": [
      "0.3792372881355932 0.0783898305084745\n"
     ]
    }
   ],
   "source": [
    "df = pd.read_csv(output_path,dtype={'row':str})\n",
    "df_1 = df[df[\"row\"].isin(['9','11','7','13','15','5','3','17','1','19','21','25'])]\n",
    "df_2 = df[df[\"row\"].isin(['10','8','12','12','6','14','4','16','2','18','20','26'])]\n",
    "\n",
    "df_1.to_csv(r\"C:\\Users\\frodo\\OneDrive - FruitSpec\\Syngenta\\tomato\\230123\\side_1_count.csv\")\n",
    "df_2.to_csv(r\"C:\\Users\\frodo\\OneDrive - FruitSpec\\Syngenta\\tomato\\230123\\side_2_count.csv\")\n",
    "\n",
    "plt.boxplot([df_1['error_count'].dropna(),df_2['error_count'].dropna()],vert=1)\n",
    "plt.show()\n",
    "print(df_1['error_count'].mean(),df_2['error_count'].mean())\n",
    "\n",
    "plt.boxplot([df_1['error'].dropna(),df_2['error'].dropna()],vert=1)\n",
    "plt.show()\n",
    "print(df_1['error'].mean(),df_2['error'].mean())"
   ],
   "metadata": {
    "collapsed": false,
    "pycharm": {
     "name": "#%%\n"
    }
   }
  },
  {
   "cell_type": "markdown",
   "metadata": {
    "pycharm": {
     "name": "#%% md\n"
    }
   },
   "source": [
    "Run Size"
   ]
  },
  {
   "cell_type": "code",
   "execution_count": 36,
   "metadata": {},
   "outputs": [],
   "source": [
    "def apply_trees_size(path,row):\n",
    "    row_folder = os.path.join(path,row)\n",
    "    df_res = open_measures(row_folder)\n",
    "    trees_slices = slice_to_trees(os.path.join(row_folder, [i for i in os.listdir(row_folder) if 'slice_data' in i][0]),None,None)\n",
    "    for tree_id, df_tree in trees_slices.groupby('tree_id'):\n",
    "        count, measures = trackers_into_value(df_tree,df_res,analysis='size')\n",
    "        plot_id = map_tree_into_plot(row, tree_id)\n",
    "        yield plot_id, count, measures"
   ]
  },
  {
   "cell_type": "code",
   "execution_count": 37,
   "outputs": [],
   "source": [
    "def run_size_plots(scan_pre, scan_post):\n",
    "    df_sum = pd.DataFrame()\n",
    "    for (pre, post) in zip(os.listdir(scan_pre), os.listdir(scan_post)):\n",
    "        if post in ['1', '2', '3', '4', '5', '6', '12', '13', '14', '15', '16', '17']:\n",
    "            continue\n",
    "        for (pre_plot_id, pre_count, pre_measures), (post_plot_id, post_count, post_measures) in zip(apply_trees_size(scan_pre, pre), apply_trees_size(scan_post, post)):\n",
    "            (miu_picked, sigma_picked), (kde_miu, kde_sigma), (hist_miu, hist_sigma) = diff_size(post_count / pre_count, pre_measures, post_measures)\n",
    "            weight_miu = 11.475 * np.exp(0.0359 * miu_picked)\n",
    "            weight_sigma = 11.475 * np.exp(0.0359 * sigma_picked)\n",
    "\n",
    "            df_sum = df_sum.append({'row': pre,\n",
    "                                    'plot_id': pre_plot_id,\n",
    "                                    \"avg_size\": miu_picked,\n",
    "                                    \"std_size\": sigma_picked,\n",
    "                                    \"avg_weight\": weight_miu,\n",
    "                                    \"std_weight\": weight_sigma}, ignore_index=True)\n",
    "    return df_sum"
   ],
   "metadata": {
    "collapsed": false,
    "pycharm": {
     "name": "#%%\n"
    }
   }
  },
  {
   "cell_type": "code",
   "execution_count": 41,
   "outputs": [],
   "source": [
    "def run_size_com(scan_pre, scan_post):\n",
    "    df_sum = pd.DataFrame()\n",
    "    for (row1, row2) in [('3', '15'), ('5', '13'), ('6', '12'), ('1', '17'), ('2', '16')]:\n",
    "        pre_measures = pd.Series()\n",
    "        pre_count = 0\n",
    "        post_measures = pd.Series()\n",
    "        post_count = 0\n",
    "        for row in (row1, row2):\n",
    "            row_folder = os.path.join(scan_pre, row)\n",
    "            df_res = open_measures(row_folder)\n",
    "            count, measures = trackers_into_value(None, df_res, analysis='size')\n",
    "            pre_measures = pd.concat([pre_measures, measures], axis=0)\n",
    "            pre_count += count\n",
    "\n",
    "            row_folder = os.path.join(scan_post, row)\n",
    "            df_res = open_measures(row_folder)\n",
    "            count, measures = trackers_into_value(None, df_res, analysis='size')\n",
    "            post_measures = pd.concat([post_measures, measures], axis=0)\n",
    "            post_count += count\n",
    "\n",
    "        (miu_picked, sigma_picked), (kde_miu, kde_sigma), (hist_miu, hist_sigma) = diff_size(post_count/pre_count, pre_measures, post_measures)\n",
    "        weight_miu = 11.475*np.exp(0.0359* miu_picked)\n",
    "        weight_sigma = 11.475*np.exp(0.0359* sigma_picked)\n",
    "\n",
    "        df_sum = df_sum.append({'row': (row1,row2),\n",
    "                                'plot_id': None,\n",
    "                                \"avg_size\":miu_picked,\n",
    "                                \"std_size\":sigma_picked,\n",
    "                                \"avg_weight\":weight_miu,\n",
    "                                \"std_weight\":weight_sigma}, ignore_index=True)\n",
    "    return df_sum"
   ],
   "metadata": {
    "collapsed": false,
    "pycharm": {
     "name": "#%%\n"
    }
   }
  },
  {
   "cell_type": "code",
   "execution_count": 42,
   "metadata": {},
   "outputs": [
    {
     "name": "stdout",
     "output_type": "stream",
     "text": [
      "10 0.08 10 125\n",
      "10 0.4691358024691358 38 81\n",
      "10 0.45054945054945056 41 91\n",
      "10 0.38095238095238093 32 84\n",
      "10 0.9558823529411765 65 68\n"
     ]
    },
    {
     "name": "stderr",
     "output_type": "stream",
     "text": [
      "C:\\Users\\frodo\\AppData\\Local\\Temp\\ipykernel_10996\\415682211.py:15: RuntimeWarning: invalid value encountered in sqrt\n",
      "  sigma_picked = np.sqrt((1 / picked_ratio) ** 2 * sigma_all ** 2 - (nonPicked_ratio / picked_ratio) ** 2 * sigma_nonPicked ** 2)\n",
      "C:\\Users\\frodo\\AppData\\Local\\Temp\\ipykernel_10996\\415682211.py:32: RuntimeWarning: invalid value encountered in sqrt\n",
      "  hist_sigma = np.sqrt(np.sum(hist_picked * (bins - hist_miu) ** 2))\n"
     ]
    },
    {
     "name": "stdout",
     "output_type": "stream",
     "text": [
      "10 0.7073170731707317 58 82\n"
     ]
    },
    {
     "name": "stderr",
     "output_type": "stream",
     "text": [
      "C:\\Users\\frodo\\AppData\\Local\\Temp\\ipykernel_10996\\415682211.py:32: RuntimeWarning: invalid value encountered in sqrt\n",
      "  hist_sigma = np.sqrt(np.sum(hist_picked * (bins - hist_miu) ** 2))\n"
     ]
    },
    {
     "name": "stdout",
     "output_type": "stream",
     "text": [
      "10 0.734375 47 64\n",
      "10 0.352112676056338 25 71\n",
      "10 0.527027027027027 39 74\n",
      "10 0.647887323943662 46 71\n",
      "10 0.7738095238095238 65 84\n",
      "10 0.8142857142857143 57 70\n",
      "10 0.8108108108108109 30 37\n",
      "10 0.9210526315789473 70 76\n",
      "10 0.9555555555555556 43 45\n"
     ]
    },
    {
     "name": "stderr",
     "output_type": "stream",
     "text": [
      "C:\\Users\\frodo\\AppData\\Local\\Temp\\ipykernel_10996\\415682211.py:15: RuntimeWarning: invalid value encountered in sqrt\n",
      "  sigma_picked = np.sqrt((1 / picked_ratio) ** 2 * sigma_all ** 2 - (nonPicked_ratio / picked_ratio) ** 2 * sigma_nonPicked ** 2)\n",
      "C:\\Users\\frodo\\AppData\\Local\\Temp\\ipykernel_10996\\415682211.py:32: RuntimeWarning: invalid value encountered in sqrt\n",
      "  hist_sigma = np.sqrt(np.sum(hist_picked * (bins - hist_miu) ** 2))\n"
     ]
    },
    {
     "name": "stdout",
     "output_type": "stream",
     "text": [
      "11 0.3230769230769231 21 65\n",
      "11 0.5203252032520326 64 123\n",
      "11 1.2258064516129032 38 31\n"
     ]
    },
    {
     "name": "stderr",
     "output_type": "stream",
     "text": [
      "C:\\Users\\frodo\\AppData\\Local\\Temp\\ipykernel_10996\\415682211.py:32: RuntimeWarning: invalid value encountered in sqrt\n",
      "  hist_sigma = np.sqrt(np.sum(hist_picked * (bins - hist_miu) ** 2))\n"
     ]
    },
    {
     "name": "stdout",
     "output_type": "stream",
     "text": [
      "11 0.9466666666666667 71 75\n",
      "11 0.5345911949685535 85 159\n",
      "11 0.872093023255814 75 86\n"
     ]
    },
    {
     "name": "stderr",
     "output_type": "stream",
     "text": [
      "C:\\Users\\frodo\\AppData\\Local\\Temp\\ipykernel_10996\\415682211.py:32: RuntimeWarning: invalid value encountered in sqrt\n",
      "  hist_sigma = np.sqrt(np.sum(hist_picked * (bins - hist_miu) ** 2))\n"
     ]
    },
    {
     "name": "stdout",
     "output_type": "stream",
     "text": [
      "11 0.5490196078431373 56 102\n",
      "11 0.5918367346938775 58 98\n",
      "11 0.575 69 120\n",
      "11 0.6612903225806451 82 124\n",
      "11 0.5307692307692308 69 130\n",
      "11 0.5444444444444444 49 90\n",
      "11 0.559322033898305 66 118\n",
      "11 0.5087719298245614 58 114\n",
      "11 0.42727272727272725 47 110\n",
      "18 0.7530864197530864 61 81\n",
      "18 1.0 41 41\n",
      "18 0.6212121212121212 41 66\n",
      "18 0.7205882352941176 49 68\n",
      "18 0.7777777777777778 56 72\n",
      "18 1.4285714285714286 60 42\n"
     ]
    },
    {
     "name": "stderr",
     "output_type": "stream",
     "text": [
      "C:\\Users\\frodo\\AppData\\Local\\Temp\\ipykernel_10996\\415682211.py:15: RuntimeWarning: invalid value encountered in sqrt\n",
      "  sigma_picked = np.sqrt((1 / picked_ratio) ** 2 * sigma_all ** 2 - (nonPicked_ratio / picked_ratio) ** 2 * sigma_nonPicked ** 2)\n"
     ]
    },
    {
     "name": "stdout",
     "output_type": "stream",
     "text": [
      "18 0.6444444444444445 29 45\n",
      "18 0.8536585365853658 70 82\n"
     ]
    },
    {
     "name": "stderr",
     "output_type": "stream",
     "text": [
      "C:\\Users\\frodo\\AppData\\Local\\Temp\\ipykernel_10996\\415682211.py:32: RuntimeWarning: invalid value encountered in sqrt\n",
      "  hist_sigma = np.sqrt(np.sum(hist_picked * (bins - hist_miu) ** 2))\n"
     ]
    },
    {
     "name": "stdout",
     "output_type": "stream",
     "text": [
      "20 0.6076923076923076 79 130\n",
      "20 0.46551724137931033 27 58\n",
      "20 0.5 53 106\n",
      "20 0.5060240963855421 42 83\n",
      "20 0.9622641509433962 51 53\n"
     ]
    },
    {
     "name": "stderr",
     "output_type": "stream",
     "text": [
      "C:\\Users\\frodo\\AppData\\Local\\Temp\\ipykernel_10996\\415682211.py:15: RuntimeWarning: invalid value encountered in sqrt\n",
      "  sigma_picked = np.sqrt((1 / picked_ratio) ** 2 * sigma_all ** 2 - (nonPicked_ratio / picked_ratio) ** 2 * sigma_nonPicked ** 2)\n",
      "C:\\Users\\frodo\\AppData\\Local\\Temp\\ipykernel_10996\\415682211.py:32: RuntimeWarning: invalid value encountered in sqrt\n",
      "  hist_sigma = np.sqrt(np.sum(hist_picked * (bins - hist_miu) ** 2))\n"
     ]
    },
    {
     "name": "stdout",
     "output_type": "stream",
     "text": [
      "20 0.5714285714285714 32 56\n",
      "20 0.7403846153846154 77 104\n",
      "20 0.7608695652173914 35 46\n",
      "21 0.8875 71 80\n",
      "21 0.8351648351648352 76 91\n",
      "21 0.6266666666666667 47 75\n",
      "21 0.7391304347826086 51 69\n",
      "21 0.611764705882353 52 85\n",
      "21 0.7671232876712328 56 73\n",
      "21 0.390625 25 64\n",
      "21 0.5714285714285714 52 91\n",
      "7 0.8378378378378378 62 74\n",
      "7 0.7752808988764045 69 89\n",
      "7 0.703125 45 64\n",
      "7 0.9166666666666666 55 60\n"
     ]
    },
    {
     "name": "stderr",
     "output_type": "stream",
     "text": [
      "C:\\Users\\frodo\\AppData\\Local\\Temp\\ipykernel_10996\\415682211.py:32: RuntimeWarning: invalid value encountered in sqrt\n",
      "  hist_sigma = np.sqrt(np.sum(hist_picked * (bins - hist_miu) ** 2))\n"
     ]
    },
    {
     "name": "stdout",
     "output_type": "stream",
     "text": [
      "7 1.2134831460674158 108 89\n"
     ]
    },
    {
     "name": "stderr",
     "output_type": "stream",
     "text": [
      "C:\\Users\\frodo\\AppData\\Local\\Temp\\ipykernel_10996\\415682211.py:15: RuntimeWarning: invalid value encountered in sqrt\n",
      "  sigma_picked = np.sqrt((1 / picked_ratio) ** 2 * sigma_all ** 2 - (nonPicked_ratio / picked_ratio) ** 2 * sigma_nonPicked ** 2)\n"
     ]
    },
    {
     "name": "stdout",
     "output_type": "stream",
     "text": [
      "7 1.0520833333333333 101 96\n"
     ]
    },
    {
     "name": "stderr",
     "output_type": "stream",
     "text": [
      "C:\\Users\\frodo\\AppData\\Local\\Temp\\ipykernel_10996\\415682211.py:32: RuntimeWarning: invalid value encountered in sqrt\n",
      "  hist_sigma = np.sqrt(np.sum(hist_picked * (bins - hist_miu) ** 2))\n"
     ]
    },
    {
     "name": "stdout",
     "output_type": "stream",
     "text": [
      "7 0.6037735849056604 32 53\n",
      "7 0.95 76 80\n",
      "7 0.8653846153846154 45 52\n"
     ]
    },
    {
     "name": "stderr",
     "output_type": "stream",
     "text": [
      "C:\\Users\\frodo\\AppData\\Local\\Temp\\ipykernel_10996\\415682211.py:15: RuntimeWarning: invalid value encountered in sqrt\n",
      "  sigma_picked = np.sqrt((1 / picked_ratio) ** 2 * sigma_all ** 2 - (nonPicked_ratio / picked_ratio) ** 2 * sigma_nonPicked ** 2)\n",
      "C:\\Users\\frodo\\AppData\\Local\\Temp\\ipykernel_10996\\415682211.py:32: RuntimeWarning: invalid value encountered in sqrt\n",
      "  hist_sigma = np.sqrt(np.sum(hist_picked * (bins - hist_miu) ** 2))\n"
     ]
    },
    {
     "name": "stdout",
     "output_type": "stream",
     "text": [
      "7 0.5739130434782609 66 115\n",
      "7 0.8041237113402062 78 97\n",
      "7 0.539568345323741 75 139\n",
      "8 0.22707423580786026 52 229\n",
      "8 0.7191011235955056 64 89\n",
      "8 0.7272727272727273 64 88\n",
      "8 0.6730769230769231 35 52\n",
      "8 0.6 39 65\n",
      "8 0.7307692307692307 38 52\n",
      "8 0.6233766233766234 48 77\n",
      "8 0.6938775510204082 34 49\n",
      "8 0.8974358974358975 35 39\n"
     ]
    },
    {
     "name": "stderr",
     "output_type": "stream",
     "text": [
      "C:\\Users\\frodo\\AppData\\Local\\Temp\\ipykernel_10996\\415682211.py:15: RuntimeWarning: invalid value encountered in sqrt\n",
      "  sigma_picked = np.sqrt((1 / picked_ratio) ** 2 * sigma_all ** 2 - (nonPicked_ratio / picked_ratio) ** 2 * sigma_nonPicked ** 2)\n"
     ]
    },
    {
     "name": "stdout",
     "output_type": "stream",
     "text": [
      "8 0.3870967741935484 24 62\n",
      "8 0.45121951219512196 37 82\n",
      "8 0.7301587301587301 46 63\n",
      "9 0.3709677419354839 46 124\n",
      "9 0.8936170212765957 84 94\n"
     ]
    },
    {
     "name": "stderr",
     "output_type": "stream",
     "text": [
      "C:\\Users\\frodo\\AppData\\Local\\Temp\\ipykernel_10996\\415682211.py:32: RuntimeWarning: invalid value encountered in sqrt\n",
      "  hist_sigma = np.sqrt(np.sum(hist_picked * (bins - hist_miu) ** 2))\n"
     ]
    },
    {
     "name": "stdout",
     "output_type": "stream",
     "text": [
      "9 0.7567567567567568 112 148\n"
     ]
    },
    {
     "name": "stderr",
     "output_type": "stream",
     "text": [
      "C:\\Users\\frodo\\AppData\\Local\\Temp\\ipykernel_10996\\415682211.py:32: RuntimeWarning: invalid value encountered in sqrt\n",
      "  hist_sigma = np.sqrt(np.sum(hist_picked * (bins - hist_miu) ** 2))\n"
     ]
    },
    {
     "name": "stdout",
     "output_type": "stream",
     "text": [
      "9 1.021505376344086 95 93\n"
     ]
    },
    {
     "name": "stderr",
     "output_type": "stream",
     "text": [
      "C:\\Users\\frodo\\AppData\\Local\\Temp\\ipykernel_10996\\415682211.py:32: RuntimeWarning: invalid value encountered in sqrt\n",
      "  hist_sigma = np.sqrt(np.sum(hist_picked * (bins - hist_miu) ** 2))\n"
     ]
    },
    {
     "name": "stdout",
     "output_type": "stream",
     "text": [
      "9 0.872 109 125\n"
     ]
    },
    {
     "name": "stderr",
     "output_type": "stream",
     "text": [
      "C:\\Users\\frodo\\AppData\\Local\\Temp\\ipykernel_10996\\415682211.py:32: RuntimeWarning: invalid value encountered in sqrt\n",
      "  hist_sigma = np.sqrt(np.sum(hist_picked * (bins - hist_miu) ** 2))\n"
     ]
    },
    {
     "name": "stdout",
     "output_type": "stream",
     "text": [
      "9 1.0 99 99\n",
      "9 0.7407407407407407 60 81\n",
      "9 0.52 39 75\n",
      "9 0.5961538461538461 62 104\n",
      "9 0.7402597402597403 57 77\n"
     ]
    },
    {
     "name": "stderr",
     "output_type": "stream",
     "text": [
      "C:\\Users\\frodo\\AppData\\Local\\Temp\\ipykernel_10996\\415682211.py:32: RuntimeWarning: invalid value encountered in sqrt\n",
      "  hist_sigma = np.sqrt(np.sum(hist_picked * (bins - hist_miu) ** 2))\n"
     ]
    },
    {
     "name": "stdout",
     "output_type": "stream",
     "text": [
      "9 0.6448598130841121 69 107\n",
      "9 0.6097560975609756 75 123\n",
      "9 0.8375 134 160\n"
     ]
    },
    {
     "name": "stderr",
     "output_type": "stream",
     "text": [
      "C:\\Users\\frodo\\AppData\\Local\\Temp\\ipykernel_10996\\1066379798.py:4: DeprecationWarning: The default dtype for empty Series will be 'object' instead of 'float64' in a future version. Specify a dtype explicitly to silence this warning.\n",
      "  pre_measures = pd.Series()\n",
      "C:\\Users\\frodo\\AppData\\Local\\Temp\\ipykernel_10996\\1066379798.py:6: DeprecationWarning: The default dtype for empty Series will be 'object' instead of 'float64' in a future version. Specify a dtype explicitly to silence this warning.\n",
      "  post_measures = pd.Series()\n",
      "C:\\Users\\frodo\\AppData\\Local\\Temp\\ipykernel_10996\\1066379798.py:4: DeprecationWarning: The default dtype for empty Series will be 'object' instead of 'float64' in a future version. Specify a dtype explicitly to silence this warning.\n",
      "  pre_measures = pd.Series()\n",
      "C:\\Users\\frodo\\AppData\\Local\\Temp\\ipykernel_10996\\1066379798.py:6: DeprecationWarning: The default dtype for empty Series will be 'object' instead of 'float64' in a future version. Specify a dtype explicitly to silence this warning.\n",
      "  post_measures = pd.Series()\n",
      "C:\\Users\\frodo\\AppData\\Local\\Temp\\ipykernel_10996\\1066379798.py:4: DeprecationWarning: The default dtype for empty Series will be 'object' instead of 'float64' in a future version. Specify a dtype explicitly to silence this warning.\n",
      "  pre_measures = pd.Series()\n",
      "C:\\Users\\frodo\\AppData\\Local\\Temp\\ipykernel_10996\\1066379798.py:6: DeprecationWarning: The default dtype for empty Series will be 'object' instead of 'float64' in a future version. Specify a dtype explicitly to silence this warning.\n",
      "  post_measures = pd.Series()\n",
      "C:\\Users\\frodo\\AppData\\Local\\Temp\\ipykernel_10996\\1066379798.py:4: DeprecationWarning: The default dtype for empty Series will be 'object' instead of 'float64' in a future version. Specify a dtype explicitly to silence this warning.\n",
      "  pre_measures = pd.Series()\n",
      "C:\\Users\\frodo\\AppData\\Local\\Temp\\ipykernel_10996\\1066379798.py:6: DeprecationWarning: The default dtype for empty Series will be 'object' instead of 'float64' in a future version. Specify a dtype explicitly to silence this warning.\n",
      "  post_measures = pd.Series()\n",
      "C:\\Users\\frodo\\AppData\\Local\\Temp\\ipykernel_10996\\1066379798.py:4: DeprecationWarning: The default dtype for empty Series will be 'object' instead of 'float64' in a future version. Specify a dtype explicitly to silence this warning.\n",
      "  pre_measures = pd.Series()\n",
      "C:\\Users\\frodo\\AppData\\Local\\Temp\\ipykernel_10996\\1066379798.py:6: DeprecationWarning: The default dtype for empty Series will be 'object' instead of 'float64' in a future version. Specify a dtype explicitly to silence this warning.\n",
      "  post_measures = pd.Series()\n",
      "C:\\Users\\frodo\\AppData\\Local\\Temp\\ipykernel_10996\\415682211.py:32: RuntimeWarning: invalid value encountered in sqrt\n",
      "  hist_sigma = np.sqrt(np.sum(hist_picked * (bins - hist_miu) ** 2))\n"
     ]
    }
   ],
   "source": [
    "scan_pre = fr'C:\\Users\\frodo\\OneDrive - FruitSpec\\Syngenta\\tomato\\230123\\pre'\n",
    "scan_post = fr'C:\\Users\\frodo\\OneDrive - FruitSpec\\Syngenta\\tomato\\230123\\post'\n",
    "output_path = fr'C:\\Users\\frodo\\OneDrive - FruitSpec\\Syngenta\\tomato\\230123\\results_size.csv'\n",
    "df_SIZE = run_size_plots(scan_pre,scan_post)\n",
    "df_SIZE.to_csv(output_path,index=False,mode=\"w\")\n",
    "df_SIZE = run_size_com(scan_pre,scan_post)\n",
    "df_SIZE.to_csv(output_path,index=False,mode=\"a+\")"
   ]
  },
  {
   "cell_type": "code",
   "execution_count": 74,
   "outputs": [
    {
     "data": {
      "text/plain": "<Figure size 432x288 with 1 Axes>",
      "image/png": "[encoded data removed]"
     },
     "metadata": {
      "needs_background": "light"
     },
     "output_type": "display_data"
    },
    {
     "name": "stdout",
     "output_type": "stream",
     "text": [
      "90.18167779981395 403.5939542405117\n"
     ]
    },
    {
     "data": {
      "text/plain": "<Figure size 432x288 with 1 Axes>",
      "image/png": "[encoded data removed]"
     },
     "metadata": {
      "needs_background": "light"
     },
     "output_type": "display_data"
    },
    {
     "name": "stdout",
     "output_type": "stream",
     "text": [
      "1.0067045183207435 2.613610778240553\n"
     ]
    }
   ],
   "source": [
    "gt = pd.read_csv(fr'C:\\Users\\frodo\\OneDrive - FruitSpec\\Syngenta\\tomato\\230123\\ground_truth.csv')[['GT-W','plot_id']]\n",
    "gt = gt[['plot_id','GT-W']]\n",
    "df_SIZE = pd.read_csv(fr'C:\\Users\\frodo\\OneDrive - FruitSpec\\Syngenta\\tomato\\230123\\results_size.csv',dtype={'row':str})\n",
    "df = df_SIZE.merge(gt,how='left',on = ['plot_id'])\n",
    "df['error_weight'] = df['avg_weight']-df['GT-W']\n",
    "df['error'] = abs(df['error_weight']/df['GT-W'])\n",
    "df['acc'] = 1 - df['error']\n",
    "df_1 = df[df[\"row\"].isin(['9','11','7','18','21','25'])]\n",
    "df_2 = df[df[\"row\"].isin(['9','10','8','18','20','26'])]\n",
    "\n",
    "plt.boxplot([df_1['error_weight'].dropna(),df_2['error_weight'].dropna()],vert=1)\n",
    "plt.show()\n",
    "print(df_1['error_weight'].mean(),df_2['error_weight'].mean())\n",
    "\n",
    "plt.boxplot([df_1['error'].dropna(),df_2['error'].dropna()],vert=1)\n",
    "plt.show()\n",
    "print(df_1['error'].mean(),df_2['error'].mean())\n",
    "\n",
    "df_1.to_csv(r\"C:\\Users\\frodo\\OneDrive - FruitSpec\\Syngenta\\tomato\\230123\\side_1_size.csv\",index=False)\n",
    "df_2.to_csv(r\"C:\\Users\\frodo\\OneDrive - FruitSpec\\Syngenta\\tomato\\230123\\side_2_size.csv\",index=False)"
   ],
   "metadata": {
    "collapsed": false,
    "pycharm": {
     "name": "#%%\n"
    }
   }
  },
  {
   "cell_type": "markdown",
   "metadata": {},
   "source": [
    "Debug Color"
   ]
  },
  {
   "cell_type": "code",
   "execution_count": 31,
   "metadata": {},
   "outputs": [],
   "source": [
    "def apply_trees_color(path,row):\n",
    "    row_folder = os.path.join(path,row)\n",
    "    df_res = open_measures(row_folder)\n",
    "    trees_slices = slice_to_trees(os.path.join(row_folder, [i for i in os.listdir(row_folder) if 'slice_data' in i][0]),None,None)\n",
    "    for tree_id, df_tree in trees_slices.groupby('tree_id'):\n",
    "        count, colors_class = trackers_into_value(df_tree,df_res,analysis='color')\n",
    "        plot_id = map_tree_into_plot(row, tree_id)\n",
    "        yield plot_id, count, colors_class"
   ]
  },
  {
   "cell_type": "code",
   "execution_count": 32,
   "outputs": [],
   "source": [
    "def run_color_plots(scan_pre,scan_post):\n",
    "    df_sum = pd.DataFrame()\n",
    "    for (pre, post) in zip(os.listdir(scan_pre), os.listdir(scan_post)):\n",
    "        if post in ['1', '2', '3', '4', '5', '6', '12', '13', '14', '15', '16', '17','10','8','20']:\n",
    "            continue\n",
    "        for (pre_plot_id, pre_count, pre_measures), (post_plot_id, post_count, post_measures) in zip(apply_trees_color(scan_pre, pre), apply_trees_color(scan_post, post)):\n",
    "            hist_all = plt.hist(pre_measures,density=False,bins=[1,2,3,4,5])[0]\n",
    "            hist_nonPicked = plt.hist(post_measures, density=False,bins=[1,2,3,4,5])[0]\n",
    "            plt.close()\n",
    "            hist_picked =  hist_all - hist_nonPicked\n",
    "            hist_picked = [max(i,0) for i in hist_picked ]\n",
    "            hist_picked = hist_picked/ np.sum(hist_picked)\n",
    "            picked_count = pre_count - post_count\n",
    "            picked_bins = picked_count * hist_picked\n",
    "\n",
    "            try:\n",
    "                bin1,bin2,bin3,bin4 = int(picked_bins[0]),int(picked_bins[1]),int(picked_bins[2]),picked_count-(int(picked_bins[0])+int(picked_bins[1])+int(picked_bins[2]))\n",
    "            except:\n",
    "                bin1,bin2,bin3,bin4 = 0,0,0,0\n",
    "            df_sum = df_sum.append({'row': pre,\n",
    "                                    'plot_id': pre_plot_id,\n",
    "                                    \"bin1\":bin1,\n",
    "                                    \"bin2\":bin2,\n",
    "                                    \"bin3\":bin3,\n",
    "                                    \"bin4\":bin4}, ignore_index=True)\n",
    "    return df_sum"
   ],
   "metadata": {
    "collapsed": false,
    "pycharm": {
     "name": "#%%\n"
    }
   }
  },
  {
   "cell_type": "code",
   "execution_count": 41,
   "outputs": [],
   "source": [
    "def run_color_com(scan_pre,scan_post):\n",
    "    df_sum = pd.DataFrame()\n",
    "    for (row1, row2) in [('3', '15'), ('5', '13'), ('6', '12'), ('1', '17'), ('2', '16')]:\n",
    "        pre_measures = pd.Series()\n",
    "        pre_count = 0\n",
    "        post_measures = pd.Series()\n",
    "        post_count = 0\n",
    "        for row in (row1, row2):\n",
    "            row_folder = os.path.join(scan_pre, row)\n",
    "            df_res = open_measures(row_folder)\n",
    "            count, measures = trackers_into_value(None, df_res, analysis='color')\n",
    "            pre_measures = pd.concat([pre_measures, measures], axis=0)\n",
    "            pre_count += count\n",
    "\n",
    "            row_folder = os.path.join(scan_post, row)\n",
    "            df_res = open_measures(row_folder)\n",
    "            count, measures = trackers_into_value(None, df_res, analysis='color')\n",
    "            post_measures = pd.concat([post_measures, measures], axis=0)\n",
    "            post_count += count\n",
    "\n",
    "        hist_all = plt.hist(pre_measures,density=False,bins=[1,2,3,4,5])[0]\n",
    "        plt.show()\n",
    "        plt.close()\n",
    "        hist_nonPicked = plt.hist(post_measures, density=False,bins=[1,2,3,4,5])[0]\n",
    "        plt.show()\n",
    "        plt.close()\n",
    "        hist_picked =  hist_all - hist_nonPicked\n",
    "        hist_picked = [max(i,0) for i in hist_picked ]\n",
    "        hist_picked = hist_picked/ np.sum(hist_picked)\n",
    "        picked_count = pre_count - post_count\n",
    "        picked_bins = picked_count * hist_picked\n",
    "        try:\n",
    "                bin1,bin2,bin3,bin4 = int(picked_bins[0]),int(picked_bins[1]),int(picked_bins[2]),picked_count-(int(picked_bins[0])+int(picked_bins[1])+int(picked_bins[2]))\n",
    "        except:\n",
    "                bin1,bin2,bin3,bin4 = 0,0,0,0\n",
    "        df_sum = df_sum.append({'row': (row1,row2),\n",
    "                                'plot_id': None,\n",
    "                                \"bin1\":bin1,\n",
    "                                \"bin2\":bin2,\n",
    "                                \"bin3\":bin3,\n",
    "                                \"bin4\":bin4}, ignore_index=True)\n",
    "    return df_sum"
   ],
   "metadata": {
    "collapsed": false,
    "pycharm": {
     "name": "#%%\n"
    }
   }
  },
  {
   "cell_type": "code",
   "execution_count": 42,
   "outputs": [
    {
     "name": "stderr",
     "output_type": "stream",
     "text": [
      "C:\\Users\\frodo\\AppData\\Local\\Temp\\ipykernel_6404\\2953213129.py:4: DeprecationWarning: The default dtype for empty Series will be 'object' instead of 'float64' in a future version. Specify a dtype explicitly to silence this warning.\n",
      "  pre_measures = pd.Series()\n",
      "C:\\Users\\frodo\\AppData\\Local\\Temp\\ipykernel_6404\\2953213129.py:6: DeprecationWarning: The default dtype for empty Series will be 'object' instead of 'float64' in a future version. Specify a dtype explicitly to silence this warning.\n",
      "  post_measures = pd.Series()\n"
     ]
    },
    {
     "data": {
      "text/plain": "<Figure size 432x288 with 1 Axes>",
      "image/png": "[encoded data removed]"
     },
     "metadata": {
      "needs_background": "light"
     },
     "output_type": "display_data"
    },
    {
     "data": {
      "text/plain": "<Figure size 432x288 with 1 Axes>",
      "image/png": "[encoded data removed]"
     },
     "metadata": {
      "needs_background": "light"
     },
     "output_type": "display_data"
    },
    {
     "name": "stderr",
     "output_type": "stream",
     "text": [
      "C:\\Users\\frodo\\AppData\\Local\\Temp\\ipykernel_6404\\2953213129.py:4: DeprecationWarning: The default dtype for empty Series will be 'object' instead of 'float64' in a future version. Specify a dtype explicitly to silence this warning.\n",
      "  pre_measures = pd.Series()\n",
      "C:\\Users\\frodo\\AppData\\Local\\Temp\\ipykernel_6404\\2953213129.py:6: DeprecationWarning: The default dtype for empty Series will be 'object' instead of 'float64' in a future version. Specify a dtype explicitly to silence this warning.\n",
      "  post_measures = pd.Series()\n"
     ]
    },
    {
     "data": {
      "text/plain": "<Figure size 432x288 with 1 Axes>",
      "image/png": "[encoded data removed]"
     },
     "metadata": {
      "needs_background": "light"
     },
     "output_type": "display_data"
    },
    {
     "data": {
      "text/plain": "<Figure size 432x288 with 1 Axes>",
      "image/png": "[encoded data removed]"
     },
     "metadata": {
      "needs_background": "light"
     },
     "output_type": "display_data"
    },
    {
     "name": "stderr",
     "output_type": "stream",
     "text": [
      "C:\\Users\\frodo\\AppData\\Local\\Temp\\ipykernel_6404\\2953213129.py:4: DeprecationWarning: The default dtype for empty Series will be 'object' instead of 'float64' in a future version. Specify a dtype explicitly to silence this warning.\n",
      "  pre_measures = pd.Series()\n",
      "C:\\Users\\frodo\\AppData\\Local\\Temp\\ipykernel_6404\\2953213129.py:6: DeprecationWarning: The default dtype for empty Series will be 'object' instead of 'float64' in a future version. Specify a dtype explicitly to silence this warning.\n",
      "  post_measures = pd.Series()\n"
     ]
    },
    {
     "data": {
      "text/plain": "<Figure size 432x288 with 1 Axes>",
      "image/png": "[encoded data removed]"
     },
     "metadata": {
      "needs_background": "light"
     },
     "output_type": "display_data"
    },
    {
     "data": {
      "text/plain": "<Figure size 432x288 with 1 Axes>",
      "image/png": "[encoded data removed]"
     },
     "metadata": {
      "needs_background": "light"
     },
     "output_type": "display_data"
    },
    {
     "name": "stderr",
     "output_type": "stream",
     "text": [
      "C:\\Users\\frodo\\AppData\\Local\\Temp\\ipykernel_6404\\2953213129.py:4: DeprecationWarning: The default dtype for empty Series will be 'object' instead of 'float64' in a future version. Specify a dtype explicitly to silence this warning.\n",
      "  pre_measures = pd.Series()\n",
      "C:\\Users\\frodo\\AppData\\Local\\Temp\\ipykernel_6404\\2953213129.py:6: DeprecationWarning: The default dtype for empty Series will be 'object' instead of 'float64' in a future version. Specify a dtype explicitly to silence this warning.\n",
      "  post_measures = pd.Series()\n"
     ]
    },
    {
     "data": {
      "text/plain": "<Figure size 432x288 with 1 Axes>",
      "image/png": "[encoded data removed]"
     },
     "metadata": {
      "needs_background": "light"
     },
     "output_type": "display_data"
    },
    {
     "data": {
      "text/plain": "<Figure size 432x288 with 1 Axes>",
      "image/png": "[encoded data removed]"
     },
     "metadata": {
      "needs_background": "light"
     },
     "output_type": "display_data"
    },
    {
     "name": "stderr",
     "output_type": "stream",
     "text": [
      "C:\\Users\\frodo\\AppData\\Local\\Temp\\ipykernel_6404\\2953213129.py:4: DeprecationWarning: The default dtype for empty Series will be 'object' instead of 'float64' in a future version. Specify a dtype explicitly to silence this warning.\n",
      "  pre_measures = pd.Series()\n",
      "C:\\Users\\frodo\\AppData\\Local\\Temp\\ipykernel_6404\\2953213129.py:6: DeprecationWarning: The default dtype for empty Series will be 'object' instead of 'float64' in a future version. Specify a dtype explicitly to silence this warning.\n",
      "  post_measures = pd.Series()\n"
     ]
    },
    {
     "data": {
      "text/plain": "<Figure size 432x288 with 1 Axes>",
      "image/png": "[encoded data removed]"
     },
     "metadata": {
      "needs_background": "light"
     },
     "output_type": "display_data"
    },
    {
     "data": {
      "text/plain": "<Figure size 432x288 with 1 Axes>",
      "image/png": "[encoded data removed]"
     },
     "metadata": {
      "needs_background": "light"
     },
     "output_type": "display_data"
    }
   ],
   "source": [
    "scan_pre = fr'C:\\Users\\frodo\\OneDrive - FruitSpec\\Syngenta\\tomato\\230123\\pre'\n",
    "scan_post = fr'C:\\Users\\frodo\\OneDrive - FruitSpec\\Syngenta\\tomato\\230123\\post'\n",
    "output_path = fr'C:\\Users\\frodo\\OneDrive - FruitSpec\\Syngenta\\tomato\\230123\\results_color_com.csv'\n",
    "# df_COLOR = run_color_plots(scan_pre,scan_post)\n",
    "# df_COLOR.to_csv(output_path,index=False,mode=\"w\")\n",
    "df_SIZE = run_color_com(scan_pre,scan_post)\n",
    "df_SIZE.to_csv(output_path,index=False,mode=\"w\")"
   ],
   "metadata": {
    "collapsed": false,
    "pycharm": {
     "name": "#%%\n"
    }
   }
  },
  {
   "cell_type": "code",
   "execution_count": 46,
   "outputs": [],
   "source": [
    "df = pd.read_csv(r\"C:\\Users\\frodo\\OneDrive - FruitSpec\\Syngenta\\tomato\\230123\\fs_harvest_report.csv\")\n",
    "# insert DB - queries txt file\n",
    "project_id = 8186\n",
    "txt_file = open(r\"C:\\Users\\frodo\\OneDrive - FruitSpec\\Syngenta\\tomato\\230123\\updateMySQL.txt\",\"w\")\n",
    "for i,row in df.iterrows():\n",
    "    q = f\"\"\"\n",
    "        UPDATE project_plot\n",
    "        SET\n",
    "            project_plot_scan_date = STR_TO_DATE(\"23/01/2023\",\"%d/%m/%Y\"),\n",
    "            Predicted_W = {row['weight_avg_gr']},\n",
    "            WeightSTD = {row['weight_std']},\n",
    "            YE = {row['count']}\n",
    "        WHERE\n",
    "            plot_id = {row['plot_id']} AND project_ID = {project_id};\"\"\"\n",
    "    txt_file.writelines(q)\n",
    "    # txt_file.write('\\n')\n",
    "\n",
    "txt_file.close()"
   ],
   "metadata": {
    "collapsed": false,
    "pycharm": {
     "name": "#%%\n"
    }
   }
  }
 ],
 "metadata": {
  "kernelspec": {
   "display_name": "Python 3 (ipykernel)",
   "language": "python",
   "name": "python3"
  },
  "language_info": {
   "codemirror_mode": {
    "name": "ipython",
    "version": 3
   },
   "file_extension": ".py",
   "mimetype": "text/x-python",
   "name": "python",
   "nbconvert_exporter": "python",
   "pygments_lexer": "ipython3",
   "version": "3.8.5"
  }
 },
 "nbformat": 4,
 "nbformat_minor": 1
}
