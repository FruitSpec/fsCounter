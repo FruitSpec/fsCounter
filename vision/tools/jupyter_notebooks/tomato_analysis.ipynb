{
 "cells": [
  {
   "cell_type": "markdown",
   "metadata": {
    "collapsed": true
   },
   "source": [
    "Diff PRE-POST"
   ]
  },
  {
   "cell_type": "code",
   "execution_count": null,
   "outputs": [],
   "source": [
    "from scipy.stats import gaussian_kde\n",
    "\n",
    "def diff_size(nonPicked_ratio, all_measures, nonPicked_measures):\n",
    "    picked_ratio = 1 - nonPicked_ratio\n",
    "\n",
    "    # By miu,sigma , assume normalization\n",
    "    miu_all = all_measures.mean()\n",
    "    sigma_all = all_measures.std()\n",
    "    miu_nonPicked = nonPicked_measures.mean()\n",
    "    sigma_nonPicked = nonPicked_measures.std()\n",
    "    miu_picked = (1 / picked_ratio) * miu_all - (nonPicked_ratio / picked_ratio) * miu_nonPicked\n",
    "    sigma_picked = np.sqrt((1 / picked_ratio) ** 2 * sigma_all ** 2 - (nonPicked_ratio / picked_ratio) ** 2 * sigma_nonPicked ** 2)\n",
    "\n",
    "    # By kde\n",
    "    x_values = np.linspace(all_measures.min(), all_measures.max(), num=int(all_measures.max() - all_measures.min()))\n",
    "    kde_all = gaussian_kde(all_measures)(x_values)\n",
    "    kde_nonPicked = gaussian_kde(nonPicked_measures)(x_values)\n",
    "    kde_picked = (1 / picked_ratio) * kde_all - (nonPicked_ratio / picked_ratio) * kde_nonPicked\n",
    "    kde_miu = np.sum(kde_picked * x_values)\n",
    "    kde_sigma = np.sqrt(np.sum(kde_picked * (x_values - kde_miu) ** 2))\n",
    "\n",
    "    # By hist\n",
    "    hist_all, bins, p = plt.hist(all_measures,density=True)\n",
    "    hist_nonPicked = plt.hist(nonPicked_measures, density=True,bins=bins)[0]\n",
    "    hist_picked = (1 / picked_ratio) * hist_all - (nonPicked_ratio / picked_ratio) * hist_nonPicked\n",
    "    hist_picked = hist_picked/ np.sum(hist_picked)\n",
    "    bins = [(var+ bins[i + 1])/2 for i, var in enumerate(bins) if i+1 != len(bins)]\n",
    "    hist_miu = np.sum(hist_picked * bins)\n",
    "    hist_sigma = np.sqrt(np.sum(hist_picked * (bins - hist_miu) ** 2))\n",
    "\n",
    "    return (miu_picked, sigma_picked), (kde_miu, kde_sigma), (hist_miu, hist_sigma)"
   ],
   "metadata": {
    "collapsed": false
   }
  },
  {
   "cell_type": "markdown",
   "source": [
    "Debug counter"
   ],
   "metadata": {
    "collapsed": false
   }
  },
  {
   "cell_type": "code",
   "execution_count": null,
   "outputs": [],
   "source": [
    "import os\n",
    "os.chdir('/home/yotam/FruitSpec/Code/fsCounter')\n",
    "print(os.getcwd())\n",
    "# from vision.data.results_collector import ResultsCollector\n",
    "from vision.tools.manual_slicer import slice_to_trees\n",
    "import math\n",
    "import pandas as pd\n",
    "import matplotlib.pyplot as plt\n",
    "import numpy as np"
   ],
   "metadata": {
    "collapsed": false
   }
  },
  {
   "cell_type": "code",
   "execution_count": null,
   "outputs": [],
   "source": [
    "color_dict = {\"bin1\": [300, 15], \"bin2\": [15, 45], \"bin3\": [45, 90], \"bin4\": [90, 165]}\n",
    "\n",
    "\n",
    "def filter_logic(path, analysis='counter'):\n",
    "    df = pd.read_csv(os.path.join(path, 'measures.csv'))\n",
    "\n",
    "    if analysis == 'size':\n",
    "        df_res = df[(df['width'] < 90) & (df['height'] < 90)]\n",
    "        # df_res = df[df.apply(lambda x: False if (x.width / x.height > 1.25) or (x.width / x.height < 0.75) else True, axis=1)]\n",
    "    elif analysis == 'color':\n",
    "        df_res = df[(df['color'] < 165) & (df['color'] > 300)]\n",
    "    else:\n",
    "        df_res = df\n",
    "    return df_res"
   ],
   "metadata": {
    "collapsed": false
   }
  },
  {
   "cell_type": "code",
   "execution_count": null,
   "outputs": [],
   "source": [
    "def trackers_into_plot(df_tree, df_res, analysis='counter'):\n",
    "    df_tree['end'].replace([-1], math.inf,inplace=True)\n",
    "    plot_det = []\n",
    "    for frame_id, df_frame in df_res.groupby('frame'):\n",
    "        limit = df_tree[df_tree['frame_id'] == frame_id]\n",
    "        if limit.empty:\n",
    "            continue\n",
    "        limit = limit.iloc[0]\n",
    "        df = df_frame[(df_frame['x1'] > limit['start']) & (df_frame['x1'] < limit['end'])]\n",
    "        plot_det.append(df)\n",
    "    if analysis == 'counter':\n",
    "        var = len(pd.concat(plot_det,axis=0)['track_id'].unique())\n",
    "    elif analysis == 'size':\n",
    "        df_group = pd.concat(plot_det,axis=0).groupby('track_id')\n",
    "        print(len(df_group))\n",
    "        var = df_group.apply(lambda x : x.width.mean() if x.width.mean() > x.height.mean() else x.height.mean())\n",
    "    return var"
   ],
   "metadata": {
    "collapsed": false
   }
  },
  {
   "cell_type": "code",
   "execution_count": null,
   "outputs": [],
   "source": [
    "def run_counter(scan,output):\n",
    "    df_sum = pd.DataFrame()\n",
    "    for row in os.listdir(scan):\n",
    "        row_folder = os.path.join(scan,row)\n",
    "        if not row.__contains__('TiltDown'):\n",
    "            continue\n",
    "        df_res = filter_logic(row_folder)\n",
    "        trees_slices = slice_to_trees(os.path.join(row_folder, [i for i in os.listdir(row_folder) if 'slice_data' in i][0]),None,None)\n",
    "        fruits_num = trackers_into_plot(trees_slices,df_res,analysis='counter')\n",
    "        df_sum = df_sum.append({'repeat':row, 'fruits_num':fruits_num},ignore_index = True)\n",
    "    df_sum.to_csv(output,index=True,header=True,mode='w')\n",
    "    return df_sum"
   ],
   "metadata": {
    "collapsed": false
   }
  },
  {
   "cell_type": "code",
   "execution_count": null,
   "outputs": [],
   "source": [
    "scan_folder = fr'/media/yotam/Extreme SSD/syngenta trail/tomato/analysis/281222'\n",
    "output_path = fr'/media/yotam/Extreme SSD/syngenta trail/tomato/analysis/281222/results.csv'\n",
    "df_sum_counter = run_counter(scan_folder,output_path)"
   ],
   "metadata": {
    "collapsed": false
   }
  },
  {
   "cell_type": "markdown",
   "source": [
    "Debug size"
   ],
   "metadata": {
    "collapsed": false,
    "pycharm": {
     "name": "#%% md\n"
    }
   }
  },
  {
   "cell_type": "code",
   "execution_count": null,
   "outputs": [],
   "source": [
    "def run_size(scan,output):\n",
    "    for index, row in enumerate(os.listdir(scan)):\n",
    "        row_folder = os.path.join(scan,row)\n",
    "        if not row.__contains__('TiltDown40cm') or not row.__contains__('1st'):\n",
    "            continue\n",
    "        df_res = filter_logic(row_folder,analysis='size')\n",
    "        trees_slices = slice_to_trees(os.path.join(row_folder, [i for i in os.listdir(row_folder) if 'slice_data' in i][0]),None,None)\n",
    "        size_df = trackers_into_plot(trees_slices,df_res,analysis='size')\n",
    "        count = trackers_into_plot(trees_slices,df_res,analysis='counter')\n",
    "        if row.__contains__('pre'):\n",
    "            plt.hist(size_df)\n",
    "            plt.ylim(0,15)\n",
    "            pre_count = count\n",
    "            pre_measures = size_df\n",
    "        if row.__contains__('post'):\n",
    "            plt.hist(size_df)\n",
    "            plt.ylim(0,15)\n",
    "            post_count =count\n",
    "            post_measures = size_df\n",
    "        plt.title(row)\n",
    "        plt.show()\n",
    "    print(diff_size(1 -pre_count/post_count, pre_measures,post_measures))"
   ],
   "metadata": {
    "collapsed": false
   }
  },
  {
   "cell_type": "code",
   "execution_count": null,
   "outputs": [],
   "source": [
    "scan_folder = fr'/media/yotam/Extreme SSD/syngenta trail/tomato/analysis/281222'\n",
    "output_path = fr'/media/yotam/Extreme SSD/syngenta trail/tomato/analysis/281222/results.csv'\n",
    "run_size(scan_folder,output_path)"
   ],
   "metadata": {
    "collapsed": false
   }
  },
  {
   "cell_type": "markdown",
   "source": [
    "Debug Color"
   ],
   "metadata": {
    "collapsed": false
   }
  },
  {
   "cell_type": "code",
   "execution_count": null,
   "outputs": [],
   "source": [
    "def run_color():\n",
    "    for index, row in enumerate(os.listdir(scan)):\n",
    "        row_folder = os.path.join(scan,row)\n",
    "        if not row.__contains__('TiltDown40cm') or not row.__contains__('2nd'):\n",
    "            continue\n",
    "        df_res = filter_logic(row_folder,analysis='color')\n",
    "        trees_slices = slice_to_trees(os.path.join(row_folder, [i for i in os.listdir(row_folder) if 'slice_data' in i][0]),None,None)\n",
    "        color_df = trackers_into_plot(trees_slices,df_res,analysis='color')\n",
    "        count = trackers_into_plot(trees_slices,df_res,analysis='counter')\n",
    "        if row.__contains__('pre'):\n",
    "            plt.hist(size_df)\n",
    "            pre_count = count\n",
    "            pre_measures = color_df\n",
    "        if row.__contains__('post'):\n",
    "            plt.hist(size_df)\n",
    "            post_count =count\n",
    "            post_measures = color_df\n",
    "        plt.title(row)\n",
    "        plt.show()\n",
    "\n",
    "    print(diff_size(1-post_count/pre_count, all_measures= pre_measures,nonPicked_measures=post_measures))\n",
    "\n"
   ],
   "metadata": {
    "collapsed": false
   }
  },
  {
   "cell_type": "code",
   "execution_count": null,
   "outputs": [],
   "source": [
    "df = pd.read_csv(r'C:\\Users\\frodo\\OneDrive - FruitSpec\\Syngenta\\061022\\color_for_hist_2676.csv')\n",
    "df['color_median'] = None\n",
    "df['color_mean'] = None\n",
    "for j, row in df.iterrows():\n",
    "    try:\n",
    "        hue_med,hue_mean = get_color(plot_bbox(row, (0, j)), index=row['frame'])\n",
    "        df.at[j, 'color_median'] = hue_med\n",
    "        df.at[j, 'color_mean'] = hue_mean\n",
    "    except Exception as e:\n",
    "        print(repr(e))\n",
    "df.to_csv(r'C:\\Users\\frodo\\OneDrive - FruitSpec\\Syngenta\\061022\\color_for_hist_2676.csv', index=False)"
   ],
   "metadata": {
    "collapsed": false
   }
  }
 ],
 "metadata": {
  "kernelspec": {
   "display_name": "Python 3",
   "language": "python",
   "name": "python3"
  },
  "language_info": {
   "codemirror_mode": {
    "name": "ipython",
    "version": 2
   },
   "file_extension": ".py",
   "mimetype": "text/x-python",
   "name": "python",
   "nbconvert_exporter": "python",
   "pygments_lexer": "ipython2",
   "version": "2.7.6"
  }
 },
 "nbformat": 4,
 "nbformat_minor": 0
}
