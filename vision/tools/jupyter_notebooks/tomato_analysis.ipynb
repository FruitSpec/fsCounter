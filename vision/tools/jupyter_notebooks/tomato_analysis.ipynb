{
 "cells": [
  {
   "cell_type": "code",
   "execution_count": 7,
   "outputs": [],
   "source": [
    "import pandas as pd\n",
    "\n",
    "fruit_tpe='tomato'\n",
    "scan_date = '010323'\n",
    "main_path = r'C:\\Users\\frodo\\OneDrive - FruitSpec\\Syngenta'\n",
    "\n",
    "df = pd.read_csv(rf\"{main_path}\\{fruit_tpe}\\{scan_date}\\fs_harvest_report.csv\")\n",
    "# insert DB - queries txt file\n",
    "project_id = 8721\n",
    "txt_file = open(rf\"{main_path}\\{fruit_tpe}\\{scan_date}\\\\updateMySQL.txt\",\"w\")\n",
    "for i,row in df.iterrows():\n",
    "    q = f\"\"\"\n",
    "        UPDATE project_plot\n",
    "        SET\n",
    "            project_plot_scan_date = STR_TO_DATE(\"01/03/2023\",\"%d/%m/%Y\"),\n",
    "            Predicted_W = {row['weight_avg_gr']},\n",
    "            WeightSTD = {row['weight_std']},\n",
    "            YE = {row['count']}\n",
    "        WHERE\n",
    "            plot_id = {row['plot_id']} AND project_ID = {project_id};\"\"\"\n",
    "    txt_file.writelines(q)\n",
    "    # txt_file.write('\\n')\n",
    "\n",
    "txt_file.close()\n",
    "df[['stage', 'plot_code','FS_variety', 'count', 'bin1', 'bin2', 'bin3', 'bin4', 'bin5', 'total_weight_kg', 'weight_avg_gr', 'weight_std', 'size_avg_mm', 'size_std']].to_csv(rf\"{main_path}\\{fruit_tpe}\\{scan_date}\\harvest_report.csv\",index=False)"
   ],
   "metadata": {
    "collapsed": false,
    "pycharm": {
     "name": "#%%\n"
    }
   }
  }
 ],
 "metadata": {
  "kernelspec": {
   "display_name": "Python 3 (ipykernel)",
   "language": "python",
   "name": "python3"
  },
  "language_info": {
   "codemirror_mode": {
    "name": "ipython",
    "version": 3
   },
   "file_extension": ".py",
   "mimetype": "text/x-python",
   "name": "python",
   "nbconvert_exporter": "python",
   "pygments_lexer": "ipython3",
   "version": "3.8.5"
  }
 },
 "nbformat": 4,
 "nbformat_minor": 1
}