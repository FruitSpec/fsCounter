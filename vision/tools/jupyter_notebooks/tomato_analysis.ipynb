{
 "cells": [
  {
   "cell_type": "markdown",
   "metadata": {
    "collapsed": true
   },
   "source": [
    "Diff PRE-POST"
   ]
  },
  {
   "cell_type": "code",
   "execution_count": null,
   "outputs": [],
   "source": [
    "from scipy.stats import gaussian_kde\n",
    "\n",
    "def diff_size(nonPicked_ratio, all_measures, nonPicked_measures):\n",
    "    picked_ratio = 1 - nonPicked_ratio\n",
    "\n",
    "    # By miu,sigma\n",
    "    miu_all = all_measures.mean()\n",
    "    sigma_all = all_measures.std()\n",
    "    miu_nonPicked = nonPicked_measures.mean()\n",
    "    sigma_nonPicked = nonPicked_measures.std()\n",
    "    miu_picked = 1 / picked_ratio * miu_all - (nonPicked_ratio / picked_ratio) * miu_nonPicked\n",
    "    sigma_picked = np.sqrt((1 / picked_ratio) ** 2 * sigma_all ** 2 - (nonPicked_ratio / picked_ratio) ** 2 * sigma_nonPicked ** 2)\n",
    "\n",
    "    # By kde\n",
    "    kde_all = gaussian_kde(all_measures)\n",
    "    kde_nonPicked = gaussian_kde(nonPicked_measures)\n",
    "    kde_picked = 1 / picked_ratio * kde_all - (nonPicked_ratio / picked_ratio) * kde_nonPicked\n",
    "    return (miu_picked, sigma_picked), kde_picked"
   ],
   "metadata": {
    "collapsed": false
   }
  },
  {
   "cell_type": "markdown",
   "source": [
    "Debug"
   ],
   "metadata": {
    "collapsed": false
   }
  },
  {
   "cell_type": "code",
   "execution_count": 29,
   "outputs": [
    {
     "name": "stdout",
     "output_type": "stream",
     "text": [
      "/home/yotam/FruitSpec/Code/fsCounter\n"
     ]
    }
   ],
   "source": [
    "import os\n",
    "os.chdir('/home/yotam/FruitSpec/Code/fsCounter')\n",
    "print(os.getcwd())\n",
    "# from vision.data.results_collector import ResultsCollector\n",
    "from vision.tools.manual_slicer import slice_to_trees\n",
    "import math\n",
    "import pandas as pd"
   ],
   "metadata": {
    "collapsed": false
   }
  },
  {
   "cell_type": "code",
   "execution_count": 30,
   "outputs": [],
   "source": [
    "def filter_logic(path):\n",
    "    df = pd.read_csv(os.path.join(path,'measures.csv'))\n",
    "    df_res = []\n",
    "    ids = df.groupby(['track_id'])\n",
    "    for _, df_id in ids:\n",
    "        # if len(df_id) < 4:\n",
    "        #     continue\n",
    "        df_res.append(df_id)\n",
    "    df_res = pd.concat(df_res)\n",
    "    return df_res"
   ],
   "metadata": {
    "collapsed": false
   }
  },
  {
   "cell_type": "code",
   "execution_count": 31,
   "outputs": [],
   "source": [
    "def trackers_into_plot(df_tree, df_res):\n",
    "    df_tree['end'].replace([-1], math.inf,inplace=True)\n",
    "    plot_det = []\n",
    "    for i, df_frame in df_res.groupby(['frame']):\n",
    "        frame_id = df_frame.iloc[0]['frame']\n",
    "        limit = df_tree[df_tree['frame_id'] == frame_id]\n",
    "        if limit.empty:\n",
    "            continue\n",
    "        limit = limit.iloc[0]\n",
    "        df = df_frame[(df_frame['x1'] > limit['start']) & (df_frame['x1'] < limit['end'])]\n",
    "        plot_det.append(df)\n",
    "\n",
    "    fruits = len(pd.concat(plot_det,axis=0)['track_id'].unique())\n",
    "    return fruits"
   ],
   "metadata": {
    "collapsed": false
   }
  },
  {
   "cell_type": "code",
   "execution_count": 32,
   "outputs": [],
   "source": [
    "def run(scan,output):\n",
    "    df_sum = pd.DataFrame()\n",
    "    for row in os.listdir(scan):\n",
    "        row_folder = os.path.join(scan,row)\n",
    "        if os.path.isfile(row_folder):\n",
    "            continue\n",
    "        df_res = filter_logic(row_folder)\n",
    "        trees_slices = slice_to_trees(os.path.join(row_folder, [i for i in os.listdir(row_folder) if 'slice_data' in i][0]),None,None)\n",
    "        fruits_num = trackers_into_plot(trees_slices,df_res)\n",
    "        df_sum = df_sum.append({'repeat':row,'fruits_num':fruits_num},ignore_index = True)\n",
    "    df_sum.to_csv(output,index=True,header=True,mode='w')\n",
    "    return df_sum"
   ],
   "metadata": {
    "collapsed": false
   }
  },
  {
   "cell_type": "code",
   "execution_count": 41,
   "outputs": [
    {
     "name": "stderr",
     "output_type": "stream",
     "text": [
      "/tmp/ipykernel_535546/361793406.py:5: FutureWarning: In a future version of pandas, a length 1 tuple will be returned when iterating over a groupby with a grouper equal to a list of length 1. Don't supply a list with a single grouper to avoid this warning.\n",
      "  for _, df_id in ids:\n",
      "/tmp/ipykernel_535546/1561645460.py:4: FutureWarning: In a future version of pandas, a length 1 tuple will be returned when iterating over a groupby with a grouper equal to a list of length 1. Don't supply a list with a single grouper to avoid this warning.\n",
      "  for i, df_frame in df_res.groupby(['frame']):\n",
      "/tmp/ipykernel_535546/2163329521.py:8: FutureWarning: The frame.append method is deprecated and will be removed from pandas in a future version. Use pandas.concat instead.\n",
      "  df_sum = df_sum.append({'repeat':row,'fruits_num':fruits_num},ignore_index = True)\n",
      "/tmp/ipykernel_535546/361793406.py:5: FutureWarning: In a future version of pandas, a length 1 tuple will be returned when iterating over a groupby with a grouper equal to a list of length 1. Don't supply a list with a single grouper to avoid this warning.\n",
      "  for _, df_id in ids:\n",
      "/tmp/ipykernel_535546/1561645460.py:4: FutureWarning: In a future version of pandas, a length 1 tuple will be returned when iterating over a groupby with a grouper equal to a list of length 1. Don't supply a list with a single grouper to avoid this warning.\n",
      "  for i, df_frame in df_res.groupby(['frame']):\n",
      "/tmp/ipykernel_535546/2163329521.py:8: FutureWarning: The frame.append method is deprecated and will be removed from pandas in a future version. Use pandas.concat instead.\n",
      "  df_sum = df_sum.append({'repeat':row,'fruits_num':fruits_num},ignore_index = True)\n",
      "/tmp/ipykernel_535546/361793406.py:5: FutureWarning: In a future version of pandas, a length 1 tuple will be returned when iterating over a groupby with a grouper equal to a list of length 1. Don't supply a list with a single grouper to avoid this warning.\n",
      "  for _, df_id in ids:\n",
      "/tmp/ipykernel_535546/1561645460.py:4: FutureWarning: In a future version of pandas, a length 1 tuple will be returned when iterating over a groupby with a grouper equal to a list of length 1. Don't supply a list with a single grouper to avoid this warning.\n",
      "  for i, df_frame in df_res.groupby(['frame']):\n",
      "/tmp/ipykernel_535546/2163329521.py:8: FutureWarning: The frame.append method is deprecated and will be removed from pandas in a future version. Use pandas.concat instead.\n",
      "  df_sum = df_sum.append({'repeat':row,'fruits_num':fruits_num},ignore_index = True)\n",
      "/tmp/ipykernel_535546/361793406.py:5: FutureWarning: In a future version of pandas, a length 1 tuple will be returned when iterating over a groupby with a grouper equal to a list of length 1. Don't supply a list with a single grouper to avoid this warning.\n",
      "  for _, df_id in ids:\n",
      "/tmp/ipykernel_535546/1561645460.py:4: FutureWarning: In a future version of pandas, a length 1 tuple will be returned when iterating over a groupby with a grouper equal to a list of length 1. Don't supply a list with a single grouper to avoid this warning.\n",
      "  for i, df_frame in df_res.groupby(['frame']):\n",
      "/tmp/ipykernel_535546/2163329521.py:8: FutureWarning: The frame.append method is deprecated and will be removed from pandas in a future version. Use pandas.concat instead.\n",
      "  df_sum = df_sum.append({'repeat':row,'fruits_num':fruits_num},ignore_index = True)\n",
      "/tmp/ipykernel_535546/361793406.py:5: FutureWarning: In a future version of pandas, a length 1 tuple will be returned when iterating over a groupby with a grouper equal to a list of length 1. Don't supply a list with a single grouper to avoid this warning.\n",
      "  for _, df_id in ids:\n",
      "/tmp/ipykernel_535546/1561645460.py:4: FutureWarning: In a future version of pandas, a length 1 tuple will be returned when iterating over a groupby with a grouper equal to a list of length 1. Don't supply a list with a single grouper to avoid this warning.\n",
      "  for i, df_frame in df_res.groupby(['frame']):\n",
      "/tmp/ipykernel_535546/2163329521.py:8: FutureWarning: The frame.append method is deprecated and will be removed from pandas in a future version. Use pandas.concat instead.\n",
      "  df_sum = df_sum.append({'repeat':row,'fruits_num':fruits_num},ignore_index = True)\n",
      "/tmp/ipykernel_535546/361793406.py:5: FutureWarning: In a future version of pandas, a length 1 tuple will be returned when iterating over a groupby with a grouper equal to a list of length 1. Don't supply a list with a single grouper to avoid this warning.\n",
      "  for _, df_id in ids:\n",
      "/tmp/ipykernel_535546/1561645460.py:4: FutureWarning: In a future version of pandas, a length 1 tuple will be returned when iterating over a groupby with a grouper equal to a list of length 1. Don't supply a list with a single grouper to avoid this warning.\n",
      "  for i, df_frame in df_res.groupby(['frame']):\n",
      "/tmp/ipykernel_535546/2163329521.py:8: FutureWarning: The frame.append method is deprecated and will be removed from pandas in a future version. Use pandas.concat instead.\n",
      "  df_sum = df_sum.append({'repeat':row,'fruits_num':fruits_num},ignore_index = True)\n",
      "/tmp/ipykernel_535546/361793406.py:5: FutureWarning: In a future version of pandas, a length 1 tuple will be returned when iterating over a groupby with a grouper equal to a list of length 1. Don't supply a list with a single grouper to avoid this warning.\n",
      "  for _, df_id in ids:\n",
      "/tmp/ipykernel_535546/1561645460.py:4: FutureWarning: In a future version of pandas, a length 1 tuple will be returned when iterating over a groupby with a grouper equal to a list of length 1. Don't supply a list with a single grouper to avoid this warning.\n",
      "  for i, df_frame in df_res.groupby(['frame']):\n",
      "/tmp/ipykernel_535546/2163329521.py:8: FutureWarning: The frame.append method is deprecated and will be removed from pandas in a future version. Use pandas.concat instead.\n",
      "  df_sum = df_sum.append({'repeat':row,'fruits_num':fruits_num},ignore_index = True)\n",
      "/tmp/ipykernel_535546/361793406.py:5: FutureWarning: In a future version of pandas, a length 1 tuple will be returned when iterating over a groupby with a grouper equal to a list of length 1. Don't supply a list with a single grouper to avoid this warning.\n",
      "  for _, df_id in ids:\n",
      "/tmp/ipykernel_535546/1561645460.py:4: FutureWarning: In a future version of pandas, a length 1 tuple will be returned when iterating over a groupby with a grouper equal to a list of length 1. Don't supply a list with a single grouper to avoid this warning.\n",
      "  for i, df_frame in df_res.groupby(['frame']):\n",
      "/tmp/ipykernel_535546/2163329521.py:8: FutureWarning: The frame.append method is deprecated and will be removed from pandas in a future version. Use pandas.concat instead.\n",
      "  df_sum = df_sum.append({'repeat':row,'fruits_num':fruits_num},ignore_index = True)\n",
      "/tmp/ipykernel_535546/361793406.py:5: FutureWarning: In a future version of pandas, a length 1 tuple will be returned when iterating over a groupby with a grouper equal to a list of length 1. Don't supply a list with a single grouper to avoid this warning.\n",
      "  for _, df_id in ids:\n",
      "/tmp/ipykernel_535546/1561645460.py:4: FutureWarning: In a future version of pandas, a length 1 tuple will be returned when iterating over a groupby with a grouper equal to a list of length 1. Don't supply a list with a single grouper to avoid this warning.\n",
      "  for i, df_frame in df_res.groupby(['frame']):\n",
      "/tmp/ipykernel_535546/2163329521.py:8: FutureWarning: The frame.append method is deprecated and will be removed from pandas in a future version. Use pandas.concat instead.\n",
      "  df_sum = df_sum.append({'repeat':row,'fruits_num':fruits_num},ignore_index = True)\n",
      "/tmp/ipykernel_535546/361793406.py:5: FutureWarning: In a future version of pandas, a length 1 tuple will be returned when iterating over a groupby with a grouper equal to a list of length 1. Don't supply a list with a single grouper to avoid this warning.\n",
      "  for _, df_id in ids:\n",
      "/tmp/ipykernel_535546/1561645460.py:4: FutureWarning: In a future version of pandas, a length 1 tuple will be returned when iterating over a groupby with a grouper equal to a list of length 1. Don't supply a list with a single grouper to avoid this warning.\n",
      "  for i, df_frame in df_res.groupby(['frame']):\n",
      "/tmp/ipykernel_535546/2163329521.py:8: FutureWarning: The frame.append method is deprecated and will be removed from pandas in a future version. Use pandas.concat instead.\n",
      "  df_sum = df_sum.append({'repeat':row,'fruits_num':fruits_num},ignore_index = True)\n",
      "/tmp/ipykernel_535546/361793406.py:5: FutureWarning: In a future version of pandas, a length 1 tuple will be returned when iterating over a groupby with a grouper equal to a list of length 1. Don't supply a list with a single grouper to avoid this warning.\n",
      "  for _, df_id in ids:\n",
      "/tmp/ipykernel_535546/1561645460.py:4: FutureWarning: In a future version of pandas, a length 1 tuple will be returned when iterating over a groupby with a grouper equal to a list of length 1. Don't supply a list with a single grouper to avoid this warning.\n",
      "  for i, df_frame in df_res.groupby(['frame']):\n",
      "/tmp/ipykernel_535546/2163329521.py:8: FutureWarning: The frame.append method is deprecated and will be removed from pandas in a future version. Use pandas.concat instead.\n",
      "  df_sum = df_sum.append({'repeat':row,'fruits_num':fruits_num},ignore_index = True)\n",
      "/tmp/ipykernel_535546/361793406.py:5: FutureWarning: In a future version of pandas, a length 1 tuple will be returned when iterating over a groupby with a grouper equal to a list of length 1. Don't supply a list with a single grouper to avoid this warning.\n",
      "  for _, df_id in ids:\n",
      "/tmp/ipykernel_535546/1561645460.py:4: FutureWarning: In a future version of pandas, a length 1 tuple will be returned when iterating over a groupby with a grouper equal to a list of length 1. Don't supply a list with a single grouper to avoid this warning.\n",
      "  for i, df_frame in df_res.groupby(['frame']):\n",
      "/tmp/ipykernel_535546/2163329521.py:8: FutureWarning: The frame.append method is deprecated and will be removed from pandas in a future version. Use pandas.concat instead.\n",
      "  df_sum = df_sum.append({'repeat':row,'fruits_num':fruits_num},ignore_index = True)\n"
     ]
    }
   ],
   "source": [
    "scan_folder = fr'/media/yotam/Extreme SSD/syngenta trail/tomato/analysis/281222'\n",
    "output_path = fr'/media/yotam/Extreme SSD/syngenta trail/tomato/analysis/281222/results.csv'\n",
    "DF = run(scan_folder,output_path)"
   ],
   "metadata": {
    "collapsed": false
   }
  },
  {
   "cell_type": "markdown",
   "source": [
    "Color debug"
   ],
   "metadata": {
    "collapsed": false
   }
  },
  {
   "cell_type": "code",
   "execution_count": null,
   "outputs": [],
   "source": [
    "import cv2\n",
    "import matplotlib.pyplot as plt\n",
    "import os\n",
    "import pandas as pd\n",
    "import numpy as np\n",
    "\n",
    "def plot_bbox(data, index):\n",
    "    f = int(data['frame'])\n",
    "    x1 = int(data['x1'])\n",
    "    y1 = int(data['y1'])\n",
    "    x2 = int(data['x2'])\n",
    "    y2 = int(data['y2'])\n",
    "    if x1 < 0 or x2 < 0 or y1 < 0 or y2 < 0:\n",
    "        return\n",
    "    im = cv2.imread(os.path.join(r'E:\\syngenta trail\\tomato\\analysis\\061022\\YATED61R\\frames', f'frame_{f}_res.jpg'))\n",
    "    im = cv2.cvtColor(im, cv2.COLOR_BGR2RGB)\n",
    "    # im = cv2.rotate(im, cv2.ROTATE_90_COUNTERCLOCKWISE)\n",
    "\n",
    "    crop = im[y1:y2, x1:x2, :].copy()\n",
    "    # cv2.imwrite(os.path.join(r'C:\\Users\\frodo\\OneDrive - FruitSpec\\Syngenta\\081122\\4\\hue', f'{index[1]}_RGB.jpg'),crop)\n",
    "    return crop\n",
    "\n",
    "\n",
    "def get_color(det_crop, index=None, saturation_threshold=25, precentile=0.5):\n",
    "    hsv = cv2.cvtColor(det_crop, cv2.COLOR_RGB2HSV)\n",
    "    hue = hsv[:, :, 0].copy()\n",
    "    hue *= 2\n",
    "    h, b = np.histogram(hue[hsv[:, :, 1] > saturation_threshold].flatten(), 360)\n",
    "    p = np.cumsum(h) / sum(h)\n",
    "\n",
    "    for i, percent in enumerate(p):\n",
    "        if percent > precentile:\n",
    "            break\n",
    "\n",
    "    fig, (ax1,ax2) = plt.subplots(1,2)\n",
    "    ax1.plot(h)\n",
    "    ax2.imshow(det_crop)\n",
    "    fig.savefig(rf'E:\\syngenta trail\\tomato\\analysis\\061022\\YATED61R\\HUE_hist\\2676_frame_{index}.jpg')\n",
    "    plt.close()\n",
    "    return round(b[i]*2, 1),round(b.mean()*2, 1)"
   ],
   "metadata": {
    "collapsed": false
   }
  },
  {
   "cell_type": "code",
   "execution_count": null,
   "outputs": [],
   "source": [
    "df = pd.read_csv(r'C:\\Users\\frodo\\OneDrive - FruitSpec\\Syngenta\\061022\\color_for_hist_2676.csv')\n",
    "df['color_median'] = None\n",
    "df['color_mean'] = None\n",
    "for j, row in df.iterrows():\n",
    "    try:\n",
    "        hue_med,hue_mean = get_color(plot_bbox(row, (0, j)), index=row['frame'])\n",
    "        df.at[j, 'color_median'] = hue_med\n",
    "        df.at[j, 'color_mean'] = hue_mean\n",
    "    except Exception as e:\n",
    "        print(repr(e))\n",
    "df.to_csv(r'C:\\Users\\frodo\\OneDrive - FruitSpec\\Syngenta\\061022\\color_for_hist_2676.csv', index=False)"
   ],
   "metadata": {
    "collapsed": false
   }
  }
 ],
 "metadata": {
  "kernelspec": {
   "display_name": "Python 3",
   "language": "python",
   "name": "python3"
  },
  "language_info": {
   "codemirror_mode": {
    "name": "ipython",
    "version": 2
   },
   "file_extension": ".py",
   "mimetype": "text/x-python",
   "name": "python",
   "nbconvert_exporter": "python",
   "pygments_lexer": "ipython2",
   "version": "2.7.6"
  }
 },
 "nbformat": 4,
 "nbformat_minor": 0
}
