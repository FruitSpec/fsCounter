{
 "cells": [
  {
   "cell_type": "markdown",
   "metadata": {
    "collapsed": true
   },
   "source": [
    "Diff PRE-POST"
   ]
  },
  {
   "cell_type": "code",
   "execution_count": 84,
   "metadata": {},
   "outputs": [],
   "source": [
    "from scipy.stats import gaussian_kde\n",
    "\n",
    "def diff_size(nonPicked_ratio, all_measures, nonPicked_measures):\n",
    "    picked_ratio = 1 - nonPicked_ratio\n",
    "\n",
    "    # By miu,sigma , assume normalization\n",
    "    miu_all = all_measures.mean()\n",
    "    sigma_all = all_measures.std()\n",
    "    miu_nonPicked = nonPicked_measures.mean()\n",
    "    sigma_nonPicked = nonPicked_measures.std()\n",
    "    miu_picked = (1 / picked_ratio) * miu_all - (nonPicked_ratio / picked_ratio) * miu_nonPicked\n",
    "    sigma_picked = np.sqrt((1 / picked_ratio) ** 2 * sigma_all ** 2 - (nonPicked_ratio / picked_ratio) ** 2 * sigma_nonPicked ** 2)\n",
    "\n",
    "    # By kde\n",
    "    x_values = np.linspace(all_measures.min(), all_measures.max(), num=int(all_measures.max() - all_measures.min()))\n",
    "    kde_all = gaussian_kde(all_measures)(x_values)\n",
    "    kde_nonPicked = gaussian_kde(nonPicked_measures)(x_values)\n",
    "    kde_picked = (1 / picked_ratio) * kde_all - (nonPicked_ratio / picked_ratio) * kde_nonPicked\n",
    "    kde_miu = np.sum(kde_picked * x_values)\n",
    "    kde_sigma = np.sqrt(np.sum(kde_picked * (x_values - kde_miu) ** 2))\n",
    "\n",
    "    # By hist\n",
    "    hist_all, bins, p = plt.hist(all_measures,density=True)\n",
    "    hist_nonPicked = plt.hist(nonPicked_measures, density=True,bins=bins)[0]\n",
    "    hist_picked = (1 / picked_ratio) * hist_all - (nonPicked_ratio / picked_ratio) * hist_nonPicked\n",
    "    hist_picked = hist_picked/ np.sum(hist_picked)\n",
    "    bins = [(var+ bins[i + 1])/2 for i, var in enumerate(bins) if i+1 != len(bins)]\n",
    "    hist_miu = np.sum(hist_picked * bins)\n",
    "    hist_sigma = np.sqrt(np.sum(hist_picked * (bins - hist_miu) ** 2))\n",
    "\n",
    "    return (miu_picked, sigma_picked), (kde_miu, kde_sigma), (hist_miu, hist_sigma)"
   ]
  },
  {
   "cell_type": "code",
   "execution_count": 66,
   "outputs": [],
   "source": [
    "def map_tree_into_plot(row,T):\n",
    "    df = pd.read_csv(r'C:\\Users\\frodo\\OneDrive - FruitSpec\\Syngenta\\Mapping\\Map_trees_to_plot.csv')\n",
    "    t = df[(df['row']==int(row)) & (df['tree']==T)]\n",
    "    return t.iloc[0]['plot']"
   ],
   "metadata": {
    "collapsed": false,
    "pycharm": {
     "name": "#%%\n"
    }
   }
  },
  {
   "cell_type": "markdown",
   "metadata": {},
   "source": [
    "Debug counter"
   ]
  },
  {
   "cell_type": "code",
   "execution_count": 67,
   "metadata": {},
   "outputs": [],
   "source": [
    "import os\n",
    "from vision.tools.manual_slicer import slice_to_trees\n",
    "import math\n",
    "import pandas as pd\n",
    "import matplotlib.pyplot as plt\n",
    "import numpy as np"
   ]
  },
  {
   "cell_type": "code",
   "execution_count": 75,
   "metadata": {},
   "outputs": [],
   "source": [
    "color_dict = {\"bin1\": [300, 15], \"bin2\": [15, 45], \"bin3\": [45, 90], \"bin4\": [90, 165]}\n",
    "\n",
    "\n",
    "def filter_logic(path, analysis='counter'):\n",
    "    df = pd.read_csv(os.path.join(path, 'measures.csv'))\n",
    "\n",
    "    if analysis == 'size':\n",
    "        df_res = df[(df['width'] < 90) & (df['height'] < 90)]\n",
    "        # df_res = df[df.apply(lambda x: False if (x.width / x.height > 1.25) or (x.width / x.height < 0.75) else True, axis=1)]\n",
    "    elif analysis == 'color':\n",
    "        df_res = df[(df['color'] < 165) & (df['color'] > 300)]\n",
    "    else:\n",
    "        df_res = df\n",
    "    return df_res"
   ]
  },
  {
   "cell_type": "code",
   "execution_count": 69,
   "metadata": {},
   "outputs": [],
   "source": [
    "def trackers_into_value(df_tree, df_res, analysis='counter'):\n",
    "    df_tree['end'].replace([-1], math.inf,inplace=True)\n",
    "    plot_det = []\n",
    "    const = 0\n",
    "    for frame_id, df_frame in df_res.groupby('frame'):\n",
    "        limit = df_tree[df_tree['frame_id'] == frame_id]\n",
    "        if limit.empty:\n",
    "            continue\n",
    "        limit = limit.iloc[0]\n",
    "        df = df_frame[(df_frame['x1'] + const > limit['start']) & (df_frame['x1'] < limit['end'] - const)]\n",
    "        plot_det.append(df)\n",
    "    if analysis == 'counter':\n",
    "        var = len(pd.concat(plot_det,axis=0)['track_id'].unique())\n",
    "    elif analysis == 'size':\n",
    "        df_group = pd.concat(plot_det,axis=0).groupby('track_id')\n",
    "        print(len(df_group))\n",
    "        var = df_group.apply(lambda x : x.width.mean() if x.width.mean() > x.height.mean() else x.height.mean())\n",
    "    return var"
   ]
  },
  {
   "cell_type": "code",
   "execution_count": 79,
   "outputs": [],
   "source": [
    "def apply_trees_counter(path, row):\n",
    "    df = pd.DataFrame()\n",
    "    # in case that no measures.csv or no json\n",
    "    try:\n",
    "        row_folder = os.path.join(path, row)\n",
    "        df_res = filter_logic(row_folder)\n",
    "        print(df_res)\n",
    "        trees_slices = slice_to_trees(os.path.join(row_folder, [i for i in os.listdir(row_folder) if 'slice_data' in i][0]), None, None)\n",
    "    except:\n",
    "        return df\n",
    "\n",
    "    for tree_id, df_tree in trees_slices.groupby('tree_id'):\n",
    "        count = trackers_into_value(df_tree, df_res, analysis='counter')\n",
    "        plot_id = map_tree_into_plot(row, tree_id)\n",
    "        df = df.append({'row': row, 'plot_id': plot_id, 'fruits_num': count}, ignore_index=True)\n",
    "    return df"
   ],
   "metadata": {
    "collapsed": false,
    "pycharm": {
     "name": "#%%\n"
    }
   }
  },
  {
   "cell_type": "code",
   "execution_count": 82,
   "metadata": {},
   "outputs": [],
   "source": [
    "def run_counter(scan_pre, scan_post, output):\n",
    "    df_pre,df_post = pd.DataFrame(),pd.DataFrame()\n",
    "    for (pre,post) in zip(os.listdir(scan_pre),os.listdir(scan_post)):\n",
    "        print(pre,post)\n",
    "        df_pre = pd.concat([df_pre,apply_trees_counter(scan_pre,pre)],axis=0)\n",
    "        df_post = pd.concat([df_post,apply_trees_counter(scan_post,post)],axis=0)\n",
    "    df_sum = df_pre.merge(df_post,how='inner',on = ['row','plot_id'],suffixes=['pre_','post_'])\n",
    "    df_sum['diff'] = df_sum['pre_fruits_num'] - df_sum['post_fruits_num']\n",
    "    df_sum.to_csv(output,index=True,header=True,mode='w')\n",
    "    return df_pre, df_post"
   ]
  },
  {
   "cell_type": "code",
   "execution_count": 83,
   "metadata": {},
   "outputs": [
    {
     "name": "stdout",
     "output_type": "stream",
     "text": [
      "1 1\n",
      "        x1    y1    x2    y2  obj_conf  class_conf  track_id  frame  cluster  \\\n",
      "0      937   478  1034   571  0.911096         0.0         5     10        0   \n",
      "1      904   375  1006   487  0.902273         0.0        11     10        0   \n",
      "2      990   308  1080   421  0.890364         0.0        15     10        0   \n",
      "3      928   909  1035  1014  0.885934         0.0        18     10        1   \n",
      "4     1011   421  1080   508  0.883765         0.0        19     10        0   \n",
      "...    ...   ...   ...   ...       ...         ...       ...    ...      ...   \n",
      "9168   344  1116   409  1176  0.823383         0.0      2100    551        3   \n",
      "9169   130   663   203   750  0.844912         0.0      2102    551        0   \n",
      "9170     0    74    37   158  0.858765         0.0      2077    552        0   \n",
      "9171   263   378   324   454  0.861253         0.0      2091    552        1   \n",
      "9172   339   600   402   669  0.884002         0.0      2101    552        2   \n",
      "\n",
      "         height      width  distance       color  color_std  \n",
      "0     42.408198  52.505475  0.570878  120.232400  17.121123  \n",
      "1     72.982743  47.208443  0.556866  120.409876  18.528327  \n",
      "2     47.634952  32.864526  0.515119  116.127584  21.743811  \n",
      "3     99.972568   4.569638  0.646668   94.084743  17.370621  \n",
      "4     35.962589  30.830696  0.551659  117.962334  14.372667  \n",
      "...         ...        ...       ...         ...        ...  \n",
      "9168        NaN        NaN       NaN   62.219017  59.680098  \n",
      "9169  49.837563  53.608369  0.551702  109.987706  15.729148  \n",
      "9170        NaN        NaN       NaN  135.599765  13.121904  \n",
      "9171        NaN        NaN       NaN  134.606696  23.221588  \n",
      "9172        NaN        NaN       NaN   70.456081  29.252505  \n",
      "\n",
      "[9173 rows x 14 columns]\n",
      "        x1   y1    x2   y2  obj_conf  class_conf  track_id  frame  cluster  \\\n",
      "0      862  530   945  612  0.930949         0.0         0     40        0   \n",
      "1      253  742   331  815  0.928549         0.0         1     40        1   \n",
      "2      180  736   258  814  0.925990         0.0         4     40        1   \n",
      "3      858  442   944  533  0.924597         0.0         5     40        0   \n",
      "4      933  557  1010  631  0.922030         0.0         8     40        0   \n",
      "...    ...  ...   ...  ...       ...         ...       ...    ...      ...   \n",
      "11259   20  554   115  671  0.866248         0.0      2204    737        3   \n",
      "11260  344  396   403  462  0.873760         0.0      2210    737        2   \n",
      "11261   43  425   172  544  0.727511         0.0      2213    737        3   \n",
      "11262  236  326   303  408  0.912590         0.0      2203    738        0   \n",
      "11263  324  390   373  449  0.827966         0.0      2210    738        0   \n",
      "\n",
      "          height      width  distance       color  color_std  \n",
      "0      51.626220  52.375514  0.763866  146.959899  14.730213  \n",
      "1      52.369881  58.023810  0.806098  140.582942  19.427541  \n",
      "2      58.785930  65.193214  0.814538  142.318098  19.520475  \n",
      "3      62.898561  49.799114  0.747970  153.159494  13.790541  \n",
      "4      52.604686  56.320291  0.770595  148.728164  17.032784  \n",
      "...          ...        ...       ...         ...        ...  \n",
      "11259  52.747000  26.725521  0.485397  114.275107  13.366396  \n",
      "11260        NaN        NaN       NaN  124.950720  26.212826  \n",
      "11261  53.496521  58.456395  0.507738  119.628002  17.187531  \n",
      "11262        NaN        NaN       NaN  135.937266  24.491592  \n",
      "11263        NaN        NaN       NaN  109.909259  20.682431  \n",
      "\n",
      "[11264 rows x 14 columns]\n",
      "10 10\n",
      "       x1    y1   x2    y2  obj_conf  class_conf  track_id  frame  cluster  \\\n",
      "0     305   664  396   748  0.935783         0.0         0      9        0   \n",
      "1     237   363  314   440  0.925503         0.0         3      9        1   \n",
      "2     382   168  460   258  0.923657         0.0         5      9        2   \n",
      "3     224   271  308   356  0.909599         0.0        16      9        1   \n",
      "4     438   222  511   311  0.905794         0.0        18      9        2   \n",
      "...   ...   ...  ...   ...       ...         ...       ...    ...      ...   \n",
      "9809  120   363  153   395  0.836758         0.0      3102    739        0   \n",
      "9810    0  1402   38  1507  0.869308         0.0      3087    740        0   \n",
      "9811  121   502  191   566  0.776186         0.0      3109    830        0   \n",
      "9812   96   451  179   540  0.727546         0.0      3110    830        0   \n",
      "9813  412   514  456   558  0.703568         0.0      3109    833        0   \n",
      "\n",
      "         height      width  distance       color   color_std  \n",
      "0     65.875635  70.561312  0.862284   62.306724   20.753944  \n",
      "1     53.383708  60.265303  0.850588   90.346956   17.145648  \n",
      "2     53.682830  61.580639  0.842013   97.112932   21.154528  \n",
      "3     83.195485  61.666634  0.864319   97.230554   22.068329  \n",
      "4     51.465556  58.474522  0.870088   97.213461   20.748315  \n",
      "...         ...        ...       ...         ...         ...  \n",
      "9809        NaN        NaN       NaN  154.508249    9.327173  \n",
      "9810        NaN        NaN       NaN  125.393658    9.946470  \n",
      "9811  20.660572  24.540717  0.866458   35.781165   63.636355  \n",
      "9812  53.807940  56.623627  0.853667   63.118089  102.055493  \n",
      "9813        NaN        NaN       NaN   83.142228  118.596429  \n",
      "\n",
      "[9814 rows x 14 columns]\n"
     ]
    },
    {
     "ename": "KeyError",
     "evalue": "'tree'",
     "output_type": "error",
     "traceback": [
      "\u001B[1;31m---------------------------------------------------------------------------\u001B[0m",
      "\u001B[1;31mKeyError\u001B[0m                                  Traceback (most recent call last)",
      "File \u001B[1;32m~\\anaconda3\\envs\\data_science\\lib\\site-packages\\pandas\\core\\indexes\\base.py:3080\u001B[0m, in \u001B[0;36mIndex.get_loc\u001B[1;34m(self, key, method, tolerance)\u001B[0m\n\u001B[0;32m   3079\u001B[0m \u001B[38;5;28;01mtry\u001B[39;00m:\n\u001B[1;32m-> 3080\u001B[0m     \u001B[38;5;28;01mreturn\u001B[39;00m \u001B[38;5;28;43mself\u001B[39;49m\u001B[38;5;241;43m.\u001B[39;49m\u001B[43m_engine\u001B[49m\u001B[38;5;241;43m.\u001B[39;49m\u001B[43mget_loc\u001B[49m\u001B[43m(\u001B[49m\u001B[43mcasted_key\u001B[49m\u001B[43m)\u001B[49m\n\u001B[0;32m   3081\u001B[0m \u001B[38;5;28;01mexcept\u001B[39;00m \u001B[38;5;167;01mKeyError\u001B[39;00m \u001B[38;5;28;01mas\u001B[39;00m err:\n",
      "File \u001B[1;32mpandas\\_libs\\index.pyx:70\u001B[0m, in \u001B[0;36mpandas._libs.index.IndexEngine.get_loc\u001B[1;34m()\u001B[0m\n",
      "File \u001B[1;32mpandas\\_libs\\index.pyx:101\u001B[0m, in \u001B[0;36mpandas._libs.index.IndexEngine.get_loc\u001B[1;34m()\u001B[0m\n",
      "File \u001B[1;32mpandas\\_libs\\hashtable_class_helper.pxi:4554\u001B[0m, in \u001B[0;36mpandas._libs.hashtable.PyObjectHashTable.get_item\u001B[1;34m()\u001B[0m\n",
      "File \u001B[1;32mpandas\\_libs\\hashtable_class_helper.pxi:4562\u001B[0m, in \u001B[0;36mpandas._libs.hashtable.PyObjectHashTable.get_item\u001B[1;34m()\u001B[0m\n",
      "\u001B[1;31mKeyError\u001B[0m: 'tree'",
      "\nThe above exception was the direct cause of the following exception:\n",
      "\u001B[1;31mKeyError\u001B[0m                                  Traceback (most recent call last)",
      "Input \u001B[1;32mIn [83]\u001B[0m, in \u001B[0;36m<cell line: 4>\u001B[1;34m()\u001B[0m\n\u001B[0;32m      2\u001B[0m scan_post \u001B[38;5;241m=\u001B[39m \u001B[38;5;124mfr\u001B[39m\u001B[38;5;124m'\u001B[39m\u001B[38;5;124mC:\u001B[39m\u001B[38;5;124m\\\u001B[39m\u001B[38;5;124mUsers\u001B[39m\u001B[38;5;124m\\\u001B[39m\u001B[38;5;124mfrodo\u001B[39m\u001B[38;5;124m\\\u001B[39m\u001B[38;5;124mOneDrive - FruitSpec\u001B[39m\u001B[38;5;124m\\\u001B[39m\u001B[38;5;124mSyngenta\u001B[39m\u001B[38;5;124m\\\u001B[39m\u001B[38;5;124mtomato\u001B[39m\u001B[38;5;124m\\\u001B[39m\u001B[38;5;124m230123\u001B[39m\u001B[38;5;124m\\\u001B[39m\u001B[38;5;124mpost\u001B[39m\u001B[38;5;124m'\u001B[39m\n\u001B[0;32m      3\u001B[0m output_path \u001B[38;5;241m=\u001B[39m \u001B[38;5;124mfr\u001B[39m\u001B[38;5;124m'\u001B[39m\u001B[38;5;124mC:\u001B[39m\u001B[38;5;124m\\\u001B[39m\u001B[38;5;124mUsers\u001B[39m\u001B[38;5;124m\\\u001B[39m\u001B[38;5;124mfrodo\u001B[39m\u001B[38;5;124m\\\u001B[39m\u001B[38;5;124mOneDrive - FruitSpec\u001B[39m\u001B[38;5;124m\\\u001B[39m\u001B[38;5;124mSyngenta\u001B[39m\u001B[38;5;124m\\\u001B[39m\u001B[38;5;124mtomato\u001B[39m\u001B[38;5;124m\\\u001B[39m\u001B[38;5;124m230123\u001B[39m\u001B[38;5;124m\\\u001B[39m\u001B[38;5;124mresults.csv\u001B[39m\u001B[38;5;124m'\u001B[39m\n\u001B[1;32m----> 4\u001B[0m df_pre, df_post \u001B[38;5;241m=\u001B[39m \u001B[43mrun_counter\u001B[49m\u001B[43m(\u001B[49m\u001B[43mscan_pre\u001B[49m\u001B[43m,\u001B[49m\u001B[43mscan_post\u001B[49m\u001B[43m,\u001B[49m\u001B[43moutput_path\u001B[49m\u001B[43m)\u001B[49m\n",
      "Input \u001B[1;32mIn [82]\u001B[0m, in \u001B[0;36mrun_counter\u001B[1;34m(scan_pre, scan_post, output)\u001B[0m\n\u001B[0;32m      3\u001B[0m \u001B[38;5;28;01mfor\u001B[39;00m (pre,post) \u001B[38;5;129;01min\u001B[39;00m \u001B[38;5;28mzip\u001B[39m(os\u001B[38;5;241m.\u001B[39mlistdir(scan_pre),os\u001B[38;5;241m.\u001B[39mlistdir(scan_post)):\n\u001B[0;32m      4\u001B[0m     \u001B[38;5;28mprint\u001B[39m(pre,post)\n\u001B[1;32m----> 5\u001B[0m     df_pre \u001B[38;5;241m=\u001B[39m pd\u001B[38;5;241m.\u001B[39mconcat([df_pre,\u001B[43mapply_trees_counter\u001B[49m\u001B[43m(\u001B[49m\u001B[43mscan_pre\u001B[49m\u001B[43m,\u001B[49m\u001B[43mpre\u001B[49m\u001B[43m)\u001B[49m],axis\u001B[38;5;241m=\u001B[39m\u001B[38;5;241m0\u001B[39m)\n\u001B[0;32m      6\u001B[0m     df_post \u001B[38;5;241m=\u001B[39m pd\u001B[38;5;241m.\u001B[39mconcat([df_post,apply_trees_counter(scan_post,post)],axis\u001B[38;5;241m=\u001B[39m\u001B[38;5;241m0\u001B[39m)\n\u001B[0;32m      7\u001B[0m df_sum \u001B[38;5;241m=\u001B[39m df_pre\u001B[38;5;241m.\u001B[39mmerge(df_post,how\u001B[38;5;241m=\u001B[39m\u001B[38;5;124m'\u001B[39m\u001B[38;5;124minner\u001B[39m\u001B[38;5;124m'\u001B[39m,on \u001B[38;5;241m=\u001B[39m [\u001B[38;5;124m'\u001B[39m\u001B[38;5;124mrow\u001B[39m\u001B[38;5;124m'\u001B[39m,\u001B[38;5;124m'\u001B[39m\u001B[38;5;124mplot_id\u001B[39m\u001B[38;5;124m'\u001B[39m],suffixes\u001B[38;5;241m=\u001B[39m[\u001B[38;5;124m'\u001B[39m\u001B[38;5;124mpre_\u001B[39m\u001B[38;5;124m'\u001B[39m,\u001B[38;5;124m'\u001B[39m\u001B[38;5;124mpost_\u001B[39m\u001B[38;5;124m'\u001B[39m])\n",
      "Input \u001B[1;32mIn [79]\u001B[0m, in \u001B[0;36mapply_trees_counter\u001B[1;34m(path, row)\u001B[0m\n\u001B[0;32m     12\u001B[0m \u001B[38;5;28;01mfor\u001B[39;00m tree_id, df_tree \u001B[38;5;129;01min\u001B[39;00m trees_slices\u001B[38;5;241m.\u001B[39mgroupby(\u001B[38;5;124m'\u001B[39m\u001B[38;5;124mtree_id\u001B[39m\u001B[38;5;124m'\u001B[39m):\n\u001B[0;32m     13\u001B[0m     count \u001B[38;5;241m=\u001B[39m trackers_into_value(df_tree, df_res, analysis\u001B[38;5;241m=\u001B[39m\u001B[38;5;124m'\u001B[39m\u001B[38;5;124mcounter\u001B[39m\u001B[38;5;124m'\u001B[39m)\n\u001B[1;32m---> 14\u001B[0m     plot_id \u001B[38;5;241m=\u001B[39m \u001B[43mmap_tree_into_plot\u001B[49m\u001B[43m(\u001B[49m\u001B[43mrow\u001B[49m\u001B[43m,\u001B[49m\u001B[43m \u001B[49m\u001B[43mtree_id\u001B[49m\u001B[43m)\u001B[49m\n\u001B[0;32m     15\u001B[0m     df \u001B[38;5;241m=\u001B[39m df\u001B[38;5;241m.\u001B[39mappend({\u001B[38;5;124m'\u001B[39m\u001B[38;5;124mrow\u001B[39m\u001B[38;5;124m'\u001B[39m: row, \u001B[38;5;124m'\u001B[39m\u001B[38;5;124mplot_id\u001B[39m\u001B[38;5;124m'\u001B[39m: plot_id, \u001B[38;5;124m'\u001B[39m\u001B[38;5;124mfruits_num\u001B[39m\u001B[38;5;124m'\u001B[39m: count}, ignore_index\u001B[38;5;241m=\u001B[39m\u001B[38;5;28;01mTrue\u001B[39;00m)\n\u001B[0;32m     16\u001B[0m \u001B[38;5;28;01mreturn\u001B[39;00m df\n",
      "Input \u001B[1;32mIn [66]\u001B[0m, in \u001B[0;36mmap_tree_into_plot\u001B[1;34m(row, T)\u001B[0m\n\u001B[0;32m      1\u001B[0m \u001B[38;5;28;01mdef\u001B[39;00m \u001B[38;5;21mmap_tree_into_plot\u001B[39m(row,T):\n\u001B[0;32m      2\u001B[0m     df \u001B[38;5;241m=\u001B[39m pd\u001B[38;5;241m.\u001B[39mread_csv(\u001B[38;5;124mr\u001B[39m\u001B[38;5;124m'\u001B[39m\u001B[38;5;124mC:\u001B[39m\u001B[38;5;124m\\\u001B[39m\u001B[38;5;124mUsers\u001B[39m\u001B[38;5;124m\\\u001B[39m\u001B[38;5;124mfrodo\u001B[39m\u001B[38;5;124m\\\u001B[39m\u001B[38;5;124mOneDrive - FruitSpec\u001B[39m\u001B[38;5;124m\\\u001B[39m\u001B[38;5;124mSyngenta\u001B[39m\u001B[38;5;124m\\\u001B[39m\u001B[38;5;124mMapping\u001B[39m\u001B[38;5;124m\\\u001B[39m\u001B[38;5;124mMap_trees_to_plot.csv\u001B[39m\u001B[38;5;124m'\u001B[39m)\n\u001B[1;32m----> 3\u001B[0m     t \u001B[38;5;241m=\u001B[39m df[(df[\u001B[38;5;124m'\u001B[39m\u001B[38;5;124mrow\u001B[39m\u001B[38;5;124m'\u001B[39m]\u001B[38;5;241m==\u001B[39m\u001B[38;5;28mint\u001B[39m(row)) \u001B[38;5;241m&\u001B[39m (\u001B[43mdf\u001B[49m\u001B[43m[\u001B[49m\u001B[38;5;124;43m'\u001B[39;49m\u001B[38;5;124;43mtree\u001B[39;49m\u001B[38;5;124;43m'\u001B[39;49m\u001B[43m]\u001B[49m\u001B[38;5;241m==\u001B[39mT)]\n\u001B[0;32m      4\u001B[0m     \u001B[38;5;28;01mreturn\u001B[39;00m t\u001B[38;5;241m.\u001B[39miloc[\u001B[38;5;241m0\u001B[39m][\u001B[38;5;124m'\u001B[39m\u001B[38;5;124mplot\u001B[39m\u001B[38;5;124m'\u001B[39m]\n",
      "File \u001B[1;32m~\\anaconda3\\envs\\data_science\\lib\\site-packages\\pandas\\core\\frame.py:3024\u001B[0m, in \u001B[0;36mDataFrame.__getitem__\u001B[1;34m(self, key)\u001B[0m\n\u001B[0;32m   3022\u001B[0m \u001B[38;5;28;01mif\u001B[39;00m \u001B[38;5;28mself\u001B[39m\u001B[38;5;241m.\u001B[39mcolumns\u001B[38;5;241m.\u001B[39mnlevels \u001B[38;5;241m>\u001B[39m \u001B[38;5;241m1\u001B[39m:\n\u001B[0;32m   3023\u001B[0m     \u001B[38;5;28;01mreturn\u001B[39;00m \u001B[38;5;28mself\u001B[39m\u001B[38;5;241m.\u001B[39m_getitem_multilevel(key)\n\u001B[1;32m-> 3024\u001B[0m indexer \u001B[38;5;241m=\u001B[39m \u001B[38;5;28;43mself\u001B[39;49m\u001B[38;5;241;43m.\u001B[39;49m\u001B[43mcolumns\u001B[49m\u001B[38;5;241;43m.\u001B[39;49m\u001B[43mget_loc\u001B[49m\u001B[43m(\u001B[49m\u001B[43mkey\u001B[49m\u001B[43m)\u001B[49m\n\u001B[0;32m   3025\u001B[0m \u001B[38;5;28;01mif\u001B[39;00m is_integer(indexer):\n\u001B[0;32m   3026\u001B[0m     indexer \u001B[38;5;241m=\u001B[39m [indexer]\n",
      "File \u001B[1;32m~\\anaconda3\\envs\\data_science\\lib\\site-packages\\pandas\\core\\indexes\\base.py:3082\u001B[0m, in \u001B[0;36mIndex.get_loc\u001B[1;34m(self, key, method, tolerance)\u001B[0m\n\u001B[0;32m   3080\u001B[0m         \u001B[38;5;28;01mreturn\u001B[39;00m \u001B[38;5;28mself\u001B[39m\u001B[38;5;241m.\u001B[39m_engine\u001B[38;5;241m.\u001B[39mget_loc(casted_key)\n\u001B[0;32m   3081\u001B[0m     \u001B[38;5;28;01mexcept\u001B[39;00m \u001B[38;5;167;01mKeyError\u001B[39;00m \u001B[38;5;28;01mas\u001B[39;00m err:\n\u001B[1;32m-> 3082\u001B[0m         \u001B[38;5;28;01mraise\u001B[39;00m \u001B[38;5;167;01mKeyError\u001B[39;00m(key) \u001B[38;5;28;01mfrom\u001B[39;00m \u001B[38;5;21;01merr\u001B[39;00m\n\u001B[0;32m   3084\u001B[0m \u001B[38;5;28;01mif\u001B[39;00m tolerance \u001B[38;5;129;01mis\u001B[39;00m \u001B[38;5;129;01mnot\u001B[39;00m \u001B[38;5;28;01mNone\u001B[39;00m:\n\u001B[0;32m   3085\u001B[0m     tolerance \u001B[38;5;241m=\u001B[39m \u001B[38;5;28mself\u001B[39m\u001B[38;5;241m.\u001B[39m_convert_tolerance(tolerance, np\u001B[38;5;241m.\u001B[39masarray(key))\n",
      "\u001B[1;31mKeyError\u001B[0m: 'tree'"
     ]
    }
   ],
   "source": [
    "scan_pre = fr'C:\\Users\\frodo\\OneDrive - FruitSpec\\Syngenta\\tomato\\230123\\pre'\n",
    "scan_post = fr'C:\\Users\\frodo\\OneDrive - FruitSpec\\Syngenta\\tomato\\230123\\post'\n",
    "output_path = fr'C:\\Users\\frodo\\OneDrive - FruitSpec\\Syngenta\\tomato\\230123\\results.csv'\n",
    "df_pre, df_post = run_counter(scan_pre,scan_post,output_path)"
   ]
  },
  {
   "cell_type": "markdown",
   "metadata": {
    "pycharm": {
     "name": "#%% md\n"
    }
   },
   "source": [
    "Debug size"
   ]
  },
  {
   "cell_type": "code",
   "execution_count": null,
   "metadata": {},
   "outputs": [],
   "source": [
    "def apply_trees_size(path,row):\n",
    "    row_folder = os.path.join(path,row)\n",
    "    df_res = filter_logic(row_folder,analysis='size')\n",
    "    trees_slices = slice_to_trees(os.path.join(row_folder, [i for i in os.listdir(row_folder) if 'slice_data' in i][0]),None,None)\n",
    "    for tree_id, df_tree in trees_slices.groupby('tree_id'):\n",
    "        measures = trackers_into_plot(df_tree,df_res,analysis='size')\n",
    "        count = trackers_into_value(df_tree, df_res, analysis='counter')\n",
    "        yield tree_id, count, measures\n",
    "        plot_id = map_tree_into_plot(row, tree_id)\n",
    "        df_sum = df_sum.append({'repeat': type, 'row': row, 'plot_id': plot_id, 'fruits_num': count}, ignore_index=True)\n",
    "    return df_sum\n",
    "\n",
    "\n",
    "    return count,measures"
   ]
  },
  {
   "cell_type": "markdown",
   "source": [],
   "metadata": {
    "collapsed": false
   }
  },
  {
   "cell_type": "code",
   "execution_count": null,
   "outputs": [],
   "source": [
    "def run_size(scan_pre, scan_post, output):\n",
    "    df_sum = pd.DataFrame()\n",
    "    for (pre, post) in zip(os.listdir(scan_pre), os.listdir(scan_post)):\n",
    "        for (pre_tree_id, pre_count, pre_measures), (post_tree_id,post_count, post_measures) in zip(apply_trees_size(scan_pre, pre), apply_trees_size(scan_post, post)):\n",
    "            mean, std = diff_size(1 - pre_count / post_count, pre_measures, post_measures)\n",
    "            plot_id = map_tree_into_plot(pre,pre_tree_id)\n",
    "            df_sum = df_sum.append({'row': row, 'plot_id': plot_id, 'avg_size': mean,'std_size':std}, ignore_index=True)"
   ],
   "metadata": {
    "collapsed": false,
    "pycharm": {
     "name": "#%%\n"
    }
   }
  },
  {
   "cell_type": "code",
   "execution_count": null,
   "metadata": {},
   "outputs": [],
   "source": [
    "scan_pre = fr'/media/yotam/Extreme SSD/syngenta trail/tomato/analysis/281222'\n",
    "scan_post = fr'/media/yotam/Extreme SSD/syngenta trail/tomato/analysis/281222'\n",
    "output_path = fr'/media/yotam/Extreme SSD/syngenta trail/tomato/analysis/281222/results.csv'\n",
    "run_size(scan_pre,scan_post,output_path)"
   ]
  },
  {
   "cell_type": "markdown",
   "metadata": {},
   "source": [
    "Debug Color"
   ]
  },
  {
   "cell_type": "code",
   "execution_count": null,
   "metadata": {},
   "outputs": [],
   "source": [
    "def run_color():\n",
    "    for index, row in enumerate(os.listdir(scan)):\n",
    "        row_folder = os.path.join(scan,row)\n",
    "        if not row.__contains__('TiltDown40cm') or not row.__contains__('2nd'):\n",
    "            continue\n",
    "        df_res = filter_logic(row_folder,analysis='color')\n",
    "        trees_slices = slice_to_trees(os.path.join(row_folder, [i for i in os.listdir(row_folder) if 'slice_data' in i][0]),None,None)\n",
    "        color_df = trackers_into_plot(trees_slices,df_res,analysis='color')\n",
    "        count = trackers_into_plot(trees_slices,df_res,analysis='counter')\n",
    "        if row.__contains__('pre'):\n",
    "            plt.hist(size_df)\n",
    "            pre_count = count\n",
    "            pre_measures = color_df\n",
    "        if row.__contains__('post'):\n",
    "            plt.hist(size_df)\n",
    "            post_count =count\n",
    "            post_measures = color_df\n",
    "        plt.title(row)\n",
    "        plt.show()\n",
    "\n",
    "    print(diff_size(1-post_count/pre_count, all_measures= pre_measures,nonPicked_measures=post_measures))\n",
    "\n"
   ]
  },
  {
   "cell_type": "code",
   "execution_count": null,
   "metadata": {},
   "outputs": [],
   "source": [
    "df = pd.read_csv(r'C:\\Users\\frodo\\OneDrive - FruitSpec\\Syngenta\\061022\\color_for_hist_2676.csv')\n",
    "df['color_median'] = None\n",
    "df['color_mean'] = None\n",
    "for j, row in df.iterrows():\n",
    "    try:\n",
    "        hue_med,hue_mean = get_color(plot_bbox(row, (0, j)), index=row['frame'])\n",
    "        df.at[j, 'color_median'] = hue_med\n",
    "        df.at[j, 'color_mean'] = hue_mean\n",
    "    except Exception as e:\n",
    "        print(repr(e))\n",
    "df.to_csv(r'C:\\Users\\frodo\\OneDrive - FruitSpec\\Syngenta\\061022\\color_for_hist_2676.csv', index=False)"
   ]
  }
 ],
 "metadata": {
  "kernelspec": {
   "display_name": "Python 3 (ipykernel)",
   "language": "python",
   "name": "python3"
  },
  "language_info": {
   "codemirror_mode": {
    "name": "ipython",
    "version": 3
   },
   "file_extension": ".py",
   "mimetype": "text/x-python",
   "name": "python",
   "nbconvert_exporter": "python",
   "pygments_lexer": "ipython3",
   "version": "3.8.5"
  }
 },
 "nbformat": 4,
 "nbformat_minor": 1
}