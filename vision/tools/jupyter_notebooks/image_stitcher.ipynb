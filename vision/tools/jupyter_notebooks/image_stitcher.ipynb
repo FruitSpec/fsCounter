{
 "cells": [
  {
   "cell_type": "code",
   "execution_count": null,
   "id": "361f5c0f",
   "metadata": {},
   "outputs": [],
   "source": [
    "import os\n",
    "import cv2\n",
    "import numpy as np\n",
    "import matplotlib.pyplot as plt\n",
    "from tools.AutoPanorama.img_stitch import ImageStitcher"
   ]
  },
  {
   "cell_type": "code",
   "execution_count": null,
   "id": "f0f94495",
   "metadata": {},
   "outputs": [],
   "source": [
    "def get_fsi_files(folder_path):\n",
    "    fsi_list = []\n",
    "    fsi_frame = []\n",
    "    tot_file_list = os.listdir(folder_path)\n",
    "    for file in tot_file_list:\n",
    "        if 'FSI' in file and ('jpg' in file or 'png' in file):\n",
    "            fsi_list.append(file)\n",
    "            fsi_frame.append(extract_frame_id(file))\n",
    "            \n",
    "    fsi_frame.sort()\n",
    "    final_list = []\n",
    "    for f_id in fsi_frame:\n",
    "        for file in fsi_list:\n",
    "            if str(f_id) in file:\n",
    "                final_list.append(file)\n",
    "                break\n",
    "                \n",
    "    return final_list\n",
    "        \n",
    "    \n",
    "def extract_frame_id(file_name):\n",
    "    temp = file_name.split('.')[0]\n",
    "    f_id = int(temp.split('_')[-1])\n",
    "    return f_id\n",
    "\n",
    "\n",
    "def load_img(file_path):\n",
    "    img = cv2.imread(file_path)\n",
    "    img_g = cv2.cvtColor(img,cv2.COLOR_BGR2GRAY)\n",
    "    img = cv2.cvtColor(img, cv2.COLOR_BGR2RGB)\n",
    "    \n",
    "    return(img, img_g)\n",
    "\n",
    "def plot_img(img, cmap=None):\n",
    "    f, ax = plt.subplots(1, 1, figsize = (15, 10))\n",
    "    if cmap is None:\n",
    "        ax.imshow(img)\n",
    "    else:\n",
    "        ax.imshow(img, cmap)      \n",
    "        \n",
    "def plot_two_img(img1, img2):\n",
    "    f, ax = plt.subplots(1, 2, figsize = (15, 7))\n",
    "    ax[0].imshow(img1)\n",
    "    ax[1].imshow(img2)\n",
    "    \n",
    "def resize_(img, size=256):\n",
    "    r = min(size / img.shape[0], size\n",
    "                / img.shape[1])\n",
    "    resized_img = cv2.resize(\n",
    "        img,\n",
    "        (int(img.shape[1] * r), int(img.shape[0] * r)),\n",
    "        interpolation=cv2.INTER_LINEAR,\n",
    "    ).astype(np.uint8)\n",
    "    \n",
    "    return resized_img\n",
    "\n",
    "def trim(frame):\n",
    "    #crop top\n",
    "    if not np.sum(frame[0]):\n",
    "        return trim(frame[1:])\n",
    "    #crop top\n",
    "    if not np.sum(frame[-1]):\n",
    "        return trim(frame[:-2])\n",
    "    #crop top\n",
    "    if not np.sum(frame[:,0]):\n",
    "        return trim(frame[:,1:])\n",
    "    #crop top\n",
    "    if not np.sum(frame[:,-1]):\n",
    "        return trim(frame[:,:-2])\n",
    "    return frame\n"
   ]
  },
  {
   "cell_type": "code",
   "execution_count": null,
   "id": "8c74db02",
   "metadata": {},
   "outputs": [],
   "source": [
    "stitch = ImageStitcher()\n"
   ]
  },
  {
   "cell_type": "code",
   "execution_count": null,
   "id": "65827e51",
   "metadata": {},
   "outputs": [],
   "source": [
    "fp = r'C:\\Users\\Matan\\Documents\\Projects\\Data\\Slicer\\from Roi\\15_20_A_16\\15_20_A_16'\n",
    "file_list = get_fsi_files(fp)"
   ]
  },
  {
   "cell_type": "code",
   "execution_count": null,
   "id": "d35586b7",
   "metadata": {},
   "outputs": [],
   "source": [
    "for file in file_list:\n",
    "    stitch.add_image(os.path.join(fp, file) ,1)"
   ]
  },
  {
   "cell_type": "code",
   "execution_count": null,
   "id": "8cd296ca",
   "metadata": {},
   "outputs": [],
   "source": [
    "result = stitch.stitch()"
   ]
  },
  {
   "cell_type": "code",
   "execution_count": null,
   "id": "418a604e",
   "metadata": {},
   "outputs": [],
   "source": [
    "result.shape"
   ]
  },
  {
   "cell_type": "code",
   "execution_count": null,
   "id": "bcbef47e",
   "metadata": {},
   "outputs": [],
   "source": [
    "plot_img(result[:,:,:3])"
   ]
  },
  {
   "cell_type": "code",
   "execution_count": null,
   "id": "26ee488e",
   "metadata": {},
   "outputs": [],
   "source": [
    "o = trim(result[:,:,:3])"
   ]
  },
  {
   "cell_type": "code",
   "execution_count": null,
   "id": "43481fb7",
   "metadata": {},
   "outputs": [],
   "source": [
    "plot_img(o[100:400,:])"
   ]
  },
  {
   "cell_type": "code",
   "execution_count": null,
   "id": "2a86a300",
   "metadata": {},
   "outputs": [],
   "source": []
  }
 ],
 "metadata": {
  "kernelspec": {
   "display_name": "Python 3 (ipykernel)",
   "language": "python",
   "name": "python3"
  },
  "language_info": {
   "codemirror_mode": {
    "name": "ipython",
    "version": 3
   },
   "file_extension": ".py",
   "mimetype": "text/x-python",
   "name": "python",
   "nbconvert_exporter": "python",
   "pygments_lexer": "ipython3",
   "version": "3.7.16"
  }
 },
 "nbformat": 4,
 "nbformat_minor": 5
}
