{
 "cells": [
  {
   "cell_type": "code",
   "execution_count": null,
   "id": "e18467c7",
   "metadata": {},
   "outputs": [],
   "source": [
    "import os\n",
    "import sys\n",
    "import json\n",
    "import pandas as pd\n",
    "import cv2\n",
    "import numpy as np\n",
    "import matplotlib.pyplot as plt\n",
    "\n",
    "from vision.data.augment import zoom_in\n",
    "from vision.data.results_collector import ResultsCollector\n",
    "from vision.vizualization import drawer"
   ]
  },
  {
   "cell_type": "code",
   "execution_count": null,
   "id": "6605737c",
   "metadata": {},
   "outputs": [],
   "source": [
    "def write_coco_file(coco_data, output_path):\n",
    "    with open(output_path, \"w\") as f:\n",
    "        json.dump(coco_data, f)\n",
    "\n",
    "\n",
    "def load_coco_file(file_path):\n",
    "    with open(file_path, \"r\") as f:\n",
    "        coco = json.load(f)\n",
    "\n",
    "    return coco\n",
    "\n",
    "def plot_img(img, cmap=None):\n",
    "    f, ax = plt.subplots(1, 1, figsize = (15, 10))\n",
    "    if cmap is None:\n",
    "        ax.imshow(img)\n",
    "    else:\n",
    "        ax.imshow(img, cmap)\n",
    "def create_hash(coco):\n",
    "\n",
    "    ann_mapping = {}\n",
    "    ann_keys = []\n",
    "    for ann in coco['annotations']:\n",
    "        if ann['image_id'] in ann_keys:\n",
    "            ann_mapping[ann['image_id']].append(ann)\n",
    "        else:\n",
    "            ann_mapping[ann['image_id']] = [ann]\n",
    "            ann_keys = list(ann_mapping.keys())\n",
    "\n",
    "    return ann_mapping"
   ]
  },
  {
   "cell_type": "code",
   "execution_count": null,
   "id": "645587d8",
   "metadata": {},
   "outputs": [],
   "source": [
    "rc = ResultsCollector()\n",
    "\n",
    "coco_fp = '/home/fruitspec-lab/FruitSpec/Data/JAI_FSI_V6_COCO/annotations/instances_train.json'\n",
    "data_dir = '/home/fruitspec-lab/FruitSpec/Data/JAI_FSI_V6_COCO/train2017'"
   ]
  },
  {
   "cell_type": "code",
   "execution_count": null,
   "id": "04aeea75",
   "metadata": {},
   "outputs": [],
   "source": [
    "coco = load_coco_file(coco_fp)\n",
    "images = coco['images']\n",
    "h = create_hash(coco)"
   ]
  },
  {
   "cell_type": "code",
   "execution_count": null,
   "id": "b801f206",
   "metadata": {},
   "outputs": [],
   "source": [
    "ann = coco['annotations']\n",
    "sizes = []\n",
    "widths = []\n",
    "heights = []\n",
    "    image_ids = []\n",
    "    for a in ann:\n",
    "        if a['bbox'][2] > 80:\n",
    "            if a['image_id'] not in image_ids:\n",
    "                image_ids.append(a['image_id'])\n",
    "        widths.append(a['bbox'][2])\n",
    "        heights.append(a['bbox'][3])\n",
    "        sizes.append(a['bbox'][2] * a['bbox'][3])"
   ]
  },
  {
   "cell_type": "code",
   "execution_count": null,
   "id": "6bd2d9da",
   "metadata": {},
   "outputs": [],
   "source": [
    "desired_ann_width = np.random.randint(150, 251)\n",
    "image_name = images[image_ids[0]]['file_name']\n",
    "image = cv2.imread(os.path.join(data_dir, image_name))"
   ]
  },
  {
   "cell_type": "code",
   "execution_count": null,
   "id": "7191d446",
   "metadata": {},
   "outputs": [],
   "source": [
    "#for ann in ann:\n",
    "    #if ann['bbox'][2] > 80:  # width\n",
    "        #r = desired_ann_width / ann['bbox'][2]\n",
    "        #a = ann.copy()\n",
    "        #break\n",
    "dets = h[image_ids[0]]\n",
    "d = []\n",
    "for a in dets:\n",
    "    bbox = a['bbox']\n",
    "    d.append([bbox[0], bbox[1], bbox[0] + bbox[2], bbox[1] + bbox[3], 0, 0, 0, 0])\n",
    "cimg = rc.draw_dets(image,d)\n",
    "plot_img(cimg)"
   ]
  },
  {
   "cell_type": "code",
   "execution_count": null,
   "id": "9765eae6",
   "metadata": {},
   "outputs": [],
   "source": [
    "dets = h[image_ids[0]]\n",
    "image.shape\n",
    "c_img, ann = zoom_in(image, dets, 80, 220)\n",
    "d = []\n",
    "for a in ann:\n",
    "    bbox = a['bbox']\n",
    "    d.append([bbox[0], bbox[1], bbox[0] + bbox[2], bbox[1] + bbox[3], 0, 0, 0, 0])\n",
    "dimg = rc.draw_dets(c_img,d)\n",
    "plot_img(dimg)"
   ]
  },
  {
   "cell_type": "code",
   "execution_count": null,
   "id": "cc0d44ac",
   "metadata": {},
   "outputs": [],
   "source": [
    "dets"
   ]
  },
  {
   "cell_type": "code",
   "execution_count": null,
   "id": "8a5b713d",
   "metadata": {},
   "outputs": [],
   "source": [
    "image.shape"
   ]
  },
  {
   "cell_type": "code",
   "execution_count": null,
   "id": "70d927a8",
   "metadata": {},
   "outputs": [],
   "source": []
  }
 ],
 "metadata": {
  "kernelspec": {
   "display_name": "Python 3 (ipykernel)",
   "language": "python",
   "name": "python3"
  },
  "language_info": {
   "codemirror_mode": {
    "name": "ipython",
    "version": 3
   },
   "file_extension": ".py",
   "mimetype": "text/x-python",
   "name": "python",
   "nbconvert_exporter": "python",
   "pygments_lexer": "ipython3",
   "version": "3.7.16"
  }
 },
 "nbformat": 4,
 "nbformat_minor": 5
}
