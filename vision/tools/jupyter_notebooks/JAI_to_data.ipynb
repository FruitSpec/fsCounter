{
 "cells": [
  {
   "cell_type": "code",
   "execution_count": null,
   "id": "5919a615",
   "metadata": {},
   "outputs": [],
   "source": [
    "import os\n",
    "import cv2\n",
    "import matplotlib.pyplot as plt\n",
    "from vision.tools.camera import stretch_img\n",
    "import numpy as np\n"
   ]
  },
  {
   "cell_type": "code",
   "execution_count": null,
   "id": "05f82c8a",
   "metadata": {},
   "outputs": [],
   "source": [
    "def plot_img(img, cmap=None):\n",
    "    f, ax = plt.subplots(1, 1, figsize = (15, 10))\n",
    "    if cmap is None:\n",
    "        ax.imshow(img)\n",
    "    else:\n",
    "        ax.imshow(img, cmap)   "
   ]
  },
  {
   "cell_type": "code",
   "execution_count": null,
   "id": "ca1ca576",
   "metadata": {},
   "outputs": [],
   "source": [
    "#rgb = cv2.demosaicing(frame[:, :, 0], cv2.COLOR_BAYER_BG2BGR)\n",
    "frame = cv2.imread(\"/home/fruitspec-lab/FruitSpec/Sandbox/data_31112022/test/frame_255.jpg\")\n",
    "rgb = cv2.cvtColor(frame[:, :, 0], cv2.COLOR_BAYER_BG2BGR)\n",
    "for i in range(3):\n",
    "    frame[:,:,i] = cv2.equalizeHist(frame[:, :, i])\n",
    "    cv2.normalize(frame[:, :, i], frame[:, :, i], 0, 255, cv2.NORM_MINMAX)\n",
    "plot_img(frame)\n",
    "# channel_1 = frame[:, :, 1].copy()\n",
    "# img = channel_1.copy()\n",
    "# channel_2 = frame[:, :, 2].copy()\n",
    "# rgb.shape"
   ]
  },
  {
   "cell_type": "code",
   "execution_count": null,
   "id": "b30a7db0",
   "metadata": {},
   "outputs": [],
   "source": [
    "channel_1_st = stretch_img(channel_1, 255, 0)\n",
    "fsi = rgb.copy()\n",
    "fsi[:, :, 1] = channel_1_st.copy()\n",
    "fsi[:, :, 0] = channel_2.copy()\n",
    "plot_img(fsi)"
   ]
  },
  {
   "cell_type": "code",
   "execution_count": null,
   "id": "63697011",
   "metadata": {},
   "outputs": [],
   "source": [
    "_ = plt.hist(rgb[:,:,1].flatten(), 255)"
   ]
  },
  {
   "cell_type": "code",
   "execution_count": null,
   "id": "6be3513d",
   "metadata": {},
   "outputs": [],
   "source": [
    "plot_img(rgb)"
   ]
  },
  {
   "cell_type": "code",
   "execution_count": null,
   "id": "e4071446",
   "metadata": {},
   "outputs": [],
   "source": [
    "plt.imshow(rgb)"
   ]
  },
  {
   "cell_type": "code",
   "execution_count": null,
   "id": "f902763e",
   "metadata": {},
   "outputs": [],
   "source": [
    "_ = plt.hist(channel_1.flatten(), 255)"
   ]
  },
  {
   "cell_type": "code",
   "execution_count": null,
   "id": "c496fc79",
   "metadata": {},
   "outputs": [],
   "source": [
    "_ = plt.hist(rgb.flatten(), 255)"
   ]
  },
  {
   "cell_type": "code",
   "execution_count": null,
   "id": "a6d8470e",
   "metadata": {},
   "outputs": [],
   "source": [
    "_ = plt.hist(channel_2.flatten(), 255)"
   ]
  },
  {
   "cell_type": "code",
   "execution_count": null,
   "id": "e9d1fdff",
   "metadata": {},
   "outputs": [],
   "source": [
    "normalized_img = (img.astype(np.float32) - img.min()) / (img.max() - img.min())\n",
    "h, b = np.histogram(normalized_img.flatten(), 255)\n",
    "total = np.sum(h)\n",
    "accumulated = np.cumsum(h).astype(np.float32) / total\n",
    "\n",
    "for i, h_ in enumerate(accumulated):\n",
    "    if h_ >= 0.05:\n",
    "        break\n",
    "lower_threshold = b[i]\n",
    "\n",
    "for i in range(len(accumulated) - 1, 0, -1):\n",
    "    if accumulated[i] <= 0.95:\n",
    "        break\n",
    "upper_threshold = b[i]"
   ]
  },
  {
   "cell_type": "code",
   "execution_count": null,
   "id": "8d94cb22",
   "metadata": {},
   "outputs": [],
   "source": [
    "upper_threshold"
   ]
  },
  {
   "cell_type": "code",
   "execution_count": null,
   "id": "6a90abbd",
   "metadata": {},
   "outputs": [],
   "source": [
    "lower_threshold"
   ]
  },
  {
   "cell_type": "code",
   "execution_count": null,
   "id": "5aa189c7",
   "metadata": {},
   "outputs": [],
   "source": [
    "_ = plt.hist(normalized_img.flatten(), 255)"
   ]
  },
  {
   "cell_type": "code",
   "execution_count": null,
   "id": "e871fefe",
   "metadata": {},
   "outputs": [],
   "source": [
    "s_img = stretch_img(normalized_img, (235 / upper_threshold), 10)\n",
    "s_img[s_img > 255] = 255"
   ]
  },
  {
   "cell_type": "code",
   "execution_count": null,
   "id": "655f6973",
   "metadata": {},
   "outputs": [],
   "source": [
    "plot_img(s_img)"
   ]
  },
  {
   "cell_type": "code",
   "execution_count": null,
   "id": "cc65c3e2",
   "metadata": {},
   "outputs": [],
   "source": [
    "_ = plt.hist(s_img.flatten(),256)"
   ]
  },
  {
   "cell_type": "code",
   "execution_count": null,
   "id": "b85e4cd6",
   "metadata": {
    "scrolled": true
   },
   "outputs": [],
   "source": [
    "fsi[:, :, 1] = s_img.copy()\n",
    "plot_img(fsi)"
   ]
  },
  {
   "cell_type": "code",
   "execution_count": null,
   "id": "0d9f4619",
   "metadata": {},
   "outputs": [],
   "source": [
    "img = channel_2.copy()\n",
    "normalized_img = (img.astype(np.float32) - img.min()) / (img.max() - img.min())\n",
    "h, b = np.histogram(normalized_img.flatten(), 255)\n",
    "total = np.sum(h)\n",
    "accumulated = np.cumsum(h).astype(np.float32) / total\n",
    "\n",
    "for i, h_ in enumerate(accumulated):\n",
    "    if h_ >= 0.05:\n",
    "        break\n",
    "lower_threshold = b[i]\n",
    "\n",
    "for i in range(len(accumulated) - 1, 0, -1):\n",
    "    if accumulated[i] <= 0.95:\n",
    "        break\n",
    "upper_threshold = b[i]"
   ]
  },
  {
   "cell_type": "code",
   "execution_count": null,
   "id": "c0f8d9d8",
   "metadata": {},
   "outputs": [],
   "source": [
    "upper_threshold"
   ]
  },
  {
   "cell_type": "code",
   "execution_count": null,
   "id": "b0390d45",
   "metadata": {},
   "outputs": [],
   "source": [
    "r_img = stretch_img(normalized_img, (235 / upper_threshold), 10)\n",
    "r_img[r_img > 255] = 255"
   ]
  },
  {
   "cell_type": "code",
   "execution_count": null,
   "id": "f2a977cb",
   "metadata": {},
   "outputs": [],
   "source": [
    "fsi[:, :, 0] = r_img.copy()\n",
    "plot_img(fsi)"
   ]
  },
  {
   "cell_type": "code",
   "execution_count": null,
   "id": "5e77c104",
   "metadata": {},
   "outputs": [],
   "source": []
  }
 ],
 "metadata": {
  "kernelspec": {
   "display_name": "Python 3 (ipykernel)",
   "language": "python",
   "name": "python3"
  },
  "language_info": {
   "codemirror_mode": {
    "name": "ipython",
    "version": 3
   },
   "file_extension": ".py",
   "mimetype": "text/x-python",
   "name": "python",
   "nbconvert_exporter": "python",
   "pygments_lexer": "ipython3",
   "version": "3.7.16"
  }
 },
 "nbformat": 4,
 "nbformat_minor": 5
}
